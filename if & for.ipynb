{
 "cells": [
  {
   "cell_type": "code",
   "execution_count": 40,
   "id": "e3948bbd-c296-4627-ae41-dcf3a8645d74",
   "metadata": {},
   "outputs": [
    {
     "name": "stdin",
     "output_type": "stream",
     "text": [
      "자연수 하나 입력해주세요. 21\n"
     ]
    },
    {
     "name": "stdout",
     "output_type": "stream",
     "text": [
      "0\n"
     ]
    }
   ],
   "source": [
    "number = int(input(\"자연수 하나 입력해주세요.\"))\n",
    "\n",
    "result = score-50\n",
    "\n",
    "if result < 0:\n",
    "    print(0)\n",
    "else:\n",
    "    print(result) "
   ]
  },
  {
   "cell_type": "code",
   "execution_count": 41,
   "id": "60605de6-6682-46f0-a2d0-3a325ecf9362",
   "metadata": {},
   "outputs": [
    {
     "name": "stdin",
     "output_type": "stream",
     "text": [
      "자연수 하나 입력해주세요. 21\n"
     ]
    },
    {
     "name": "stdout",
     "output_type": "stream",
     "text": [
      "0\n"
     ]
    }
   ],
   "source": [
    "#T\n",
    "number = int(input(\"자연수 하나 입력해주세요.\"))\n",
    "\n",
    "result = score-50\n",
    "\n",
    "if result < 0:\n",
    "    result = 0\n",
    "print(result)"
   ]
  },
  {
   "cell_type": "code",
   "execution_count": 27,
   "id": "cff10099-fd38-452f-8c08-f14fcf2a6344",
   "metadata": {},
   "outputs": [
    {
     "name": "stdin",
     "output_type": "stream",
     "text": [
      "나이를 입력해주세요. 10\n"
     ]
    },
    {
     "name": "stdout",
     "output_type": "stream",
     "text": [
      "10살 이상입니다.\n",
      "age >= 10 구간입니다.\n",
      "를 출력\n"
     ]
    }
   ],
   "source": [
    "age = int(input(\"나이를 입력해주세요.\"))\n",
    "\n",
    "if age >= 10:\n",
    "    print(\"10살 이상입니다.\")\n",
    "    if age >= 20:\n",
    "        print(\"20살 이상입니다.\")\n",
    "        if age >= 30:\n",
    "            print(\"30살 이상입니다.\")\n",
    "            if age >= 40:\n",
    "                print(\"40살 이상입니다.\")\n",
    "            print(\"age >= 30 구간입니다.\")\n",
    "        print(\"age >= 20 구간입니다.\")    \n",
    "    print(\"age >= 10 구간입니다.\")    \n",
    "    \n",
    "print(\"를 출력\") "
   ]
  },
  {
   "cell_type": "code",
   "execution_count": 42,
   "id": "338ccf8e-6572-447a-b290-ee6979258f87",
   "metadata": {},
   "outputs": [
    {
     "name": "stdin",
     "output_type": "stream",
     "text": [
      "자연수를 하나 입력해주세요. 2\n"
     ]
    },
    {
     "name": "stdout",
     "output_type": "stream",
     "text": [
      "짝수입니다.\n"
     ]
    }
   ],
   "source": [
    "number = int(input(\"자연수를 하나 입력해주세요.\"))\n",
    "\n",
    "if (number%2) ==  0:\n",
    "    print(\"짝수입니다.\")\n",
    "else:\n",
    "    print(\"홀수입니다.\")"
   ]
  },
  {
   "cell_type": "code",
   "execution_count": 109,
   "id": "3cc885bd-827f-4a64-b7d2-b0c3353f6de1",
   "metadata": {},
   "outputs": [
    {
     "name": "stdin",
     "output_type": "stream",
     "text": [
      "소프트웨어 설계 점수를 입력하세요. 101\n",
      "소프트웨어 개발 점수를 입력하세요. 101\n",
      "데이터베이스 구축 점수를 입력하세요. 101\n",
      "프로그래밍언어 활용 점수를 입력하세요. 101\n",
      "정보시스템 구축관리 점수를 입력하세요. 1\n"
     ]
    },
    {
     "name": "stdout",
     "output_type": "stream",
     "text": [
      "잘못된 점수입니다.\n"
     ]
    }
   ],
   "source": [
    "a = int(input(\"소프트웨어 설계 점수를 입력하세요.\"))\n",
    "b = int(input(\"소프트웨어 개발 점수를 입력하세요.\"))\n",
    "c = int(input(\"데이터베이스 구축 점수를 입력하세요.\"))\n",
    "d = int(input(\"프로그래밍언어 활용 점수를 입력하세요.\"))\n",
    "e = int(input(\"정보시스템 구축관리 점수를 입력하세요.\"))\n",
    "\n",
    "avg = (a+b+c+d+e)/5\n",
    "if 0 <= a <= 100 and 0 <= b <= 100 and 0 <= c <= 100 and 0 <= d <= 100 and 0 <= e <= 100:\n",
    "    if avg >= 60:\n",
    "        print(\"합격\")\n",
    "    else:\n",
    "        print(\"불합격\")\n",
    "else:\n",
    "    print(\"잘못된 점수입니다.\")"
   ]
  },
  {
   "cell_type": "code",
   "execution_count": 108,
   "id": "91136651-fa8e-4b34-8fe4-b7304247e2f9",
   "metadata": {},
   "outputs": [
    {
     "name": "stdin",
     "output_type": "stream",
     "text": [
      "소프트웨어 설계 점수를 입력하세요. 101\n",
      "소프트웨어 개발 점수를 입력하세요. 101\n",
      "데이터베이스 구축 점수를 입력하세요. 101\n",
      "프로그래밍언어 활용 점수를 입력하세요. 101\n",
      "정보시스템 구축관리 점수를 입력하세요. 1\n"
     ]
    },
    {
     "name": "stdout",
     "output_type": "stream",
     "text": [
      "합격\n"
     ]
    }
   ],
   "source": [
    "a = int(input(\"소프트웨어 설계 점수를 입력하세요.\"))\n",
    "b = int(input(\"소프트웨어 개발 점수를 입력하세요.\"))\n",
    "c = int(input(\"데이터베이스 구축 점수를 입력하세요.\"))\n",
    "d = int(input(\"프로그래밍언어 활용 점수를 입력하세요.\"))\n",
    "e = int(input(\"정보시스템 구축관리 점수를 입력하세요.\"))\n",
    "\n",
    "avg = (a+b+c+d+e)/5\n",
    "if 0 <= a and b and c and d and e <= 100: # 0 <= a <= 100 and 0 <= b <= 100 와 0 <= a and b <= 100 가 다른 이유\n",
    "                                          # abcde 모두 조건을 벗어나야 한다. (모두 100초과 이거나 0미만)\n",
    "    if avg >= 60:\n",
    "        print(\"합격\")\n",
    "    else:\n",
    "        print(\"불합격\")\n",
    "else:\n",
    "    print(\"잘못된 점수입니다.\")"
   ]
  },
  {
   "cell_type": "code",
   "execution_count": 76,
   "id": "6865c263-01a6-46f1-9480-46659c2ec21b",
   "metadata": {},
   "outputs": [
    {
     "name": "stdin",
     "output_type": "stream",
     "text": [
      "점수를 입력하세요. 90\n"
     ]
    },
    {
     "name": "stdout",
     "output_type": "stream",
     "text": [
      "성적을 알려드립니다.\n",
      "A입니다.\n",
      "안내를 종료합니다.\n"
     ]
    }
   ],
   "source": [
    "score = int(input(\"점수를 입력하세요.\"))\n",
    "\n",
    "print(\"성적을 알려드립니다.\")\n",
    "\n",
    "if score >= 90:\n",
    "    print(\"A입니다.\")\n",
    "elif score >= 80:\n",
    "    print(\"B입니다.\")\n",
    "elif score >= 70:\n",
    "    print(\"C입니다.\")\n",
    "elif score >= 60:\n",
    "    print(\"D입니다.\")\n",
    "else:\n",
    "    print(\"F입니다.\")\n",
    "    \n",
    "print(\"안내를 종료합니다.\")"
   ]
  },
  {
   "cell_type": "code",
   "execution_count": 90,
   "id": "560d666c-4c9f-4258-873c-9dac06e154a2",
   "metadata": {},
   "outputs": [
    {
     "name": "stdin",
     "output_type": "stream",
     "text": [
      "현재 물의 온도를 입력해주세요. -0.12\n"
     ]
    },
    {
     "name": "stdout",
     "output_type": "stream",
     "text": [
      "고체로 예상됩니다.\n"
     ]
    }
   ],
   "source": [
    "c = float(input(\"현재 물의 온도를 입력해주세요.\"))\n",
    "\n",
    "if c >= 100:\n",
    "    print(\"기체로 예상됩니다.\")\n",
    "elif 0 <= c:\n",
    "    print(\"액체로 예상됩니다.\")\n",
    "else:\n",
    "    print(\"고체로 예상됩니다.\")"
   ]
  },
  {
   "cell_type": "code",
   "execution_count": 89,
   "id": "19ad6c5e-38a2-48c6-8393-3235250c610d",
   "metadata": {},
   "outputs": [
    {
     "name": "stdin",
     "output_type": "stream",
     "text": [
      "자신의 나이를 입력하세요. 25\n"
     ]
    },
    {
     "name": "stdout",
     "output_type": "stream",
     "text": [
      "1500원\n"
     ]
    }
   ],
   "source": [
    "age = int(input(\"자신의 나이를 입력하세요.\"))\n",
    "\n",
    "if age >= 19:\n",
    "    print(\"1500원\")\n",
    "elif age >= 12:\n",
    "    print(\"1100원\")\n",
    "elif age >= 6:\n",
    "    print(\"800원\")\n",
    "else:\n",
    "    print(\"무임승차입니다.\")"
   ]
  },
  {
   "cell_type": "code",
   "execution_count": 110,
   "id": "8c191be7-85b4-4931-82c6-abca23bbae8f",
   "metadata": {},
   "outputs": [
    {
     "name": "stdin",
     "output_type": "stream",
     "text": [
      "발주 수량을 입력하세요. 2001\n"
     ]
    },
    {
     "name": "stdout",
     "output_type": "stream",
     "text": [
      "2001개를 주문하셨습니다.\n",
      "적용 할인율은 20%입니다.\n",
      "$16008입니다.\n"
     ]
    }
   ],
   "source": [
    "C = int(input(\"발주 수량을 입력하세요.\"))\n",
    "\n",
    "price = C * 10 # $10/개\n",
    "\n",
    "if C < 1000:\n",
    "    print(\"수량할인이 적용되지 않습니다.\")\n",
    "elif C <= 1500:\n",
    "    print(C,\"개를 주문하셨습니다.\",sep = \"\")\n",
    "    print(\"적용 할인율은 5%입니다.\")\n",
    "    print(\"$\",int(price*0.95),\"입니다.\",sep = \"\")\n",
    "elif C <= 2000:\n",
    "    print(C,\"개를 주문하셨습니다.\",sep = \"\")\n",
    "    print(\"적용 할인율은 10%입니다.\")\n",
    "    print(\"$\",int(price*0.9),\"입니다.\",sep = \"\")\n",
    "else:\n",
    "    print(C,\"개를 주문하셨습니다.\",sep = \"\")\n",
    "    print(\"적용 할인율은 20%입니다.\")\n",
    "    print(\"$\",int(price*0.8),\"입니다.\",sep = \"\")"
   ]
  },
  {
   "cell_type": "code",
   "execution_count": 163,
   "id": "a9c5e7db-3587-4605-9146-984e59e3abe6",
   "metadata": {},
   "outputs": [
    {
     "name": "stdin",
     "output_type": "stream",
     "text": [
      "발주 수량을 입력하세요. 2001\n"
     ]
    },
    {
     "name": "stdout",
     "output_type": "stream",
     "text": [
      "2001개를 주문하셨습니다.\n",
      "적용 할인율은 20%입니다.\n",
      "$16008입니다.\n"
     ]
    }
   ],
   "source": [
    "#T\n",
    "C = int(input(\"발주 수량을 입력하세요.\"))\n",
    "\n",
    "print(C,\"개를 주문하셨습니다.\",sep = \"\")\n",
    "\n",
    "price = C * 10 # $10/개\n",
    "\n",
    "discount = 0\n",
    "\n",
    "order_amount = 0\n",
    "\n",
    "if C < 1000:\n",
    "    print(\"수량할인이 적용되지 않습니다.\")\n",
    "elif C <= 1500:\n",
    "    discount = 5\n",
    "elif C <= 2000:\n",
    "    discount = 10\n",
    "else:\n",
    "    discount = 20\n",
    "    \n",
    "order_amount = int(price*(100-discount)/100)\n",
    "                   \n",
    "print(\"적용 할인율은 \", discount, \"%입니다.\", sep = \"\")\n",
    "print(\"$\", order_amount, \"입니다.\", sep = \"\")"
   ]
  },
  {
   "cell_type": "code",
   "execution_count": 177,
   "id": "39d51b5b-6db6-4a7c-9017-c5b8d4e9cc4e",
   "metadata": {},
   "outputs": [
    {
     "name": "stdin",
     "output_type": "stream",
     "text": [
      "주민번호 뒷자리를 입력하세요. 2222222\n"
     ]
    },
    {
     "name": "stdout",
     "output_type": "stream",
     "text": [
      "여자\n"
     ]
    }
   ],
   "source": [
    "##\n",
    "user_number = (input(\"주민번호 뒷자리를 입력하세요.\"))\n",
    "\n",
    "if len(user_number) != 7:\n",
    "    print(\"자리수를 잘못 입력했습니다.\")\n",
    "else: \n",
    "    user_number = int(user_number[0]) #type을 int로 바꿔준다.\n",
    "    if user_number in (1,3): \n",
    "        print(\"남자\")\n",
    "    elif user_number in (2,4):\n",
    "        print(\"여자\")\n",
    "    else:\n",
    "        print(\"잘못된 입력입니다.\")\n"
   ]
  },
  {
   "cell_type": "code",
   "execution_count": 176,
   "id": "5f37e812-ae4d-47ed-85a3-9366b6f262f5",
   "metadata": {},
   "outputs": [
    {
     "name": "stdin",
     "output_type": "stream",
     "text": [
      "확인할 연도를 입력하세요. 1900\n"
     ]
    },
    {
     "name": "stdout",
     "output_type": "stream",
     "text": [
      "평년입니다.\n"
     ]
    }
   ],
   "source": [
    "year = int(input(\"확인할 연도를 입력하세요.\"))\n",
    "\n",
    "if year % 4 == 0:\n",
    "    if year % 100 == 0 and year % 400 != 0:\n",
    "        print(\"평년입니다.\")    \n",
    "    else:\n",
    "        print(\"윤년입니다.\")\n",
    "else:\n",
    "    print(\"평년입니다.\")"
   ]
  },
  {
   "cell_type": "code",
   "execution_count": 178,
   "id": "93a1a536-018b-4892-a4f6-8a3c7bd6c3f5",
   "metadata": {},
   "outputs": [
    {
     "name": "stdin",
     "output_type": "stream",
     "text": [
      "확인할 연도를 입력하세요. 1900\n"
     ]
    },
    {
     "name": "stdout",
     "output_type": "stream",
     "text": [
      "평년입니다.\n"
     ]
    }
   ],
   "source": [
    "#T\n",
    "year = int(input(\"확인할 연도를 입력하세요.\"))\n",
    "\n",
    "if year % 4 == 0 and (year % 100 != 0 or year % 400 == 0):\n",
    "        print(\"윤년입니다.\")\n",
    "else:\n",
    "    print(\"평년입니다.\")"
   ]
  },
  {
   "cell_type": "code",
   "execution_count": 191,
   "id": "2dff71a5-89b1-4f0a-9537-ea157f8df00f",
   "metadata": {},
   "outputs": [
    {
     "name": "stdout",
     "output_type": "stream",
     "text": [
      "Hello word\n",
      "Hello word\n",
      "Hello word\n"
     ]
    }
   ],
   "source": [
    "for n in range(3): \n",
    "    print(\"Hello word\")"
   ]
  },
  {
   "cell_type": "code",
   "execution_count": 198,
   "id": "2f550211-8162-4d0d-842e-9d1f3c2ccfcd",
   "metadata": {},
   "outputs": [
    {
     "name": "stdout",
     "output_type": "stream",
     "text": [
      "[2, 4, 6, 8, 10, 12, 14, 16, 18, 20, 22, 24, 26, 28, 30, 32, 34, 36, 38, 40, 42, 44, 46, 48, 50, 52, 54, 56, 58, 60, 62, 64, 66, 68, 70, 72, 74, 76, 78, 80, 82, 84, 86, 88, 90, 92, 94, 96, 98]\n"
     ]
    }
   ],
   "source": [
    "#100미만의 2의 배수\n",
    "even_numbers = list(range(2, 100, 2))\n",
    "print(even_numbers)"
   ]
  },
  {
   "cell_type": "code",
   "execution_count": 210,
   "id": "024c4b04-a914-44fd-a40a-4393b9c6d038",
   "metadata": {
    "scrolled": true,
    "tags": []
   },
   "outputs": [
    {
     "name": "stdout",
     "output_type": "stream",
     "text": [
      "Hello word 1\n",
      "Hello word 2\n",
      "Hello word 3\n",
      "Hello word 4\n",
      "Hello word 5\n",
      "Hello word 6\n",
      "Hello word 7\n",
      "Hello word 8\n",
      "Hello word 9\n",
      "Hello word 10\n",
      "Hello word 11\n",
      "Hello word 12\n",
      "Hello word 13\n",
      "Hello word 14\n",
      "Hello word 15\n",
      "Hello word 16\n",
      "Hello word 17\n",
      "Hello word 18\n",
      "Hello word 19\n",
      "Hello word 20\n",
      "Hello word 21\n",
      "Hello word 22\n",
      "Hello word 23\n",
      "Hello word 24\n",
      "Hello word 25\n",
      "Hello word 26\n",
      "Hello word 27\n",
      "Hello word 28\n",
      "Hello word 29\n",
      "Hello word 30\n",
      "Hello word 31\n",
      "Hello word 32\n",
      "Hello word 33\n",
      "Hello word 34\n",
      "Hello word 35\n",
      "Hello word 36\n",
      "Hello word 37\n",
      "Hello word 38\n",
      "Hello word 39\n",
      "Hello word 40\n",
      "Hello word 41\n",
      "Hello word 42\n",
      "Hello word 43\n",
      "Hello word 44\n",
      "Hello word 45\n",
      "Hello word 46\n",
      "Hello word 47\n",
      "Hello word 48\n",
      "Hello word 49\n",
      "Hello word 50\n",
      "Hello word 51\n",
      "Hello word 52\n",
      "Hello word 53\n",
      "Hello word 54\n",
      "Hello word 55\n",
      "Hello word 56\n",
      "Hello word 57\n",
      "Hello word 58\n",
      "Hello word 59\n",
      "Hello word 60\n",
      "Hello word 61\n",
      "Hello word 62\n",
      "Hello word 63\n",
      "Hello word 64\n",
      "Hello word 65\n",
      "Hello word 66\n",
      "Hello word 67\n",
      "Hello word 68\n",
      "Hello word 69\n",
      "Hello word 70\n",
      "Hello word 71\n",
      "Hello word 72\n",
      "Hello word 73\n",
      "Hello word 74\n",
      "Hello word 75\n",
      "Hello word 76\n",
      "Hello word 77\n",
      "Hello word 78\n",
      "Hello word 79\n",
      "Hello word 80\n",
      "Hello word 81\n",
      "Hello word 82\n",
      "Hello word 83\n",
      "Hello word 84\n",
      "Hello word 85\n",
      "Hello word 86\n",
      "Hello word 87\n",
      "Hello word 88\n",
      "Hello word 89\n",
      "Hello word 90\n",
      "Hello word 91\n",
      "Hello word 92\n",
      "Hello word 93\n",
      "Hello word 94\n",
      "Hello word 95\n",
      "Hello word 96\n",
      "Hello word 97\n",
      "Hello word 98\n",
      "Hello word 99\n",
      "Hello word 100\n"
     ]
    }
   ],
   "source": [
    "#for문에서 변수(n)은 for문 안에서만 사용가능\n",
    "for n in range(100): \n",
    "    print(\"Hello word\", n+1)"
   ]
  },
  {
   "cell_type": "code",
   "execution_count": 215,
   "id": "15f10b25-961d-4898-9426-8425c1f85afb",
   "metadata": {},
   "outputs": [
    {
     "name": "stdin",
     "output_type": "stream",
     "text": [
      "인사 몇 번 해드릴까요? 3\n"
     ]
    },
    {
     "name": "stdout",
     "output_type": "stream",
     "text": [
      "Hello word\n",
      "Hello word\n",
      "Hello word\n"
     ]
    }
   ],
   "source": [
    "n = int(input(\"인사 몇 번 해드릴까요?\"))\n",
    "for n in range(n): \n",
    "    print(\"Hello word\")"
   ]
  },
  {
   "cell_type": "code",
   "execution_count": 233,
   "id": "2fe052e7-bc85-4e96-a163-78c89644ccb5",
   "metadata": {},
   "outputs": [
    {
     "data": {
      "text/plain": [
       "[5, 6, 7, 8, 9]"
      ]
     },
     "execution_count": 233,
     "metadata": {},
     "output_type": "execute_result"
    }
   ],
   "source": [
    "list(range(5,10,1)) #range(시작,끝,증감)에서 증감의 기본값은 1이여서 생략가능!"
   ]
  },
  {
   "cell_type": "code",
   "execution_count": 231,
   "id": "ad133d4a-4b39-4b04-85a6-f9a99b80ca30",
   "metadata": {},
   "outputs": [
    {
     "data": {
      "text/plain": [
       "[0, 3, 6, 9]"
      ]
     },
     "execution_count": 231,
     "metadata": {},
     "output_type": "execute_result"
    }
   ],
   "source": [
    "list(range(0,10,3))"
   ]
  },
  {
   "cell_type": "code",
   "execution_count": 232,
   "id": "2a1498de-eb65-4854-81d7-aa4b238b879d",
   "metadata": {},
   "outputs": [
    {
     "data": {
      "text/plain": [
       "[-10, -40, -70]"
      ]
     },
     "execution_count": 232,
     "metadata": {},
     "output_type": "execute_result"
    }
   ],
   "source": [
    "list(range(-10,-71,-30))"
   ]
  },
  {
   "cell_type": "code",
   "execution_count": 360,
   "id": "e40364f0-3998-4181-b420-85fe4f258a80",
   "metadata": {},
   "outputs": [
    {
     "name": "stdin",
     "output_type": "stream",
     "text": [
      "자연수 하나를 입력해주세요. 6\n"
     ]
    },
    {
     "name": "stdout",
     "output_type": "stream",
     "text": [
      "6\t6\t6\t6\t6\t6\t\n",
      "5\t5\t5\t5\t5\t\n",
      "4\t4\t4\t4\t\n",
      "3\t3\t3\t\n",
      "2\t2\t\n",
      "1\t\n"
     ]
    }
   ],
   "source": [
    "number = int(input(\"자연수 하나를 입력해주세요.\"))\n",
    "\n",
    "\n",
    "for n in range(6):\n",
    "    print(6, end = \"\\t\")\n",
    "print()\n",
    "for n in range(5):\n",
    "    print(5, end = \"\\t\") \n",
    "print()\n",
    "for n in range(4):\n",
    "    print(4, end = \"\\t\") \n",
    "print()\n",
    "for n in range(3):\n",
    "    print(3, end = \"\\t\") \n",
    "print()\n",
    "for n in range(2):\n",
    "    print(2,end = \"\\t\") \n",
    "print()\n",
    "for n in range(1):\n",
    "    print(1, end = \"\\t\") \n",
    "print()"
   ]
  },
  {
   "cell_type": "code",
   "execution_count": 401,
   "id": "e0941c26-c817-4dbf-a82a-03dd0b9c71d8",
   "metadata": {},
   "outputs": [
    {
     "name": "stdin",
     "output_type": "stream",
     "text": [
      "자연수 하나를 입력해주세요. 6\n"
     ]
    },
    {
     "name": "stdout",
     "output_type": "stream",
     "text": [
      "6\t6\t6\t6\t6\t6\t\n",
      "5\t5\t5\t5\t5\t\n",
      "4\t4\t4\t4\t\n",
      "3\t3\t3\t\n",
      "2\t2\t\n",
      "1\t\n"
     ]
    }
   ],
   "source": [
    "x = int(input(\"자연수 하나를 입력해주세요.\"))\n",
    "\n",
    "for i in range(x,0,-1):\n",
    "    for j in range(i):\n",
    "        print(i, end = \"\\t\")\n",
    "    print()"
   ]
  },
  {
   "cell_type": "code",
   "execution_count": 380,
   "id": "79c16f66-76db-4826-a105-8a61c52e0ae4",
   "metadata": {},
   "outputs": [
    {
     "name": "stdout",
     "output_type": "stream",
     "text": [
      "* * * * * * * * * * \n",
      "*                 *\n",
      "*                 *\n",
      "*                 *\n",
      "*                 *\n",
      "*                 *\n",
      "*                 *\n",
      "*                 *\n",
      "*                 *\n",
      "* * * * * * * * * * \n"
     ]
    }
   ],
   "source": [
    "for i in range(10):\n",
    "    if i == 0 or i == 9:\n",
    "        print('* '*10)\n",
    "    else:\n",
    "        print('*                 *')"
   ]
  },
  {
   "cell_type": "code",
   "execution_count": 503,
   "id": "2e91d06f-34fd-4c4a-8782-50b4910bed4f",
   "metadata": {},
   "outputs": [
    {
     "name": "stdin",
     "output_type": "stream",
     "text": [
      "1부터 입력한 자연수까지의 모든 홀수의 합을 구합니다. 40\n"
     ]
    },
    {
     "name": "stdout",
     "output_type": "stream",
     "text": [
      "400\n"
     ]
    }
   ],
   "source": [
    "#M\n",
    "#1부터 입력한 자연수까지의 모든 홀수의 합을 구합니다 100\n",
    "n = int(input(\"1부터 입력한 자연수까지의 모든 홀수의 합을 구합니다.\"))\n",
    "result = 0\n",
    "\n",
    "for i in range(1,n+1,2): # 1부터 n까지의 홀수\n",
    "    result += i #x에 순서대로 i값을 더 해준다. +1 +3 +5 +7 +...+n까지의 홀수\n",
    "print(result)"
   ]
  },
  {
   "cell_type": "code",
   "execution_count": 473,
   "id": "beeb1506-548b-4c9f-a378-a978ad63bd1c",
   "metadata": {},
   "outputs": [
    {
     "name": "stdin",
     "output_type": "stream",
     "text": [
      "1부터 입력한 자연수까지의 모든 홀수의 합을 구합니다. 40\n"
     ]
    },
    {
     "name": "stdout",
     "output_type": "stream",
     "text": [
      "1+3+5+7+9+11+13+15+17+19+21+23+25+27+29+31+33+35+37+39=400\n"
     ]
    }
   ],
   "source": [
    "#T\n",
    "n = int(input(\"1부터 입력한 자연수까지의 모든 홀수의 합을 구합니다.\"))\n",
    "\n",
    "result = 0\n",
    "\n",
    "for i in range(1,n+1): #1부터 n+1까지의 i\n",
    "    if i % 2 == 1: #i가 홀수라면\n",
    "        if(n-1) == i or n == i: #마지막 i에\n",
    "            print(i, end = '=') #=을 출력\n",
    "        else:\n",
    "            print(i, end = '+') #아니라면 +를 출력\n",
    "        result += i             #i들 구해준다\n",
    "print(result)"
   ]
  },
  {
   "cell_type": "code",
   "execution_count": 474,
   "id": "72d9dd0b-b778-4043-9155-1bb5edfe6c27",
   "metadata": {},
   "outputs": [
    {
     "name": "stdin",
     "output_type": "stream",
     "text": [
      "계승을 구할 숫자를 입력하세요. 6\n"
     ]
    },
    {
     "name": "stdout",
     "output_type": "stream",
     "text": [
      "720\n"
     ]
    }
   ],
   "source": [
    "n = int(input(\"계승을 구할 숫자를 입력하세요.\"))\n",
    "result = 1\n",
    "\n",
    "for i in range(1,n+1):\n",
    "    result *= i\n",
    "print(result)"
   ]
  },
  {
   "cell_type": "code",
   "execution_count": 478,
   "id": "d31c111e-eeb2-45ec-8a6b-ab175b1e5274",
   "metadata": {},
   "outputs": [
    {
     "name": "stdout",
     "output_type": "stream",
     "text": [
      "오사삼이일"
     ]
    }
   ],
   "source": [
    "for _ in reversed(\"일이삼사오\"):\n",
    "    print(_, end=\"\")"
   ]
  },
  {
   "cell_type": "code",
   "execution_count": 483,
   "id": "1b281450-937a-432f-92ec-ce2166bd4167",
   "metadata": {},
   "outputs": [
    {
     "name": "stdout",
     "output_type": "stream",
     "text": [
      "100 -420 250 1030 210 770 240 "
     ]
    }
   ],
   "source": [
    "x = [10, -42, 25, 103, 21, 77, 24]\n",
    "for i in x:\n",
    "    print(i*10, end=\" \")"
   ]
  },
  {
   "cell_type": "code",
   "execution_count": 495,
   "id": "1000b2cf-78a3-4397-bb7a-bd2d50e07a05",
   "metadata": {},
   "outputs": [
    {
     "name": "stdin",
     "output_type": "stream",
     "text": [
      "구구단을 알려드립니다. 숫자를 입력하세요. 3\n"
     ]
    },
    {
     "name": "stdout",
     "output_type": "stream",
     "text": [
      "3 * 1 = 3\n",
      "3 * 2 = 6\n",
      "3 * 3 = 9\n",
      "3 * 4 = 12\n",
      "3 * 5 = 15\n",
      "3 * 6 = 18\n",
      "3 * 7 = 21\n",
      "3 * 8 = 24\n",
      "3 * 9 = 27\n"
     ]
    }
   ],
   "source": [
    "n = int(input(\"구구단을 알려드립니다. 숫자를 입력하세요.\"))\n",
    "x = [n*1,n*2,n*3,n*4,n*5,n*6,n*7,n*8,n*9]\n",
    "for i in x:\n",
    "    print(n,\"*\",int(i/n),\"=\",i)"
   ]
  },
  {
   "cell_type": "code",
   "execution_count": 500,
   "id": "46dd19f9-e67b-4ef3-841d-5858cebef196",
   "metadata": {},
   "outputs": [
    {
     "name": "stdin",
     "output_type": "stream",
     "text": [
      "구구단을 알려드립니다. 숫자를 입력하세요. 9\n"
     ]
    },
    {
     "name": "stdout",
     "output_type": "stream",
     "text": [
      "9 * 1 = 9\n",
      "9 * 2 = 18\n",
      "9 * 3 = 27\n",
      "9 * 4 = 36\n",
      "9 * 5 = 45\n",
      "9 * 6 = 54\n",
      "9 * 7 = 63\n",
      "9 * 8 = 72\n",
      "9 * 9 = 81\n"
     ]
    }
   ],
   "source": [
    "n = int(input(\"구구단을 알려드립니다. 숫자를 입력하세요.\"))\n",
    "for x in range(1,10):\n",
    "        print(n,\"*\",x,\"=\",x*n)"
   ]
  },
  {
   "cell_type": "code",
   "execution_count": 501,
   "id": "dcd42fd0-d7f9-4108-8c8d-8463deb469cd",
   "metadata": {},
   "outputs": [
    {
     "name": "stdin",
     "output_type": "stream",
     "text": [
      "자연수를 입력해주세요. 100\n"
     ]
    },
    {
     "name": "stdout",
     "output_type": "stream",
     "text": [
      "5050\n"
     ]
    }
   ],
   "source": [
    "n = int(input(\"자연수를 입력해주세요.\"))\n",
    "sum = 0\n",
    "for i in range(1,n+1):\n",
    "    sum += i\n",
    "print(sum)"
   ]
  }
 ],
 "metadata": {
  "kernelspec": {
   "display_name": "Python 3 (ipykernel)",
   "language": "python",
   "name": "python3"
  },
  "language_info": {
   "codemirror_mode": {
    "name": "ipython",
    "version": 3
   },
   "file_extension": ".py",
   "mimetype": "text/x-python",
   "name": "python",
   "nbconvert_exporter": "python",
   "pygments_lexer": "ipython3",
   "version": "3.9.13"
  }
 },
 "nbformat": 4,
 "nbformat_minor": 5
}
