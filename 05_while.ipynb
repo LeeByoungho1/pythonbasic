{
 "cells": [
  {
   "cell_type": "code",
   "execution_count": 38,
   "id": "e57ca0c6-3efc-4b5d-9c95-bfbd9a29c2cf",
   "metadata": {},
   "outputs": [
    {
     "name": "stdout",
     "output_type": "stream",
     "text": [
      "*****\n",
      "*****\n",
      "*****\n",
      "*****\n",
      "*****\n"
     ]
    }
   ],
   "source": [
    "for i in range (5):\n",
    "    for j in range(5):\n",
    "        print(\"*\",end=\"\") \n",
    "    print() #줄바꿈"
   ]
  },
  {
   "cell_type": "code",
   "execution_count": 37,
   "id": "7bc4f0ca-2318-4ea5-be4c-389a838f7878",
   "metadata": {},
   "outputs": [
    {
     "name": "stdout",
     "output_type": "stream",
     "text": [
      "*****\n",
      "*****\n",
      "*****\n",
      "*****\n",
      "*****\n"
     ]
    }
   ],
   "source": [
    "for i in range (5):\n",
    "    print(\"*\"*5)"
   ]
  },
  {
   "cell_type": "code",
   "execution_count": 52,
   "id": "c2e9c746-11a3-47b0-8ff6-9e959fc88b3a",
   "metadata": {},
   "outputs": [
    {
     "name": "stdout",
     "output_type": "stream",
     "text": [
      "Hello word\n",
      "Hello word\n",
      "Hello word\n"
     ]
    }
   ],
   "source": [
    "i = 0\n",
    "while i < 3:\n",
    "    print(\"Hello word\")\n",
    "    i += 1"
   ]
  },
  {
   "cell_type": "code",
   "execution_count": 53,
   "id": "f11b039b-da7d-490d-89b4-5a38bf82e291",
   "metadata": {},
   "outputs": [
    {
     "name": "stdin",
     "output_type": "stream",
     "text": [
      "반복할 횟수를 입력하세요:  3\n"
     ]
    },
    {
     "name": "stdout",
     "output_type": "stream",
     "text": [
      "Hello word 3\n",
      "Hello word 2\n",
      "Hello word 1\n"
     ]
    }
   ],
   "source": [
    "count = int(input(\"반복할 횟수를 입력하세요: \"))\n",
    "\n",
    "while count > 0:\n",
    "    print(\"Hello word\", count)\n",
    "    count -= 1"
   ]
  },
  {
   "cell_type": "code",
   "execution_count": 39,
   "id": "378f7889-5eee-4c51-99e0-a42965a8540b",
   "metadata": {},
   "outputs": [
    {
     "name": "stdout",
     "output_type": "stream",
     "text": [
      "2\t4\t6\t8\t10\t12\t14\t16\t18\t20\t22\t24\t26\t28\t30\t32\t34\t36\t38\t40\t42\t44\t46\t48\t50\t52\t54\t56\t58\t60\t62\t64\t66\t68\t70\t72\t74\t76\t78\t80\t82\t84\t86\t88\t90\t92\t94\t96\t98\t100\t"
     ]
    }
   ],
   "source": [
    "n = 2\n",
    "while n < 101:\n",
    "    print(n,end=\"\\t\")\n",
    "    n += 2"
   ]
  },
  {
   "cell_type": "code",
   "execution_count": 41,
   "id": "b0343441-e7ff-4252-958b-daa5194990fd",
   "metadata": {},
   "outputs": [
    {
     "name": "stdin",
     "output_type": "stream",
     "text": [
      "구구단을 알려드립니다. 숫자를 입력하세요. 9\n"
     ]
    },
    {
     "name": "stdout",
     "output_type": "stream",
     "text": [
      "9 * 1 = 9\n",
      "9 * 2 = 18\n",
      "9 * 3 = 27\n",
      "9 * 4 = 36\n",
      "9 * 5 = 45\n",
      "9 * 6 = 54\n",
      "9 * 7 = 63\n",
      "9 * 8 = 72\n",
      "9 * 9 = 81\n"
     ]
    }
   ],
   "source": [
    "num = int(input(\"구구단을 알려드립니다. 숫자를 입력하세요.\"))\n",
    "i = 1\n",
    "\n",
    "while i < 10:\n",
    "    print(num, \"*\", i, \"=\",num*i)\n",
    "    i += 1"
   ]
  },
  {
   "cell_type": "code",
   "execution_count": 64,
   "id": "6f6892be-1672-4ac4-9be3-ad049f6dfc09",
   "metadata": {},
   "outputs": [
    {
     "name": "stdin",
     "output_type": "stream",
     "text": [
      "학생의 수:  3\n",
      "1번 학생의 점수 : 77\n",
      "2번 학생의 점수 : 88\n",
      "3번 학생의 점수 : 99\n"
     ]
    },
    {
     "name": "stdout",
     "output_type": "stream",
     "text": [
      "평균: 88.0점\n"
     ]
    }
   ],
   "source": [
    "student = int(input(\"학생의 수: \"))\n",
    "i = 0\n",
    "sum = 0\n",
    "\n",
    "while i < student:\n",
    "    score = int(input(str(i+1)+\"번 학생의 점수 :\")) # str(i)를 해주는 이유: input안을 문자열로 받기때문에\n",
    "    i += 1\n",
    "    sum += score\n",
    "print(\"평균: \",sum/student,\"점\",sep=\"\")"
   ]
  },
  {
   "cell_type": "code",
   "execution_count": 54,
   "id": "b02a8d6e-a193-4174-bd61-16e92632d51d",
   "metadata": {},
   "outputs": [
    {
     "name": "stdout",
     "output_type": "stream",
     "text": [
      "97\n",
      "100\n",
      "77\n"
     ]
    }
   ],
   "source": [
    "scores = (97, 100, 77)\n",
    "i = 0 \n",
    "\n",
    "while i < len(scores):\n",
    "    print(scores[i])\n",
    "    i += 1"
   ]
  },
  {
   "cell_type": "code",
   "execution_count": 63,
   "id": "97c58a02-d521-41cc-9d36-9b02dd6ecb97",
   "metadata": {},
   "outputs": [
    {
     "name": "stdout",
     "output_type": "stream",
     "text": [
      "79.0\n"
     ]
    }
   ],
   "source": [
    "class_a = (70,60,55,75,95,90,80,80,85,100)\n",
    "score = 0\n",
    "i = 0\n",
    "\n",
    "while i < len(class_a):\n",
    "    score += class_a[i]\n",
    "    i += 1\n",
    "    \n",
    "print(score/len(class_a))"
   ]
  }
 ],
 "metadata": {
  "kernelspec": {
   "display_name": "Python 3 (ipykernel)",
   "language": "python",
   "name": "python3"
  },
  "language_info": {
   "codemirror_mode": {
    "name": "ipython",
    "version": 3
   },
   "file_extension": ".py",
   "mimetype": "text/x-python",
   "name": "python",
   "nbconvert_exporter": "python",
   "pygments_lexer": "ipython3",
   "version": "3.9.13"
  }
 },
 "nbformat": 4,
 "nbformat_minor": 5
}
