{
 "cells": [
  {
   "cell_type": "code",
   "execution_count": 286,
   "id": "25d47374-3320-4ac0-a3ba-8631f989696a",
   "metadata": {},
   "outputs": [],
   "source": [
    "import numpy as np"
   ]
  },
  {
   "cell_type": "code",
   "execution_count": 36,
   "id": "c2fd93e3-e9d2-48b9-a2ce-0c2b47b13c58",
   "metadata": {},
   "outputs": [],
   "source": [
    "class Calculator:\n",
    "    def __init__(self):\n",
    "        self.value = 0\n",
    "    \n",
    "    def add(self, n=None, *args):\n",
    "        if n == None:\n",
    "            print(\"숫자를 입력해주세요.\")\n",
    "        elif type(n) == range:\n",
    "            self.value += sum(n)\n",
    "            print(f\"현재 값은 {self.value}입니다.\")\n",
    "        else:\n",
    "            self.value += int(sum([_ for _ in (n,*args)]))\n",
    "            print(f\"현재 값은 {self.value}입니다.\")\n",
    "              \n",
    "    def minus(self, n=None, *args):\n",
    "        if n == None:\n",
    "            print(\"숫자를 입력해주세요.\")\n",
    "        elif type(n) == range:\n",
    "            self.value += sum(n)\n",
    "            print(f\"현재 값은 {self.value}입니다.\")\n",
    "        else:\n",
    "            self.value -= int(sum([_ for _ in (n,*args)]))\n",
    "            print(f\"현재 값은 {self.value}입니다.\")\n",
    "\n",
    "        \n",
    "    def show_value(self):\n",
    "        print(f\"현재 값은 {self.value}입니다.\")"
   ]
  },
  {
   "cell_type": "code",
   "execution_count": 37,
   "id": "8b644aef-4c76-4c91-b46f-9f4e0e920ed0",
   "metadata": {},
   "outputs": [],
   "source": [
    "c = Calculator()"
   ]
  },
  {
   "cell_type": "code",
   "execution_count": 38,
   "id": "75e31b55-af6b-4f8c-a895-9ca17bb19123",
   "metadata": {},
   "outputs": [
    {
     "name": "stdout",
     "output_type": "stream",
     "text": [
      "현재 값은 100입니다.\n"
     ]
    }
   ],
   "source": [
    "c.add(100)"
   ]
  },
  {
   "cell_type": "code",
   "execution_count": 39,
   "id": "8928f66b-2eec-45ff-ab01-f1a66b0a12c4",
   "metadata": {},
   "outputs": [
    {
     "name": "stdout",
     "output_type": "stream",
     "text": [
      "현재 값은 80입니다.\n"
     ]
    }
   ],
   "source": [
    "c.minus(20)"
   ]
  },
  {
   "cell_type": "code",
   "execution_count": 40,
   "id": "c46dabb5-8bfd-4409-8f15-b9e5a71a843a",
   "metadata": {},
   "outputs": [
    {
     "name": "stdout",
     "output_type": "stream",
     "text": [
      "숫자를 입력해주세요.\n"
     ]
    }
   ],
   "source": [
    "c.add()"
   ]
  },
  {
   "cell_type": "code",
   "execution_count": 41,
   "id": "6f6de715-d8ea-4339-93b2-0afd26155965",
   "metadata": {},
   "outputs": [
    {
     "name": "stdout",
     "output_type": "stream",
     "text": [
      "현재 값은 50입니다.\n"
     ]
    }
   ],
   "source": [
    "c.minus(10,20)"
   ]
  },
  {
   "cell_type": "code",
   "execution_count": 42,
   "id": "f1a0fb5e-e5d3-4445-af9a-a0a37531af3e",
   "metadata": {},
   "outputs": [
    {
     "name": "stdout",
     "output_type": "stream",
     "text": [
      "현재 값은 65입니다.\n"
     ]
    }
   ],
   "source": [
    "c.add(range(1,6))"
   ]
  },
  {
   "cell_type": "code",
   "execution_count": 68,
   "id": "1f31bfa0-d105-40a0-b255-210af4b7b395",
   "metadata": {},
   "outputs": [],
   "source": [
    "#T\n",
    "import numpy as np\n",
    "\n",
    "class TCalculator:\n",
    "    def __init__(self):\n",
    "        self.value = 0\n",
    "    \n",
    "    def add (self, *number):\n",
    "        if len(number) > 0:\n",
    "            num = np.array(number)\n",
    "            print(num)\n",
    "            self.value += np.sum(num)\n",
    "        else:\n",
    "            print(\"숫자를 입력해주세요.\")\n",
    "    \n",
    "    def minus (self, *number):\n",
    "        if len(number) > 0:\n",
    "            num = np.array(number)\n",
    "            self.value -= np.sum(num)\n",
    "        else:\n",
    "            print(\"숫자를 입력해주세요.\")\n",
    "            \n",
    "    def show_value(self):\n",
    "        print(f\"현재 값은 {self.value}입니다.\")"
   ]
  },
  {
   "cell_type": "code",
   "execution_count": 69,
   "id": "3ca484d1-397c-461f-ab25-957de717a048",
   "metadata": {},
   "outputs": [],
   "source": [
    "c2 = TCalculator()"
   ]
  },
  {
   "cell_type": "code",
   "execution_count": 70,
   "id": "5474aed2-3c67-44ba-8b37-dd89dc3688c0",
   "metadata": {},
   "outputs": [
    {
     "name": "stdout",
     "output_type": "stream",
     "text": [
      "[100]\n",
      "현재 값은 100입니다.\n"
     ]
    }
   ],
   "source": [
    "c2.add(100)\n",
    "c2.show_value()"
   ]
  },
  {
   "cell_type": "code",
   "execution_count": 71,
   "id": "5df379fe-67c1-4a30-8f01-b1bc2f2ce6bb",
   "metadata": {},
   "outputs": [
    {
     "name": "stdout",
     "output_type": "stream",
     "text": [
      "현재 값은 80입니다.\n"
     ]
    }
   ],
   "source": [
    "c2.minus(20)\n",
    "c2.show_value()"
   ]
  },
  {
   "cell_type": "code",
   "execution_count": 72,
   "id": "b1360c1f-76cc-4d34-9142-4d55d8564c04",
   "metadata": {},
   "outputs": [
    {
     "name": "stdout",
     "output_type": "stream",
     "text": [
      "숫자를 입력해주세요.\n"
     ]
    }
   ],
   "source": [
    "c2.add()"
   ]
  },
  {
   "cell_type": "code",
   "execution_count": 73,
   "id": "3773502d-5268-41be-a272-2b94020f46a7",
   "metadata": {},
   "outputs": [
    {
     "name": "stdout",
     "output_type": "stream",
     "text": [
      "현재 값은 50입니다.\n"
     ]
    }
   ],
   "source": [
    "c2.minus(10,20)\n",
    "c2.show_value()"
   ]
  },
  {
   "cell_type": "code",
   "execution_count": 74,
   "id": "14c91205-2b52-49a5-8169-ee5eb78d4393",
   "metadata": {},
   "outputs": [
    {
     "name": "stdout",
     "output_type": "stream",
     "text": [
      "[[1 2 3 4 5]]\n",
      "현재 값은 65입니다.\n"
     ]
    }
   ],
   "source": [
    "c2.add(range(1,6))\n",
    "c2.show_value()"
   ]
  },
  {
   "cell_type": "markdown",
   "id": "cfebb101-cb39-47dc-afbb-a90ac6fbb4ee",
   "metadata": {},
   "source": [
    "## 백터화 연산"
   ]
  },
  {
   "cell_type": "code",
   "execution_count": 99,
   "id": "b4f53e78-72bc-4991-a38a-d68f6b210283",
   "metadata": {},
   "outputs": [],
   "source": [
    "a = np.array([1,2,3,4])\n",
    "b = np.array([4,2,2,4])\n",
    "c = np.array([1,2,3,4])"
   ]
  },
  {
   "cell_type": "code",
   "execution_count": 94,
   "id": "afe77b79-d20e-463b-83e4-152815da36a3",
   "metadata": {},
   "outputs": [
    {
     "data": {
      "text/plain": [
       "array([False,  True, False,  True])"
      ]
     },
     "execution_count": 94,
     "metadata": {},
     "output_type": "execute_result"
    }
   ],
   "source": [
    "a == b"
   ]
  },
  {
   "cell_type": "code",
   "execution_count": 95,
   "id": "04fa4487-f758-4432-bc84-5630cd784ed2",
   "metadata": {},
   "outputs": [
    {
     "data": {
      "text/plain": [
       "array([False,  True,  True,  True])"
      ]
     },
     "execution_count": 95,
     "metadata": {},
     "output_type": "execute_result"
    }
   ],
   "source": [
    "a >= b"
   ]
  },
  {
   "cell_type": "code",
   "execution_count": 97,
   "id": "b7217e1c-cb81-4f32-84d5-d82b704f0294",
   "metadata": {},
   "outputs": [
    {
     "data": {
      "text/plain": [
       "False"
      ]
     },
     "execution_count": 97,
     "metadata": {},
     "output_type": "execute_result"
    }
   ],
   "source": [
    "np.all(a == b)"
   ]
  },
  {
   "cell_type": "code",
   "execution_count": 101,
   "id": "ff274e69-7069-4cdd-b41b-d5857ded181d",
   "metadata": {},
   "outputs": [
    {
     "data": {
      "text/plain": [
       "True"
      ]
     },
     "execution_count": 101,
     "metadata": {},
     "output_type": "execute_result"
    }
   ],
   "source": [
    "np.all(a == c) # 각 요소를 일일히 비교하는 것이 아니라 배열의 모든 원소가 다 같은지"
   ]
  },
  {
   "cell_type": "code",
   "execution_count": 103,
   "id": "58d84192-3ffb-4dc8-b9db-e0a846766459",
   "metadata": {},
   "outputs": [
    {
     "data": {
      "text/plain": [
       "array([10, 20, 30, 40])"
      ]
     },
     "execution_count": 103,
     "metadata": {},
     "output_type": "execute_result"
    }
   ],
   "source": [
    "# 스칼라\n",
    "a = np.array([1,2,3,4])\n",
    "\n",
    "a * 10"
   ]
  },
  {
   "cell_type": "markdown",
   "id": "0cdb0098-cbee-4f28-9f7d-2555b8ffd006",
   "metadata": {},
   "source": [
    "## 브로드캐스팅\n",
    "\n",
    "- 넘파이 배열은 모양이 다른 배열간의 연산이 가능하도록 배열의 크기를 변환시켜주는 브로드캐스팅을 지원\n",
    "\n",
    "불가능한 경우 1이나 같은 숫자가 아닐 때"
   ]
  },
  {
   "cell_type": "code",
   "execution_count": 106,
   "id": "28846a73-f548-41b6-98b8-e5e5c02edf18",
   "metadata": {},
   "outputs": [
    {
     "data": {
      "text/plain": [
       "array([ 4,  4,  6, 16])"
      ]
     },
     "execution_count": 106,
     "metadata": {},
     "output_type": "execute_result"
    }
   ],
   "source": [
    "a = np.array([1,2,3,4])\n",
    "b = np.array([4,2,2,4])\n",
    "\n",
    "a * b"
   ]
  },
  {
   "cell_type": "code",
   "execution_count": 109,
   "id": "8e496424-438e-4dc2-82fd-189632110da3",
   "metadata": {},
   "outputs": [
    {
     "data": {
      "text/plain": [
       "array([2., 4., 6.])"
      ]
     },
     "execution_count": 109,
     "metadata": {},
     "output_type": "execute_result"
    }
   ],
   "source": [
    "# 스칼라 곱\n",
    "a = np.array([1.0, 2.0, 3.0])\n",
    "b = 2.0\n",
    "a * b"
   ]
  },
  {
   "cell_type": "code",
   "execution_count": 110,
   "id": "4351aceb-31c7-461e-b504-32fe4ceefb40",
   "metadata": {},
   "outputs": [
    {
     "data": {
      "text/plain": [
       "array([2., 4., 6.])"
      ]
     },
     "execution_count": 110,
     "metadata": {},
     "output_type": "execute_result"
    }
   ],
   "source": [
    "# 배열간의 곱\n",
    "a = np.array([1.0, 2.0, 3.0])\n",
    "b = np.array([2.0, 2.0, 2.0])\n",
    "a * b"
   ]
  },
  {
   "cell_type": "code",
   "execution_count": 112,
   "id": "dc277463-858a-4837-a6e7-14e304465bb2",
   "metadata": {},
   "outputs": [
    {
     "data": {
      "text/plain": [
       "array([0, 1, 2, 3, 4])"
      ]
     },
     "execution_count": 112,
     "metadata": {},
     "output_type": "execute_result"
    }
   ],
   "source": [
    "x = np.array(range(5))\n",
    "x"
   ]
  },
  {
   "cell_type": "code",
   "execution_count": 114,
   "id": "2e550089-4523-4446-be40-836fb719c91c",
   "metadata": {},
   "outputs": [
    {
     "data": {
      "text/plain": [
       "array([1, 1, 1, 1, 1])"
      ]
     },
     "execution_count": 114,
     "metadata": {},
     "output_type": "execute_result"
    }
   ],
   "source": [
    "y = np.ones_like(x)\n",
    "y"
   ]
  },
  {
   "cell_type": "code",
   "execution_count": 116,
   "id": "c06d98f8-3ee9-4ff1-8dad-e31c3aabfefd",
   "metadata": {},
   "outputs": [
    {
     "data": {
      "text/plain": [
       "array([1, 2, 3, 4, 5])"
      ]
     },
     "execution_count": 116,
     "metadata": {},
     "output_type": "execute_result"
    }
   ],
   "source": [
    "x + y"
   ]
  },
  {
   "cell_type": "code",
   "execution_count": 118,
   "id": "825fda7a-223e-49f7-8020-702f47bcd65c",
   "metadata": {},
   "outputs": [
    {
     "data": {
      "text/plain": [
       "array([1, 2, 3, 4, 5])"
      ]
     },
     "execution_count": 118,
     "metadata": {},
     "output_type": "execute_result"
    }
   ],
   "source": [
    "x + 1"
   ]
  },
  {
   "cell_type": "markdown",
   "id": "f97ba8da-5677-4b89-8a18-bad227a8f6fb",
   "metadata": {},
   "source": [
    "- 최대/최소: min, max, argmin, argmax\n",
    "- 통계: sum, mean, median, std, var\n",
    "- 불리언: all, any"
   ]
  },
  {
   "cell_type": "code",
   "execution_count": 122,
   "id": "4042a409-be6a-4f33-baff-1a2a7d8b9a57",
   "metadata": {},
   "outputs": [
    {
     "data": {
      "text/plain": [
       "array([1, 2, 3, 4])"
      ]
     },
     "execution_count": 122,
     "metadata": {},
     "output_type": "execute_result"
    }
   ],
   "source": [
    "x = np.array([1,2,3,4])\n",
    "x"
   ]
  },
  {
   "cell_type": "code",
   "execution_count": 123,
   "id": "73bb128c-7f27-4ba7-969a-15e4f5994170",
   "metadata": {},
   "outputs": [
    {
     "data": {
      "text/plain": [
       "10"
      ]
     },
     "execution_count": 123,
     "metadata": {},
     "output_type": "execute_result"
    }
   ],
   "source": [
    "x.sum()"
   ]
  },
  {
   "cell_type": "code",
   "execution_count": 124,
   "id": "169bed20-644c-4e89-83b1-fa97b283ff17",
   "metadata": {},
   "outputs": [
    {
     "data": {
      "text/plain": [
       "10"
      ]
     },
     "execution_count": 124,
     "metadata": {},
     "output_type": "execute_result"
    }
   ],
   "source": [
    "np.sum(x)"
   ]
  },
  {
   "cell_type": "code",
   "execution_count": 126,
   "id": "0024bb97-778b-44ef-b403-a448c396d00b",
   "metadata": {},
   "outputs": [
    {
     "data": {
      "text/plain": [
       "array([[ 0,  1,  2,  3],\n",
       "       [ 4,  5,  6,  7],\n",
       "       [ 8,  9, 10, 11]])"
      ]
     },
     "execution_count": 126,
     "metadata": {},
     "output_type": "execute_result"
    }
   ],
   "source": [
    "x = np.arange(12).reshape(3,-1)\n",
    "x"
   ]
  },
  {
   "cell_type": "code",
   "execution_count": 130,
   "id": "99102cd2-10f0-47ea-b22e-50ff2ff0b67b",
   "metadata": {},
   "outputs": [
    {
     "data": {
      "text/plain": [
       "array([12, 15, 18, 21])"
      ]
     },
     "execution_count": 130,
     "metadata": {},
     "output_type": "execute_result"
    }
   ],
   "source": [
    "x.sum(axis=0) #행 간의 연산 결과"
   ]
  },
  {
   "cell_type": "code",
   "execution_count": 143,
   "id": "024ebdb5-d2ab-4ab1-88bd-0084352de9ec",
   "metadata": {},
   "outputs": [
    {
     "data": {
      "text/plain": [
       "array([[20, 25],\n",
       "       [70, 75]])"
      ]
     },
     "execution_count": 143,
     "metadata": {},
     "output_type": "execute_result"
    }
   ],
   "source": [
    "x.sum(axis=1) # 열 간의 연산 결과"
   ]
  },
  {
   "cell_type": "code",
   "execution_count": 140,
   "id": "6c8d8cae-6d97-477f-9df3-cf0485fe0b85",
   "metadata": {},
   "outputs": [
    {
     "data": {
      "text/plain": [
       "array([[[ 0,  1],\n",
       "        [ 2,  3],\n",
       "        [ 4,  5],\n",
       "        [ 6,  7],\n",
       "        [ 8,  9]],\n",
       "\n",
       "       [[10, 11],\n",
       "        [12, 13],\n",
       "        [14, 15],\n",
       "        [16, 17],\n",
       "        [18, 19]]])"
      ]
     },
     "execution_count": 140,
     "metadata": {},
     "output_type": "execute_result"
    }
   ],
   "source": [
    "x = np.arange(20).reshape(2,5,-1)\n",
    "x"
   ]
  },
  {
   "cell_type": "code",
   "execution_count": 134,
   "id": "9b90c1a1-258d-49ce-ba23-50ba88014f21",
   "metadata": {},
   "outputs": [
    {
     "data": {
      "text/plain": [
       "0"
      ]
     },
     "execution_count": 134,
     "metadata": {},
     "output_type": "execute_result"
    }
   ],
   "source": [
    "x.min()"
   ]
  },
  {
   "cell_type": "code",
   "execution_count": 135,
   "id": "79ef3121-efa4-4521-adb5-12958f5e8b4c",
   "metadata": {},
   "outputs": [
    {
     "data": {
      "text/plain": [
       "0"
      ]
     },
     "execution_count": 135,
     "metadata": {},
     "output_type": "execute_result"
    }
   ],
   "source": [
    "np.min(x)"
   ]
  },
  {
   "cell_type": "code",
   "execution_count": 141,
   "id": "40b9be46-4fbc-494e-b3e0-a70fe12f7899",
   "metadata": {},
   "outputs": [
    {
     "data": {
      "text/plain": [
       "array([[0, 1],\n",
       "       [2, 3],\n",
       "       [4, 5],\n",
       "       [6, 7],\n",
       "       [8, 9]])"
      ]
     },
     "execution_count": 141,
     "metadata": {},
     "output_type": "execute_result"
    }
   ],
   "source": [
    "x.min(axis=0)"
   ]
  },
  {
   "cell_type": "code",
   "execution_count": 167,
   "id": "553dfacb-a109-4033-a2f9-ea1da126491b",
   "metadata": {},
   "outputs": [
    {
     "data": {
      "text/plain": [
       "array([[ 0,  1],\n",
       "       [10, 11]])"
      ]
     },
     "execution_count": 167,
     "metadata": {},
     "output_type": "execute_result"
    }
   ],
   "source": [
    "x.min(axis=1)"
   ]
  },
  {
   "cell_type": "code",
   "execution_count": 168,
   "id": "cd1ef6ac-d1cc-4e36-87a1-adb6b8c4b5eb",
   "metadata": {},
   "outputs": [
    {
     "data": {
      "text/plain": [
       "array([[ 0,  2,  4,  6,  8],\n",
       "       [10, 12, 14, 16, 18]])"
      ]
     },
     "execution_count": 168,
     "metadata": {},
     "output_type": "execute_result"
    }
   ],
   "source": [
    "x.min(axis=2)"
   ]
  },
  {
   "cell_type": "code",
   "execution_count": 154,
   "id": "cb9077ba-9ffe-4ce7-9008-c7f80b57809a",
   "metadata": {},
   "outputs": [
    {
     "data": {
      "text/plain": [
       "array([[[ 0,  1],\n",
       "        [ 2,  3],\n",
       "        [ 4,  5],\n",
       "        [ 6,  7],\n",
       "        [ 8,  9]],\n",
       "\n",
       "       [[10, 11],\n",
       "        [12, 13],\n",
       "        [14, 15],\n",
       "        [16, 17],\n",
       "        [18, 19]]])"
      ]
     },
     "execution_count": 154,
     "metadata": {},
     "output_type": "execute_result"
    }
   ],
   "source": [
    "x = np.arange(20).reshape(2,5,-1)\n",
    "x"
   ]
  },
  {
   "cell_type": "code",
   "execution_count": 155,
   "id": "3dce6515-4cad-4235-b8a2-6d072ef4667b",
   "metadata": {},
   "outputs": [
    {
     "data": {
      "text/plain": [
       "0"
      ]
     },
     "execution_count": 155,
     "metadata": {},
     "output_type": "execute_result"
    }
   ],
   "source": [
    "x.argmin()"
   ]
  },
  {
   "cell_type": "code",
   "execution_count": 156,
   "id": "4aada731-4255-4e87-80d9-89b58bb6d709",
   "metadata": {},
   "outputs": [
    {
     "data": {
      "text/plain": [
       "0"
      ]
     },
     "execution_count": 156,
     "metadata": {},
     "output_type": "execute_result"
    }
   ],
   "source": [
    "np.argmin(x)"
   ]
  },
  {
   "cell_type": "code",
   "execution_count": 157,
   "id": "6e958201-f53a-4106-8288-78eed07a8b4b",
   "metadata": {},
   "outputs": [
    {
     "data": {
      "text/plain": [
       "array([[0, 0],\n",
       "       [0, 0],\n",
       "       [0, 0],\n",
       "       [0, 0],\n",
       "       [0, 0]], dtype=int64)"
      ]
     },
     "execution_count": 157,
     "metadata": {},
     "output_type": "execute_result"
    }
   ],
   "source": [
    "x.argmin(axis=0)"
   ]
  },
  {
   "cell_type": "code",
   "execution_count": 165,
   "id": "19257ef4-a830-4a32-9100-0d2e75e938bd",
   "metadata": {},
   "outputs": [
    {
     "data": {
      "text/plain": [
       "array([[0, 0],\n",
       "       [0, 0]], dtype=int64)"
      ]
     },
     "execution_count": 165,
     "metadata": {},
     "output_type": "execute_result"
    }
   ],
   "source": [
    "x.argmin(axis=1)"
   ]
  },
  {
   "cell_type": "code",
   "execution_count": 159,
   "id": "15a723f7-cb7b-49bc-a747-dfffb787d36b",
   "metadata": {},
   "outputs": [
    {
     "data": {
      "text/plain": [
       "array([[[ 0,  1],\n",
       "        [ 2,  3],\n",
       "        [ 4,  5],\n",
       "        [ 6,  7],\n",
       "        [ 8,  9]],\n",
       "\n",
       "       [[10, 11],\n",
       "        [12, 13],\n",
       "        [14, 15],\n",
       "        [16, 17],\n",
       "        [18, 19]]])"
      ]
     },
     "execution_count": 159,
     "metadata": {},
     "output_type": "execute_result"
    }
   ],
   "source": [
    "x = np.arange(20).reshape(2,5,-1)\n",
    "x"
   ]
  },
  {
   "cell_type": "code",
   "execution_count": 160,
   "id": "b7eba284-9891-45d4-8393-323b06429d46",
   "metadata": {},
   "outputs": [
    {
     "data": {
      "text/plain": [
       "19"
      ]
     },
     "execution_count": 160,
     "metadata": {},
     "output_type": "execute_result"
    }
   ],
   "source": [
    "x.max()"
   ]
  },
  {
   "cell_type": "code",
   "execution_count": 161,
   "id": "f5d5f0c8-74d0-4c30-a8a8-6707d540f2dc",
   "metadata": {},
   "outputs": [
    {
     "data": {
      "text/plain": [
       "19"
      ]
     },
     "execution_count": 161,
     "metadata": {},
     "output_type": "execute_result"
    }
   ],
   "source": [
    "np.max(x)"
   ]
  },
  {
   "cell_type": "code",
   "execution_count": 162,
   "id": "72ee3a7a-dcbf-48b9-88cf-72e9e3004eb8",
   "metadata": {},
   "outputs": [
    {
     "data": {
      "text/plain": [
       "array([[10, 11],\n",
       "       [12, 13],\n",
       "       [14, 15],\n",
       "       [16, 17],\n",
       "       [18, 19]])"
      ]
     },
     "execution_count": 162,
     "metadata": {},
     "output_type": "execute_result"
    }
   ],
   "source": [
    "x.max(axis=0)"
   ]
  },
  {
   "cell_type": "code",
   "execution_count": 163,
   "id": "e1ec2c5f-3768-426e-b9bf-786143428ea0",
   "metadata": {},
   "outputs": [
    {
     "data": {
      "text/plain": [
       "array([[ 8,  9],\n",
       "       [18, 19]])"
      ]
     },
     "execution_count": 163,
     "metadata": {},
     "output_type": "execute_result"
    }
   ],
   "source": [
    "x.max(axis=1)"
   ]
  },
  {
   "cell_type": "code",
   "execution_count": 164,
   "id": "b47b75c5-e0d3-4a2c-af9a-87ecfe0b9d99",
   "metadata": {},
   "outputs": [
    {
     "data": {
      "text/plain": [
       "array([[ 1,  3,  5,  7,  9],\n",
       "       [11, 13, 15, 17, 19]])"
      ]
     },
     "execution_count": 164,
     "metadata": {},
     "output_type": "execute_result"
    }
   ],
   "source": [
    "x.max(axis=2)"
   ]
  },
  {
   "cell_type": "code",
   "execution_count": null,
   "id": "46527cf9-e6ba-4385-abdf-eca72db2a7ad",
   "metadata": {},
   "outputs": [
    {
     "data": {
      "text/plain": [
       "array([[[ 0,  1],\n",
       "        [ 2,  3],\n",
       "        [ 4,  5],\n",
       "        [ 6,  7],\n",
       "        [ 8,  9]],\n",
       "\n",
       "       [[10, 11],\n",
       "        [12, 13],\n",
       "        [14, 15],\n",
       "        [16, 17],\n",
       "        [18, 19]]])"
      ]
     },
     "execution_count": 169,
     "metadata": {},
     "output_type": "execute_result"
    }
   ],
   "source": [
    "x = np.arange(20).reshape(2,5,-1)\n",
    "x"
   ]
  },
  {
   "cell_type": "code",
   "execution_count": 170,
   "id": "a636f926-26ad-4989-b913-9a560810a45f",
   "metadata": {},
   "outputs": [
    {
     "data": {
      "text/plain": [
       "19"
      ]
     },
     "execution_count": 170,
     "metadata": {},
     "output_type": "execute_result"
    }
   ],
   "source": [
    "x.argmax()"
   ]
  },
  {
   "cell_type": "code",
   "execution_count": 171,
   "id": "89a05011-358c-4edd-a81e-45eb93e9ab64",
   "metadata": {},
   "outputs": [
    {
     "data": {
      "text/plain": [
       "19"
      ]
     },
     "execution_count": 171,
     "metadata": {},
     "output_type": "execute_result"
    }
   ],
   "source": [
    "np.argmax(x)"
   ]
  },
  {
   "cell_type": "code",
   "execution_count": 176,
   "id": "c01c2388-e965-420b-a257-c97e70adf496",
   "metadata": {},
   "outputs": [
    {
     "data": {
      "text/plain": [
       "array([[1, 1],\n",
       "       [1, 1],\n",
       "       [1, 1],\n",
       "       [1, 1],\n",
       "       [1, 1]], dtype=int64)"
      ]
     },
     "execution_count": 176,
     "metadata": {},
     "output_type": "execute_result"
    }
   ],
   "source": [
    "x.argmax(axis=0) # 인덱스 값을 가져오는것!"
   ]
  },
  {
   "cell_type": "code",
   "execution_count": 177,
   "id": "66c2a3f4-f0dd-40ff-841e-7288005ad0be",
   "metadata": {},
   "outputs": [
    {
     "data": {
      "text/plain": [
       "array([[4, 4],\n",
       "       [4, 4]], dtype=int64)"
      ]
     },
     "execution_count": 177,
     "metadata": {},
     "output_type": "execute_result"
    }
   ],
   "source": [
    "x.argmax(axis=1) # 인덱스 값을 가져오는것!"
   ]
  },
  {
   "cell_type": "code",
   "execution_count": 178,
   "id": "e44ec20a-c6c8-4794-b18d-ed03dc0003be",
   "metadata": {},
   "outputs": [
    {
     "data": {
      "text/plain": [
       "array([[1, 1, 1, 1, 1],\n",
       "       [1, 1, 1, 1, 1]], dtype=int64)"
      ]
     },
     "execution_count": 178,
     "metadata": {},
     "output_type": "execute_result"
    }
   ],
   "source": [
    "x.argmax(axis=2) # 인덱스 값을 가져오는것!"
   ]
  },
  {
   "cell_type": "code",
   "execution_count": 190,
   "id": "4d9270c4-42e0-4f6e-9326-cf126b56bade",
   "metadata": {},
   "outputs": [],
   "source": [
    "x = np.array([1,2,3,1])"
   ]
  },
  {
   "cell_type": "code",
   "execution_count": 191,
   "id": "02e035ed-527f-4336-bb39-4aae46af835b",
   "metadata": {},
   "outputs": [
    {
     "data": {
      "text/plain": [
       "1.75"
      ]
     },
     "execution_count": 191,
     "metadata": {},
     "output_type": "execute_result"
    }
   ],
   "source": [
    "x.mean() # 평균을 구합니다."
   ]
  },
  {
   "cell_type": "code",
   "execution_count": 192,
   "id": "ad250ecf-fb93-4135-97dd-1d3340928e35",
   "metadata": {},
   "outputs": [
    {
     "data": {
      "text/plain": [
       "1.5"
      ]
     },
     "execution_count": 192,
     "metadata": {},
     "output_type": "execute_result"
    }
   ],
   "source": [
    "np.median(x) # 중간값을 구합니다."
   ]
  },
  {
   "cell_type": "markdown",
   "id": "10b4a50e-5ced-44d5-a7af-9628f8cdc2cf",
   "metadata": {},
   "source": [
    "- np.all()은 하나라도 True이면 True 하나라도 False이면 False"
   ]
  },
  {
   "cell_type": "markdown",
   "id": "56b84716-458b-4a84-a243-5a28af9c11fd",
   "metadata": {},
   "source": [
    "- np.any()는 True가 하나라도 있으면 True, False가 하나라도 있으면 False"
   ]
  },
  {
   "cell_type": "code",
   "execution_count": 196,
   "id": "ff0af7c0-98e8-4ac7-9640-8a7c8211d40b",
   "metadata": {},
   "outputs": [],
   "source": [
    "practice = np.array([[1.1, 7.1, 8.0, 2.1, 6.5, 7.2],\n",
    "                     [2.7, 5.2, 3.3, 9.0, 7.7, 2.8],\n",
    "                     [0.7, 8.8, 4.2, 8.9, 4.3, 7.4],\n",
    "                     [8.2, 1.1, 5.4, 2.9, 6.9, 0.2],\n",
    "                     [7.4, 4.8, 2.7, 3.1, 2.8, 8.9]])"
   ]
  },
  {
   "cell_type": "code",
   "execution_count": 198,
   "id": "6843c7c2-8e0f-40af-bf6c-19257825ee70",
   "metadata": {},
   "outputs": [
    {
     "data": {
      "text/plain": [
       "9.0"
      ]
     },
     "execution_count": 198,
     "metadata": {},
     "output_type": "execute_result"
    }
   ],
   "source": [
    "# 전체의 최댓값\n",
    "practice.max()"
   ]
  },
  {
   "cell_type": "code",
   "execution_count": 220,
   "id": "180643be-8130-473e-ace6-e4c46bfd1ac5",
   "metadata": {},
   "outputs": [
    {
     "data": {
      "text/plain": [
       "array([20.1, 27. , 23.6, 26. , 28.2, 26.5])"
      ]
     },
     "execution_count": 220,
     "metadata": {},
     "output_type": "execute_result"
    }
   ],
   "source": [
    "# 각 행의 합\n",
    "practice.sum(axis=0)"
   ]
  },
  {
   "cell_type": "code",
   "execution_count": 219,
   "id": "5b5c6c3b-0964-4dc3-9ce6-371bbad2beb8",
   "metadata": {},
   "outputs": [
    {
     "data": {
      "text/plain": [
       "array([8.2, 8.8, 8. , 9. , 7.7, 8.9])"
      ]
     },
     "execution_count": 219,
     "metadata": {},
     "output_type": "execute_result"
    }
   ],
   "source": [
    "# 각 행의 최댓값\n",
    "practice.max(axis=0)"
   ]
  },
  {
   "cell_type": "code",
   "execution_count": 218,
   "id": "03cfd0bd-6a44-40b7-9969-d030928401c9",
   "metadata": {},
   "outputs": [
    {
     "data": {
      "text/plain": [
       "array([5.33333333, 5.11666667, 5.71666667, 4.11666667, 4.95      ])"
      ]
     },
     "execution_count": 218,
     "metadata": {},
     "output_type": "execute_result"
    }
   ],
   "source": [
    "# 각 열의 평균\n",
    "practice.mean(axis=1)"
   ]
  },
  {
   "cell_type": "code",
   "execution_count": 221,
   "id": "3ac8f825-4812-4797-b095-8dad622c75a9",
   "metadata": {},
   "outputs": [
    {
     "data": {
      "text/plain": [
       "array([1.1, 2.7, 0.7, 0.2, 2.7])"
      ]
     },
     "execution_count": 221,
     "metadata": {},
     "output_type": "execute_result"
    }
   ],
   "source": [
    "# 각 열의 최솟값\n",
    "practice.min(axis=1)"
   ]
  },
  {
   "cell_type": "code",
   "execution_count": 224,
   "id": "655917a3-70c0-45d8-8dfb-4f008acb9496",
   "metadata": {},
   "outputs": [
    {
     "data": {
      "text/plain": [
       "array([[ 4,  3,  5,  6],\n",
       "       [ 1, 12, 11,  9],\n",
       "       [ 2, 15,  1, 14]])"
      ]
     },
     "execution_count": 224,
     "metadata": {},
     "output_type": "execute_result"
    }
   ],
   "source": [
    "a = np.array([[4,3,5,6],[1,12,11,9],[2,15,1,14]])\n",
    "a"
   ]
  },
  {
   "cell_type": "code",
   "execution_count": 230,
   "id": "9a0c3e1b-8966-4119-a31f-4e9de0b7facc",
   "metadata": {},
   "outputs": [
    {
     "data": {
      "text/plain": [
       "array([[ 3,  4,  5,  6],\n",
       "       [ 1,  9, 11, 12],\n",
       "       [ 1,  2, 14, 15]])"
      ]
     },
     "execution_count": 230,
     "metadata": {},
     "output_type": "execute_result"
    }
   ],
   "source": [
    "# 정렬\n",
    "np.sort(a)"
   ]
  },
  {
   "cell_type": "code",
   "execution_count": 228,
   "id": "ab3bd2a1-ee82-4972-86c7-b8fdc5bd8aea",
   "metadata": {},
   "outputs": [
    {
     "data": {
      "text/plain": [
       "array([[ 1,  3,  1,  6],\n",
       "       [ 2, 12,  5,  9],\n",
       "       [ 4, 15, 11, 14]])"
      ]
     },
     "execution_count": 228,
     "metadata": {},
     "output_type": "execute_result"
    }
   ],
   "source": [
    "np.sort(a, axis=0)"
   ]
  },
  {
   "cell_type": "code",
   "execution_count": 272,
   "id": "d9c949e6-2fd9-4edb-a75f-57e925b0e45d",
   "metadata": {},
   "outputs": [
    {
     "data": {
      "text/plain": [
       "array([2, 3, 1, 0], dtype=int64)"
      ]
     },
     "execution_count": 272,
     "metadata": {},
     "output_type": "execute_result"
    }
   ],
   "source": [
    "a = np.array([42,38,12,25])\n",
    "j = np.argsort(a) # 작은순서대로 인덱스번호를 알려준다.\n",
    "j"
   ]
  },
  {
   "cell_type": "code",
   "execution_count": 280,
   "id": "b901103a-4f8a-4d5e-a88d-f1c03b73970e",
   "metadata": {},
   "outputs": [
    {
     "data": {
      "text/plain": [
       "array([12, 25, 38, 42])"
      ]
     },
     "execution_count": 280,
     "metadata": {},
     "output_type": "execute_result"
    }
   ],
   "source": [
    "a[j]"
   ]
  },
  {
   "cell_type": "code",
   "execution_count": 274,
   "id": "3a71f978-08dc-4ff6-a443-00d2b55f5386",
   "metadata": {},
   "outputs": [
    {
     "data": {
      "text/plain": [
       "array([12, 25, 38, 42])"
      ]
     },
     "execution_count": 274,
     "metadata": {},
     "output_type": "execute_result"
    }
   ],
   "source": [
    "np.sort(a)"
   ]
  },
  {
   "cell_type": "code",
   "execution_count": 245,
   "id": "33caa3a3-76cd-46d6-904a-e5463877f41d",
   "metadata": {},
   "outputs": [
    {
     "data": {
      "text/plain": [
       "array([[1, 2],\n",
       "       [3, 4],\n",
       "       [5, 6]])"
      ]
     },
     "execution_count": 245,
     "metadata": {},
     "output_type": "execute_result"
    }
   ],
   "source": [
    "a = np.array([[1,2],[3,4],[5,6]])\n",
    "a"
   ]
  },
  {
   "cell_type": "code",
   "execution_count": 343,
   "id": "3adc66f7-411e-4faf-a8ec-93b6a8445949",
   "metadata": {},
   "outputs": [
    {
     "data": {
      "text/plain": [
       "array([[  1,   2,   3,   4],\n",
       "       [ 46,  99, 100,  71],\n",
       "       [ 81,  59,  90, 100]])"
      ]
     },
     "execution_count": 343,
     "metadata": {},
     "output_type": "execute_result"
    }
   ],
   "source": [
    "scores = np.array([[1,2,3,4],[46,99,100,71],[81,59,90,100]])\n",
    "scores"
   ]
  },
  {
   "cell_type": "code",
   "execution_count": 380,
   "id": "315c7a63-42d0-4658-b301-886f90586f44",
   "metadata": {},
   "outputs": [
    {
     "data": {
      "text/plain": [
       "array([0, 3, 1, 2], dtype=int64)"
      ]
     },
     "execution_count": 380,
     "metadata": {},
     "output_type": "execute_result"
    }
   ],
   "source": [
    "c = np.argsort(scores)\n",
    "c[1]"
   ]
  },
  {
   "cell_type": "code",
   "execution_count": 390,
   "id": "ed9512ab-d318-441b-9232-a75045b16993",
   "metadata": {},
   "outputs": [
    {
     "data": {
      "text/plain": [
       "array([[  1,   4,   2,   3],\n",
       "       [ 46,  71,  99, 100],\n",
       "       [ 81, 100,  59,  90]])"
      ]
     },
     "execution_count": 390,
     "metadata": {},
     "output_type": "execute_result"
    }
   ],
   "source": [
    "scores[:,c[1]]"
   ]
  },
  {
   "cell_type": "code",
   "execution_count": 558,
   "id": "5b8355c3-5c21-49ac-9a96-8baa0f71f623",
   "metadata": {},
   "outputs": [
    {
     "data": {
      "text/plain": [
       "array([1, 2, 3, 4, 5])"
      ]
     },
     "execution_count": 558,
     "metadata": {},
     "output_type": "execute_result"
    }
   ],
   "source": [
    "x = np.array([1,2,3,4,5])\n",
    "x"
   ]
  },
  {
   "cell_type": "code",
   "execution_count": 560,
   "id": "28d0235f-f651-48b5-84ee-5dddbcada782",
   "metadata": {},
   "outputs": [
    {
     "data": {
      "text/plain": [
       "5"
      ]
     },
     "execution_count": 560,
     "metadata": {},
     "output_type": "execute_result"
    }
   ],
   "source": [
    "len(x) # len함수로 데이터의 개수를 구할 수 있다."
   ]
  },
  {
   "cell_type": "code",
   "execution_count": 561,
   "id": "c73a332d-8190-4996-8589-450e859256a4",
   "metadata": {},
   "outputs": [
    {
     "data": {
      "text/plain": [
       "3.0"
      ]
     },
     "execution_count": 561,
     "metadata": {},
     "output_type": "execute_result"
    }
   ],
   "source": [
    "# 표본 평균\n",
    "np.mean(x) #평균"
   ]
  },
  {
   "cell_type": "code",
   "execution_count": 563,
   "id": "68f95845-732f-4322-b310-54582fe6b4ea",
   "metadata": {},
   "outputs": [
    {
     "data": {
      "text/plain": [
       "2.0"
      ]
     },
     "execution_count": 563,
     "metadata": {},
     "output_type": "execute_result"
    }
   ],
   "source": [
    "# 표본 분산\n",
    "np.var(x) #분산"
   ]
  },
  {
   "cell_type": "code",
   "execution_count": 565,
   "id": "801f86cb-2e95-4d52-93a6-abfeabf8b8fb",
   "metadata": {},
   "outputs": [
    {
     "data": {
      "text/plain": [
       "2.5"
      ]
     },
     "execution_count": 565,
     "metadata": {},
     "output_type": "execute_result"
    }
   ],
   "source": [
    "np.var(x, ddof=1) #비편향 분산. 추후 공부하게 됨"
   ]
  },
  {
   "cell_type": "code",
   "execution_count": 569,
   "id": "cec6900f-82a7-4e7e-bf19-60a73716ee31",
   "metadata": {},
   "outputs": [
    {
     "data": {
      "text/plain": [
       "1.4142135623730951"
      ]
     },
     "execution_count": 569,
     "metadata": {},
     "output_type": "execute_result"
    }
   ],
   "source": [
    "np.std(x) #표준 편차"
   ]
  },
  {
   "cell_type": "code",
   "execution_count": 571,
   "id": "6c0e7384-6c02-4ac2-8a5a-c8cfbf8b0101",
   "metadata": {},
   "outputs": [
    {
     "data": {
      "text/plain": [
       "3.0"
      ]
     },
     "execution_count": 571,
     "metadata": {},
     "output_type": "execute_result"
    }
   ],
   "source": [
    "np.median(x) #중앙값 크기대로 정렬하였을 때 가장 가운데 있는 수 \n",
    "                # 짝수이면 가장 가운데 있는 두 수의 평균"
   ]
  },
  {
   "cell_type": "markdown",
   "id": "8a89dab4-f997-4d3f-8cbf-b775d5ded844",
   "metadata": {},
   "source": [
    "사분위수는 예를 들어 100을 4등분하면 시작(0)과 끝점(100)을 제외하고  \n",
    " 0    25    50    75    100 이렇게 나누어 지는데  \n",
    "25가 사분위수  (1/4지점)  \n",
    "50이 2사분위수 (2/4지점)  \n",
    "75가 3사분위수 (3/4지점)  "
   ]
  },
  {
   "cell_type": "code",
   "execution_count": 572,
   "id": "9dea2a81-bd49-4301-a0af-a3907cff6400",
   "metadata": {},
   "outputs": [],
   "source": [
    "np.random.seed(0) # 시드 설정하기"
   ]
  },
  {
   "cell_type": "code",
   "execution_count": 404,
   "id": "7d106e54-ee10-434c-b963-77fb1e81c1c4",
   "metadata": {},
   "outputs": [
    {
     "data": {
      "text/plain": [
       "array([0.5488135 , 0.71518937, 0.60276338, 0.54488318, 0.4236548 ])"
      ]
     },
     "execution_count": 404,
     "metadata": {},
     "output_type": "execute_result"
    }
   ],
   "source": [
    "np.random.rand(5)"
   ]
  },
  {
   "cell_type": "code",
   "execution_count": 405,
   "id": "916ca295-ce64-4c4b-beac-48abafba9a9b",
   "metadata": {},
   "outputs": [
    {
     "data": {
      "text/plain": [
       "array([0.64589411, 0.43758721, 0.891773  , 0.96366276, 0.38344152,\n",
       "       0.79172504, 0.52889492, 0.56804456, 0.92559664, 0.07103606])"
      ]
     },
     "execution_count": 405,
     "metadata": {},
     "output_type": "execute_result"
    }
   ],
   "source": [
    "np.random.rand(10)"
   ]
  },
  {
   "cell_type": "code",
   "execution_count": 406,
   "id": "1de0c3a2-abda-4fa2-9286-d972eaf91e8f",
   "metadata": {},
   "outputs": [
    {
     "data": {
      "text/plain": [
       "array([0.0871293 , 0.0202184 , 0.83261985, 0.77815675, 0.87001215,\n",
       "       0.97861834, 0.79915856, 0.46147936, 0.78052918, 0.11827443])"
      ]
     },
     "execution_count": 406,
     "metadata": {},
     "output_type": "execute_result"
    }
   ],
   "source": [
    "np.random.rand(10)"
   ]
  },
  {
   "cell_type": "code",
   "execution_count": 407,
   "id": "f012c7d4-787d-44c4-b1a8-78c7db5b6b33",
   "metadata": {},
   "outputs": [
    {
     "data": {
      "text/plain": [
       "array([0, 1, 2, 3, 4, 5, 6, 7, 8, 9])"
      ]
     },
     "execution_count": 407,
     "metadata": {},
     "output_type": "execute_result"
    }
   ],
   "source": [
    "x = np.arange(10)\n",
    "x"
   ]
  },
  {
   "cell_type": "code",
   "execution_count": 409,
   "id": "6cb34582-bcc8-4757-87c2-553f4ea7a7e6",
   "metadata": {},
   "outputs": [
    {
     "data": {
      "text/plain": [
       "array([5, 7, 6, 1, 9, 3, 0, 2, 8, 4])"
      ]
     },
     "execution_count": 409,
     "metadata": {},
     "output_type": "execute_result"
    }
   ],
   "source": [
    "np.random.shuffle(x) # 데이터의 순서를 바꾸려면\n",
    "x"
   ]
  },
  {
   "cell_type": "markdown",
   "id": "1e003c71-19d2-4001-acc4-5a16c900314b",
   "metadata": {},
   "source": [
    "## 데이터 샘플링  \n",
    "이미 있는 데이터 집합에서 일부로 무작위로 선택하는 것을 샘플링 or 표본선택이라고 한다.  \n",
    "numpy.random.choice(a, size=None, replace=True, p=None)  \n",
    "\n",
    "- a : 배열이면 원래의 데이터,정수이면 arange(a) 명령으로 데이터 생성\n",
    "- size : 정수.샘플 숫자.\n",
    "- replace : 불리언.True이면 한번 선택한 데이터를 다시 선택가능\n",
    "- p : 배열.각 데이터가 선택될 수 있는 확률"
   ]
  },
  {
   "cell_type": "code",
   "execution_count": 413,
   "id": "28ede376-73eb-4521-8478-141ec3cf7bde",
   "metadata": {},
   "outputs": [
    {
     "data": {
      "text/plain": [
       "array([0, 3, 2, 4, 1])"
      ]
     },
     "execution_count": 413,
     "metadata": {},
     "output_type": "execute_result"
    }
   ],
   "source": [
    "np.random.choice(5, 5, replace=False) # shuffle 명령과 같다."
   ]
  },
  {
   "cell_type": "code",
   "execution_count": 418,
   "id": "f55daeec-6ed6-4a8f-8236-84e50b9aeba4",
   "metadata": {},
   "outputs": [
    {
     "data": {
      "text/plain": [
       "array([3, 1, 0])"
      ]
     },
     "execution_count": 418,
     "metadata": {},
     "output_type": "execute_result"
    }
   ],
   "source": [
    "np.random.choice(5, 3, replace=False) # 3개만 선택"
   ]
  },
  {
   "cell_type": "code",
   "execution_count": 421,
   "id": "37d5a757-ebc1-4e40-942b-f564eea9de11",
   "metadata": {},
   "outputs": [
    {
     "data": {
      "text/plain": [
       "array([1, 1, 3, 0, 0, 1, 2, 4, 2, 0])"
      ]
     },
     "execution_count": 421,
     "metadata": {},
     "output_type": "execute_result"
    }
   ],
   "source": [
    "np.random.choice(5, 10) # 반복해서 10개 선택"
   ]
  },
  {
   "cell_type": "code",
   "execution_count": 425,
   "id": "190287f2-8f2b-4d31-bcdb-358892f4b474",
   "metadata": {},
   "outputs": [
    {
     "data": {
      "text/plain": [
       "array([2, 3, 2, 3, 2, 2, 3, 0, 3, 0])"
      ]
     },
     "execution_count": 425,
     "metadata": {},
     "output_type": "execute_result"
    }
   ],
   "source": [
    "np.random.choice(5, 10, p=(0.1, 0, 0.3, 0.6, 0)) # 선택 확률을 다르게 해서 10개 선택"
   ]
  },
  {
   "cell_type": "markdown",
   "id": "3e3c7b43-398e-48cc-882b-c790bd775ceb",
   "metadata": {},
   "source": [
    "## 난수 생성  \n",
    "- rand: 0부터 1사이의 균일 분포\n",
    "- randn: 표준 정규 분포\n",
    "- randint: 균일 분포의 정수 난수"
   ]
  },
  {
   "cell_type": "code",
   "execution_count": 428,
   "id": "ba2259fe-7fce-4172-9ac2-b13821431f2c",
   "metadata": {},
   "outputs": [
    {
     "data": {
      "text/plain": [
       "array([0.13547406, 0.29828233, 0.56996491, 0.59087276, 0.57432525,\n",
       "       0.65320082, 0.65210327, 0.43141844, 0.8965466 , 0.36756187])"
      ]
     },
     "execution_count": 428,
     "metadata": {},
     "output_type": "execute_result"
    }
   ],
   "source": [
    "np.random.rand(10) "
   ]
  },
  {
   "cell_type": "code",
   "execution_count": 429,
   "id": "91647f48-7971-4871-8eab-2ed831ebafb8",
   "metadata": {},
   "outputs": [
    {
     "data": {
      "text/plain": [
       "array([[0.43586493, 0.89192336, 0.80619399, 0.70388858, 0.10022689],\n",
       "       [0.91948261, 0.7142413 , 0.99884701, 0.1494483 , 0.86812606],\n",
       "       [0.16249293, 0.61555956, 0.12381998, 0.84800823, 0.80731896]])"
      ]
     },
     "execution_count": 429,
     "metadata": {},
     "output_type": "execute_result"
    }
   ],
   "source": [
    "np.random.rand(3,5)"
   ]
  },
  {
   "cell_type": "code",
   "execution_count": 426,
   "id": "626174d6-8e79-4fa6-9d3c-05526b9e32ab",
   "metadata": {},
   "outputs": [
    {
     "data": {
      "text/plain": [
       "array([-1.16514984,  0.90082649,  0.46566244, -1.53624369,  1.48825219,\n",
       "        1.89588918,  1.17877957, -0.17992484, -1.07075262,  1.05445173])"
      ]
     },
     "execution_count": 426,
     "metadata": {},
     "output_type": "execute_result"
    }
   ],
   "source": [
    "np.random.randn(10)"
   ]
  },
  {
   "cell_type": "code",
   "execution_count": 427,
   "id": "e9243640-a36b-4fa7-8fff-0e847d68f43d",
   "metadata": {},
   "outputs": [
    {
     "data": {
      "text/plain": [
       "array([[-0.40317695,  1.22244507,  0.20827498,  0.97663904,  0.3563664 ],\n",
       "       [ 0.70657317,  0.01050002,  1.78587049,  0.12691209,  0.40198936],\n",
       "       [ 1.8831507 , -1.34775906, -1.270485  ,  0.96939671, -1.17312341]])"
      ]
     },
     "execution_count": 427,
     "metadata": {},
     "output_type": "execute_result"
    }
   ],
   "source": [
    "np.random.randn(3,5)"
   ]
  },
  {
   "cell_type": "code",
   "execution_count": 498,
   "id": "2ee8af61-467d-4ce4-9352-cae6cb8d67b7",
   "metadata": {},
   "outputs": [],
   "source": [
    "np.random.seed(0)"
   ]
  },
  {
   "cell_type": "code",
   "execution_count": 499,
   "id": "ead2c846-e8ea-4639-acd6-5edf4281ddd8",
   "metadata": {},
   "outputs": [
    {
     "data": {
      "text/plain": [
       "array([0, 1, 1, 0, 1, 1, 1, 1, 1, 1, 1, 0, 0, 1, 0, 0, 0, 0, 0, 1, 0, 1,\n",
       "       1, 0, 0, 1, 1, 1, 1, 0, 1, 0, 1, 0, 1, 1, 0, 1, 1, 0, 0, 1, 0, 1,\n",
       "       1, 1, 1, 1, 0, 1, 0, 1, 1, 1, 1, 0, 1, 0, 0, 1, 1, 0, 1, 0, 1, 0,\n",
       "       0, 0, 0, 0, 1, 1, 0, 0, 0, 1, 1, 0, 1, 0, 0, 1, 0, 1, 1, 1, 1, 1,\n",
       "       1, 0, 1, 1, 0, 0, 1, 0, 0, 1, 1, 0])"
      ]
     },
     "execution_count": 499,
     "metadata": {},
     "output_type": "execute_result"
    }
   ],
   "source": [
    "a = np.random.choice(2, 100)\n",
    "a"
   ]
  },
  {
   "cell_type": "code",
   "execution_count": 501,
   "id": "c8d9b562-8642-4cf5-a950-10e2141ba8e8",
   "metadata": {},
   "outputs": [
    {
     "data": {
      "text/plain": [
       "0.56"
      ]
     },
     "execution_count": 501,
     "metadata": {},
     "output_type": "execute_result"
    }
   ],
   "source": [
    "a.sum()/100"
   ]
  },
  {
   "cell_type": "code",
   "execution_count": 550,
   "id": "4a2e39b3-e804-4e66-9c0c-1ab4ed7e0430",
   "metadata": {},
   "outputs": [],
   "source": [
    "np.random.seed(0)"
   ]
  },
  {
   "cell_type": "code",
   "execution_count": 551,
   "id": "98986a86-99ee-48cb-9055-430667498778",
   "metadata": {},
   "outputs": [
    {
     "data": {
      "text/plain": [
       "array([5, 6, 1, 4, 4, 4, 2, 4, 6, 3, 5, 1, 1, 5, 3, 2, 1, 2, 6, 2, 6, 1,\n",
       "       2, 5, 4, 1, 4, 6, 1, 3, 4, 1, 2, 4, 6, 4, 4, 1, 2, 2, 2, 1, 3, 5,\n",
       "       4, 4, 3, 5, 3, 1, 1, 5, 6, 6, 1, 5, 2, 5, 2, 3, 3, 1, 2, 2, 2, 2,\n",
       "       4, 4, 3, 4, 1, 4, 6, 5, 2, 3, 5, 4, 5, 5, 5, 4, 5, 5, 5, 1, 5, 4,\n",
       "       3, 6, 6, 6, 1, 2, 6, 2, 4, 1, 6, 1])"
      ]
     },
     "execution_count": 551,
     "metadata": {},
     "output_type": "execute_result"
    }
   ],
   "source": [
    "d = np.random.randint(1, 7, 100) # randint\n",
    "d "
   ]
  },
  {
   "cell_type": "code",
   "execution_count": 553,
   "id": "591dc9df-39e6-4117-a506-59c9b61fa099",
   "metadata": {},
   "outputs": [
    {
     "data": {
      "text/plain": [
       "3.42"
      ]
     },
     "execution_count": 553,
     "metadata": {},
     "output_type": "execute_result"
    }
   ],
   "source": [
    "d.sum()/100"
   ]
  },
  {
   "cell_type": "code",
   "execution_count": 556,
   "id": "c6aa302d-e738-41ef-8dba-929e7ba59cf9",
   "metadata": {},
   "outputs": [
    {
     "data": {
      "text/plain": [
       "array([0, 2, 3, 1, 0, 0], dtype=int64)"
      ]
     },
     "execution_count": 556,
     "metadata": {},
     "output_type": "execute_result"
    }
   ],
   "source": [
    "np.bincount([1,1,2,2,2,3], minlength=6) # 0의 갯수 1의 갯수 2의 갯수 ... 5의 갯수 minlength=6"
   ]
  }
 ],
 "metadata": {
  "kernelspec": {
   "display_name": "Python 3 (ipykernel)",
   "language": "python",
   "name": "python3"
  },
  "language_info": {
   "codemirror_mode": {
    "name": "ipython",
    "version": 3
   },
   "file_extension": ".py",
   "mimetype": "text/x-python",
   "name": "python",
   "nbconvert_exporter": "python",
   "pygments_lexer": "ipython3",
   "version": "3.9.13"
  }
 },
 "nbformat": 4,
 "nbformat_minor": 5
}
