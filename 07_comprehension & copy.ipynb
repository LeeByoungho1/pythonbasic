{
 "cells": [
  {
   "cell_type": "code",
   "execution_count": 10,
   "id": "ee5ec358-c60c-47dc-95c3-85058e05611b",
   "metadata": {},
   "outputs": [
    {
     "name": "stdout",
     "output_type": "stream",
     "text": [
      "김태형 후보가 총 4표를 얻어 당선되었습니다.\n"
     ]
    }
   ],
   "source": [
    "votes = [2,5,3,4,1,5,1,5,5,3]\n",
    "candidates = [\"\",\"전정국\",\"김남준\",\"박지민\",\"정호석\",\"김태형\"]\n",
    "\n",
    "a = 0\n",
    "b = 0\n",
    "c = 0\n",
    "d = 0\n",
    "e = 0\n",
    "\n",
    "h = a\n",
    "\n",
    "for i in votes:\n",
    "    if i == 1:\n",
    "        a += 1\n",
    "    elif i == 2:\n",
    "        b += 1\n",
    "    elif i == 3:\n",
    "        c += 1\n",
    "    elif i == 4:\n",
    "        d += 1\n",
    "    else:\n",
    "        e += 1\n",
    "\n",
    "for i in range (5):\n",
    "    if h < b:\n",
    "        h = b\n",
    "    elif h < c:\n",
    "        h = c\n",
    "    elif h < d:\n",
    "        h = d\n",
    "    elif h < e:\n",
    "        h = e\n",
    "        \n",
    "if h == a:\n",
    "    print(f\"{candidates[1]} 후보가 총 {h}표를 얻어 당선되었습니다.\")\n",
    "elif h == b:\n",
    "    print(f\"{candidates[2]} 후보가 총 {h}표를 얻어 당선되었습니다.\")\n",
    "elif h == c:\n",
    "    print(f\"{candidates[3]} 후보가 총 {h}표를 얻어 당선되었습니다.\")\n",
    "elif h == d:\n",
    "    print(f\"{candidates[4]} 후보가 총 {h}표를 얻어 당선되었습니다.\")\n",
    "else:\n",
    "    print(f\"{candidates[5]} 후보가 총 {h}표를 얻어 당선되었습니다.\")"
   ]
  },
  {
   "cell_type": "code",
   "execution_count": 86,
   "id": "0920dc14-db56-4515-8f14-cd5bfb5d5b2e",
   "metadata": {},
   "outputs": [
    {
     "name": "stdout",
     "output_type": "stream",
     "text": [
      "{'': 0, '전정국': 2, '김남준': 1, '박지민': 2, '정호석': 1, '김태형': 4}\n",
      "김태형 후보가 총 4표를 얻어 당선되었습니다.\n"
     ]
    }
   ],
   "source": [
    "votes = [2,5,3,4,1,5,1,5,5,3]\n",
    "candidates = [\"\",\"전정국\",\"김남준\",\"박지민\",\"정호석\",\"김태형\"]\n",
    "\n",
    "dict_n = dict(zip(candidates,(0,0,0,0,0,0)))\n",
    "\n",
    "max_count = 0\n",
    "elected_person = 0   \n",
    "\n",
    "for j in votes:\n",
    "    for i in range (len(candidates)):\n",
    "        if j == i:\n",
    "            dict_n[candidates[i]] += 1\n",
    "print(dict_n)\n",
    "i = 1\n",
    "while i < len(candidates):\n",
    "    if max_count < dict_n[candidates[i]]:\n",
    "        max_count = dict_n[candidates[i]]\n",
    "        elected_person = i\n",
    "    i += 1\n",
    "print(f\"{candidates[elected_person]} 후보가 총 {max_count}표를 얻어 당선되었습니다.\") "
   ]
  },
  {
   "cell_type": "code",
   "execution_count": 26,
   "id": "048ae149-4f8a-461d-ae01-119d024d0e8e",
   "metadata": {},
   "outputs": [
    {
     "name": "stdout",
     "output_type": "stream",
     "text": [
      "[0, 0, 0, 0, 0, 0]\n",
      "[0, 2, 1, 2, 1, 4]\n",
      "김태형 후보가 총 4표를 받아 당선되었습니다.\n"
     ]
    }
   ],
   "source": [
    "votes = [2,5,3,4,1,5,1,5,5,3]\n",
    "candidates = [\"\",\"전정국\",\"김남준\",\"박지민\",\"정호석\",\"김태형\"]\n",
    "count = [0]*len(candidates)\n",
    "print(count)\n",
    "\n",
    "for i in votes:\n",
    "    count[i] += 1\n",
    "print(count)\n",
    "\n",
    "i = 1\n",
    "max_count = 0  \n",
    "elected_person = 0   # candidates와 count의 인덱스 번호를 위한 변수\n",
    "while i < len(count):\n",
    "    if max_count < count[i]:\n",
    "        max_count = count[i] \n",
    "        elected_person = i\n",
    "    i += 1\n",
    "print(f\"{candidates[elected_person]} 후보가 총 {max_count}표를 받아 당선되었습니다.\")"
   ]
  },
  {
   "cell_type": "code",
   "execution_count": 102,
   "id": "3faead51-26ff-4feb-8a78-588656d7a083",
   "metadata": {},
   "outputs": [
    {
     "name": "stdout",
     "output_type": "stream",
     "text": [
      "[True, False, True, False, True, False, True, False, True]\n"
     ]
    }
   ],
   "source": [
    "prac_result = [i % 2 == 1 for i in range(1,10)]\n",
    "print(prac_result)"
   ]
  },
  {
   "cell_type": "code",
   "execution_count": 103,
   "id": "a0fbfcdc-0052-476f-ac43-f89960c131b3",
   "metadata": {},
   "outputs": [
    {
     "name": "stdout",
     "output_type": "stream",
     "text": [
      "[1, 3, 5, 7, 9]\n"
     ]
    }
   ],
   "source": [
    "prac_result2 = [_  for _ in range(1,10,2)]\n",
    "print(prac_result2)"
   ]
  },
  {
   "cell_type": "code",
   "execution_count": 104,
   "id": "ce609579-7683-4171-ba27-d239b7f318c3",
   "metadata": {},
   "outputs": [
    {
     "name": "stdout",
     "output_type": "stream",
     "text": [
      "['a', 'b', 'c', 'd', 'e', 'f', 'g', 'h', 'i', 'j', 'k', 'l', 'n', 'm', 'o', 'p', 'q', 'r', 's', 't', 'u', 'v', 'w', 'x', 'y', 'z']\n"
     ]
    }
   ],
   "source": [
    "prac_result3 = [i for i in 'abcdefghijklnmopqrstuvwxyz']\n",
    "print(prac_result3)"
   ]
  },
  {
   "cell_type": "code",
   "execution_count": 105,
   "id": "057c4ebb-30f4-4d0e-a865-820cd425519d",
   "metadata": {},
   "outputs": [
    {
     "name": "stdout",
     "output_type": "stream",
     "text": [
      "['2', '3', '4', '5', '6', '7', '8', '9', '10', 'J', 'Q', 'K', 'A']\n"
     ]
    }
   ],
   "source": [
    "prac_result4 = [str(i) for i in range(2,11)] + [i for i in 'JQKA']\n",
    "print(prac_result4)"
   ]
  },
  {
   "cell_type": "code",
   "execution_count": 106,
   "id": "600db990-15c1-4723-80b1-8394050c7641",
   "metadata": {},
   "outputs": [
    {
     "name": "stdout",
     "output_type": "stream",
     "text": [
      "[['2', '3', '4', '5', '6', '7', '8', '9', '10', 'J', 'Q', 'K', 'A'], ['2', '3', '4', '5', '6', '7', '8', '9', '10', 'J', 'Q', 'K', 'A'], ['2', '3', '4', '5', '6', '7', '8', '9', '10', 'J', 'Q', 'K', 'A'], ['2', '3', '4', '5', '6', '7', '8', '9', '10', 'J', 'Q', 'K', 'A']]\n"
     ]
    }
   ],
   "source": [
    "prac_result5 = [prac_result4 for i in range(4)]\n",
    "print(prac_result5)"
   ]
  },
  {
   "cell_type": "code",
   "execution_count": 107,
   "id": "f7e7cf2c-f6ae-4c02-a867-8c0bf1aaab6d",
   "metadata": {},
   "outputs": [],
   "source": [
    "prac_result4[0] = 'two' "
   ]
  },
  {
   "cell_type": "code",
   "execution_count": 112,
   "id": "3762e0f9-4f3f-43d0-a5f0-2ceb58050f2a",
   "metadata": {},
   "outputs": [
    {
     "name": "stdout",
     "output_type": "stream",
     "text": [
      "['two', '3', '4', '5', '6', '7', '8', '9', '10', 'J', 'Q', 'K', 'A']\n",
      "[['two', '3', '4', '5', '6', '7', '8', '9', '10', 'J', 'Q', 'K', 'A'], ['two', '3', '4', '5', '6', '7', '8', '9', '10', 'J', 'Q', 'K', 'A'], ['two', '3', '4', '5', '6', '7', '8', '9', '10', 'J', 'Q', 'K', 'A'], ['two', '3', '4', '5', '6', '7', '8', '9', '10', 'J', 'Q', 'K', 'A']]\n"
     ]
    }
   ],
   "source": [
    "print(prac_result4)\n",
    "print(prac_result5) \n",
    "# result4을 바꿨는데 result5도 바뀐 이유는 prac_result5 = [prac_result4 for i in range(4)]에서\n",
    "# result5가 result4의 주소를 가르키고 있기 때문이다.\n",
    "# 메모리상으로 주소값보다 용량이 큰 객체를 가지는 것 보다 주소를 가르키는 것이 더 효율적이다.\n",
    "# 주소값은 숫자로 표현되어 있고 숫자는 상대적으로 용량이 적은편이다."
   ]
  },
  {
   "cell_type": "code",
   "execution_count": 118,
   "id": "c83c5168-b366-454d-95d7-20200dcae200",
   "metadata": {},
   "outputs": [
    {
     "name": "stdout",
     "output_type": "stream",
     "text": [
      "prac_result4의 id: 2730387435904\n",
      "prac_result5[0] : 2730387435904\n",
      "prac_result5[1] : 2730387435904\n",
      "prac_result5[2] : 2730387435904\n",
      "prac_result5[3] : 2730387435904\n"
     ]
    }
   ],
   "source": [
    "print(\"prac_result4의 id:\", id(prac_result4))\n",
    "\n",
    "for i,v in enumerate(prac_result5):\n",
    "    print(\"prac_result5[\",i,\"] : \", id(v), sep=\"\")"
   ]
  },
  {
   "cell_type": "code",
   "execution_count": 125,
   "id": "9f11b437-c3f5-435b-99e7-c8f463ac2aa7",
   "metadata": {},
   "outputs": [
    {
     "name": "stdout",
     "output_type": "stream",
     "text": [
      "prac_result4의 id: 2730387435904\n",
      "prac_result6[0] : 2730386561792\n",
      "prac_result6[1] : 2730386537664\n",
      "prac_result6[2] : 2730387437760\n",
      "prac_result6[3] : 2730387430336\n"
     ]
    }
   ],
   "source": [
    "prac_result6 = [prac_result4[:]for _ in range(4)]\n",
    "\n",
    "print(\"prac_result4의 id:\", id(prac_result4))\n",
    "for i,v in enumerate(prac_result6):\n",
    "    print(\"prac_result6[\",i,\"] : \", id(v), sep=\"\")\n",
    "# 슬라이싱 결과는 새로운 객체이다. 각각의 주소값이 다 다르다."
   ]
  },
  {
   "cell_type": "code",
   "execution_count": 136,
   "id": "42e105a1-0d3c-45a8-8572-b7b9637b727e",
   "metadata": {},
   "outputs": [
    {
     "name": "stdout",
     "output_type": "stream",
     "text": [
      "2730387439552\n",
      "2730387429120\n",
      "False\n",
      "True\n"
     ]
    }
   ],
   "source": [
    "old_list = list(range(10))\n",
    "new_list = old_list[:] #슬라이싱하면 새로운 객체를 생성\n",
    "\n",
    "print(id(old_list))\n",
    "print(id(new_list)) \n",
    "print(old_list is new_list) #리스트의 주소값은 다르다\n",
    "print(old_list == new_list) #리스트의 내용은 같다"
   ]
  },
  {
   "cell_type": "code",
   "execution_count": 139,
   "id": "78977085-dcf3-4300-9961-b4933189cfe1",
   "metadata": {},
   "outputs": [
    {
     "data": {
      "text/plain": [
       "True"
      ]
     },
     "execution_count": 139,
     "metadata": {},
     "output_type": "execute_result"
    }
   ],
   "source": [
    "type(\"abc\") is str #이런식으로 타입비교 가능!"
   ]
  },
  {
   "cell_type": "code",
   "execution_count": 141,
   "id": "23972f08-c187-45bb-a9dd-e3d4d7f5b3f2",
   "metadata": {},
   "outputs": [
    {
     "name": "stdout",
     "output_type": "stream",
     "text": [
      "2730382712432\n",
      "2730382712432\n"
     ]
    }
   ],
   "source": [
    "str_a = \"hello\"\n",
    "str_b = \"hello\"\n",
    "\n",
    "print(id(str_a))\n",
    "print(id(str_b))"
   ]
  },
  {
   "cell_type": "code",
   "execution_count": 145,
   "id": "bd572105-6146-4ece-a0f1-fa69cf390b82",
   "metadata": {},
   "outputs": [
    {
     "name": "stdout",
     "output_type": "stream",
     "text": [
      "[0, 1, 2, 3, 4, 5, 6, 7, 8, 9]\n",
      "[0, 1, 2, 3, 4, 5, 6, 7, 8, 9]\n",
      "2730386590016\n",
      "2730386590016\n"
     ]
    }
   ],
   "source": [
    "list_e = [i for i in range(10)]\n",
    "print(list_e)\n",
    "\n",
    "list_f = list_e \n",
    "\n",
    "print(list_f)\n",
    "\n",
    "print(id(list_e))\n",
    "print(id(list_f))"
   ]
  },
  {
   "cell_type": "code",
   "execution_count": 8,
   "id": "9f074541-caa8-493e-8399-e5b7a8e7eb4e",
   "metadata": {},
   "outputs": [
    {
     "name": "stdout",
     "output_type": "stream",
     "text": [
      "1 2 3 4 5 6 7 8 9 10 "
     ]
    }
   ],
   "source": [
    "for i in range(1,11):\n",
    "    print(i,end=\" \")"
   ]
  },
  {
   "cell_type": "code",
   "execution_count": 85,
   "id": "0c7689b4-afbc-455a-ab98-97cec6d2ef44",
   "metadata": {},
   "outputs": [
    {
     "name": "stdin",
     "output_type": "stream",
     "text": [
      "순환할 숫자를 입력하세요. 10\n"
     ]
    },
    {
     "name": "stdout",
     "output_type": "stream",
     "text": [
      "1 2 3 4 5 6 7 8 9 10 \n",
      "2 3 4 5 6 7 8 9 10 1 \n",
      "3 4 5 6 7 8 9 10 1 2 \n",
      "4 5 6 7 8 9 10 1 2 3 \n",
      "5 6 7 8 9 10 1 2 3 4 \n",
      "6 7 8 9 10 1 2 3 4 5 \n",
      "7 8 9 10 1 2 3 4 5 6 \n",
      "8 9 10 1 2 3 4 5 6 7 \n",
      "9 10 1 2 3 4 5 6 7 8 \n",
      "10 1 2 3 4 5 6 7 8 9 \n"
     ]
    }
   ],
   "source": [
    "n = int(input(\"순환할 숫자를 입력하세요.\"))\n",
    "e = [i for i in range(1,n+1)]\n",
    "\n",
    "for j in range(len(e)):\n",
    "    j = 0\n",
    "    for i in e:\n",
    "        print(i,end=\" \") \n",
    "    print()\n",
    "    e.append(e[j])  # 리스트.append( ) 맨 뒤에 요소 추가\n",
    "    e.remove(e[j])  # 리스트.remove( ) 리스트에 동일한 요소를 제거합니다. \n",
    "                    # 여럿인 경우 제일 먼저 발견된 요소를 삭제합니다."
   ]
  },
  {
   "cell_type": "code",
   "execution_count": 87,
   "id": "fd7c1997-9e9e-4549-8d4a-b22a106dfdcf",
   "metadata": {},
   "outputs": [
    {
     "name": "stdin",
     "output_type": "stream",
     "text": [
      "순환할 숫자를 입력하세요. 10\n"
     ]
    },
    {
     "name": "stdout",
     "output_type": "stream",
     "text": [
      "1 2 3 4 5 6 7 8 9 10 \n",
      "2 3 4 5 6 7 8 9 10 1 \n",
      "3 4 5 6 7 8 9 10 1 2 \n",
      "4 5 6 7 8 9 10 1 2 3 \n",
      "5 6 7 8 9 10 1 2 3 4 \n",
      "6 7 8 9 10 1 2 3 4 5 \n",
      "7 8 9 10 1 2 3 4 5 6 \n",
      "8 9 10 1 2 3 4 5 6 7 \n",
      "9 10 1 2 3 4 5 6 7 8 \n",
      "10 1 2 3 4 5 6 7 8 9 \n"
     ]
    }
   ],
   "source": [
    "# for j in range(1,11):\n",
    "#     for i in range(j,j+10):\n",
    "#         if i > 10: \n",
    "#             print(i-10,end=\" \")\n",
    "#         else:\n",
    "#             print(i,end=\" \")\n",
    "#     print()\n",
    "\n",
    "n = int(input(\"순환할 숫자를 입력하세요.\"))\n",
    "\n",
    "for j in range(1,n+1):\n",
    "    for i in range(j,j+n):\n",
    "        if i > n: \n",
    "            print(i-n,end=\" \")\n",
    "        else:\n",
    "            print(i,end=\" \")\n",
    "    print()"
   ]
  },
  {
   "cell_type": "code",
   "execution_count": 88,
   "id": "03af5b68-5560-4e3d-b122-ba272cbeea53",
   "metadata": {},
   "outputs": [
    {
     "name": "stdin",
     "output_type": "stream",
     "text": [
      "순환할 숫자를 입력하세요: 10\n"
     ]
    },
    {
     "name": "stdout",
     "output_type": "stream",
     "text": [
      "1 2 3 4 5 6 7 8 9 10 \n",
      "2 3 4 5 6 7 8 9 10 1 \n",
      "3 4 5 6 7 8 9 10 1 2 \n",
      "4 5 6 7 8 9 10 1 2 3 \n",
      "5 6 7 8 9 10 1 2 3 4 \n",
      "6 7 8 9 10 1 2 3 4 5 \n",
      "7 8 9 10 1 2 3 4 5 6 \n",
      "8 9 10 1 2 3 4 5 6 7 \n",
      "9 10 1 2 3 4 5 6 7 8 \n",
      "10 1 2 3 4 5 6 7 8 9 \n"
     ]
    }
   ],
   "source": [
    "#T\n",
    "num = int(input(\"순환할 숫자를 입력하세요:\"))\n",
    "# i => 1 ~ 입력한 숫자까지\n",
    "for i in range(1, num + 1):\n",
    "    for j in range(i, num + i):\n",
    "        if j % num == 0:\n",
    "            print(num, end=\" \")\n",
    "        else:\n",
    "            print(j % num, end=\" \")\n",
    "    print()"
   ]
  },
  {
   "cell_type": "markdown",
   "id": "2d0a1778-e55a-4a20-9ac6-8870af99de12",
   "metadata": {},
   "source": [
    "## 얕은복사\n",
    "\n",
    "- 주소값을 복사"
   ]
  },
  {
   "cell_type": "code",
   "execution_count": 127,
   "id": "0ac4377d-e31c-4890-b462-9a28026fcaba",
   "metadata": {},
   "outputs": [
    {
     "name": "stdout",
     "output_type": "stream",
     "text": [
      "[0, 1, 2, 3, 4, 5, 6, 7, 8, 9]\n",
      "[0, 1, 2, 3, 4, 5, 6, 7, 8, 9]\n"
     ]
    }
   ],
   "source": [
    "list_g = list(range(10))\n",
    "list_h = list_g.copy()\n",
    "\n",
    "print(list_g)\n",
    "print(list_h)"
   ]
  },
  {
   "cell_type": "code",
   "execution_count": 129,
   "id": "157bfed0-8098-4de4-ae0b-af2b87b654b5",
   "metadata": {},
   "outputs": [
    {
     "name": "stdout",
     "output_type": "stream",
     "text": [
      "[999, 1, 2, 3, 4, 5, 6, 7, 8, 9]\n"
     ]
    }
   ],
   "source": [
    "list_g[0] = 999\n",
    "print(list_g)"
   ]
  },
  {
   "cell_type": "code",
   "execution_count": 131,
   "id": "7b389b25-0166-4eb3-8422-5c9bf817198a",
   "metadata": {},
   "outputs": [
    {
     "name": "stdout",
     "output_type": "stream",
     "text": [
      "[[0], [0], [0]]\n",
      "[[999], [999], [999]]\n"
     ]
    }
   ],
   "source": [
    "list_i = [[0]]*3\n",
    "print(list_i)\n",
    "list_i[0][0] = 999  #얕은복사는 주소값을 복사해준다.\n",
    "print(list_i)"
   ]
  },
  {
   "cell_type": "code",
   "execution_count": 119,
   "id": "b0d2f45e-6305-4d22-af1e-010f6e68ddff",
   "metadata": {},
   "outputs": [
    {
     "name": "stdout",
     "output_type": "stream",
     "text": [
      "True\n",
      "True\n"
     ]
    }
   ],
   "source": [
    "print(list_i[0][0] is list_i[1][0])\n",
    "print(list_i[1][0] is list_i[2][0])"
   ]
  },
  {
   "cell_type": "code",
   "execution_count": 116,
   "id": "48ddf153-2a9a-49c7-8042-9ea1b30c11da",
   "metadata": {},
   "outputs": [
    {
     "name": "stdout",
     "output_type": "stream",
     "text": [
      "True\n"
     ]
    }
   ],
   "source": [
    "list_j = [[1,2], [3,4]]\n",
    "list_k = list_j[:]\n",
    "print(list_k[0] is list_j[0])"
   ]
  },
  {
   "cell_type": "code",
   "execution_count": 123,
   "id": "b2270b40-c0ca-422f-8727-230759e1545c",
   "metadata": {},
   "outputs": [
    {
     "name": "stdout",
     "output_type": "stream",
     "text": [
      "[[1, 4], [3, 4]]\n",
      "[[1, 4], [3, 4]]\n"
     ]
    }
   ],
   "source": [
    "list_j[0][1] = 2**2\n",
    "print(list_j)\n",
    "print(list_k)"
   ]
  },
  {
   "cell_type": "code",
   "execution_count": 143,
   "id": "60a1ecc6-645c-4cba-b22f-426ffe3e0ae5",
   "metadata": {},
   "outputs": [
    {
     "name": "stdout",
     "output_type": "stream",
     "text": [
      "True\n"
     ]
    }
   ],
   "source": [
    "list_l = [[5,6],[7,8]]\n",
    "list_m = list_l.copy()\n",
    "print(list_l[0] is list_m[0])"
   ]
  },
  {
   "cell_type": "code",
   "execution_count": 125,
   "id": "509d064d-7891-4630-ae04-1f2a6df96100",
   "metadata": {},
   "outputs": [
    {
     "name": "stdout",
     "output_type": "stream",
     "text": [
      "[[5, 999], [7, 8]]\n",
      "[[5, 999], [7, 8]]\n"
     ]
    }
   ],
   "source": [
    "list_l[0][1] = 999\n",
    "print(list_l)\n",
    "print(list_m)"
   ]
  },
  {
   "cell_type": "markdown",
   "id": "efd3c1aa-0ad3-48ae-a6f4-9e85e14771cb",
   "metadata": {},
   "source": [
    "## 깊은복사\n",
    "\n",
    "- 주소값을 복사하지 않고 새로운 값을 생성"
   ]
  },
  {
   "cell_type": "code",
   "execution_count": 168,
   "id": "bd6bbb61-f613-423a-80d4-797ed46168bb",
   "metadata": {},
   "outputs": [
    {
     "name": "stdout",
     "output_type": "stream",
     "text": [
      "False\n"
     ]
    }
   ],
   "source": [
    "import copy \n",
    "list_n = [[9,10],[11,12]]\n",
    "list_o = copy.deepcopy(list_n)\n",
    "print(list_n[0] is list_o[0])"
   ]
  },
  {
   "cell_type": "code",
   "execution_count": 139,
   "id": "b002a1a9-fefd-4f58-8b5d-6522f847aece",
   "metadata": {},
   "outputs": [
    {
     "name": "stdout",
     "output_type": "stream",
     "text": [
      "[[9, 10], [22, 12]]\n",
      "[[9, 10], [11, 12]]\n"
     ]
    }
   ],
   "source": [
    "list_n[1][0] = 22\n",
    "print(list_n)\n",
    "print(list_o) #주소값이 아니라 새로운 값을 생성했기 때문에 list_o는 바뀌지 않는다."
   ]
  },
  {
   "cell_type": "code",
   "execution_count": 181,
   "id": "ff9431a6-dcaf-454c-a3d6-5c3962c2f839",
   "metadata": {},
   "outputs": [
    {
     "name": "stdout",
     "output_type": "stream",
     "text": [
      "[0, 3, 6, 9]\n"
     ]
    }
   ],
   "source": [
    "list_p = [i for i in range(10) if i % 3 == 0] #list comprehension\n",
    "print(list_p)"
   ]
  },
  {
   "cell_type": "code",
   "execution_count": 180,
   "id": "86cc7a1e-2aa0-4135-a2c3-a6083ff8c1d8",
   "metadata": {},
   "outputs": [
    {
     "name": "stdout",
     "output_type": "stream",
     "text": [
      "1\n",
      "2\n",
      "3\n",
      "4\n",
      "5\n",
      "3\n",
      "4\n"
     ]
    }
   ],
   "source": [
    "#중첩 리스트\n",
    "easy_list = [[1,2,3,4,5],[3,4]]\n",
    "for item in easy_list:\n",
    "    for i in item:\n",
    "        print(i)"
   ]
  },
  {
   "cell_type": "code",
   "execution_count": 183,
   "id": "b96227e5-dd4a-4156-9f9b-80715a2df2e7",
   "metadata": {},
   "outputs": [
    {
     "name": "stdout",
     "output_type": "stream",
     "text": [
      "1\n",
      "2\n",
      "3\n",
      "4\n",
      "5\n",
      "3\n",
      "4\n"
     ]
    }
   ],
   "source": [
    "easy_list = [[1,2,3,4,5],[3,4]]\n",
    "i = 0\n",
    "\n",
    "while i < len(easy_list):\n",
    "    j = 0      # 여기서 초기화 해준다.\n",
    "    while j < len(easy_list[i]):\n",
    "        print(easy_list[i][j])\n",
    "        j += 1 # 여기부분에서 j가 len(easy_list[i])만큼 증가했기 때문에 위에 주석\n",
    "    i += 1"
   ]
  },
  {
   "cell_type": "code",
   "execution_count": 189,
   "id": "764440da-d30b-409e-bcf2-bdb5b7499582",
   "metadata": {},
   "outputs": [
    {
     "name": "stdout",
     "output_type": "stream",
     "text": [
      "<generator object <genexpr> at 0x000002089C031C80>\n",
      "<class 'generator'>\n",
      "(0, 1, 2, 3, 4, 5, 6, 7, 8, 9)\n"
     ]
    }
   ],
   "source": [
    "generator_variable = (_ for _ in range(10))\n",
    "print(generator_variable)\n",
    "print(type(generator_variable))\n",
    "\n",
    "generator_variable1 = tuple(_ for _ in range(10))\n",
    "print(generator_variable1)"
   ]
  },
  {
   "cell_type": "code",
   "execution_count": 194,
   "id": "62a6922d-d7d9-4fec-9e83-32db81a8c750",
   "metadata": {},
   "outputs": [
    {
     "name": "stdout",
     "output_type": "stream",
     "text": [
      "['alpha', 'bravo', 'delta', 'hotel', 'india']\n"
     ]
    }
   ],
   "source": [
    "a = ['alpha','bravo','charlie','delta','echo','foxtrot','golf','hotel','india']\n",
    "b = [i for i in a if len(i) == 5]\n",
    "print(b)"
   ]
  },
  {
   "cell_type": "code",
   "execution_count": 41,
   "id": "c8107367-00e1-420c-90ad-ae7f3af0a30c",
   "metadata": {},
   "outputs": [
    {
     "name": "stdin",
     "output_type": "stream",
     "text": [
      "정수 두 개 입력하세요 1 10\n"
     ]
    },
    {
     "name": "stdout",
     "output_type": "stream",
     "text": [
      "[2, 4, 8, 16, 32, 64, 128, 256, 512, 1024]\n",
      "[2, 8, 16, 32, 64, 128, 256, 1024]\n"
     ]
    }
   ],
   "source": [
    "num = list(map(int,(input(\"정수 두 개 입력하세요\").split(\" \"))))\n",
    "\n",
    "list_num1 = [2**i for i in range(num[0],num[len(num)-1]+1)]\n",
    "print(list_num1)\n",
    "list_num1.remove(list_num1[1])\n",
    "list_num1.remove(list_num1[len(list_num1)-2])\n",
    "print(list_num1)"
   ]
  },
  {
   "cell_type": "code",
   "execution_count": 53,
   "id": "c72ee171-af9e-4fa0-8c18-ee34282ffc35",
   "metadata": {},
   "outputs": [
    {
     "name": "stdin",
     "output_type": "stream",
     "text": [
      "정수 두 개 입력하세요 1 10\n"
     ]
    },
    {
     "name": "stdout",
     "output_type": "stream",
     "text": [
      "[2, 4, 8, 16, 32, 64, 128, 256, 512, 1024]\n",
      "[2, 8, 16, 32, 64, 128, 256, 1024]\n"
     ]
    }
   ],
   "source": [
    "num = list(map(int,(input(\"정수 두 개 입력하세요\").split(\" \"))))\n",
    "\n",
    "if num[0] > 20:\n",
    "    print(\"첫번째 값의 범위는 1~20입니다.\")\n",
    "elif num[1] > 30 or num[1] < 10:\n",
    "    print(\"두번째 값의 범위는 10~30입니다.\")\n",
    "elif num[0] > num[1]:\n",
    "    print(\"첫 번째 입력 값은 두 번째 입력 값보다 작게 입력하세요.\")\n",
    "else:\n",
    "    list_num1 = [2**i for i in range(num[0],num[len(num)-1]+1)]\n",
    "    print(list_num1)\n",
    "    list_num2 = list_num1\n",
    "    list_num2.remove(list_num1[1])\n",
    "    list_num2.remove(list_num1[-2])\n",
    "    print(list_num2)"
   ]
  },
  {
   "cell_type": "code",
   "execution_count": 65,
   "id": "7155cfd8-32b2-465c-bc25-921882f27ffd",
   "metadata": {},
   "outputs": [
    {
     "name": "stdout",
     "output_type": "stream",
     "text": [
      "[1, 4, 9, 16, 25, 36, 49, 64, 81, 100, 121, 144, 169, 196, 225, 256, 289, 324, 361, 400, 441, 484, 529, 576, 625, 676, 729, 784, 841, 900, 961, 1024, 1089, 1156, 1225, 1296, 1369, 1444, 1521, 1600, 1681, 1764, 1849, 1936, 2025, 2116, 2209, 2304, 2401, 2500, 2601, 2704, 2809, 2916, 3025, 3136, 3249, 3364, 3481, 3600, 3721, 3844, 3969, 4096, 4225, 4356, 4489, 4624, 4761, 4900, 5041, 5184, 5329, 5476, 5625, 5776, 5929, 6084, 6241, 6400, 6561, 6724, 6889, 7056, 7225, 7396, 7569, 7744, 7921, 8100, 8281, 8464, 8649, 8836, 9025, 9216, 9409, 9604, 9801, 10000]\n"
     ]
    }
   ],
   "source": [
    "n = [i**2 for i in range(1,101)]\n",
    "print(n)"
   ]
  },
  {
   "cell_type": "code",
   "execution_count": 106,
   "id": "ea1d02ac-f8b4-4811-942b-83a2875d9365",
   "metadata": {},
   "outputs": [
    {
     "name": "stdout",
     "output_type": "stream",
     "text": [
      "\n",
      "- 1 + 4 - 9 + 16 - 25 + 36 - 49 + 64 - 81 + 100 \n",
      "- 121 + 144 - 169 + 196 - 225 + 256 - 289 + 324 - 361 + 400 \n",
      "- 441 + 484 - 529 + 576 - 625 + 676 - 729 + 784 - 841 + 900 \n",
      "- 961 + 1024 - 1089 + 1156 - 1225 + 1296 - 1369 + 1444 - 1521 + 1600 \n",
      "- 1681 + 1764 - 1849 + 1936 - 2025 + 2116 - 2209 + 2304 - 2401 + 2500 \n",
      "- 2601 + 2704 - 2809 + 2916 - 3025 + 3136 - 3249 + 3364 - 3481 + 3600 \n",
      "- 3721 + 3844 - 3969 + 4096 - 4225 + 4356 - 4489 + 4624 - 4761 + 4900 \n",
      "- 5041 + 5184 - 5329 + 5476 - 5625 + 5776 - 5929 + 6084 - 6241 + 6400 \n",
      "- 6561 + 6724 - 6889 + 7056 - 7225 + 7396 - 7569 + 7744 - 7921 + 8100 \n",
      "- 8281 + 8464 - 8649 + 8836 - 9025 + 9216 - 9409 + 9604 - 9801 + 10000 \n",
      "= 5050 입니다.\n"
     ]
    }
   ],
   "source": [
    "total = 0\n",
    "\n",
    "for j in range(1,101):\n",
    "    if j % 10 == 1:\n",
    "        print()\n",
    "    if j % 2 == 1:\n",
    "        print(\"-\",j**2,end=\" \")\n",
    "        total -= j**2\n",
    "    else:\n",
    "        print(\"+\",j**2,end=\" \")\n",
    "        total += j**2\n",
    "print()\n",
    "print(\"=\",total,\"입니다.\")"
   ]
  },
  {
   "cell_type": "code",
   "execution_count": 107,
   "id": "4b7e0139-69c9-4190-a15e-5df81edada69",
   "metadata": {},
   "outputs": [
    {
     "name": "stdout",
     "output_type": "stream",
     "text": [
      "\n",
      "- 1 + 4 - 9 + 16 - 25 + 36 - 49 + 64 - 81 + 100 \n",
      "- 121 + 144 - 169 + 196 - 225 + 256 - 289 + 324 - 361 + 400 \n",
      "- 441 + 484 - 529 + 576 - 625 + 676 - 729 + 784 - 841 + 900 \n",
      "- 961 + 1024 - 1089 + 1156 - 1225 + 1296 - 1369 + 1444 - 1521 + 1600 \n",
      "- 1681 + 1764 - 1849 + 1936 - 2025 + 2116 - 2209 + 2304 - 2401 + 2500 \n",
      "- 2601 + 2704 - 2809 + 2916 - 3025 + 3136 - 3249 + 3364 - 3481 + 3600 \n",
      "- 3721 + 3844 - 3969 + 4096 - 4225 + 4356 - 4489 + 4624 - 4761 + 4900 \n",
      "- 5041 + 5184 - 5329 + 5476 - 5625 + 5776 - 5929 + 6084 - 6241 + 6400 \n",
      "- 6561 + 6724 - 6889 + 7056 - 7225 + 7396 - 7569 + 7744 - 7921 + 8100 \n",
      "- 8281 + 8464 - 8649 + 8836 - 9025 + 9216 - 9409 + 9604 - 9801 + 10000 \n",
      "= 5050 입니다.\n"
     ]
    }
   ],
   "source": [
    "total = 0\n",
    "i = 1\n",
    "\n",
    "while i < 101:\n",
    "    if i % 10 == 1:\n",
    "        print()\n",
    "    if i % 2 == 1:\n",
    "        print(\"-\",i**2,end=\" \")\n",
    "        total -= i**2\n",
    "    else:\n",
    "        print(\"+\",i**2,end=\" \")\n",
    "        total += i**2\n",
    "    i += 1\n",
    "print()\n",
    "print(\"=\",total,\"입니다.\")"
   ]
  }
 ],
 "metadata": {
  "kernelspec": {
   "display_name": "Python 3 (ipykernel)",
   "language": "python",
   "name": "python3"
  },
  "language_info": {
   "codemirror_mode": {
    "name": "ipython",
    "version": 3
   },
   "file_extension": ".py",
   "mimetype": "text/x-python",
   "name": "python",
   "nbconvert_exporter": "python",
   "pygments_lexer": "ipython3",
   "version": "3.9.13"
  }
 },
 "nbformat": 4,
 "nbformat_minor": 5
}
