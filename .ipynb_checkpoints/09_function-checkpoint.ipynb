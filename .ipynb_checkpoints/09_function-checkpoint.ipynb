{
 "cells": [
  {
   "cell_type": "code",
   "execution_count": 1,
   "id": "2dee923c-20c2-4f22-a905-bff38e1543ea",
   "metadata": {},
   "outputs": [
    {
     "name": "stdout",
     "output_type": "stream",
     "text": [
      "list_strs = ['a', 'b', 'c', 'd', 'e', 'f', 'g', 'h', 'i', 'j', 'k', 'l', 'm', 'n', 'o', 'p', 'q', 'r', 's', 't', 'u', 'v', 'w', 'x', 'y', 'z']\n",
      "\n",
      " whole_str = a*b*c*d*e*f*g*h*i*j*k*l*m*n*o*p*q*r*s*t*u*v*w*x*y*z\n"
     ]
    }
   ],
   "source": [
    "list_strs = [_ for _ in \"abcdefghijklmnopqrstuvwxyz\"]\n",
    "print(f\"list_strs = {list_strs}\")\n",
    "\n",
    "# str.join(list)\n",
    "# str 요소들로 이뤄진 list를 합쳐 하나의 문자열로 만듭니다.\n",
    "whole_str = \"*\".join(list_strs)\n",
    "print(f\"\\n whole_str = {whole_str}\")"
   ]
  },
  {
   "cell_type": "code",
   "execution_count": 59,
   "id": "2113d402-cafa-47ab-9f47-c7a9c030fba1",
   "metadata": {},
   "outputs": [
    {
     "name": "stdout",
     "output_type": "stream",
     "text": [
      "['50', '75', '88', '70', '80', '78', '78']\n",
      "50, 75, 88, 70, 80, 78, 78\n"
     ]
    }
   ],
   "source": [
    "a = [50, 75, 88, 70, 80, 78, 78]\n",
    "b_str = []\n",
    "\n",
    "for i in a:                  # for문 == b_str = map(str,a)\n",
    "    b_str.append(str(i))\n",
    "\n",
    "\n",
    "print(b_str)\n",
    "\n",
    "w_str = \", \".join(b_str)\n",
    "print(w_str)"
   ]
  },
  {
   "cell_type": "code",
   "execution_count": 55,
   "id": "dae3e9e4-1ebd-44a7-b726-5ae93d837f54",
   "metadata": {},
   "outputs": [
    {
     "name": "stdin",
     "output_type": "stream",
     "text": [
      "숫자를 입력하세요. 50\n"
     ]
    },
    {
     "name": "stdout",
     "output_type": "stream",
     "text": [
      "그보다 작습니다.\n"
     ]
    },
    {
     "name": "stdin",
     "output_type": "stream",
     "text": [
      "숫자를 입력하세요. 10\n"
     ]
    },
    {
     "name": "stdout",
     "output_type": "stream",
     "text": [
      "그보다 큽니다.\n"
     ]
    },
    {
     "name": "stdin",
     "output_type": "stream",
     "text": [
      "숫자를 입력하세요. 30\n"
     ]
    },
    {
     "name": "stdout",
     "output_type": "stream",
     "text": [
      "그보다 작습니다.\n"
     ]
    },
    {
     "name": "stdin",
     "output_type": "stream",
     "text": [
      "숫자를 입력하세요. 20\n"
     ]
    },
    {
     "name": "stdout",
     "output_type": "stream",
     "text": [
      "그보다 큽니다.\n"
     ]
    },
    {
     "name": "stdin",
     "output_type": "stream",
     "text": [
      "숫자를 입력하세요. 25\n"
     ]
    },
    {
     "name": "stdout",
     "output_type": "stream",
     "text": [
      "그보다 작습니다.\n"
     ]
    },
    {
     "name": "stdin",
     "output_type": "stream",
     "text": [
      "숫자를 입력하세요. 23\n"
     ]
    },
    {
     "name": "stdout",
     "output_type": "stream",
     "text": [
      "그보다 작습니다.\n"
     ]
    },
    {
     "name": "stdin",
     "output_type": "stream",
     "text": [
      "숫자를 입력하세요. 22\n"
     ]
    },
    {
     "name": "stdout",
     "output_type": "stream",
     "text": [
      "맞췄습니다\n",
      "8번 만에 맞추셨습니다.\n",
      "입력한 숫자는 다음과 같습니다.50, 10, 30, 20, 25, 23, 22, 22\n"
     ]
    }
   ],
   "source": [
    "import random\n",
    "random_list = [random.randint(1,100) for _ in range(1)]\n",
    "\n",
    "num = int(input(\"숫자를 입력하세요.\"))\n",
    "\n",
    "count = 1\n",
    "num_list = []\n",
    "num_list.append(num)\n",
    "\n",
    "while num != random_list:\n",
    "    if num > 100 or num < 1:\n",
    "        print(\"1~100까지의 숫자를 입력하세요.\")\n",
    "        num = int(input(\"숫자를 입력하세요.\"))\n",
    "        count += 1\n",
    "        num_list.append(num)\n",
    "    elif num > random_list[0]:\n",
    "        print(\"그보다 작습니다.\")\n",
    "        num = int(input(\"숫자를 입력하세요.\"))\n",
    "        count += 1\n",
    "        num_list.append(num)\n",
    "    elif num < random_list[0]:\n",
    "        print(\"그보다 큽니다.\")\n",
    "        num = int(input(\"숫자를 입력하세요.\"))\n",
    "        count += 1\n",
    "        num_list.append(num)\n",
    "    else:\n",
    "        print(\"맞췄습니다\")\n",
    "        count += 1\n",
    "        num_list.append(num)\n",
    "        break\n",
    "\n",
    "a_str = map(str, num_list)\n",
    "w_str = \", \".join(a_str)\n",
    "\n",
    "print(f\"{count}번 만에 맞추셨습니다.\")\n",
    "print(f\"입력한 숫자는 다음과 같습니다.{w_str}\")"
   ]
  },
  {
   "cell_type": "code",
   "execution_count": 171,
   "id": "031bc341-985c-4418-b24f-01340fff722a",
   "metadata": {},
   "outputs": [
    {
     "name": "stdin",
     "output_type": "stream",
     "text": [
      "숫자를 하나 입력하세요:  50\n"
     ]
    },
    {
     "name": "stdout",
     "output_type": "stream",
     "text": [
      "그보다 작습니다\n"
     ]
    },
    {
     "name": "stdin",
     "output_type": "stream",
     "text": [
      "숫자를 하나 입력하세요:  25\n"
     ]
    },
    {
     "name": "stdout",
     "output_type": "stream",
     "text": [
      "그보다 큽니다\n"
     ]
    },
    {
     "name": "stdin",
     "output_type": "stream",
     "text": [
      "숫자를 하나 입력하세요:  37\n"
     ]
    },
    {
     "name": "stdout",
     "output_type": "stream",
     "text": [
      "그보다 작습니다\n"
     ]
    },
    {
     "name": "stdin",
     "output_type": "stream",
     "text": [
      "숫자를 하나 입력하세요:  30\n"
     ]
    },
    {
     "name": "stdout",
     "output_type": "stream",
     "text": [
      "그보다 작습니다\n"
     ]
    },
    {
     "name": "stdin",
     "output_type": "stream",
     "text": [
      "숫자를 하나 입력하세요:  28\n"
     ]
    },
    {
     "name": "stdout",
     "output_type": "stream",
     "text": [
      "그보다 작습니다\n"
     ]
    },
    {
     "name": "stdin",
     "output_type": "stream",
     "text": [
      "숫자를 하나 입력하세요:  26\n"
     ]
    },
    {
     "name": "stdout",
     "output_type": "stream",
     "text": [
      "맞췄습니다!\n",
      "6번 만에 맞추셨습니다.\n",
      "입력한 숫자는 다음과 같습니다. 50,25,37,30,28,26\n"
     ]
    }
   ],
   "source": [
    "import random\n",
    "random_n = random.randint(1, 101)\n",
    "input_values = []\n",
    "while True :\n",
    "    input_values.append(input(\"숫자를 하나 입력하세요: \"))\n",
    "    i = int(input_values[-1])\n",
    "    if i > 100 or i < 1 :\n",
    "        print(\"1 ~ 100 사이의 숫자를 입력하세요.\")\n",
    "    elif random_n > i :\n",
    "        print(\"그보다 큽니다\")\n",
    "    elif random_n < i:\n",
    "        print(\"그보다 작습니다\")\n",
    "    else:\n",
    "        print(\"맞췄습니다!\")\n",
    "        break\n",
    "print(len(input_values), \"번 만에 맞추셨습니다.\", sep=\"\")\n",
    "print(\"입력한 숫자는 다음과 같습니다.\", \",\" .join(input_values))"
   ]
  },
  {
   "cell_type": "code",
   "execution_count": 111,
   "id": "87e70e3c-5ccb-469e-998c-e24b9ba8a9c0",
   "metadata": {},
   "outputs": [],
   "source": [
    "def to_celsius(fahrenheit):\n",
    "    \"\"\"\n",
    "    화씨 온도를 섭씨 온도로 변경하는 함수\n",
    "    \"\"\"\n",
    "    return (fahrenheit - 32) * 5 / 9"
   ]
  },
  {
   "cell_type": "code",
   "execution_count": 115,
   "id": "029aa58f-edf9-4f95-97ac-87b6247706c7",
   "metadata": {},
   "outputs": [
    {
     "name": "stdout",
     "output_type": "stream",
     "text": [
      "반환값: 21.11111111111111\n"
     ]
    }
   ],
   "source": [
    "print(f\"반환값: {to_celsius(70)}\")"
   ]
  },
  {
   "cell_type": "code",
   "execution_count": 19,
   "id": "c6a83ed1-ef2a-4750-ac8c-45206a62612b",
   "metadata": {},
   "outputs": [],
   "source": [
    "def odd_even(num):\n",
    "    \"\"\"number가 짝수면 \"짝수\", 홀수면 \"홀수\" 반환\"\"\"\n",
    "    if type(num) is int:\n",
    "        if num > 0:\n",
    "            if num % 2 == 0:\n",
    "                return \"짝수\"\n",
    "            elif num % 2 == 1:\n",
    "                return \"홀수\"\n",
    "        else:\n",
    "            return\n",
    "    else:\n",
    "        return"
   ]
  },
  {
   "cell_type": "code",
   "execution_count": 23,
   "id": "10dfcaae-90ba-4e32-9217-b697142abdec",
   "metadata": {},
   "outputs": [
    {
     "name": "stdout",
     "output_type": "stream",
     "text": [
      "number가 짝수면 \"짝수\", 홀수면 \"홀수\" 반환\n",
      "짝수\n",
      "홀수\n",
      "None\n",
      "None\n",
      "None\n"
     ]
    }
   ],
   "source": [
    "print(odd_even.__doc__)\n",
    "print(odd_even(10))\n",
    "print(odd_even(9))\n",
    "print(odd_even(0))\n",
    "print(odd_even(-1))\n",
    "print(odd_even(\"가\"))"
   ]
  },
  {
   "cell_type": "code",
   "execution_count": 29,
   "id": "7f4c1bcd-36ce-4158-a31d-1206cb6c846d",
   "metadata": {},
   "outputs": [],
   "source": [
    "def odd_even2(num):\n",
    "    \"\"\"number가 짝수면 \"짝수\", 홀수면 \"홀수\" 반환\"\"\"\n",
    "    if type(num) is int and num > 0:\n",
    "        return \"짝수\" * (num % 2 == 0) or \"홀수\" # 조건식이 True면 1 False면 0으로 반환해준다.\n",
    "                                                # or은 앞에 조건이 참이면 뒤에는 안보고 패스\n",
    "    else:\n",
    "        return"
   ]
  },
  {
   "cell_type": "code",
   "execution_count": 30,
   "id": "bfec8a43-c074-46a4-9413-c3cd4951394e",
   "metadata": {},
   "outputs": [
    {
     "name": "stdout",
     "output_type": "stream",
     "text": [
      "number가 짝수면 \"짝수\", 홀수면 \"홀수\" 반환\n",
      "짝수\n",
      "홀수\n",
      "None\n",
      "None\n",
      "None\n"
     ]
    }
   ],
   "source": [
    "print(odd_even2.__doc__)\n",
    "print(odd_even2(10))\n",
    "print(odd_even2(9))\n",
    "print(odd_even2(0))\n",
    "print(odd_even2(-1))\n",
    "print(odd_even2(\"가\"))"
   ]
  },
  {
   "cell_type": "code",
   "execution_count": 38,
   "id": "3fb80bf0-bee8-4a4d-ad12-e743cb414dad",
   "metadata": {},
   "outputs": [],
   "source": [
    "def check_leap_year(year):\n",
    "    \"\"\"윤년과 평년을 반환해주는 함수입니다.\"\"\"\n",
    "    if year % 100 == 0 and year % 400 != 0:\n",
    "        return \"평년\"\n",
    "    elif year % 4 == 0:\n",
    "        return \"윤년\"\n",
    "    else:\n",
    "        return \"평년\""
   ]
  },
  {
   "cell_type": "code",
   "execution_count": 45,
   "id": "a9d002ca-067e-4092-bd0d-831f53ef8f8d",
   "metadata": {},
   "outputs": [
    {
     "name": "stdout",
     "output_type": "stream",
     "text": [
      "윤년\n",
      "윤년\n",
      "평년\n",
      "평년\n"
     ]
    }
   ],
   "source": [
    "print(check_leap_year(2004))\n",
    "print(check_leap_year(2000))\n",
    "print(check_leap_year(1900))\n",
    "print(check_leap_year(1901))"
   ]
  },
  {
   "cell_type": "code",
   "execution_count": 126,
   "id": "0c0a26bc-bbd4-4de0-839d-554e02df01d9",
   "metadata": {},
   "outputs": [],
   "source": [
    "def days(month):\n",
    "    if month in [1, 3, 5, 7, 8, 10, 12]:\n",
    "        return 31\n",
    "    elif month in [4, 6, 9, 11]:\n",
    "        return 30\n",
    "    elif month == 2:\n",
    "        return 28"
   ]
  },
  {
   "cell_type": "code",
   "execution_count": 127,
   "id": "3c39cf0b-771f-4295-bc38-9f1f7cfd6af9",
   "metadata": {},
   "outputs": [
    {
     "name": "stdout",
     "output_type": "stream",
     "text": [
      "30\n",
      "28\n",
      "31\n"
     ]
    }
   ],
   "source": [
    "print(days(11))\n",
    "print(days(2))\n",
    "print(days(1))"
   ]
  },
  {
   "cell_type": "code",
   "execution_count": 143,
   "id": "875b2883-1217-4c2d-95fa-94ce1375d061",
   "metadata": {},
   "outputs": [],
   "source": [
    "def check_year_day(year, month):\n",
    "    if month in [1, 3, 5, 7, 8, 10, 12]:\n",
    "        return 31\n",
    "    elif month in [4, 6, 9, 11]:\n",
    "        return 30\n",
    "    if year % 4 == 0 and (year % 100 != 0 or year % 400 == 0):\n",
    "        if month == 2:\n",
    "            return 29\n",
    "    else:\n",
    "        if month == 2:\n",
    "            return 28"
   ]
  },
  {
   "cell_type": "code",
   "execution_count": 144,
   "id": "a6279af2-0aee-4646-b7d0-53816ea816fe",
   "metadata": {},
   "outputs": [
    {
     "name": "stdout",
     "output_type": "stream",
     "text": [
      "30\n",
      "31\n",
      "28\n",
      "29\n"
     ]
    }
   ],
   "source": [
    "print(check_year_day(1900, 11))\n",
    "print(check_year_day(2004, 10))\n",
    "print(check_year_day(1900, 2))\n",
    "print(check_year_day(2000, 2))"
   ]
  },
  {
   "cell_type": "code",
   "execution_count": 146,
   "id": "aea1f099-7f13-412c-b5b6-09eda4e2e730",
   "metadata": {},
   "outputs": [],
   "source": [
    "x = 10\n",
    "y = 3\n",
    "def get_quotiont_remainder(f_num,s_num):\n",
    "    return (f_num // s_num),(f_num % s_num)"
   ]
  },
  {
   "cell_type": "code",
   "execution_count": 149,
   "id": "85f7ce59-3fba-473b-acdf-fd219e39bc7a",
   "metadata": {},
   "outputs": [
    {
     "name": "stdout",
     "output_type": "stream",
     "text": [
      "목: 3, 나머지: 1\n"
     ]
    }
   ],
   "source": [
    "quotiont,remainder = get_quotiont_remainder(x,y)\n",
    "print(f\"목: {quotiont}, 나머지: {remainder}\")"
   ]
  },
  {
   "cell_type": "code",
   "execution_count": 167,
   "id": "ec7b7836-c7c3-4698-83b2-caf7413660e6",
   "metadata": {},
   "outputs": [
    {
     "name": "stdout",
     "output_type": "stream",
     "text": [
      "global 키워드 활용해서 변경 완료\n"
     ]
    }
   ],
   "source": [
    "global_variable = \"변경이 됩니까?\" # 전역변수\n",
    "\n",
    "def heartbreaker():\n",
    "    global global_variable # 함수 밖의 변수를 함수 안에서 변경하기 위해 global 키워드를 활용\n",
    "    global_variable = \"global 키워드 활용해서 변경 완료\"\n",
    "    \n",
    "heartbreaker()\n",
    "print(global_variable)"
   ]
  },
  {
   "cell_type": "code",
   "execution_count": 169,
   "id": "e32dba4b-a7e0-4d55-aa24-1ecc08cea612",
   "metadata": {},
   "outputs": [],
   "source": [
    "def level1():\n",
    "    message = \"This is level 1.\"\n",
    "    def level2():\n",
    "        nonlocal message # nonlocal 키워드를 통해 바깥 영역의 변수를 사용\n",
    "        message = \"level2 is better than level 1.\"\n",
    "    level2()\n",
    "    print(message)    "
   ]
  },
  {
   "cell_type": "code",
   "execution_count": 170,
   "id": "5254cc53-8c24-4882-a1b0-5da3589e6825",
   "metadata": {},
   "outputs": [
    {
     "name": "stdout",
     "output_type": "stream",
     "text": [
      "level2 is better than level 1.\n"
     ]
    }
   ],
   "source": [
    "level1()"
   ]
  },
  {
   "cell_type": "markdown",
   "id": "5ce3d9d0-9d8c-4833-86be-4d230694c44b",
   "metadata": {},
   "source": [
    "- global 키워드는 함수의 중첩된 정도와 상환없이 전역 범위의 변수를 매칭합니다.\n",
    "\n",
    "- 중첩된 함수마다 같은 이름의 변수가 있다면 nonlocal 키워드는 제일 가까운 바깥 변수를 매칭합니다.\n",
    "\n",
    "- 가급적이면 함수마다 이름이 같은 변수를 사용하기 보단 다른 변수명을 사용하는게 좋습니다."
   ]
  },
  {
   "cell_type": "markdown",
   "id": "aa4e94b8-60da-443c-95ba-e4c2079f1744",
   "metadata": {},
   "source": [
    "## 변수 범위 정리 \n",
    "\n",
    "- 함수 안에서 선언한 변수는 함수를 호출해 실행되는 동안만 사용할 수 있습니다.\n",
    "\n",
    "- 범위마다 같은 이름의 변수를 사용해도 각각 독립적으로 동작합니다.\n",
    "\n",
    "- 지역 변수를 저장하는 이름 공간을 지역 영역이라고 합니다.\n",
    "\n",
    "- 전역 변수를 저장하는 이름 공간을 전역 영역이라고 합니다\n",
    "\n",
    "- 파이썬 자체에서 정의한 이름공간을 내장 영역이라고 합니다.\n",
    "\n",
    "- 함수에서 변수를 호출하면 지역 영역 -> 전역 영역 -> 내장 영역 순으로 해당하는 변수를 확인합니다."
   ]
  },
  {
   "cell_type": "code",
   "execution_count": 180,
   "id": "a06f25c7-45e8-467a-9126-f8fff62c540f",
   "metadata": {},
   "outputs": [
    {
     "name": "stdout",
     "output_type": "stream",
     "text": [
      "전역 변수입니다.\n"
     ]
    }
   ],
   "source": [
    "# 지역 범위(Local scope) 전역 변수(global variable)에 접근 출력(변경 없음)\n",
    "global_v = \"전역 변수입니다.\"\n",
    "\n",
    "def local_scope():\n",
    "    print(global_v)\n",
    "\n",
    "local_scope()"
   ]
  },
  {
   "cell_type": "code",
   "execution_count": 181,
   "id": "516d137e-c453-4e73-9004-412b667259cd",
   "metadata": {},
   "outputs": [
    {
     "name": "stdout",
     "output_type": "stream",
     "text": [
      "전역 변수입니다.\n"
     ]
    }
   ],
   "source": [
    "# 지역 범위(Local scope) 전역 변수(global variable)에 접근 후 재할당\n",
    "global_v2 = \"전역 변수입니다.\"\n",
    "\n",
    "def local_scope2():\n",
    "    global_v2 = \"지역 범위입니다.\"\n",
    "\n",
    "local_scope2()\n",
    "print(global_v2)\n",
    "# 사실은 전역 범위에서 global_v2를 만들어 할당한 것과 \n",
    "# 로컬 범위에서 global_v2를 만들어 할당한 것 \n",
    "# 두가지 일을 각각 독립적으로 실행한 결과를 확인했다."
   ]
  },
  {
   "cell_type": "code",
   "execution_count": 182,
   "id": "6e55c423-1c9a-4cb0-aff3-5336ff7d8733",
   "metadata": {},
   "outputs": [
    {
     "name": "stdout",
     "output_type": "stream",
     "text": [
      "지역 범위입니다.\n"
     ]
    }
   ],
   "source": [
    "# 지역 범위(Local scope) 전역 변수(global variable)에 접근 후 재할당\n",
    "global_v3 = \"전역 변수입니다.\"\n",
    "\n",
    "def local_scope3():\n",
    "    global global_v3 # 전역 범위에 있는 전역 변수인 global_v3를 사용하겠다.\n",
    "    global_v3 = \"지역 범위입니다.\"\n",
    "\n",
    "local_scope3()\n",
    "print(global_v3)\n",
    "\n",
    "# global 키워드를 활용하면 지역 범위에 있어도\n",
    "# 전역 변수에 대한 변경이 가능하도록 할 수 있었다."
   ]
  },
  {
   "cell_type": "code",
   "execution_count": 187,
   "id": "ff27e2cf-9008-4393-8c73-f2d6e64a80db",
   "metadata": {},
   "outputs": [
    {
     "name": "stdout",
     "output_type": "stream",
     "text": [
      "바깥 지역 범위입니다.\n"
     ]
    }
   ],
   "source": [
    "# 지역 범위Local scope) 안에 지역 범위가 중첩되어 있을경우\n",
    "# 비교적 바깥에 있는 지역 범위의 지역 변수에 접근하여 출력\n",
    "global_v4 = \"전역 변수입니다.\"\n",
    "\n",
    "def local_scope4():\n",
    "    global_v4 = \"바깥 지역 범위입니다.\"\n",
    "    def local_scope5():\n",
    "        print(global_v4)\n",
    "    local_scope5()\n",
    "    \n",
    "    \n",
    "local_scope4()"
   ]
  },
  {
   "cell_type": "code",
   "execution_count": 190,
   "id": "01e1eaf2-e7ea-4bb2-8513-47883801c213",
   "metadata": {},
   "outputs": [
    {
     "name": "stdout",
     "output_type": "stream",
     "text": [
      "바깥 지역 범위입니다.\n"
     ]
    }
   ],
   "source": [
    "# 지역 범위Local scope) 안에 지역 범위가 중첩되어 있을경우\n",
    "# 비교적 바깥에 있는 지역 범위의 지역 변수에 접근하여 출력\n",
    "\n",
    "def local_scope6():\n",
    "    global_v5 = \"바깥 지역 범위입니다.\" \n",
    "    def local_scope7():\n",
    "        global_v5 = \"안쪽 지역 범위입니다.\"\n",
    "    local_scope7()\n",
    "    print(global_v5)\n",
    "    \n",
    "    \n",
    "local_scope6()\n",
    "\n",
    "# 그래서 Local_scope6 범위의 global_v5는\n",
    "# Local_scope7 범위의 global_v5와 각각 독립적으로 생성이 된 것을 봤다."
   ]
  },
  {
   "cell_type": "code",
   "execution_count": 194,
   "id": "ac212a33-a0ff-4f90-90dd-21bb39283560",
   "metadata": {},
   "outputs": [
    {
     "name": "stdout",
     "output_type": "stream",
     "text": [
      "안쪽 지역 범위입니다.\n"
     ]
    }
   ],
   "source": [
    "# 지역 범위Local scope) 안에 지역 범위가 중첩되어 있을경우\n",
    "# 비교적 바깥에 있는 지역 범위의 지역 변수에 접근하여 출력\n",
    "\n",
    "def local_scope8():\n",
    "    global_v6 = \"바깥 지역 범위입니다.\" \n",
    "    def local_scope9():\n",
    "        nonlocal global_v6\n",
    "        global_v6 = \"안쪽 지역 범위입니다.\"\n",
    "    local_scope9()\n",
    "    print(global_v6)\n",
    "    \n",
    "    \n",
    "local_scope8()\n",
    "\n",
    "# 그래서 Local_scope6 범위의 global_v5는\n",
    "# Local_scope7 범위의 global_v5와 각각 독립적으로 생성이 된 것을 봤다."
   ]
  },
  {
   "cell_type": "markdown",
   "id": "6dbf710d-8024-4e2f-9a36-12453eab09dc",
   "metadata": {},
   "source": [
    "람다표현식 > lambda [ parameters : expression ]\n",
    "\n",
    "일반 함수 정의절 > def func_name(parameters):\n",
    "                    return expression\n"
   ]
  },
  {
   "cell_type": "code",
   "execution_count": 196,
   "id": "004dc639-cd02-457c-96c5-148d7ba36165",
   "metadata": {},
   "outputs": [
    {
     "data": {
      "text/plain": [
       "20"
      ]
     },
     "execution_count": 196,
     "metadata": {},
     "output_type": "execute_result"
    }
   ],
   "source": [
    "# 람다사용방법\n",
    "(lambda x: x +10)(10)"
   ]
  },
  {
   "cell_type": "code",
   "execution_count": 197,
   "id": "c77021ac-46f6-43c0-8748-37fd5f0f84da",
   "metadata": {},
   "outputs": [
    {
     "name": "stdout",
     "output_type": "stream",
     "text": [
      "20\n"
     ]
    }
   ],
   "source": [
    "twice = lambda x: x*2\n",
    "print(twice(10))"
   ]
  },
  {
   "cell_type": "code",
   "execution_count": 200,
   "id": "28361679-0e0b-4898-8bfc-2f931d2ebf3c",
   "metadata": {},
   "outputs": [
    {
     "ename": "SyntaxError",
     "evalue": "invalid syntax (1092054224.py, line 1)",
     "output_type": "error",
     "traceback": [
      "\u001b[1;36m  File \u001b[1;32m\"C:\\Users\\Playdata\\AppData\\Local\\Temp\\ipykernel_7580\\1092054224.py\"\u001b[1;36m, line \u001b[1;32m1\u001b[0m\n\u001b[1;33m    (lambda x: y=10, x + y)(1)\u001b[0m\n\u001b[1;37m                ^\u001b[0m\n\u001b[1;31mSyntaxError\u001b[0m\u001b[1;31m:\u001b[0m invalid syntax\n"
     ]
    }
   ],
   "source": [
    "(lambda x: y=10, x + y)(1)\n",
    "# 새 변수를 만들 수 없고 한 줄로만 표현해야한다.\n",
    "# 길게 써야한다면 def를 써서 함수 정의 할 것"
   ]
  },
  {
   "cell_type": "code",
   "execution_count": 201,
   "id": "09eb19e4-4e2e-4521-95a2-c76691482cd7",
   "metadata": {},
   "outputs": [
    {
     "data": {
      "text/plain": [
       "'B'"
      ]
     },
     "execution_count": 201,
     "metadata": {},
     "output_type": "execute_result"
    }
   ],
   "source": [
    "score = 90\n",
    "\"A\" if 90 < score <= 100 else \"B\" if 80 < score else \"C\""
   ]
  },
  {
   "cell_type": "code",
   "execution_count": 206,
   "id": "4952dc6d-44a5-4c5f-85f2-cd9fba79e012",
   "metadata": {},
   "outputs": [
    {
     "name": "stdout",
     "output_type": "stream",
     "text": [
      "[2, 4, 6, 8, 10]\n",
      "[2, 8, 18, 32, 50]\n"
     ]
    }
   ],
   "source": [
    "a = [_ for _ in range(1,6)]     # 1,2,3,4,5\n",
    "b = [_ for _ in range(2,11,2)]  # 2,4,6,8,10\n",
    "\n",
    "print(list(map(lambda x: x * 2, a)))\n",
    "print(list(map(lambda x, y: x * y, a, b)))"
   ]
  },
  {
   "cell_type": "code",
   "execution_count": 208,
   "id": "b2a2609b-eb4e-4b13-946f-6ae8c37875c0",
   "metadata": {},
   "outputs": [
    {
     "name": "stdout",
     "output_type": "stream",
     "text": [
      "[0, 4, 12, 24, 40]\n"
     ]
    }
   ],
   "source": [
    "a = [_ for _ in range(5)]        # 0,1,2,3,4,\n",
    "b = [_ for _ in range(2, 11, 2)] # 2,4,6,8,10\n",
    "\n",
    "c = list(map(lambda x, y: x * y, a, b))\n",
    "\n",
    "print(c)"
   ]
  },
  {
   "cell_type": "code",
   "execution_count": 209,
   "id": "3137a10b-0caa-4121-9782-c7957cfdbd84",
   "metadata": {},
   "outputs": [
    {
     "name": "stdout",
     "output_type": "stream",
     "text": [
      "[0, 4, 12, 24, 40]\n",
      "100\n"
     ]
    }
   ],
   "source": [
    "a = [_ for _ in range(5)]        # 0,1,2,3,4,\n",
    "b = [_ for _ in range(2, 11, 2)] # 2,4,6,8,10\n",
    "\n",
    "c = list(map(lambda x, y: x * y, a, b))\n",
    "\n",
    "print(c)\n",
    "\n",
    "print((lambda x : x ** 2)(10))"
   ]
  },
  {
   "cell_type": "code",
   "execution_count": 210,
   "id": "81f00933-3132-4d3b-9961-97a422f5b77d",
   "metadata": {},
   "outputs": [
    {
     "data": {
      "text/plain": [
       "[3, 9, 9]"
      ]
     },
     "execution_count": 210,
     "metadata": {},
     "output_type": "execute_result"
    }
   ],
   "source": [
    "a = [3, 2, 8, 22, 10, 7, 0, 11, 9, 9]\n",
    "list(filter(lambda x:x % 3 == 0 and 0 < x < 10, a))"
   ]
  },
  {
   "cell_type": "markdown",
   "id": "e9655d62-ac2a-42df-8616-ad1bdad5d70c",
   "metadata": {},
   "source": [
    "class ClassName: # 클래스명으로 주로 파스칼케이스를 쓴다. PascalCasse\n",
    "    def method_name(self):\n",
    "        method_body\n",
    "        \n",
    "    class_body"
   ]
  },
  {
   "cell_type": "code",
   "execution_count": 223,
   "id": "a5e66664-5795-4e59-b5a6-2a5e93724a83",
   "metadata": {},
   "outputs": [],
   "source": [
    "class Student():\n",
    "    def eat_food():\n",
    "        pass"
   ]
  },
  {
   "cell_type": "code",
   "execution_count": 222,
   "id": "20c0b47b-2a86-48aa-aae0-c0a5db4f3e9b",
   "metadata": {},
   "outputs": [],
   "source": [
    "gh = Student() # 독립적인 값을 보장하는 인스턴스로 생성됩니다."
   ]
  },
  {
   "cell_type": "code",
   "execution_count": 237,
   "id": "a2bdf609-ece3-4e2b-adc1-d7f4b3e24871",
   "metadata": {},
   "outputs": [],
   "source": [
    "class Person:\n",
    "    def __init__(self):\n",
    "        self.hello = \"안녕하세요.\"\n",
    "    \n",
    "    def greeting(self):\n",
    "        print(self.hello)"
   ]
  },
  {
   "cell_type": "code",
   "execution_count": 236,
   "id": "8541e987-7729-44cc-bde2-22a6a8155a8e",
   "metadata": {},
   "outputs": [
    {
     "name": "stdout",
     "output_type": "stream",
     "text": [
      "안녕하세요.\n"
     ]
    }
   ],
   "source": [
    "james = Person()\n",
    "james.greeting()"
   ]
  },
  {
   "cell_type": "code",
   "execution_count": 238,
   "id": "a2053b54-16b0-4395-a3aa-8064f0278e5c",
   "metadata": {},
   "outputs": [
    {
     "name": "stdout",
     "output_type": "stream",
     "text": [
      "안녕하세요.\n",
      "안녕하세요.\n"
     ]
    }
   ],
   "source": [
    "bebe = Person()\n",
    "print(bebe.hello)\n",
    "bebe.greeting()"
   ]
  }
 ],
 "metadata": {
  "kernelspec": {
   "display_name": "Python 3 (ipykernel)",
   "language": "python",
   "name": "python3"
  },
  "language_info": {
   "codemirror_mode": {
    "name": "ipython",
    "version": 3
   },
   "file_extension": ".py",
   "mimetype": "text/x-python",
   "name": "python",
   "nbconvert_exporter": "python",
   "pygments_lexer": "ipython3",
   "version": "3.9.13"
  }
 },
 "nbformat": 4,
 "nbformat_minor": 5
}
