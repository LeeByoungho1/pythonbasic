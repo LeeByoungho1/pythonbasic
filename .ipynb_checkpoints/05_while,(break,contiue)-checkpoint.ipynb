{
 "cells": [
  {
   "cell_type": "code",
   "execution_count": 1,
   "id": "e57ca0c6-3efc-4b5d-9c95-bfbd9a29c2cf",
   "metadata": {},
   "outputs": [
    {
     "name": "stdout",
     "output_type": "stream",
     "text": [
      "*****\n",
      "*****\n",
      "*****\n",
      "*****\n",
      "*****\n"
     ]
    }
   ],
   "source": [
    "for i in range (5):\n",
    "    for j in range(5):\n",
    "        print(\"*\",end=\"\") \n",
    "    print() #줄바꿈"
   ]
  },
  {
   "cell_type": "code",
   "execution_count": 37,
   "id": "7bc4f0ca-2318-4ea5-be4c-389a838f7878",
   "metadata": {},
   "outputs": [
    {
     "name": "stdout",
     "output_type": "stream",
     "text": [
      "*****\n",
      "*****\n",
      "*****\n",
      "*****\n",
      "*****\n"
     ]
    }
   ],
   "source": [
    "for i in range (5):\n",
    "    print(\"*\"*5)"
   ]
  },
  {
   "cell_type": "code",
   "execution_count": 52,
   "id": "c2e9c746-11a3-47b0-8ff6-9e959fc88b3a",
   "metadata": {},
   "outputs": [
    {
     "name": "stdout",
     "output_type": "stream",
     "text": [
      "Hello word\n",
      "Hello word\n",
      "Hello word\n"
     ]
    }
   ],
   "source": [
    "i = 0\n",
    "while i < 3:\n",
    "    print(\"Hello word\")\n",
    "    i += 1"
   ]
  },
  {
   "cell_type": "code",
   "execution_count": 53,
   "id": "f11b039b-da7d-490d-89b4-5a38bf82e291",
   "metadata": {},
   "outputs": [
    {
     "name": "stdin",
     "output_type": "stream",
     "text": [
      "반복할 횟수를 입력하세요:  3\n"
     ]
    },
    {
     "name": "stdout",
     "output_type": "stream",
     "text": [
      "Hello word 3\n",
      "Hello word 2\n",
      "Hello word 1\n"
     ]
    }
   ],
   "source": [
    "count = int(input(\"반복할 횟수를 입력하세요: \"))\n",
    "\n",
    "while count > 0:\n",
    "    print(\"Hello word\", count)\n",
    "    count -= 1"
   ]
  },
  {
   "cell_type": "code",
   "execution_count": 39,
   "id": "378f7889-5eee-4c51-99e0-a42965a8540b",
   "metadata": {},
   "outputs": [
    {
     "name": "stdout",
     "output_type": "stream",
     "text": [
      "2\t4\t6\t8\t10\t12\t14\t16\t18\t20\t22\t24\t26\t28\t30\t32\t34\t36\t38\t40\t42\t44\t46\t48\t50\t52\t54\t56\t58\t60\t62\t64\t66\t68\t70\t72\t74\t76\t78\t80\t82\t84\t86\t88\t90\t92\t94\t96\t98\t100\t"
     ]
    }
   ],
   "source": [
    "n = 2\n",
    "while n < 101:\n",
    "    print(n,end=\"\\t\")\n",
    "    n += 2"
   ]
  },
  {
   "cell_type": "code",
   "execution_count": 41,
   "id": "b0343441-e7ff-4252-958b-daa5194990fd",
   "metadata": {},
   "outputs": [
    {
     "name": "stdin",
     "output_type": "stream",
     "text": [
      "구구단을 알려드립니다. 숫자를 입력하세요. 9\n"
     ]
    },
    {
     "name": "stdout",
     "output_type": "stream",
     "text": [
      "9 * 1 = 9\n",
      "9 * 2 = 18\n",
      "9 * 3 = 27\n",
      "9 * 4 = 36\n",
      "9 * 5 = 45\n",
      "9 * 6 = 54\n",
      "9 * 7 = 63\n",
      "9 * 8 = 72\n",
      "9 * 9 = 81\n"
     ]
    }
   ],
   "source": [
    "num = int(input(\"구구단을 알려드립니다. 숫자를 입력하세요.\"))\n",
    "i = 1\n",
    "\n",
    "while i < 10:\n",
    "    print(num, \"*\", i, \"=\",num*i)\n",
    "    i += 1"
   ]
  },
  {
   "cell_type": "code",
   "execution_count": 64,
   "id": "6f6892be-1672-4ac4-9be3-ad049f6dfc09",
   "metadata": {},
   "outputs": [
    {
     "name": "stdin",
     "output_type": "stream",
     "text": [
      "학생의 수:  3\n",
      "1번 학생의 점수 : 77\n",
      "2번 학생의 점수 : 88\n",
      "3번 학생의 점수 : 99\n"
     ]
    },
    {
     "name": "stdout",
     "output_type": "stream",
     "text": [
      "평균: 88.0점\n"
     ]
    }
   ],
   "source": [
    "student = int(input(\"학생의 수: \"))\n",
    "i = 0\n",
    "sum = 0\n",
    "\n",
    "while i < student:\n",
    "    score = int(input(str(i+1)+\"번 학생의 점수 :\")) # str(i)를 해주는 이유: input안을 문자열로 받기때문에\n",
    "    i += 1\n",
    "    sum += score\n",
    "print(\"평균: \",sum/student,\"점\",sep=\"\")"
   ]
  },
  {
   "cell_type": "code",
   "execution_count": 54,
   "id": "b02a8d6e-a193-4174-bd61-16e92632d51d",
   "metadata": {},
   "outputs": [
    {
     "name": "stdout",
     "output_type": "stream",
     "text": [
      "97\n",
      "100\n",
      "77\n"
     ]
    }
   ],
   "source": [
    "scores = (97, 100, 77)\n",
    "i = 0 \n",
    "\n",
    "while i < len(scores):\n",
    "    print(scores[i])\n",
    "    i += 1"
   ]
  },
  {
   "cell_type": "code",
   "execution_count": 63,
   "id": "97c58a02-d521-41cc-9d36-9b02dd6ecb97",
   "metadata": {},
   "outputs": [
    {
     "name": "stdout",
     "output_type": "stream",
     "text": [
      "79.0\n"
     ]
    }
   ],
   "source": [
    "class_a = (70,60,55,75,95,90,80,80,85,100)\n",
    "score = 0\n",
    "i = 0\n",
    "\n",
    "while i < len(class_a):\n",
    "    score += class_a[i]\n",
    "    i += 1\n",
    "    \n",
    "print(score/len(class_a))"
   ]
  },
  {
   "cell_type": "code",
   "execution_count": 70,
   "id": "ca811d27-b272-4b6b-8893-6e60ed21ff5d",
   "metadata": {},
   "outputs": [
    {
     "name": "stdout",
     "output_type": "stream",
     "text": [
      "0\n",
      "1\n",
      "2\n",
      "3\n",
      "4\n",
      "5\n"
     ]
    }
   ],
   "source": [
    "#100회 반복\n",
    "for _ in range(100):\n",
    "    print(_)\n",
    "    if _ == 5:\n",
    "        break #반복중지하고 빠져나간다."
   ]
  },
  {
   "cell_type": "code",
   "execution_count": 75,
   "id": "edfc943f-69b9-41a9-87b2-688487df0e3b",
   "metadata": {},
   "outputs": [
    {
     "name": "stdout",
     "output_type": "stream",
     "text": [
      "5050\n"
     ]
    }
   ],
   "source": [
    "i = 0\n",
    "total = 0\n",
    "while True:\n",
    "    i += 1\n",
    "    total += i\n",
    "    if i == 100:\n",
    "        break\n",
    "print(total)"
   ]
  },
  {
   "cell_type": "code",
   "execution_count": 114,
   "id": "96bedec3-aa12-461c-a654-068425f9367d",
   "metadata": {},
   "outputs": [
    {
     "name": "stdin",
     "output_type": "stream",
     "text": [
      "q를 입력하면 종료됩니다. o\n",
      "q를 입력하면 종료됩니다. p\n",
      "q를 입력하면 종료됩니다. q\n"
     ]
    },
    {
     "name": "stdout",
     "output_type": "stream",
     "text": [
      "프로그램을 종료합니다.\n"
     ]
    }
   ],
   "source": [
    "while True:\n",
    "    input_value = input(\"q를 입력하면 종료됩니다.\")\n",
    "    if input_value == \"q\":\n",
    "        break\n",
    "print(\"프로그램을 종료합니다.\")"
   ]
  },
  {
   "cell_type": "code",
   "execution_count": 118,
   "id": "f9bf267d-6459-469f-94e1-ccb5d10fb45d",
   "metadata": {},
   "outputs": [
    {
     "name": "stdout",
     "output_type": "stream",
     "text": [
      "1\t3\t5\t7\t9\t11\t13\t15\t17\t19\t21\t23\t25\t27\t29\t31\t33\t35\t37\t39\t41\t43\t45\t47\t49\t51\t53\t55\t57\t59\t61\t63\t65\t67\t69\t71\t73\t75\t77\t79\t81\t83\t85\t87\t89\t91\t93\t95\t97\t99\t"
     ]
    }
   ],
   "source": [
    "for i in range (100):\n",
    "    if i % 2 == 0:\n",
    "        continue   # continue 밑에 부분을 건너뛰고 다시 반복\n",
    "    print(i, end=\"\\t\")"
   ]
  },
  {
   "cell_type": "code",
   "execution_count": 39,
   "id": "93023dd1-de50-45b6-9227-353136af0a9c",
   "metadata": {},
   "outputs": [
    {
     "name": "stdout",
     "output_type": "stream",
     "text": [
      "3 13 23 33 43 53 63 73 83 93 "
     ]
    }
   ],
   "source": [
    "i = 0\n",
    "\n",
    "while True:\n",
    "    i += 1\n",
    "    if i == 100:\n",
    "        break\n",
    "    if i % 10 != 3:\n",
    "        continue\n",
    "    print(i, end=' ')\n",
    "    i += 1"
   ]
  },
  {
   "cell_type": "code",
   "execution_count": 47,
   "id": "e4dde00f-e48f-4c0b-a0dc-bf7701293ed0",
   "metadata": {},
   "outputs": [
    {
     "name": "stdout",
     "output_type": "stream",
     "text": [
      "1 2 3 4 5 6 7 8 9 10 "
     ]
    }
   ],
   "source": [
    "for i in range (1,11):\n",
    "    print(i, end=\" \")"
   ]
  },
  {
   "cell_type": "code",
   "execution_count": 49,
   "id": "38e97baf-75f0-4411-b472-a5fd394343e1",
   "metadata": {},
   "outputs": [
    {
     "name": "stdout",
     "output_type": "stream",
     "text": [
      "1 2 3 4 5 6 7 8 9 10 "
     ]
    }
   ],
   "source": [
    "i = 1\n",
    "\n",
    "while i <= 10:\n",
    "    print(i, end=\" \")\n",
    "    i += 1"
   ]
  },
  {
   "cell_type": "code",
   "execution_count": 59,
   "id": "492825c2-e5b9-4566-894b-eec9b31eae9f",
   "metadata": {},
   "outputs": [
    {
     "name": "stdin",
     "output_type": "stream",
     "text": [
      "시작하는 정수 입력:  1\n",
      "끝나는 정수 입력:  100\n"
     ]
    },
    {
     "name": "stdout",
     "output_type": "stream",
     "text": [
      "1부터 100까지의 합은 5050입니다.\n"
     ]
    }
   ],
   "source": [
    "s_num = int(input(\"시작하는 정수 입력: \"))\n",
    "f_num = int(input(\"끝나는 정수 입력: \"))\n",
    "total = 0\n",
    "\n",
    "for i in range(s_num, f_num+1):\n",
    "    total += i\n",
    "print(f\"{s_num}부터 {f_num}까지의 합은 {total}입니다.\")"
   ]
  },
  {
   "cell_type": "code",
   "execution_count": 140,
   "id": "99405202-af3b-42da-b412-c1c670089b13",
   "metadata": {},
   "outputs": [
    {
     "name": "stdin",
     "output_type": "stream",
     "text": [
      "시작하는 정수 입력:  1\n",
      "끝나는 정수 입력:  100\n"
     ]
    },
    {
     "name": "stdout",
     "output_type": "stream",
     "text": [
      "1부터 100까지의 합은 5050입니다.\n"
     ]
    }
   ],
   "source": [
    "s_num = int(input(\"시작하는 정수 입력: \"))\n",
    "f_num = int(input(\"끝나는 정수 입력: \"))\n",
    "total = s_num\n",
    "i = s_num\n",
    "\n",
    "while True:\n",
    "    i += 1\n",
    "    total += i\n",
    "    if i == f_num:\n",
    "        break\n",
    "print(f\"{s_num}부터 {f_num}까지의 합은 {total}입니다.\")"
   ]
  },
  {
   "cell_type": "code",
   "execution_count": 141,
   "id": "f3651557-0696-4de1-aab6-5ab9f7a059be",
   "metadata": {},
   "outputs": [
    {
     "name": "stdin",
     "output_type": "stream",
     "text": [
      "시작하는 정수 입력:  1\n",
      "끝나는 정수 입력:  100\n"
     ]
    },
    {
     "name": "stdout",
     "output_type": "stream",
     "text": [
      "1부터 100까지의 합은 5050입니다.\n"
     ]
    }
   ],
   "source": [
    "s_num = int(input(\"시작하는 정수 입력: \"))\n",
    "f_num = int(input(\"끝나는 정수 입력: \"))\n",
    "total = 0\n",
    "i = s_num\n",
    "\n",
    "while i <= f_num:\n",
    "    total += i\n",
    "    i += 1\n",
    "print(f\"{s_num}부터 {f_num}까지의 합은 {total}입니다.\")"
   ]
  },
  {
   "cell_type": "code",
   "execution_count": 115,
   "id": "135f8841-3870-4c12-9eb1-2c1ac9d35857",
   "metadata": {},
   "outputs": [
    {
     "name": "stdin",
     "output_type": "stream",
     "text": [
      "시작하는 정수 입력:  4\n",
      "끝나는 정수 입력:  8\n"
     ]
    },
    {
     "name": "stdout",
     "output_type": "stream",
     "text": [
      "4부터 8사이의 짝수 제곱의 합은 116입니다.\n"
     ]
    }
   ],
   "source": [
    "s_num = int(input(\"시작하는 정수 입력: \"))\n",
    "f_num = int(input(\"끝나는 정수 입력: \"))\n",
    "total = 0\n",
    "\n",
    "for i in range(s_num, f_num+1):\n",
    "    if i % 2 == 0:\n",
    "        total += i*i\n",
    "        i += 1\n",
    "print(f\"{s_num}부터 {f_num}사이의 짝수 제곱의 합은 {total}입니다.\")"
   ]
  },
  {
   "cell_type": "code",
   "execution_count": 135,
   "id": "00df84be-0d1a-4510-b2bc-cc1cb0094de5",
   "metadata": {},
   "outputs": [
    {
     "name": "stdin",
     "output_type": "stream",
     "text": [
      "시작하는 정수 입력:  4\n",
      "끝나는 정수 입력:  8\n"
     ]
    },
    {
     "name": "stdout",
     "output_type": "stream",
     "text": [
      "4부터 8사이의 짝수 제곱의 합은 116입니다.\n"
     ]
    }
   ],
   "source": [
    "s_num = int(input(\"시작하는 정수 입력: \"))\n",
    "f_num = int(input(\"끝나는 정수 입력: \"))\n",
    "total = 0\n",
    "i = s_num\n",
    "\n",
    "while True:\n",
    "    if i % 2 == 0:\n",
    "        total += i*i\n",
    "    i += 1\n",
    "    if i > f_num:\n",
    "        break\n",
    "print(f\"{s_num}부터 {f_num}사이의 짝수 제곱의 합은 {total}입니다.\")"
   ]
  },
  {
   "cell_type": "code",
   "execution_count": 137,
   "id": "add28c60-620b-480e-9dcd-583bab7d8542",
   "metadata": {},
   "outputs": [
    {
     "name": "stdin",
     "output_type": "stream",
     "text": [
      "시작하는 정수 입력:  4\n",
      "끝나는 정수 입력:  8\n"
     ]
    },
    {
     "name": "stdout",
     "output_type": "stream",
     "text": [
      "4부터 8사이의 짝수 제곱의 합은 116입니다.\n"
     ]
    }
   ],
   "source": [
    "s_num = int(input(\"시작하는 정수 입력: \"))\n",
    "f_num = int(input(\"끝나는 정수 입력: \"))\n",
    "total = 0\n",
    "i = s_num\n",
    "\n",
    "while i <= f_num:\n",
    "    if i % 2 == 0: \n",
    "        total += i*i\n",
    "    i += 1\n",
    "print(f\"{s_num}부터 {f_num}사이의 짝수 제곱의 합은 {total}입니다.\")"
   ]
  },
  {
   "cell_type": "code",
   "execution_count": 143,
   "id": "b8179726-c6a8-4c57-8363-abcbea077aa4",
   "metadata": {},
   "outputs": [
    {
     "name": "stdout",
     "output_type": "stream",
     "text": [
      "79.0\n"
     ]
    }
   ],
   "source": [
    "Kor = [70,60,55,75,95,90,80,80,85,100]\n",
    "total = 0\n",
    "\n",
    "for i in range (len(Kor)):\n",
    "    total += Kor[i]\n",
    "    \n",
    "avg = total/len(Kor)\n",
    "print(avg)"
   ]
  },
  {
   "cell_type": "code",
   "execution_count": 179,
   "id": "c9731375-b608-45cf-a361-7206fcbf7471",
   "metadata": {},
   "outputs": [
    {
     "name": "stdout",
     "output_type": "stream",
     "text": [
      "79.0\n"
     ]
    }
   ],
   "source": [
    "Kor = [70,60,55,75,95,90,80,80,85,100]\n",
    "total = 0\n",
    "\n",
    "for i in Kor:\n",
    "    total += i\n",
    "    \n",
    "avg = total/len(Kor)\n",
    "print(avg)"
   ]
  },
  {
   "cell_type": "code",
   "execution_count": 180,
   "id": "85eafc26-fb83-44f4-a802-645f376f1fee",
   "metadata": {},
   "outputs": [
    {
     "name": "stdout",
     "output_type": "stream",
     "text": [
      "79.0\n"
     ]
    }
   ],
   "source": [
    "Kor = [70,60,55,75,95,90,80,80,85,100]\n",
    "total = 0\n",
    "i = 0\n",
    "\n",
    "while i <= 9:\n",
    "    total += Kor[i]\n",
    "    i += 1\n",
    "\n",
    "avg = total/len(Kor)\n",
    "print(avg)"
   ]
  },
  {
   "cell_type": "code",
   "execution_count": 174,
   "id": "e46c71aa-3743-45dd-807c-958eab94104d",
   "metadata": {},
   "outputs": [
    {
     "name": "stdout",
     "output_type": "stream",
     "text": [
      "79.0\n"
     ]
    }
   ],
   "source": [
    "Kor = [70,60,55,75,95,90,80,80,85,100]\n",
    "total = 0\n",
    "i = 0\n",
    "\n",
    "while True:\n",
    "    total += Kor[i]\n",
    "    if i == 9:\n",
    "        break\n",
    "    i += 1 \n",
    "    \n",
    "avg = total/len(Kor)\n",
    "print(avg)"
   ]
  },
  {
   "cell_type": "code",
   "execution_count": 191,
   "id": "889e0aa9-9f0f-4cbc-9e76-bfb6c3f2671e",
   "metadata": {},
   "outputs": [
    {
     "name": "stdout",
     "output_type": "stream",
     "text": [
      "결과는 233168입니다.\n"
     ]
    }
   ],
   "source": [
    "total = 0\n",
    "\n",
    "for i in range(1000):\n",
    "    if i % 3 == 0 or i % 5 == 0:\n",
    "        total += i\n",
    "    i += 1\n",
    "print(f\"결과는 {total}입니다.\")"
   ]
  },
  {
   "cell_type": "code",
   "execution_count": 192,
   "id": "6e7bcf50-b698-431c-9c4f-90bcd7ddd18a",
   "metadata": {},
   "outputs": [
    {
     "name": "stdout",
     "output_type": "stream",
     "text": [
      "결과는 233168입니다.\n"
     ]
    }
   ],
   "source": [
    "total = 0\n",
    "i = 1\n",
    "\n",
    "while i < 1000:\n",
    "    if i % 3 == 0 or i % 5 == 0:\n",
    "        total += i\n",
    "    i += 1\n",
    "print(f\"결과는 {total}입니다.\")"
   ]
  },
  {
   "cell_type": "code",
   "execution_count": 197,
   "id": "162f7664-1621-4b35-a276-75765b77fc8f",
   "metadata": {},
   "outputs": [
    {
     "name": "stdout",
     "output_type": "stream",
     "text": [
      "결과는 233168입니다.\n"
     ]
    }
   ],
   "source": [
    "total = 0\n",
    "i = 1\n",
    "\n",
    "while True:\n",
    "    if i % 3 == 0 or i % 5 == 0:\n",
    "        total += i\n",
    "    if i == 1000-1:\n",
    "        break\n",
    "    i += 1\n",
    "print(f\"결과는 {total}입니다.\")"
   ]
  }
 ],
 "metadata": {
  "kernelspec": {
   "display_name": "Python 3 (ipykernel)",
   "language": "python",
   "name": "python3"
  },
  "language_info": {
   "codemirror_mode": {
    "name": "ipython",
    "version": 3
   },
   "file_extension": ".py",
   "mimetype": "text/x-python",
   "name": "python",
   "nbconvert_exporter": "python",
   "pygments_lexer": "ipython3",
   "version": "3.9.13"
  }
 },
 "nbformat": 4,
 "nbformat_minor": 5
}
