{
 "cells": [
  {
   "cell_type": "code",
   "execution_count": 1,
   "id": "2dcb88ae-c45f-4909-af37-c43c11f5aa07",
   "metadata": {},
   "outputs": [
    {
     "name": "stdout",
     "output_type": "stream",
     "text": [
      "[1, 2, 3, 4, 5]\n",
      "[2, 3, 4, 5]\n",
      "[3, 4, 5]\n"
     ]
    }
   ],
   "source": [
    "list_a = [1,2,3,4,5]\n",
    "print(list_a)\n",
    "list_a.remove(1)\n",
    "print(list_a)\n",
    "del(list_a[0])\n",
    "print(list_a)"
   ]
  },
  {
   "cell_type": "code",
   "execution_count": 17,
   "id": "69915e14-c268-49b5-8f4c-65abc4899603",
   "metadata": {},
   "outputs": [
    {
     "name": "stdout",
     "output_type": "stream",
     "text": [
      "[1, 1, 2, 1, 1]\n"
     ]
    }
   ],
   "source": [
    "import random\n",
    "random_list = [random.randint(1,2) for _ in range(5)] # 1부터 2까지의 수 // 5번 반복\n",
    "print(random_list)"
   ]
  },
  {
   "cell_type": "code",
   "execution_count": 239,
   "id": "18478d5c-05fa-41e3-b58b-8ffdc75a59e5",
   "metadata": {},
   "outputs": [
    {
     "name": "stdin",
     "output_type": "stream",
     "text": [
      "로또 번호 몇 개 드릴까요? 6\n"
     ]
    },
    {
     "name": "stdout",
     "output_type": "stream",
     "text": [
      "0\n",
      "[5, 1, 3, 4, 5, 3]\n",
      "[1, 3, 3, 4, 5, 5]\n"
     ]
    }
   ],
   "source": [
    "#M \n",
    "import random\n",
    "\n",
    "num = int(input(\"로또 번호 몇 개 드릴까요?\"))\n",
    "\n",
    "list_l = [random.randint(1,6) for i in range(num)] # 1~6까지 num개의 숫자를 랜덤으로 생성\n",
    "\n",
    "# 중복되는 숫자의 갯수 만큼 지우고 생성하고를 반복\n",
    "\n",
    "count = 0 # 중복되는 숫자의 갯수\n",
    "while count > 0:\n",
    "    list_l = [random.randint(1,6) for i in range(num)]\n",
    "    for i in range(len(list_l)):\n",
    "        if list_l[i] == list[i+1]:\n",
    "            count += 1 \n",
    "        \n",
    "print(count)\n",
    "print(list_l)\n",
    "\n",
    "list_l.sort()\n",
    "\n",
    "print(list_l)"
   ]
  },
  {
   "cell_type": "code",
   "execution_count": 240,
   "id": "1c0bee82-e6e2-4fb8-b492-7d2b9f983f71",
   "metadata": {},
   "outputs": [
    {
     "name": "stdin",
     "output_type": "stream",
     "text": [
      "로또 번호 몇 개 드릴까요? 6\n"
     ]
    },
    {
     "name": "stdout",
     "output_type": "stream",
     "text": [
      "[3, 7, 9, 23, 30, 36]\n",
      "[4, 12, 18, 22, 28, 34]\n",
      "[7, 24, 26, 27, 29, 30]\n",
      "[9, 17, 20, 27, 30, 33]\n",
      "[4, 5, 10, 27, 28, 31]\n",
      "[7, 11, 18, 20, 29, 36]\n"
     ]
    }
   ],
   "source": [
    "#T  1~45까지의 숫자를 중복되지 않을 때 까지 생성하는 방법\n",
    "import random\n",
    "\n",
    "num = int(input(\"로또 번호 몇 개 드릴까요?\"))\n",
    "\n",
    "for i in range(num):\n",
    "    l_numbers = []\n",
    "    while len(l_numbers) < num:\n",
    "        l_number = random.randint(1,45)\n",
    "        if l_number not in  l_numbers: # l_numbers안에 l_number가 없다면\n",
    "            l_numbers.append(l_number)\n",
    "    l_numbers.sort()\n",
    "    print(l_numbers)"
   ]
  },
  {
   "cell_type": "code",
   "execution_count": 236,
   "id": "7ccc117b-3a91-4827-80cb-00aa93a3a291",
   "metadata": {},
   "outputs": [
    {
     "name": "stdin",
     "output_type": "stream",
     "text": [
      "로또 번호 몇 개 드릴까요? 6\n"
     ]
    },
    {
     "name": "stdout",
     "output_type": "stream",
     "text": [
      "[4, 5, 8, 15, 30, 32]\n",
      "[2, 6, 11, 12, 23, 31]\n",
      "[3, 4, 15, 22, 37, 44]\n",
      "[14, 17, 24, 28, 37, 40]\n",
      "[5, 9, 14, 16, 20, 37]\n",
      "[8, 13, 18, 20, 30, 34]\n"
     ]
    }
   ],
   "source": [
    "#T 1~45까지의 숫자를 생성하고 하나씩 빼서 다른 리스트에 주는 방법\n",
    "import random\n",
    "count = int(input(\"로또 번호 몇 개 드릴까요?\"))\n",
    "for i in range(count):\n",
    "    lotto = [j for j in range(1, 46)]\n",
    "    lotto_numbers = []\n",
    "    for _ in range(6):\n",
    "        lotto_number = lotto[random.randint(1, len(lotto)-1 )]\n",
    "        lotto_numbers.append(lotto_number)\n",
    "        lotto.remove(lotto_number)\n",
    "        lotto_numbers.sort()\n",
    "    print(lotto_numbers)"
   ]
  },
  {
   "cell_type": "markdown",
   "id": "74c6ff8d-c5c9-4b03-8ed0-9d4a66a7aeb8",
   "metadata": {},
   "source": [
    "## 세트 자료형(set)\n",
    "- 딕셔너리처럼 중괄호{} 를 사용해서 생성하고 키 값만 갖는다.\n",
    "- 세트의 요소는 키와 같은 성격을 갖기에 중복된 요소를 가지지 않습니다.\n",
    "- 인덱스를 갖기 않습니다."
   ]
  },
  {
   "cell_type": "code",
   "execution_count": 257,
   "id": "2d84aa16-ebed-446d-9e32-bd3411720561",
   "metadata": {},
   "outputs": [
    {
     "name": "stdout",
     "output_type": "stream",
     "text": [
      "set() <class 'set'>\n"
     ]
    }
   ],
   "source": [
    "set_varible = set()\n",
    "print(set_varible, type(set_varible))"
   ]
  },
  {
   "cell_type": "code",
   "execution_count": 260,
   "id": "190b0d5a-0c8b-41bc-b7e6-189902477d51",
   "metadata": {},
   "outputs": [
    {
     "name": "stdout",
     "output_type": "stream",
     "text": [
      "{1}\n"
     ]
    }
   ],
   "source": [
    "[set_varible.add(1) for i in range(5)] #추가하기\n",
    "print(set_varible) #1이 5개 있어야 하지만 중복이기 때문에 하나만 나온다."
   ]
  },
  {
   "cell_type": "code",
   "execution_count": 2,
   "id": "dba9bfe6-00cb-46e3-877a-786e8f069ab8",
   "metadata": {},
   "outputs": [
    {
     "name": "stdout",
     "output_type": "stream",
     "text": [
      "{3, 6, 9, 12, 15, 18}\n"
     ]
    }
   ],
   "source": [
    "set_varible1 = {_ for _ in range(1,20) if _ % 3 == 0}\n",
    "print(set_varible1)"
   ]
  },
  {
   "cell_type": "code",
   "execution_count": 172,
   "id": "1e6e71df-1387-4f31-85e9-2d761f8a713e",
   "metadata": {},
   "outputs": [
    {
     "name": "stdout",
     "output_type": "stream",
     "text": [
      "A: {1, 2, 3, 4} \n",
      "B: {2, 4, 5}\n",
      "set.union(A,B): {1, 2, 3, 4, 5}\n",
      "A | B: {1, 2, 3, 4, 5}\n"
     ]
    }
   ],
   "source": [
    "# 합집합\n",
    "A = {_ for _ in range(1,5)}\n",
    "B = {_ for _ in range(2,6) if _ != 3}\n",
    "print(\"A:\", A, \"\\nB:\", B)\n",
    "print(\"set.union(A,B):\", set.union(A,B))\n",
    "print(\"A | B:\", A | B)"
   ]
  },
  {
   "cell_type": "code",
   "execution_count": 174,
   "id": "8c3eaa77-c73d-45e4-89c5-a471fc10e7f9",
   "metadata": {},
   "outputs": [
    {
     "name": "stdout",
     "output_type": "stream",
     "text": [
      "A: {1, 2, 3, 4} \n",
      "B: {2, 4, 5}\n",
      "set.intersection(A,B): {2, 4}\n",
      "A & B: {2, 4}\n"
     ]
    }
   ],
   "source": [
    "# 교집합\n",
    "A = {_ for _ in range(1,5)}\n",
    "B = {_ for _ in range(2,6) if _ != 3}\n",
    "print(\"A:\", A, \"\\nB:\", B)\n",
    "print(\"set.intersection(A,B):\", set.intersection(A,B))\n",
    "print(\"A & B:\", A & B)"
   ]
  },
  {
   "cell_type": "code",
   "execution_count": 175,
   "id": "bd576c0c-4c14-422c-a8d6-4d22f25af20f",
   "metadata": {},
   "outputs": [
    {
     "name": "stdout",
     "output_type": "stream",
     "text": [
      "A: {1, 2, 3, 4} \n",
      "B: {2, 4, 5}\n",
      "set.difference(A,B): {1, 3}\n",
      "A - B: {1, 3}\n"
     ]
    }
   ],
   "source": [
    "# 차집합\n",
    "A = {_ for _ in range(1,5)}\n",
    "B = {_ for _ in range(2,6) if _ != 3}\n",
    "print(\"A:\", A, \"\\nB:\", B)\n",
    "print(\"set.difference(A,B):\", set.difference(A,B))\n",
    "print(\"A - B:\", A - B)"
   ]
  },
  {
   "cell_type": "code",
   "execution_count": 177,
   "id": "ad47e121-c8db-4aef-9345-e549d0b4af5c",
   "metadata": {},
   "outputs": [
    {
     "name": "stdout",
     "output_type": "stream",
     "text": [
      "A: {1, 2, 3, 4} \n",
      "B: {2, 4, 5}\n",
      "set.symmetric_difference: {1, 3, 5}\n",
      "A ^ B: {1, 3, 5}\n"
     ]
    }
   ],
   "source": [
    "# 대칭차집합\n",
    "A = {_ for _ in range(1,5)}\n",
    "B = {_ for _ in range(2,6) if _ != 3}\n",
    "print(\"A:\", A, \"\\nB:\", B)\n",
    "print(\"set.symmetric_difference:\", set.symmetric_difference(A,B))\n",
    "print(\"A ^ B:\", A ^ B)"
   ]
  },
  {
   "cell_type": "code",
   "execution_count": 122,
   "id": "e34883ff-8922-45e1-aed1-2191621d3b6f",
   "metadata": {},
   "outputs": [
    {
     "name": "stdout",
     "output_type": "stream",
     "text": [
      "A: {1, 2, 3, 4} \n",
      "B: {2, 4, 5}\n",
      "A.update(B): {1, 2, 3, 4, 5}\n"
     ]
    }
   ],
   "source": [
    "# 업데이트\n",
    "A = {_ for _ in range(1,5)}\n",
    "B = {_ for _ in range(2,6) if _ != 3}\n",
    "print(\"A:\", A, \"\\nB:\", B)\n",
    "A.update(B)\n",
    "print(\"A.update(B):\", A)"
   ]
  },
  {
   "cell_type": "code",
   "execution_count": 189,
   "id": "fd96e7b9-b0e5-4df7-87e6-2e9a622ec82c",
   "metadata": {},
   "outputs": [
    {
     "name": "stdout",
     "output_type": "stream",
     "text": [
      "A: {1, 2, 3, 4} \n",
      "B: {2, 4, 5}\n",
      "A.update(B): {1, 3}\n"
     ]
    }
   ],
   "source": [
    "A = {_ for _ in range(1,5)}\n",
    "B = {_ for _ in range(2,6) if _ != 3}\n",
    "print(\"A:\", A, \"\\nB:\", B)\n",
    "A.difference_update(B)  \n",
    "print(\"A.update(B):\", A)"
   ]
  },
  {
   "cell_type": "code",
   "execution_count": 18,
   "id": "7d3efd42-15dd-4e82-8554-8f00ad1ef861",
   "metadata": {},
   "outputs": [
    {
     "name": "stdout",
     "output_type": "stream",
     "text": [
      "A: {0, 1, 2} \n",
      "B: {0, 1, 2}\n",
      "A.issubset(B): True\n"
     ]
    }
   ],
   "source": [
    "A = {_ for _ in range(0,3)}\n",
    "B = {_ for _ in range(0,3)}\n",
    "print(\"A:\", A, \"\\nB:\", B)\n",
    "print(\"A.issubset(B):\", A.issubset(B))"
   ]
  },
  {
   "cell_type": "code",
   "execution_count": 19,
   "id": "ef178efb-8954-4fe6-8149-04f807f4bdd8",
   "metadata": {},
   "outputs": [
    {
     "name": "stdout",
     "output_type": "stream",
     "text": [
      "A: {0, 1, 2} \n",
      "B: {0, 1}\n",
      "A.issubset(B): True\n"
     ]
    }
   ],
   "source": [
    "A = {_ for _ in range(0,3)}\n",
    "B = {_ for _ in range(0,2)}\n",
    "print(\"A:\", A, \"\\nB:\", B)\n",
    "print(\"A.issubset(B):\", B.issubset(A))"
   ]
  },
  {
   "cell_type": "code",
   "execution_count": 20,
   "id": "586542a4-0119-4913-96f9-3b5c90d3f82e",
   "metadata": {},
   "outputs": [
    {
     "name": "stdout",
     "output_type": "stream",
     "text": [
      "A: {0, 1, 2} \n",
      "B: {0, 1, 2}\n",
      "A.issuperset(B): True\n"
     ]
    }
   ],
   "source": [
    "A = {_ for _ in range(0,3)}\n",
    "B = {_ for _ in range(0,3)}\n",
    "print(\"A:\", A, \"\\nB:\", B)\n",
    "print(\"A.issuperset(B):\", A.issuperset(B))"
   ]
  },
  {
   "cell_type": "code",
   "execution_count": 21,
   "id": "90d1265a-94f8-4fad-a98e-89cc7516fedb",
   "metadata": {},
   "outputs": [
    {
     "name": "stdout",
     "output_type": "stream",
     "text": [
      "A: {0, 1, 2} \n",
      "B: {0, 1}\n",
      "A.issuperset(B): True\n"
     ]
    }
   ],
   "source": [
    "A = {_ for _ in range(0,3)}\n",
    "B = {_ for _ in range(0,2)}\n",
    "print(\"A:\", A, \"\\nB:\", B)\n",
    "print(\"A.issuperset(B):\", A.issuperset(B))"
   ]
  },
  {
   "cell_type": "code",
   "execution_count": 23,
   "id": "7c8742da-9bce-489a-ab8f-aa2f7198f669",
   "metadata": {},
   "outputs": [
    {
     "name": "stdout",
     "output_type": "stream",
     "text": [
      "A: {0, 1, 2} \n",
      "B: {0, 1, 2}\n",
      "A > B: False\n",
      "A < B: False\n"
     ]
    }
   ],
   "source": [
    "A = {_ for _ in range(0,3)}\n",
    "B = {_ for _ in range(0,3)}\n",
    "print(\"A:\", A, \"\\nB:\", B)\n",
    "print(\"A > B:\", A > B)\n",
    "print(\"A < B:\", A < B)"
   ]
  },
  {
   "cell_type": "code",
   "execution_count": 24,
   "id": "00515fdd-1303-4e59-ab1f-cacf3a466cd7",
   "metadata": {},
   "outputs": [
    {
     "name": "stdout",
     "output_type": "stream",
     "text": [
      "A: {0, 1, 2} \n",
      "B: {0, 1}\n",
      "A > B: True\n",
      "A < B: False\n"
     ]
    }
   ],
   "source": [
    "A = {_ for _ in range(0,3)}\n",
    "B = {_ for _ in range(0,2)}\n",
    "print(\"A:\", A, \"\\nB:\", B)\n",
    "print(\"A > B:\", A > B)\n",
    "print(\"A < B:\", A < B)"
   ]
  },
  {
   "cell_type": "code",
   "execution_count": 26,
   "id": "d23766ce-7210-414c-aba1-4b72f3a07a8a",
   "metadata": {},
   "outputs": [
    {
     "name": "stdout",
     "output_type": "stream",
     "text": [
      "A: {0, 1, 2} \n",
      "B: {0, 1, 2}\n",
      "A == B: True\n"
     ]
    }
   ],
   "source": [
    "A = {_ for _ in range(0,3)}\n",
    "B = {_ for _ in range(0,3)}\n",
    "print(\"A:\", A, \"\\nB:\", B)\n",
    "print(\"A == B:\", A == B)"
   ]
  },
  {
   "cell_type": "code",
   "execution_count": 27,
   "id": "6962b61f-fc80-4211-a811-c015cf07dbf8",
   "metadata": {},
   "outputs": [
    {
     "name": "stdout",
     "output_type": "stream",
     "text": [
      "A: {0, 1, 2} \n",
      "B: {3, 4, 5}\n",
      "A.isdisjoint(B) True\n"
     ]
    }
   ],
   "source": [
    "A = {_ for _ in range(0,3)}\n",
    "B = {_ for _ in range(3,6)}\n",
    "print(\"A:\", A, \"\\nB:\", B)\n",
    "print(\"A.isdisjoint(B)\", A.isdisjoint(B))"
   ]
  },
  {
   "cell_type": "code",
   "execution_count": 49,
   "id": "dabbf23c-5012-4304-b61f-9cba29b56f2e",
   "metadata": {},
   "outputs": [
    {
     "name": "stdin",
     "output_type": "stream",
     "text": [
      "로또 번호 몇 개 드릴까요? 6\n"
     ]
    },
    {
     "name": "stdout",
     "output_type": "stream",
     "text": [
      "{32, 8, 41, 12, 13, 17, 19, 20, 25, 31}\n"
     ]
    }
   ],
   "source": [
    "import random\n",
    "\n",
    "num = int(input(\"로또 번호 몇 개 드릴까요?\"))\n",
    "\n",
    "set_l = set()\n",
    "while len(set_l) < 6:\n",
    "    for i in range (6):\n",
    "        set_l.add(random.randint(1,45)) \n",
    "\n",
    "print(set_l)"
   ]
  },
  {
   "cell_type": "code",
   "execution_count": 141,
   "id": "7e72ea6d-b4fc-4a41-a3a1-d6cffb095b8d",
   "metadata": {},
   "outputs": [
    {
     "name": "stdout",
     "output_type": "stream",
     "text": [
      "[5, 27, 32, 37, 40, 44]\n"
     ]
    }
   ],
   "source": [
    "import random\n",
    "\n",
    "lotto = set()\n",
    "while len(lotto) != 6:\n",
    "    lotto = {random.randint(1,45) for _ in range(6)}\n",
    "result = list(lotto)\n",
    "result.sort()\n",
    "print(result)"
   ]
  },
  {
   "cell_type": "code",
   "execution_count": 142,
   "id": "a78c3617-3e9a-4d92-a6a3-de2161891517",
   "metadata": {},
   "outputs": [
    {
     "name": "stdout",
     "output_type": "stream",
     "text": [
      "{1, 2, 3, 4}\n"
     ]
    }
   ],
   "source": [
    "list_sample = [1,2,2,3,3,3,4,4,4,4]\n",
    "\n",
    "print(set(list_sample))"
   ]
  },
  {
   "cell_type": "code",
   "execution_count": 123,
   "id": "5ded73b6-9f68-4e62-b60c-91f7f52086da",
   "metadata": {
    "tags": []
   },
   "outputs": [
    {
     "name": "stdout",
     "output_type": "stream",
     "text": [
      "{75, 45, 15, 90, 60, 30}\n"
     ]
    }
   ],
   "source": [
    "set_3 = {i for i in range(1,101) if i % 3 == 0}\n",
    "\n",
    "set_5 = {i for i in range(1,101) if i % 5 == 0}\n",
    "\n",
    "result_set = set_3 & set_5 # 교집합기호: & or set.intersection(set_3, set_5)\n",
    "\n",
    "print(result_set)"
   ]
  },
  {
   "cell_type": "code",
   "execution_count": 197,
   "id": "87ec6b24-ebaf-4f1c-b54f-0f3f242c4d13",
   "metadata": {
    "tags": []
   },
   "outputs": [
    {
     "name": "stdout",
     "output_type": "stream",
     "text": [
      "개인정보 조회, 구매관리, 근태 관리, 시스템 관리, 인사 관리, 회계 관리\n"
     ]
    }
   ],
   "source": [
    "role_admin = (\"회계 관리\", \"인사 관리\", \"구매관리\", \"시스템 관리\")\n",
    "role_hr = (\"인사 관리\", \"개인정보 조회\", \"회계 관리\", \"근태 관리\")\n",
    "role_user = (\"개인정보 조회\", \"근태 관리\")\n",
    "\n",
    "result1 = set(role_admin + role_hr + role_user)\n",
    "\n",
    "result2 = list(result1)\n",
    "\n",
    "result2.sort()\n",
    "\n",
    "\n",
    "for i in range(len(result2)):\n",
    "    if i < len(result2)-1:\n",
    "        print(result2[i], end=\", \")\n",
    "    else:\n",
    "        print(result2[i])\n",
    "        \n",
    "# for i in result2:\n",
    "#     if result2[-1] == i:\n",
    "#         print(i, end=\"\")\n",
    "#     else:\n",
    "#         print(i, end=\", \")"
   ]
  },
  {
   "cell_type": "code",
   "execution_count": 234,
   "id": "268c7f42-3e84-47b0-9fcc-c39c6ec0d81d",
   "metadata": {},
   "outputs": [
    {
     "name": "stdin",
     "output_type": "stream",
     "text": [
      "찾는 범위를 입력하세요. 10\n"
     ]
    }
   ],
   "source": [
    "num = int(input(\"찾는 범위를 입력하세요.\"))\n",
    "\n",
    "num_list = [_ for _ in range(2,num+1)] # 2부터 num까지의 숫자\n",
    "\n",
    "for i in num_list: # num_list의 숫자를 i에 넣을때 까지\n",
    "    for j in range(2,i): # j는 2부터 i까지\n",
    "        if i % j != 0:\n",
    "            if i % j == 0:\n",
    "                print(i)\n",
    "    \n",
    "\n",
    "# for i in range(2,num):\n",
    "#     for j in range(1,i+1): \n",
    "#         if i %  == 0:\n",
    "#             print(i)\n",
    "            \n",
    "# 소수 : 1보다 큰 자연수 중 1과 그 수 자신만을 약수로 갖는 자연수\n",
    "# 나 자신이 아닌 다른 수로 나누어 질 때"
   ]
  },
  {
   "cell_type": "code",
   "execution_count": 312,
   "id": "897f7cf9-644f-489d-9292-f12cceeab9e8",
   "metadata": {},
   "outputs": [
    {
     "name": "stdin",
     "output_type": "stream",
     "text": [
      "찾는 범위를 입력하세요. 100\n"
     ]
    },
    {
     "name": "stdout",
     "output_type": "stream",
     "text": [
      "2 3 5 7 11 13 17 \n",
      "19 23 29 31 37 41 43 \n",
      "47 53 59 61 67 71 73 \n",
      "79 83 89 97 "
     ]
    }
   ],
   "source": [
    "num = int(input(\"찾는 범위를 입력하세요.\"))\n",
    "\n",
    "num_list = [_ for _ in range(2,num+1)] # 2부터 num까지의 숫자\n",
    "result_list = [0] # 2번째 for문 range(1,len(result_list))에서 0부터가 아닌 1부터 시작해야해서 인덱스0번을 채워준다.\n",
    "for i in num_list: # num_list의 숫자를 i에 넣을때 까지\n",
    "    count = 0\n",
    "    for j in range(1,i+1): # 1부터 i까지의 j\n",
    "        if i % j == 0:     # i나누기 j == 0이라면\n",
    "            count += 1     # 카운트에 1을 추가\n",
    "    if count < 3:\n",
    "        result_list.append(i)\n",
    "for i in range(1,len(result_list)):\n",
    "    if i % 7 == 0:\n",
    "        print(result_list[i], end=\" \")\n",
    "        print()\n",
    "    else:\n",
    "        print(result_list[i], end=\" \")"
   ]
  },
  {
   "cell_type": "code",
   "execution_count": 318,
   "id": "bbb664a0-6122-4eda-9a64-6fd2f8c2f731",
   "metadata": {},
   "outputs": [
    {
     "name": "stdin",
     "output_type": "stream",
     "text": [
      "찾는 범위를 입력하세요. 100\n"
     ]
    },
    {
     "name": "stdout",
     "output_type": "stream",
     "text": [
      "2 3 5 7 11 13 17 \n",
      "19 23 29 31 37 41 43 \n",
      "47 53 59 61 67 71 73 \n",
      "79 83 89 97 "
     ]
    }
   ],
   "source": [
    "#T\n",
    "inData = int(input(\"찾는 범위를 입력하세요.\"))\n",
    "\n",
    "i = 2\n",
    "line = 0\n",
    "while i <= inData:\n",
    "    j = 2\n",
    "    while j <= i:\n",
    "        if i % j == 0:\n",
    "            break\n",
    "        j += 1\n",
    "    if i == j:\n",
    "        print(i ,end=\" \")\n",
    "        line += 1\n",
    "        if line == 7:\n",
    "            line = 0\n",
    "            print()\n",
    "    i += 1"
   ]
  },
  {
   "cell_type": "code",
   "execution_count": 320,
   "id": "4ace8d5c-f5bf-47bc-8698-a58ec77a1288",
   "metadata": {},
   "outputs": [
    {
     "name": "stdin",
     "output_type": "stream",
     "text": [
      "찾는 범위:  100\n"
     ]
    },
    {
     "name": "stdout",
     "output_type": "stream",
     "text": [
      "2 3 5 7 11 13 17 \n",
      "19 23 29 31 37 41 43 \n",
      "47 53 59 61 67 71 73 \n",
      "79 83 89 97 "
     ]
    }
   ],
   "source": [
    "#T\n",
    "def isPrime(num):\n",
    "    primes = [False, False] + [True]*(num-1)\n",
    "    for i in range(2, num+1):\n",
    "        if primes[i]:\n",
    "            for _ in range(i * 2, num+1, i):\n",
    "                primes[_] = False\n",
    "    return primes[num]\n",
    "get = int(input(\"찾는 범위: \"))\n",
    "lst = [_ for _ in range(2, get) if isPrime(_)]\n",
    "count = 0\n",
    "for _ in lst:\n",
    "    count+=1\n",
    "    print(_,end=\" \")\n",
    "    if count%7 == 0:\n",
    "        print()"
   ]
  },
  {
   "cell_type": "code",
   "execution_count": 334,
   "id": "d7d2b3aa-f061-4a66-8993-071aa657a8f2",
   "metadata": {},
   "outputs": [],
   "source": [
    "def function():\n",
    "    \"\"\"\n",
    "    Docs string 부분입니다.\n",
    "    이곳에 함수의 설명에 대해 적어놓으시면 좋습니다.\n",
    "    \"\"\"\n",
    "    pass"
   ]
  },
  {
   "cell_type": "code",
   "execution_count": 337,
   "id": "bca22168-a397-4fc3-9fc9-620ce02bb884",
   "metadata": {},
   "outputs": [
    {
     "name": "stdout",
     "output_type": "stream",
     "text": [
      "\n",
      "    Docs string 부분입니다.\n",
      "    이곳에 함수의 설명에 대해 적어놓으시면 좋습니다.\n",
      "    \n"
     ]
    }
   ],
   "source": [
    "print(function.__doc__) # 언더바 2개 __"
   ]
  },
  {
   "cell_type": "code",
   "execution_count": 338,
   "id": "f17d745f-8bc2-4202-8b3e-1122cfc25d1f",
   "metadata": {},
   "outputs": [],
   "source": [
    "# 함수를 정의절\n",
    "def function_name(positional1, positional2, *args, keyword1=1, **kargs):\n",
    "    pass # body"
   ]
  },
  {
   "cell_type": "code",
   "execution_count": 340,
   "id": "7990228f-55ac-45c4-9eb9-7e4de7461921",
   "metadata": {},
   "outputs": [],
   "source": [
    "# 함수 정의절\n",
    "def get_grade(score):\n",
    "    \"\"\"\n",
    "    숫자로된 점수를 넣으시면 학점의 결과를 반환합니다.\n",
    "    \"\"\"\n",
    "    if 85 <= score <= 100:\n",
    "        return \"A\"\n",
    "    elif 70 <= score <= 84:\n",
    "        return \"B\"\n",
    "    elif 55 <= score <= 69:\n",
    "        return \"C\"\n",
    "    elif 40 <= score <= 54:\n",
    "        return \"D\"\n",
    "    elif 0 <= score <= 39:\n",
    "        return \"F\""
   ]
  },
  {
   "cell_type": "code",
   "execution_count": 361,
   "id": "d10bbc59-95ac-47e7-8832-7df540fb5605",
   "metadata": {},
   "outputs": [
    {
     "name": "stdout",
     "output_type": "stream",
     "text": [
      "\n",
      "    숫자로된 점수를 넣으시면 학점의 결과를 반환합니다.\n",
      "    \n"
     ]
    }
   ],
   "source": [
    "print(get_grade.__doc__)"
   ]
  },
  {
   "cell_type": "code",
   "execution_count": 349,
   "id": "b61946bb-abcf-49e6-a172-9cf844e8ea58",
   "metadata": {},
   "outputs": [
    {
     "name": "stdout",
     "output_type": "stream",
     "text": [
      "A\n"
     ]
    }
   ],
   "source": [
    "result = get_grade(100) # \"A\"\n",
    "print(result)"
   ]
  },
  {
   "cell_type": "code",
   "execution_count": 357,
   "id": "8adeedd0-fa8a-4ddf-912f-c7dc290ccb5c",
   "metadata": {},
   "outputs": [
    {
     "name": "stdout",
     "output_type": "stream",
     "text": [
      "[20, 75, 54, 17, 23, 14, 25, 34, 85, 98, 36, 51, 96, 44, 40, 11, 48, 53, 72, 59]\n"
     ]
    }
   ],
   "source": [
    "import random\n",
    "# 20명의 점수를 입력했다.\n",
    "scores = [random.randint(1,100) for i in range(20)]\n",
    "print(scores)"
   ]
  },
  {
   "cell_type": "code",
   "execution_count": 362,
   "id": "8a79a1ed-06f7-4d58-b0cd-03e8a0135a93",
   "metadata": {},
   "outputs": [
    {
     "name": "stdout",
     "output_type": "stream",
     "text": [
      "['F', 'B', 'D', 'F', 'F', 'F', 'F', 'F', 'A', 'A', 'F', 'D', 'A', 'D', 'D', 'F', 'D', 'D', 'B', 'C']\n"
     ]
    }
   ],
   "source": [
    "grades = list(map(get_grade, scores))\n",
    "print(grades)"
   ]
  },
  {
   "cell_type": "code",
   "execution_count": 369,
   "id": "4fb04174-5aa6-4c81-9c10-be4e792c18fe",
   "metadata": {},
   "outputs": [],
   "source": [
    "# 함수 정의절\n",
    "# 인자(매개변수, parameter) - non-defult, defult 종류\n",
    "def get_grade(score, name, student_number): # get_grade(score, name=\"홍길동\", student_number) X\n",
    "                                            # get_grade(score, student_number, name=\"홍길동\") O 기본값을 주는 값은 맨뒤에 있어야함.\n",
    "    \"\"\"\n",
    "    숫자로된 점수를 넣으시면 학점의 결과를 반환합니다.\n",
    "    \"\"\"\n",
    "    print(f\"{student_number}, {name}의 성적을 확인합니다.\")\n",
    "    if 85 <= score <= 100:\n",
    "        return \"A\"\n",
    "    elif 70 <= score <= 84:\n",
    "        return \"B\"\n",
    "    elif 55 <= score <= 69:\n",
    "        return \"C\"\n",
    "    elif 40 <= score <= 54:\n",
    "        return \"D\"\n",
    "    elif 0 <= score <= 39:\n",
    "        return \"F\""
   ]
  },
  {
   "cell_type": "code",
   "execution_count": 370,
   "id": "24ad2cac-7e65-44a0-8562-2fc3e13f2e71",
   "metadata": {},
   "outputs": [
    {
     "name": "stdout",
     "output_type": "stream",
     "text": [
      "201823018, 이병호의 성적을 확인합니다.\n"
     ]
    },
    {
     "data": {
      "text/plain": [
       "'A'"
      ]
     },
     "execution_count": 370,
     "metadata": {},
     "output_type": "execute_result"
    }
   ],
   "source": [
    "get_grade(100, \"이병호\", \"201823018\")"
   ]
  },
  {
   "cell_type": "code",
   "execution_count": 399,
   "id": "0ee5c79e-daec-4e78-a226-44d4a425230c",
   "metadata": {},
   "outputs": [],
   "source": [
    "# 함수 정의절\n",
    "# 인자(매개변수, parameter) - non-defult, defult 종류\n",
    "# positional-only: /문자 기준으로 왼편에 온다.\n",
    "def add_number(number2, number1=3, /):\n",
    "    \"\"\"\n",
    "    숫자 number1과 숫자 number2를 전달 받아 더한 결과를 반환합니다.\n",
    "    \"\"\"\n",
    "    return number1 + number2"
   ]
  },
  {
   "cell_type": "code",
   "execution_count": 372,
   "id": "1d737341-7dd1-40d6-bf25-415d9b205d98",
   "metadata": {},
   "outputs": [
    {
     "name": "stdout",
     "output_type": "stream",
     "text": [
      "\n",
      "    숫자 number1과 숫자 number2를 전달 받아 더한 결과를 반환합니다.\n",
      "    \n"
     ]
    }
   ],
   "source": [
    "print(add_number.__doc__)"
   ]
  },
  {
   "cell_type": "code",
   "execution_count": 401,
   "id": "19e4c7fa-d0b8-492e-89ed-210f0280b4f7",
   "metadata": {},
   "outputs": [
    {
     "name": "stdout",
     "output_type": "stream",
     "text": [
      "5\n"
     ]
    }
   ],
   "source": [
    "# 인수(argument) - positional argument, keyword argument\n",
    "result = add_number(2)\n",
    "\n",
    "print(result)"
   ]
  },
  {
   "cell_type": "code",
   "execution_count": 415,
   "id": "8f86275b-e827-4b92-9c42-3c252ade26be",
   "metadata": {},
   "outputs": [],
   "source": [
    "# 함수 정의절\n",
    "# 인자(매개변수, parameter) - non-defult, defult 종류\n",
    "# keyword-only: *문자 기준으로 오른편에 온다.\n",
    "def minus(*, number1, number2=3):\n",
    "    \"\"\"\n",
    "    숫자 number1과 숫자 number2를 전달 받아 뺀 결과를 반환합니다.\n",
    "    \"\"\"\n",
    "    return number1 - number2"
   ]
  },
  {
   "cell_type": "code",
   "execution_count": 427,
   "id": "783f43a9-e545-4cb6-b8de-be33c745445e",
   "metadata": {},
   "outputs": [
    {
     "data": {
      "text/plain": [
       "2"
      ]
     },
     "execution_count": 427,
     "metadata": {},
     "output_type": "execute_result"
    }
   ],
   "source": [
    "# 함수를 호출(call)\n",
    "# 인수(argument) - positional argument, keyword argument\n",
    "minus(number1=5)"
   ]
  },
  {
   "cell_type": "code",
   "execution_count": 416,
   "id": "fb7d2b05-c568-4524-9d48-64f74b801bcb",
   "metadata": {},
   "outputs": [],
   "source": [
    "# 함수 정의절\n",
    "# 인자(매개변수, parameter) - non-defult, defult 종류\n",
    "# positional-only: /문자 기준으로 왼편에 온다.\n",
    "# keyword-only: *문자 기준으로 오른편에 온다.\n",
    "def multi_number(number1, /, *, number2=3):\n",
    "    \"\"\"\n",
    "    숫자 number1과 숫자 number2를 전달 받아 곱한 결과를 반환합니다.\n",
    "    \"\"\"\n",
    "    return number1 * number2"
   ]
  },
  {
   "cell_type": "code",
   "execution_count": 417,
   "id": "a0e18333-4c54-47a8-90eb-de6a37000984",
   "metadata": {},
   "outputs": [
    {
     "data": {
      "text/plain": [
       "30"
      ]
     },
     "execution_count": 417,
     "metadata": {},
     "output_type": "execute_result"
    }
   ],
   "source": [
    "multi_number(3,number2 = 10)"
   ]
  },
  {
   "cell_type": "code",
   "execution_count": 420,
   "id": "62f7cf8b-95b7-4230-b5d4-4a8d7079c692",
   "metadata": {},
   "outputs": [],
   "source": [
    "def string_line(str_value, /, str_len=70, *, sep=\"#\"):\n",
    "    \"\"\"\n",
    "    str_value는 가운데 오늘 텍스트입니다.\n",
    "    str_line은 텍스트의 설정할 길이입니다.\n",
    "    sep는 구분선을 그을때 쓰는 문자입니다.\n",
    "    \"\"\"\n",
    "    print(str_value.center(str_len, sep))"
   ]
  },
  {
   "cell_type": "code",
   "execution_count": 421,
   "id": "12f6a828-4c46-47fd-8504-09c717dfdd93",
   "metadata": {},
   "outputs": [
    {
     "name": "stdout",
     "output_type": "stream",
     "text": [
      "************************구분************************\n"
     ]
    }
   ],
   "source": [
    "string_line(\"구분\", 50, sep=\"*\")"
   ]
  },
  {
   "cell_type": "code",
   "execution_count": 423,
   "id": "9bb046ae-05de-4ef9-8944-bd28f7d4b3c6",
   "metadata": {},
   "outputs": [
    {
     "name": "stdout",
     "output_type": "stream",
     "text": [
      "50\n"
     ]
    }
   ],
   "source": [
    "print(len(\"************************구분************************\"))"
   ]
  },
  {
   "cell_type": "code",
   "execution_count": 424,
   "id": "94a47452-f979-4edc-b2e2-5dbe482801c4",
   "metadata": {},
   "outputs": [
    {
     "name": "stdout",
     "output_type": "stream",
     "text": [
      "------------------------------------------------절취선-------------------------------------------------\n"
     ]
    }
   ],
   "source": [
    "string_line(\"절취선\", 100, sep=\"-\")"
   ]
  },
  {
   "cell_type": "code",
   "execution_count": 425,
   "id": "28587c67-5b15-4bd9-b4ce-0cc22b253b01",
   "metadata": {},
   "outputs": [
    {
     "name": "stdout",
     "output_type": "stream",
     "text": [
      "100\n"
     ]
    }
   ],
   "source": [
    "print(len(\"------------------------------------------------절취선-------------------------------------------------\"))"
   ]
  },
  {
   "cell_type": "code",
   "execution_count": 445,
   "id": "f3ce2677-3af8-46a6-b757-3461b7d5c597",
   "metadata": {},
   "outputs": [],
   "source": [
    "# *args: var positional 가변 위치\n",
    "def test_func(a,b,c,*args): # *args은 가장 뒤에 있어야한다.\n",
    "    print(f\"a:{a} b:{b} c:{c}\")\n",
    "    print(type(args))\n",
    "    print(args)"
   ]
  },
  {
   "cell_type": "code",
   "execution_count": 444,
   "id": "93404c7f-3426-4dfc-a335-a21017627810",
   "metadata": {},
   "outputs": [
    {
     "name": "stdout",
     "output_type": "stream",
     "text": [
      "a:a 위치입니다. b:b 위치입니다 c:c 위치입니다\n",
      "<class 'tuple'>\n",
      "()\n"
     ]
    }
   ],
   "source": [
    "test_func(\"a 위치입니다.\", \"b 위치입니다\", \"c 위치입니다\")"
   ]
  },
  {
   "cell_type": "code",
   "execution_count": 433,
   "id": "4756f591-885d-44d1-8ab8-bcc9b604a6fd",
   "metadata": {},
   "outputs": [
    {
     "name": "stdout",
     "output_type": "stream",
     "text": [
      "a:a 위치입니다. b:b 위치입니다 c:c 위치입니다\n",
      "<class 'tuple'>\n",
      "('여기는', '어달까요')\n"
     ]
    }
   ],
   "source": [
    "test_func(\"a 위치입니다.\", \"b 위치입니다\", \"c 위치입니다\", \"여기는\", \"어달까요\")"
   ]
  },
  {
   "cell_type": "code",
   "execution_count": 450,
   "id": "5640c035-c350-49b1-8a32-72b716fa13be",
   "metadata": {},
   "outputs": [],
   "source": [
    "# **kargs: var keyword 가변 키워드\n",
    "def test_func2(a=\"a\", b=\"b\", **kargs):\n",
    "    print(a, b)\n",
    "    print(type(kargs))\n",
    "    print(kargs)"
   ]
  },
  {
   "cell_type": "code",
   "execution_count": 451,
   "id": "4346a277-0c51-4ee6-b24f-9785211edff2",
   "metadata": {},
   "outputs": [
    {
     "name": "stdout",
     "output_type": "stream",
     "text": [
      "ab bc\n",
      "<class 'dict'>\n",
      "{'key': 'value', 'key2': 'value2'}\n"
     ]
    }
   ],
   "source": [
    "test_func2(a=\"ab\", b=\"bc\", key=\"value\", key2=\"value2\")"
   ]
  },
  {
   "cell_type": "code",
   "execution_count": 470,
   "id": "0ff72410-07bf-48df-9dfd-8420520f41bd",
   "metadata": {},
   "outputs": [],
   "source": [
    "def plus_ten(num):\n",
    "    \"\"\"\n",
    "    각 입력받은 정수를 10씩 더해서 반환하는 함수입니다.\n",
    "    \"\"\"\n",
    "    return num + 10"
   ]
  },
  {
   "cell_type": "code",
   "execution_count": 497,
   "id": "77e23d94-07b8-4253-86bb-b6544e63dd3e",
   "metadata": {},
   "outputs": [
    {
     "name": "stdout",
     "output_type": "stream",
     "text": [
      "80\n"
     ]
    }
   ],
   "source": [
    "print(plus_ten(70))"
   ]
  }
 ],
 "metadata": {
  "kernelspec": {
   "display_name": "Python 3 (ipykernel)",
   "language": "python",
   "name": "python3"
  },
  "language_info": {
   "codemirror_mode": {
    "name": "ipython",
    "version": 3
   },
   "file_extension": ".py",
   "mimetype": "text/x-python",
   "name": "python",
   "nbconvert_exporter": "python",
   "pygments_lexer": "ipython3",
   "version": "3.9.13"
  }
 },
 "nbformat": 4,
 "nbformat_minor": 5
}
