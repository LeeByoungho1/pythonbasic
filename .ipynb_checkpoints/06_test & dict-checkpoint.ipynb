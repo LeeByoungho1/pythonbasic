{
 "cells": [
  {
   "cell_type": "code",
   "execution_count": 1,
   "id": "940576ba-ae41-4d51-a682-dedeaad1bcc7",
   "metadata": {},
   "outputs": [
    {
     "name": "stdin",
     "output_type": "stream",
     "text": [
      "실기점수를 입력하세요 :  10\n"
     ]
    },
    {
     "name": "stdout",
     "output_type": "stream",
     "text": [
      "최고점수 : 10\n",
      "최저점수 : 10\n",
      "이 학생의 평균 점수는 10.0입니다.\n"
     ]
    }
   ],
   "source": [
    "Score = (input(\"실기점수를 입력하세요 : \")).split(\",\")\n",
    "\n",
    "Score = list(map(int, Score)) # a = list(map(int, a))\n",
    "\n",
    "h_s = Score[0] #최고점수\n",
    "l_s = Score[0] #최저점수\n",
    "i = 0\n",
    "total = 0 #점수총합\n",
    "\n",
    "for i in range (len(Score)-1): # i부터 len(Score)까지               \n",
    "    if h_s < Score[i+1]:       # l_s 가 Score[i+1] 보다 크다면 \n",
    "        h_s = Score[i+1]       # l_s에 Score[i+1]을 대입\n",
    "        i += 1                 # i에 +1\n",
    "    i += 1                     # if 식이 아니라면?\n",
    "for i in range (len(Score)-1):\n",
    "    if l_s > Score[i+1]:\n",
    "        l_s = Score[i+1]\n",
    "        i += 1\n",
    "    i += 1\n",
    "for i in range (len(Score)):\n",
    "    total += Score[i]\n",
    "    i += 1\n",
    "    \n",
    "avg = (total-h_s-l_s)/(len(Score)-2)\n",
    "print(f\"최고점수 : {h_s}\")\n",
    "print(f\"최저점수 : {l_s}\")\n",
    "print(f\"이 학생의 평균 점수는 {avg}입니다.\")"
   ]
  },
  {
   "cell_type": "code",
   "execution_count": 84,
   "id": "21c94090-e35c-4132-bda6-872f8de3017d",
   "metadata": {
    "tags": []
   },
   "outputs": [
    {
     "name": "stdin",
     "output_type": "stream",
     "text": [
      "실기점수를 입력하세요 :  70,50,85,98,82\n"
     ]
    },
    {
     "name": "stdout",
     "output_type": "stream",
     "text": [
      "최고점수 : 98\n",
      "최저점수 : 50\n",
      "이 학생의 평균 점수는 79.0입니다.\n"
     ]
    }
   ],
   "source": [
    "score = list(map(int, (input(\"실기점수를 입력하세요 : \")).split(\",\"))) \n",
    "\n",
    "h_s = score[0]\n",
    "l_s = score[0]\n",
    "total = 0\n",
    "\n",
    "for i in range (len(score)-1):               \n",
    "    if h_s < score[i+1]:    \n",
    "        h_s = score[i+1]      \n",
    "    if l_s > score[i+1]:\n",
    "        l_s = score[i+1]  \n",
    "for i in score:\n",
    "    total += i\n",
    "\n",
    "avg = (total-h_s-l_s)/(len(score)-2)\n",
    "print(f\"최고점수 : {h_s}\")\n",
    "print(f\"최저점수 : {l_s}\")\n",
    "print(f\"이 학생의 평균 점수는 {avg}입니다.\")"
   ]
  },
  {
   "cell_type": "code",
   "execution_count": 106,
   "id": "b530faa6-5b0f-4e9c-a7ac-261abd7016ac",
   "metadata": {},
   "outputs": [
    {
     "name": "stdin",
     "output_type": "stream",
     "text": [
      "점수를 입력하세요 :  86,72,98,60,45\n"
     ]
    },
    {
     "name": "stdout",
     "output_type": "stream",
     "text": [
      "2 1 1 1 0\n"
     ]
    }
   ],
   "source": [
    "score = list(map(int, (input(\"점수를 입력하세요 : \")).split(\",\"))) \n",
    "\n",
    "A = 0\n",
    "B = 0\n",
    "C = 0\n",
    "D = 0\n",
    "F = 0\n",
    "# A,B,C,D,F = 0,0,0,0,0\n",
    "# A,B,C,D,F = [0]*5\n",
    "\n",
    "for i in range (len(score)): # for i in range (  ) / range 뒤에 괄호 꼭 써줘야 함!\n",
    "    if score[i] >= 85:\n",
    "        A += 1\n",
    "    elif score[i] >= 70:\n",
    "        B += 1\n",
    "    elif score[i] >= 55:\n",
    "        C += 1\n",
    "    elif score[i] >= 40:\n",
    "        D += 1\n",
    "    else:\n",
    "        F += 1\n",
    "print(A,B,C,D,F)"
   ]
  },
  {
   "cell_type": "code",
   "execution_count": 111,
   "id": "7b36f899-2c01-4cd4-bc0d-7b19630ae4a0",
   "metadata": {},
   "outputs": [
    {
     "name": "stdout",
     "output_type": "stream",
     "text": [
      "1\t2\tFizz\t4\tBuzz\tFizz\t7\t8\tFizz\tBuzz\t11\tFizz\t13\t14\tFizzBuzz\t16\t17\tFizz\t19\tBuzz\tFizz\t22\t23\tFizz\tBuzz\t26\tFizz\t28\t29\tFizzBuzz\t31\t32\tFizz\t34\tBuzz\tFizz\t37\t38\tFizz\tBuzz\t41\tFizz\t43\t44\tFizzBuzz\t46\t47\tFizz\t49\tBuzz\tFizz\t52\t53\tFizz\tBuzz\t56\tFizz\t58\t59\tFizzBuzz\t61\t62\tFizz\t64\tBuzz\tFizz\t67\t68\tFizz\tBuzz\t71\tFizz\t73\t74\tFizzBuzz\t76\t77\tFizz\t79\tBuzz\tFizz\t82\t83\tFizz\tBuzz\t86\tFizz\t88\t89\tFizzBuzz\t91\t92\tFizz\t94\tBuzz\tFizz\t97\t98\tFizz\tBuzz\t"
     ]
    }
   ],
   "source": [
    "for i in range (1,101):\n",
    "    if i % 15 == 0:\n",
    "        print(\"FizzBuzz\",end=\"\\t\")\n",
    "    elif i % 3 == 0:\n",
    "        print(\"Fizz\",end=\"\\t\")\n",
    "    elif i % 5 == 0:\n",
    "        print(\"Buzz\",end=\"\\t\")\n",
    "    else:\n",
    "        print(i,end=\"\\t\")"
   ]
  },
  {
   "cell_type": "code",
   "execution_count": 127,
   "id": "4371f7a2-2032-4e05-a068-1c188a6c541f",
   "metadata": {},
   "outputs": [
    {
     "name": "stdout",
     "output_type": "stream",
     "text": [
      "1\t2\tFizz\t4\tBuzz\tFizz\t7\t8\tFizz\tBuzz\t11\tFizz\t13\t14\tFizzBuzz\t16\t17\tFizz\t19\tBuzz\tFizz\t22\t23\tFizz\tBuzz\t26\tFizz\t28\t29\tFizzBuzz\t31\t32\tFizz\t34\tBuzz\tFizz\t37\t38\tFizz\tBuzz\t41\tFizz\t43\t44\tFizzBuzz\t46\t47\tFizz\t49\tBuzz\tFizz\t52\t53\tFizz\tBuzz\t56\tFizz\t58\t59\tFizzBuzz\t61\t62\tFizz\t64\tBuzz\tFizz\t67\t68\tFizz\tBuzz\t71\tFizz\t73\t74\tFizzBuzz\t76\t77\tFizz\t79\tBuzz\tFizz\t82\t83\tFizz\tBuzz\t86\tFizz\t88\t89\tFizzBuzz\t91\t92\tFizz\t94\tBuzz\tFizz\t97\t98\tFizz\tBuzz\t"
     ]
    }
   ],
   "source": [
    "i = 1\n",
    "\n",
    "while i < 101:\n",
    "    if i % 15 == 0:\n",
    "        print(\"FizzBuzz\",end=\"\\t\")\n",
    "        i += 1\n",
    "    elif i % 3 == 0:\n",
    "        print(\"Fizz\",end=\"\\t\")\n",
    "        i += 1\n",
    "    elif i % 5 == 0:\n",
    "        print(\"Buzz\",end=\"\\t\")\n",
    "        i += 1\n",
    "    else:\n",
    "        print(i,end=\"\\t\")\n",
    "        i += 1"
   ]
  },
  {
   "cell_type": "code",
   "execution_count": 134,
   "id": "a9d39733-b033-4669-ac04-bde1160cafbd",
   "metadata": {},
   "outputs": [
    {
     "name": "stdout",
     "output_type": "stream",
     "text": [
      "1\n",
      "0\n",
      "1\t2\tFuzz\t4\tbuzz\tFuzz\t7\t8\tFuzz\tbuzz\t11\tFuzz\t13\t14\tFuzzbuzz\t16\t17\tFuzz\t19\tbuzz\tFuzz\t22\t23\tFuzz\tbuzz\t26\tFuzz\t28\t29\tFuzzbuzz\t31\t32\tFuzz\t34\tbuzz\tFuzz\t37\t38\tFuzz\tbuzz\t41\tFuzz\t43\t44\tFuzzbuzz\t46\t47\tFuzz\t49\tbuzz\tFuzz\t52\t53\tFuzz\tbuzz\t56\tFuzz\t58\t59\tFuzzbuzz\t61\t62\tFuzz\t64\tbuzz\tFuzz\t67\t68\tFuzz\tbuzz\t71\tFuzz\t73\t74\tFuzzbuzz\t76\t77\tFuzz\t79\tbuzz\tFuzz\t82\t83\tFuzz\tbuzz\t86\tFuzz\t88\t89\tFuzzbuzz\t91\t92\tFuzz\t94\tbuzz\tFuzz\t97\t98\tFuzz\tbuzz\t"
     ]
    }
   ],
   "source": [
    "print(int(True)) \n",
    "print(int(False))\n",
    "for i in range (1,101):\n",
    "    print(\"Fuzz\" * (i % 3 == 0) + \"buzz\" * (i % 5 == 0) or i,end=\"\\t\")"
   ]
  },
  {
   "cell_type": "code",
   "execution_count": 208,
   "id": "9d9a7656-1e48-4810-a5e1-7ca897d56a76",
   "metadata": {},
   "outputs": [
    {
     "name": "stdin",
     "output_type": "stream",
     "text": [
      "학생의 이름을 입력해주세요. matthew,mark,luke,john,paul,peter\n"
     ]
    },
    {
     "name": "stdout",
     "output_type": "stream",
     "text": [
      "matthew\n",
      "mark\n",
      "luke\n",
      "john\n",
      "paul\n",
      "peter\n"
     ]
    }
   ],
   "source": [
    "name_list = input(\"학생의 이름을 입력해주세요.\").split(\",\")\n",
    "\n",
    "for i in name_list:             # matthew,mark,luke,john,paul,peter\n",
    "    print(i)"
   ]
  },
  {
   "cell_type": "code",
   "execution_count": 207,
   "id": "c02095c5-d3a4-40b6-87ed-30938a1abe05",
   "metadata": {},
   "outputs": [
    {
     "name": "stdout",
     "output_type": "stream",
     "text": [
      "1\n"
     ]
    }
   ],
   "source": [
    "i = 0\n",
    "if 'm' in 'matthew':\n",
    "    i += 1\n",
    "print(i)"
   ]
  },
  {
   "cell_type": "code",
   "execution_count": 216,
   "id": "e2b3dce5-b4ca-411f-950a-ab5f5f3a2c4a",
   "metadata": {},
   "outputs": [
    {
     "name": "stdin",
     "output_type": "stream",
     "text": [
      "학생의 이름을 입력해주세요. matthew,mark,luke,john,paul,peter\n"
     ]
    },
    {
     "name": "stdout",
     "output_type": "stream",
     "text": [
      "m또는 h가 이름에 포함된 사람은 3명 입니다.\n"
     ]
    }
   ],
   "source": [
    "name_list = input(\"학생의 이름을 입력해주세요.\").split(\",\")\n",
    "\n",
    "student = 0\n",
    "\n",
    "for i in name_list:             # matthew,mark,luke,john,paul,peter    \n",
    "    if 'm' in i:\n",
    "        student += 1\n",
    "    elif 'h' in i:\n",
    "        student += 1            # if 'm' in i or 'h' in i:로 줄일 수 있다.\n",
    "    \n",
    "        \n",
    "print(f\"m또는 h가 이름에 포함된 사람은 {student}명 입니다.\")"
   ]
  },
  {
   "cell_type": "code",
   "execution_count": 210,
   "id": "2f224052-6f57-4db5-9aab-68dd42828fb5",
   "metadata": {},
   "outputs": [
    {
     "name": "stdin",
     "output_type": "stream",
     "text": [
      "학생의 이름을 입력해주세요. matthew,mark,luke,john,paul,peter\n"
     ]
    },
    {
     "name": "stdout",
     "output_type": "stream",
     "text": [
      "m또는 h가 이름에 포함된 사람은 3명 입니다.\n"
     ]
    }
   ],
   "source": [
    "name_list = input(\"학생의 이름을 입력해주세요.\").split(\",\")\n",
    "\n",
    "student = 0\n",
    "\n",
    "for name in name_list:\n",
    "    for n in name:\n",
    "        if n == 'm' or n == 'h':\n",
    "            student += 1\n",
    "            break\n",
    "print(f\"m또는 h가 이름에 포함된 사람은 {student}명 입니다.\")"
   ]
  },
  {
   "cell_type": "code",
   "execution_count": 19,
   "id": "469b74a6-a10c-4456-ae3c-998d221a2ff2",
   "metadata": {},
   "outputs": [
    {
     "name": "stdout",
     "output_type": "stream",
     "text": [
      "1번 학생 축하합니다. 합격입니다.\n",
      "3번 학생 축하합니다. 합격입니다.\n",
      "5번 학생 축하합니다. 합격입니다.\n"
     ]
    }
   ],
   "source": [
    "marks = [90,25,67,45,80]\n",
    "\n",
    "for i in range (len(marks)):\n",
    "    if marks[i] > 60:\n",
    "        print(f\"{i+1}번 학생 축하합니다. 합격입니다.\")\n",
    "    continue"
   ]
  },
  {
   "cell_type": "code",
   "execution_count": 29,
   "id": "432767e2-c74c-4eeb-a433-b677e83e39ef",
   "metadata": {},
   "outputs": [
    {
     "name": "stdout",
     "output_type": "stream",
     "text": [
      "1번 학생 축하합니다. 합격입니다.\n",
      "3번 학생 축하합니다. 합격입니다.\n",
      "5번 학생 축하합니다. 합격입니다.\n"
     ]
    }
   ],
   "source": [
    "marks = [90,25,67,45,80]\n",
    "i = 0\n",
    "\n",
    "while i < len(marks): # while문은 증감식이 꼭 필요하다!\n",
    "    if marks[i] > 60: \n",
    "        print(f\"{i+1}번 학생 축하합니다. 합격입니다.\")  \n",
    "        i += 1\n",
    "    else:\n",
    "        i += 1        # if와 else 둘다 공통적인 부분은 else생략하고 if문 마지막에 공통으로 입력가능!"
   ]
  },
  {
   "cell_type": "code",
   "execution_count": 31,
   "id": "93992dbf-38a3-45c9-ae4c-f0dc43ce09ad",
   "metadata": {},
   "outputs": [
    {
     "name": "stdout",
     "output_type": "stream",
     "text": [
      "1번 학생 축하합니다. 합격입니다.\n",
      "3번 학생 축하합니다. 합격입니다.\n",
      "5번 학생 축하합니다. 합격입니다.\n"
     ]
    }
   ],
   "source": [
    "marks = [90,25,67,45,80]\n",
    "i = 0\n",
    "\n",
    "while i < len(marks): # while문은 증감식이 꼭 필요하다!\n",
    "    if marks[i] > 60: \n",
    "        print(f\"{i+1}번 학생 축하합니다. 합격입니다.\")  \n",
    "    i += 1            #여기까지가 if문 (반복구간)"
   ]
  },
  {
   "cell_type": "code",
   "execution_count": 43,
   "id": "b22841cd-9801-49b3-806e-09e58fa46a82",
   "metadata": {},
   "outputs": [
    {
     "name": "stdout",
     "output_type": "stream",
     "text": [
      "변환된 arr은 [3, 2, 4, 1] 입니다.\n"
     ]
    }
   ],
   "source": [
    "arr = [1,4,2,3]\n",
    "left, right = 0,len(arr)-1 # left = 0 right = 3\n",
    "i = 0\n",
    "\n",
    "while i < 2: # 2번반복\n",
    "    arr[left], arr[right] = arr[right], arr[left] # arr[0]과 arr[3]을 바꿔준다.\n",
    "    left += 1\n",
    "    right -= 1\n",
    "    # arr[1]과 arr[2]을 바꿔줘야한다.\n",
    "    i += 1\n",
    "print(\"변환된 arr은\",arr,\"입니다.\")"
   ]
  },
  {
   "cell_type": "code",
   "execution_count": 87,
   "id": "a13c805b-9c6b-40e2-889b-eb300f14b72c",
   "metadata": {},
   "outputs": [
    {
     "name": "stdout",
     "output_type": "stream",
     "text": [
      "변환된 arr은 [3, 2, 4, 1] 입니다.\n"
     ]
    }
   ],
   "source": [
    "arr = [1,4,2,3]\n",
    "left, right = 0,len(arr)-1 # left = 0 right = 3\n",
    "\n",
    "while arr[1] > arr[2]: # left < (len(arr) // 2)  # left < right\n",
    "    arr[left], arr[right] = arr[right], arr[left] # arr[0]과 arr[3]을 바꿔준다.\n",
    "    left += 1   # arr[left] = arr[1] == 4\n",
    "    right -= 1  # arr[right] = arr[2] == 2  # arr[1]과 arr[2]을 바꿔줘야한다.\n",
    "    \n",
    "    \n",
    "print(\"변환된 arr은\",arr,\"입니다.\")"
   ]
  },
  {
   "cell_type": "code",
   "execution_count": 86,
   "id": "c5a47af0-da1a-4cad-87af-f950b0ee5072",
   "metadata": {},
   "outputs": [
    {
     "name": "stdout",
     "output_type": "stream",
     "text": [
      "2x1=2\t3x1=3\t4x1=4\t5x1=5\t6x1=6\t7x1=7\t8x1=8\t9x1=9\t\n",
      "2x2=4\t3x2=6\t4x2=8\t5x2=10\t6x2=12\t7x2=14\t8x2=16\t9x2=18\t\n",
      "2x3=6\t3x3=9\t4x3=12\t5x3=15\t6x3=18\t7x3=21\t8x3=24\t9x3=27\t\n",
      "2x4=8\t3x4=12\t4x4=16\t5x4=20\t6x4=24\t7x4=28\t8x4=32\t9x4=36\t\n",
      "2x5=10\t3x5=15\t4x5=20\t5x5=25\t6x5=30\t7x5=35\t8x5=40\t9x5=45\t\n",
      "2x6=12\t3x6=18\t4x6=24\t5x6=30\t6x6=36\t7x6=42\t8x6=48\t9x6=54\t\n",
      "2x7=14\t3x7=21\t4x7=28\t5x7=35\t6x7=42\t7x7=49\t8x7=56\t9x7=63\t\n",
      "2x8=16\t3x8=24\t4x8=32\t5x8=40\t6x8=48\t7x8=56\t8x8=64\t9x8=72\t\n",
      "2x9=18\t3x9=27\t4x9=36\t5x9=45\t6x9=54\t7x9=63\t8x9=72\t9x9=81\t\n"
     ]
    }
   ],
   "source": [
    "for i in range (1,10):\n",
    "    for j in range(2,10):\n",
    "        print(f\"{j}x{i}={j*i}\",end=\"\\t\")\n",
    "    print()"
   ]
  },
  {
   "cell_type": "code",
   "execution_count": 39,
   "id": "7a23f4ae-74ad-46b6-aff9-ec772dbfc43c",
   "metadata": {},
   "outputs": [
    {
     "name": "stdout",
     "output_type": "stream",
     "text": [
      "2x1=2\t3x1=3\t4x1=4\t5x1=5\t6x1=6\t7x1=7\t8x1=8\t9x1=9\t\n",
      "2x2=4\t3x2=6\t4x2=8\t5x2=10\t6x2=12\t7x2=14\t8x2=16\t9x2=18\t\n",
      "2x3=6\t3x3=9\t4x3=12\t5x3=15\t6x3=18\t7x3=21\t8x3=24\t9x3=27\t\n",
      "2x4=8\t3x4=12\t4x4=16\t5x4=20\t6x4=24\t7x4=28\t8x4=32\t9x4=36\t\n",
      "2x5=10\t3x5=15\t4x5=20\t5x5=25\t6x5=30\t7x5=35\t8x5=40\t9x5=45\t\n",
      "2x6=12\t3x6=18\t4x6=24\t5x6=30\t6x6=36\t7x6=42\t8x6=48\t9x6=54\t\n",
      "2x7=14\t3x7=21\t4x7=28\t5x7=35\t6x7=42\t7x7=49\t8x7=56\t9x7=63\t\n",
      "2x8=16\t3x8=24\t4x8=32\t5x8=40\t6x8=48\t7x8=56\t8x8=64\t9x8=72\t\n",
      "2x9=18\t3x9=27\t4x9=36\t5x9=45\t6x9=54\t7x9=63\t8x9=72\t9x9=81\t\n"
     ]
    }
   ],
   "source": [
    "i = 1\n",
    "\n",
    "while i < 10:\n",
    "    j = 2\n",
    "    while j < 10:\n",
    "        print(f\"{j}x{i}={j*i}\",end=\"\\t\")\n",
    "        j += 1\n",
    "    print()\n",
    "    i += 1"
   ]
  },
  {
   "cell_type": "markdown",
   "id": "c1928c40-87c9-44d5-91dc-8cb90dde22f8",
   "metadata": {},
   "source": [
    "## 딕셔너리 자료형\n",
    "\n",
    "- 비 시퀀스 자료형입니다. 따라서 인덱스를 갖지 않습니다.\n",
    "- 대신 이 자료형은 고유한 key를 가지고 1대1로 매칭된다.\n",
    "- key값으로 접근해서 그 pair를 찾는다."
   ]
  },
  {
   "cell_type": "code",
   "execution_count": 40,
   "id": "eb16bd2c-b2bb-48e6-8268-6322446386f5",
   "metadata": {},
   "outputs": [
    {
     "name": "stdout",
     "output_type": "stream",
     "text": [
      "<class 'dict'>\n",
      "{'key': 'value'}\n"
     ]
    }
   ],
   "source": [
    "dic_var = {\"key\" : \"value\"}\n",
    "print(type(dic_var))\n",
    "print(dic_var)"
   ]
  },
  {
   "cell_type": "code",
   "execution_count": 42,
   "id": "7cdc02fd-6a3b-46f2-b16b-0b62357dd6ac",
   "metadata": {},
   "outputs": [
    {
     "name": "stdout",
     "output_type": "stream",
     "text": [
      "{'key': 'value'}\n"
     ]
    }
   ],
   "source": [
    "dic_var = {\"key\" : \"value\", \"key\" : \"value\"} # 딕셔너리 자료형에서 키(key)는 중복해서 존재하지 않는다.\n",
    "                                             # 만약 중복해서 넣게되면 가장 최근 key-value-pair 만 남는다.\n",
    "print(dic_var)"
   ]
  },
  {
   "cell_type": "code",
   "execution_count": 41,
   "id": "0deb7b7d-49a0-4229-9842-4dde4005f65e",
   "metadata": {},
   "outputs": [
    {
     "name": "stdout",
     "output_type": "stream",
     "text": [
      "[<class 'str'>, <class 'int'>, <class 'float'>, <class 'tuple'>]\n"
     ]
    }
   ],
   "source": [
    "dic_var = {\"key\" : \"value\", 1: \"value2\", 1.1: \"value3\", True: \"value4\", (\"key\", 1, 1.1, True): \"value2\"}\n",
    "\n",
    "print(list(map(type, dic_var.keys())))"
   ]
  },
  {
   "cell_type": "code",
   "execution_count": 51,
   "id": "9acd80a6-d917-4b38-b266-89c9eaeda772",
   "metadata": {},
   "outputs": [
    {
     "name": "stdout",
     "output_type": "stream",
     "text": [
      "{}\n",
      "<class 'dict'>\n"
     ]
    }
   ],
   "source": [
    "empty_dict = {}  # == empty_dict = dict()\n",
    "print(empty_dict)\n",
    "print(type(empty_dict))"
   ]
  },
  {
   "cell_type": "code",
   "execution_count": 52,
   "id": "b614f052-d356-4c1c-8493-039479ffe25e",
   "metadata": {},
   "outputs": [
    {
     "name": "stdout",
     "output_type": "stream",
     "text": [
      "{'key': 'value', 'key2': 'value2', 'key3': 'value3'}\n"
     ]
    }
   ],
   "source": [
    "dict_a = dict(key=\"value\", key2=\"value2\", key3=\"value3\")\n",
    "print(dict_a)"
   ]
  },
  {
   "cell_type": "markdown",
   "id": "6210b0cc-3de2-40eb-8586-8b9967080f3d",
   "metadata": {},
   "source": [
    "### 딕셔너리 만드는 방법3가지"
   ]
  },
  {
   "cell_type": "code",
   "execution_count": 43,
   "id": "9bb9d906-1c61-48cb-85e8-cf387ef6c651",
   "metadata": {},
   "outputs": [
    {
     "data": {
      "text/plain": [
       "{'key': 'value', 'key2': 'value2'}"
      ]
     },
     "execution_count": 43,
     "metadata": {},
     "output_type": "execute_result"
    }
   ],
   "source": [
    "#1\n",
    "dict([(\"key\",\"value\"), (\"key2\",\"value2\")])"
   ]
  },
  {
   "cell_type": "code",
   "execution_count": 45,
   "id": "3ac034a6-09de-4006-b4b2-bebc044e8f26",
   "metadata": {},
   "outputs": [
    {
     "name": "stdout",
     "output_type": "stream",
     "text": [
      "{'key': 'value', 'key2': 'value2', 'key3': 'value3'}\n"
     ]
    }
   ],
   "source": [
    "#2\n",
    "dict_b = dict(zip([\"key\",\"key2\",\"key3\"],[\"value\",\"value2\",\"value3\"]))\n",
    "print(dict_b)"
   ]
  },
  {
   "cell_type": "code",
   "execution_count": 46,
   "id": "cad64bce-bf75-4ad3-a2c0-80f8ea5972fa",
   "metadata": {},
   "outputs": [
    {
     "data": {
      "text/plain": [
       "[('key', 'value'), ('key2', 'value2')]"
      ]
     },
     "execution_count": 46,
     "metadata": {},
     "output_type": "execute_result"
    }
   ],
   "source": [
    "#3\n",
    "[_ for _ in zip([\"key\",\"key2\"],[\"value\",\"value2\"])]"
   ]
  },
  {
   "cell_type": "code",
   "execution_count": 3,
   "id": "14c2cd41-d58e-4fee-84d0-8093bd496afa",
   "metadata": {},
   "outputs": [
    {
     "name": "stdout",
     "output_type": "stream",
     "text": [
      "{'key': 'value', 'key2': 'value2', 'key3': 'value3'}\n",
      "value\n"
     ]
    }
   ],
   "source": [
    "print(dict_b)\n",
    "print(dict_b[\"key\"])"
   ]
  },
  {
   "cell_type": "code",
   "execution_count": 4,
   "id": "473daf66-5155-4609-8deb-fdef35e914c7",
   "metadata": {},
   "outputs": [
    {
     "name": "stdout",
     "output_type": "stream",
     "text": [
      "{'key': 'value', 'key2': 'value2', 'key3': 'value3'}\n",
      "{'key': 'super value', 'key2': 'value2', 'key3': 'value3'}\n"
     ]
    }
   ],
   "source": [
    "print(dict_b)\n",
    "dict_b[\"key\"] = \"super value\"\n",
    "print(dict_b)\n",
    "#이미 있는 key에 새로운 value를 넣으면 새로운 value로 바뀐다."
   ]
  },
  {
   "cell_type": "code",
   "execution_count": 5,
   "id": "5da01bf1-8166-4ede-98c2-ef310a77cfd5",
   "metadata": {},
   "outputs": [
    {
     "name": "stdout",
     "output_type": "stream",
     "text": [
      "{'key': 'super value', 'key2': 'value2', 'key3': 'value3'}\n",
      "{'key': 'super value', 'key2': 'value2', 'key3': 'value3', 'new one': 'new value'}\n"
     ]
    }
   ],
   "source": [
    "print(dict_b)\n",
    "dict_b[\"new one\"] = \"new value\"\n",
    "print(dict_b)\n",
    "#없는 key에 새로운 value를 넣으면 key와 value모두 새로 생성된다."
   ]
  },
  {
   "cell_type": "code",
   "execution_count": 10,
   "id": "550bd99f-8c45-438c-99ef-1d187495dc4c",
   "metadata": {},
   "outputs": [
    {
     "name": "stdout",
     "output_type": "stream",
     "text": [
      "{'key': 'super value', 'key2': 'value2', 'key3': 'value3'}\n",
      "True\n"
     ]
    }
   ],
   "source": [
    "print(dict_b)\n",
    "print(\"key\" in dict_b) # in이라는 연산자 활용가능"
   ]
  },
  {
   "cell_type": "code",
   "execution_count": 6,
   "id": "b3aeaf4f-be57-4bad-bd51-dd03f363a337",
   "metadata": {},
   "outputs": [
    {
     "name": "stdout",
     "output_type": "stream",
     "text": [
      "{'key': 'super value', 'key2': 'value2', 'key3': 'value3', 'new one': 'new value'}\n",
      "{'key': 'super value', 'key2': 'value2', 'key3': 'value3'}\n"
     ]
    }
   ],
   "source": [
    "print(dict_b)\n",
    "del dict_b[\"new one\"]\n",
    "print(dict_b)\n",
    "#del을 이용해 key와 value 삭제가능"
   ]
  },
  {
   "cell_type": "code",
   "execution_count": 7,
   "id": "05b267e9-37b6-4d88-be79-709edfd10449",
   "metadata": {},
   "outputs": [
    {
     "name": "stdout",
     "output_type": "stream",
     "text": [
      "{'key': 'super value', 'key2': 'value2', 'key3': 'value3'}\n"
     ]
    },
    {
     "data": {
      "text/plain": [
       "3"
      ]
     },
     "execution_count": 7,
     "metadata": {},
     "output_type": "execute_result"
    }
   ],
   "source": [
    "print(dict_b)\n",
    "len(dict_b)"
   ]
  },
  {
   "cell_type": "code",
   "execution_count": 47,
   "id": "83708d13-688e-4193-a650-8032e533be47",
   "metadata": {},
   "outputs": [
    {
     "name": "stdin",
     "output_type": "stream",
     "text": [
      "과일 이름을 입력하세요. 사과\n"
     ]
    },
    {
     "name": "stdout",
     "output_type": "stream",
     "text": [
      "사과의 가격은 1000원 입니다.\n"
     ]
    }
   ],
   "source": [
    "f = input(\"과일 이름을 입력하세요.\")\n",
    "dict_f = {\"사과\":1000, \"바나나\":700, \"오렌지\":1500 ,\"파인애플\":2000}\n",
    "# dict_f = dict([(\"사과\",1000), (\"바나나\",700), (\"오렌지\",1500), (\"파인애플\",2000)])\n",
    "# dict_f = dict(zip([\"사과\",\"바나나\", \"오렌지\", \"파인애플\"],[1000, 700, 1500, 2000]))\n",
    "\n",
    "print(f\"{f}의 가격은 {dict_f[f]}원 입니다.\")"
   ]
  },
  {
   "cell_type": "code",
   "execution_count": 127,
   "id": "75cd036e-0710-42db-b536-479b3d3f8b35",
   "metadata": {},
   "outputs": [
    {
     "ename": "IndentationError",
     "evalue": "expected an indented block (118554496.py, line 8)",
     "output_type": "error",
     "traceback": [
      "\u001b[1;36m  File \u001b[1;32m\"C:\\Users\\Playdata\\AppData\\Local\\Temp\\ipykernel_17392\\118554496.py\"\u001b[1;36m, line \u001b[1;32m8\u001b[0m\n\u001b[1;33m    dict_n[i] = weight[j] # 안되는 이유:\u001b[0m\n\u001b[1;37m    ^\u001b[0m\n\u001b[1;31mIndentationError\u001b[0m\u001b[1;31m:\u001b[0m expected an indented block\n"
     ]
    }
   ],
   "source": [
    "#M\n",
    "name = input(\"이름을 기입해주세요.\").split(\",\")\n",
    "weight = list(map(float,(input(\"몸무게를 입력해주세요\").split(\",\"))))\n",
    "dict_n = {}\n",
    "\n",
    "for i in name:\n",
    "    for j in range (len(weight)):\n",
    "    dict_n[i] = weight[j] # 안되는 이유:\n",
    "print(dict_n)             # dict_n[i]에 weight[1],weight[2],,weight[len(weight)]이 다 할당되기 때문에\n",
    "                          # i와 j가 동일한 순번이여야 같은 페어로 나온다."
   ]
  },
  {
   "cell_type": "code",
   "execution_count": 119,
   "id": "1e0cc7d1-9ad9-484a-8cb3-793387ae234a",
   "metadata": {},
   "outputs": [
    {
     "name": "stdin",
     "output_type": "stream",
     "text": [
      "이름을 기입해주세요. 뽀로로,루피,크롱\n",
      "몸무게를 입력해주세요 20.4,16.2,12\n"
     ]
    },
    {
     "name": "stdout",
     "output_type": "stream",
     "text": [
      "{'뽀로로': 20.4, '루피': 16.2, '크롱': 12.0}\n"
     ]
    }
   ],
   "source": [
    "#T\n",
    "name = input(\"이름을 기입해주세요.\").split(\",\")\n",
    "weight = list(map(float,(input(\"몸무게를 입력해주세요\").split(\",\"))))\n",
    "dict_n = {}\n",
    "\n",
    "for i in range (len(name)):\n",
    "    dict_n[name[i]] = weight[i]\n",
    "print(dict_n)"
   ]
  },
  {
   "cell_type": "code",
   "execution_count": 124,
   "id": "60948117-ffcd-4854-abf2-51f17edb444e",
   "metadata": {},
   "outputs": [
    {
     "name": "stdin",
     "output_type": "stream",
     "text": [
      "이름을 기입해주세요. 뽀로로,루피,크롱\n",
      "몸무게를 입력해주세요 20.4,16.2,12\n"
     ]
    },
    {
     "name": "stdout",
     "output_type": "stream",
     "text": [
      "{'뽀로로': 20.4, '루피': 16.2, '크롱': 12.0}\n"
     ]
    }
   ],
   "source": [
    "#T\n",
    "name = input(\"이름을 기입해주세요.\").split(\",\")\n",
    "weight = map(float,(input(\"몸무게를 입력해주세요\").split(\",\")))\n",
    "\n",
    "dict_n = dict(zip(name, weight))\n",
    "print(dict_n)"
   ]
  },
  {
   "cell_type": "code",
   "execution_count": 142,
   "id": "c5ae6efe-3900-44ef-b4c6-2cfe3751c386",
   "metadata": {},
   "outputs": [
    {
     "name": "stdout",
     "output_type": "stream",
     "text": [
      "[1, 4, 9, 16, 25, 36, 49, 64, 81]\n"
     ]
    }
   ],
   "source": [
    "list_c = []\n",
    "for _ in range (1,10):\n",
    "    list_c.append(_**2)\n",
    "print(list_c)"
   ]
  },
  {
   "cell_type": "code",
   "execution_count": 138,
   "id": "86a14350-d28e-4452-864f-fc0b882d74f9",
   "metadata": {},
   "outputs": [
    {
     "name": "stdout",
     "output_type": "stream",
     "text": [
      "[1, 4, 9, 16, 25, 36, 49, 64, 81]\n"
     ]
    }
   ],
   "source": [
    "# list_a = [exprssion for _ in iterable]\n",
    "# list comprehension\n",
    "\n",
    "list_a = [_**2 for _ in range(1,10)]\n",
    "print(list_a)"
   ]
  },
  {
   "cell_type": "code",
   "execution_count": 136,
   "id": "bc68cced-aede-4c6b-9f59-a5694caf44b4",
   "metadata": {},
   "outputs": [
    {
     "name": "stdout",
     "output_type": "stream",
     "text": [
      "Hello word\n",
      "Hello word\n",
      "Hello word\n",
      "Hello word\n",
      "Hello word\n",
      "[None, None, None, None, None]\n"
     ]
    }
   ],
   "source": [
    "list_b = [print(\"Hello word\") for _ in range(5)] \n",
    "print(list_b) #print는 반환값이 없다."
   ]
  },
  {
   "cell_type": "code",
   "execution_count": 145,
   "id": "1ee2dfb0-9fe2-4c07-aba2-22811b89af82",
   "metadata": {},
   "outputs": [
    {
     "name": "stdout",
     "output_type": "stream",
     "text": [
      "<class 'list'>\n",
      "[1, 4, 9, 16, 25, 36, 49, 64, 81]\n"
     ]
    }
   ],
   "source": [
    "prac_result = [_**2 for _ in range(1,10)]\n",
    "print(type(prac_result))\n",
    "print(prac_result)"
   ]
  }
 ],
 "metadata": {
  "kernelspec": {
   "display_name": "Python 3 (ipykernel)",
   "language": "python",
   "name": "python3"
  },
  "language_info": {
   "codemirror_mode": {
    "name": "ipython",
    "version": 3
   },
   "file_extension": ".py",
   "mimetype": "text/x-python",
   "name": "python",
   "nbconvert_exporter": "python",
   "pygments_lexer": "ipython3",
   "version": "3.9.13"
  }
 },
 "nbformat": 4,
 "nbformat_minor": 5
}
