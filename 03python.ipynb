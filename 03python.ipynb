{
 "cells": [
  {
   "cell_type": "code",
   "execution_count": 12,
   "id": "bbe9d90b-5ad1-43e2-a63d-6feabc8373bf",
   "metadata": {},
   "outputs": [
    {
     "data": {
      "text/plain": [
       "False"
      ]
     },
     "execution_count": 12,
     "metadata": {},
     "output_type": "execute_result"
    }
   ],
   "source": [
    "scores = [88,73,89,59,77]\n",
    "\n",
    "scores[1] >= 60 and scores[2] >= 60 and scores[3] >= 60 and scores[4] >= 60 and scores[5] >= 60  \n"
   ]
  },
  {
   "cell_type": "code",
   "execution_count": 55,
   "id": "ff406c81-a8fd-404d-8795-7e0a1c89dd6f",
   "metadata": {},
   "outputs": [
    {
     "name": "stdout",
     "output_type": "stream",
     "text": [
      "[1, 2, 3, 4, 5, 6, 7, 8]\n",
      "[0, 1, 2, 3, 0, 4, 0, 5, 6, 7, 8, 0]\n",
      "[0, 1, 2, 3, 0, 4, 0, 5, 6, 7, 8, 0, 9, 10, 11]\n"
     ]
    }
   ],
   "source": [
    "#리스트.append(요소) -> 리스트에 요소를 추가합니다. 요소의 순서는 맨 뒤에 추가됩니다.\n",
    "numbers = [1,2,3,4,5,6,7]\n",
    "numbers.append(8)   \n",
    "\n",
    "print(numbers)\n",
    "\n",
    "#리스트.insert(인덱스,요소) -> 라스트에 요소를 추가합니다. 요소의 순서는 맨 뒤로 추가됩니다.\n",
    "numbers.insert(0,0)\n",
    "numbers.insert(4,0)\n",
    "numbers.insert(6,0)\n",
    "numbers.insert(len(numbers),0)\n",
    "\n",
    "print(numbers)\n",
    "\n",
    "#리스트1.extend(리스트2) -> 리스트1 맨 뒤로 리스트2 요소들을 추가합니다.\n",
    "numbers.extend([9,10,11])\n",
    "print(numbers)"
   ]
  },
  {
   "cell_type": "code",
   "execution_count": 56,
   "id": "1c45a52e-5c10-4ff2-83f4-9803d48a6b31",
   "metadata": {},
   "outputs": [
    {
     "name": "stdout",
     "output_type": "stream",
     "text": [
      "[0, 1, 2, 3, 0, 4, 0, 5, 6, 7, 8, 0, 9, 10, 11]\n",
      "[1, 2, 3, 0, 4, 0, 5, 6, 7, 8, 0, 9, 10, 11]\n"
     ]
    }
   ],
   "source": [
    "#리스트.remove(인자) -> 인자와 리스트에 동일한 요소를 제거합니다. \n",
    "#여럿인 경우 제일 먼저 발견된 요소를 삭제합니다.\n",
    "print(numbers)\n",
    "numbers.remove(0)\n",
    "print(numbers)"
   ]
  },
  {
   "cell_type": "code",
   "execution_count": 125,
   "id": "02ca0c3e-987e-4501-8dc4-585037ca6930",
   "metadata": {},
   "outputs": [
    {
     "name": "stdout",
     "output_type": "stream",
     "text": [
      "[9, 8, 7, 6, 5, 4, 3, 2, 0, 0]\n"
     ]
    }
   ],
   "source": [
    "del numbers[0]\n",
    "print(numbers)"
   ]
  },
  {
   "cell_type": "code",
   "execution_count": 122,
   "id": "29c217d2-29bb-42bf-a1e8-2ab64ce8ca34",
   "metadata": {},
   "outputs": [
    {
     "name": "stdout",
     "output_type": "stream",
     "text": [
      "0\n",
      "[10, 9, 8, 7, 6, 5, 4, 3, 2, 0, 0]\n"
     ]
    }
   ],
   "source": [
    "# pop > 제일 뒤에 오는 요소를 반환한다. 그리고 리스트에서 삭제한다.\n",
    "print(numbers.pop())\n",
    "\n",
    "print(numbers)"
   ]
  },
  {
   "cell_type": "code",
   "execution_count": 121,
   "id": "ac41341d-1907-4cc0-8311-f2c9107d972b",
   "metadata": {},
   "outputs": [
    {
     "name": "stdout",
     "output_type": "stream",
     "text": [
      "8\n"
     ]
    }
   ],
   "source": [
    "#리스트.index(인자) -> 리스트에서 순서대로 인자와 요소가 같은 것을 찾습니다.\n",
    "#첫 번째로 발견된 요소의 인덱스 값을 반환합니다.\n",
    "print(numbers.index(2)) "
   ]
  },
  {
   "cell_type": "code",
   "execution_count": 124,
   "id": "23aa38a9-b223-4ea3-b222-865a8c02e4c9",
   "metadata": {},
   "outputs": [
    {
     "name": "stdout",
     "output_type": "stream",
     "text": [
      "[10, 9, 8, 7, 6, 5, 4, 3, 2, 0, 0]\n",
      "2\n"
     ]
    }
   ],
   "source": [
    "# count(인자) 리스트 안에 인자와 같은 요소가 몇개가 있는지 반환한다.\n",
    "print(numbers)\n",
    "print(numbers.count(0))"
   ]
  },
  {
   "cell_type": "code",
   "execution_count": 72,
   "id": "6d11ce8b-9dca-4c64-8913-2655bfac9ae0",
   "metadata": {},
   "outputs": [
    {
     "name": "stdout",
     "output_type": "stream",
     "text": [
      "[10, 9, 8, 7, 6, 5, 4, 3, 2, 0, 0, 0]\n",
      "None\n",
      "[0, 0, 0, 2, 3, 4, 5, 6, 7, 8, 9, 10]\n",
      "None\n"
     ]
    }
   ],
   "source": [
    "# sort오름차순으로 순서를 정리해준다.\n",
    "print(numbers)\n",
    "\n",
    "print(numbers.sort()) \n",
    "\n",
    "# reverse는 순서롤 역순으로 바꿔준다\n",
    "print(numbers)\n",
    "\n",
    "print(numbers.reverse())"
   ]
  },
  {
   "cell_type": "code",
   "execution_count": 77,
   "id": "256f1fa8-2033-4fb8-8c1a-4a8a7e795340",
   "metadata": {},
   "outputs": [
    {
     "name": "stdout",
     "output_type": "stream",
     "text": [
      "[3, 4, 5, 6, 7]\n",
      "7\n",
      "[3, 4, 5, 6]\n",
      "6\n",
      "5\n",
      "[3, 4]\n"
     ]
    }
   ],
   "source": [
    "stack = [3,4,5]\n",
    "stack.append(6)\n",
    "stack.append(7)\n",
    "\n",
    "print(stack)\n",
    "\n",
    "print(stack.pop())\n",
    "\n",
    "print(stack)\n",
    "\n",
    "print(stack.pop())\n",
    "\n",
    "print(stack.pop())\n",
    "\n",
    "print(stack)"
   ]
  },
  {
   "cell_type": "code",
   "execution_count": 80,
   "id": "3512769e-c566-4052-b8f4-efabe0827e22",
   "metadata": {},
   "outputs": [
    {
     "ename": "TypeError",
     "evalue": "'tuple' object does not support item assignment",
     "output_type": "error",
     "traceback": [
      "\u001b[1;31m---------------------------------------------------------------------------\u001b[0m",
      "\u001b[1;31mTypeError\u001b[0m                                 Traceback (most recent call last)",
      "\u001b[1;32m~\\AppData\\Local\\Temp\\ipykernel_15400\\4004695832.py\u001b[0m in \u001b[0;36m<module>\u001b[1;34m\u001b[0m\n\u001b[0;32m      1\u001b[0m \u001b[0mtuple_vaiable\u001b[0m \u001b[1;33m=\u001b[0m \u001b[1;33m(\u001b[0m\u001b[1;36m1\u001b[0m\u001b[1;33m,\u001b[0m\u001b[1;36m2\u001b[0m\u001b[1;33m,\u001b[0m\u001b[1;36m3\u001b[0m\u001b[1;33m,\u001b[0m\u001b[1;36m4\u001b[0m\u001b[1;33m,\u001b[0m\u001b[1;36m5\u001b[0m\u001b[1;33m,\u001b[0m\u001b[1;34m\"hello\"\u001b[0m\u001b[1;33m)\u001b[0m\u001b[1;33m\u001b[0m\u001b[1;33m\u001b[0m\u001b[0m\n\u001b[1;32m----> 2\u001b[1;33m \u001b[0mtuple_vaiable\u001b[0m\u001b[1;33m[\u001b[0m\u001b[1;36m0\u001b[0m\u001b[1;33m]\u001b[0m \u001b[1;33m=\u001b[0m \u001b[1;36m0\u001b[0m   \u001b[1;31m#수정불가\u001b[0m\u001b[1;33m\u001b[0m\u001b[1;33m\u001b[0m\u001b[0m\n\u001b[0m\u001b[0;32m      3\u001b[0m \u001b[0mtuple_vaiable\u001b[0m\u001b[1;33m[\u001b[0m\u001b[1;36m1\u001b[0m\u001b[1;33m:\u001b[0m\u001b[1;36m3\u001b[0m\u001b[1;33m]\u001b[0m \u001b[1;33m=\u001b[0m \u001b[1;33m(\u001b[0m\u001b[1;36m6\u001b[0m\u001b[1;33m,\u001b[0m\u001b[1;36m7\u001b[0m\u001b[1;33m)\u001b[0m   \u001b[1;31m#마찬가지로 슬라이싱도 수정불가\u001b[0m\u001b[1;33m\u001b[0m\u001b[1;33m\u001b[0m\u001b[0m\n",
      "\u001b[1;31mTypeError\u001b[0m: 'tuple' object does not support item assignment"
     ]
    }
   ],
   "source": [
    "tuple_vaiable = (1,2,3,4,5,\"hello\")\n",
    "tuple_vaiable[0] = 0   #수정불가\n",
    "tuple_vaiable[1:3] = (6,7)   #마찬가지로 슬라이싱도 수정불가"
   ]
  },
  {
   "cell_type": "code",
   "execution_count": 81,
   "id": "4144d094-c221-4d17-ba48-653271341a22",
   "metadata": {},
   "outputs": [
    {
     "ename": "TypeError",
     "evalue": "'tuple' object doesn't support item deletion",
     "output_type": "error",
     "traceback": [
      "\u001b[1;31m---------------------------------------------------------------------------\u001b[0m",
      "\u001b[1;31mTypeError\u001b[0m                                 Traceback (most recent call last)",
      "\u001b[1;32m~\\AppData\\Local\\Temp\\ipykernel_15400\\709471130.py\u001b[0m in \u001b[0;36m<module>\u001b[1;34m\u001b[0m\n\u001b[1;32m----> 1\u001b[1;33m \u001b[1;32mdel\u001b[0m \u001b[0mtuple_vaiable\u001b[0m\u001b[1;33m[\u001b[0m\u001b[1;36m0\u001b[0m\u001b[1;33m]\u001b[0m\u001b[1;33m\u001b[0m\u001b[1;33m\u001b[0m\u001b[0m\n\u001b[0m",
      "\u001b[1;31mTypeError\u001b[0m: 'tuple' object doesn't support item deletion"
     ]
    }
   ],
   "source": [
    "del tuple_vaiable[0]"
   ]
  },
  {
   "cell_type": "code",
   "execution_count": 87,
   "id": "c4afff50-347b-4a60-b7e1-beaec4778c75",
   "metadata": {},
   "outputs": [
    {
     "name": "stdout",
     "output_type": "stream",
     "text": [
      "<class 'tuple'>\n",
      "('음', '오', '아', '예')\n"
     ]
    }
   ],
   "source": [
    "t_y = \"음\",\"오\",\"아\",\"예\"\n",
    "print(type(t_y))\n",
    "print(t_y)"
   ]
  },
  {
   "cell_type": "code",
   "execution_count": 92,
   "id": "470d14a1-cc94-4826-93ad-a75c62da92a5",
   "metadata": {},
   "outputs": [
    {
     "name": "stdout",
     "output_type": "stream",
     "text": [
      "0.16910028457641602\n"
     ]
    }
   ],
   "source": [
    "#튜플과 리스트의 소요시간 비교\n",
    "\n",
    "#튜플\n",
    "import time\n",
    "\n",
    "curr = time.time()\n",
    "total = []\n",
    "\n",
    "for i in range(1000):\n",
    "    for j in range(1000):\n",
    "        total.append((i,j)) #소괄호\n",
    "        \n",
    "last = time.time()\n",
    "print(last - curr)"
   ]
  },
  {
   "cell_type": "code",
   "execution_count": 93,
   "id": "2ea94aef-48b6-4796-b94c-65589c976d6e",
   "metadata": {},
   "outputs": [
    {
     "name": "stdout",
     "output_type": "stream",
     "text": [
      "0.5041012763977051\n"
     ]
    }
   ],
   "source": [
    "#리스트\n",
    "import time\n",
    "\n",
    "curr = time.time()\n",
    "total = []\n",
    "\n",
    "for i in range(1000):\n",
    "    for j in range(1000): #대괄호\n",
    "        total.append([i,j]) \n",
    "        \n",
    "last = time.time()\n",
    "print(last - curr)"
   ]
  },
  {
   "cell_type": "code",
   "execution_count": 126,
   "id": "e37aafe6-9b1b-4674-8177-524e5931037f",
   "metadata": {},
   "outputs": [
    {
     "name": "stdout",
     "output_type": "stream",
     "text": [
      "text1\n",
      "text2\n"
     ]
    }
   ],
   "source": [
    "s1 ,s2 = \"text1\", \"text2\"\n",
    "print(s1)\n",
    "print(s2)"
   ]
  },
  {
   "cell_type": "code",
   "execution_count": 127,
   "id": "d9599858-b21f-4801-977f-567509205525",
   "metadata": {},
   "outputs": [
    {
     "name": "stdout",
     "output_type": "stream",
     "text": [
      "이렇게 리스트도 가능합니다.\n"
     ]
    }
   ],
   "source": [
    "s3, s4, s5 = [\"이렇게\",\"리스트도\",\"가능합니다.\"]\n",
    "print(s3,s4,s5)"
   ]
  },
  {
   "cell_type": "code",
   "execution_count": 129,
   "id": "3e10112d-2e06-4486-9c80-e717da0196e9",
   "metadata": {},
   "outputs": [
    {
     "name": "stdout",
     "output_type": "stream",
     "text": [
      "문 자 열 도\n"
     ]
    }
   ],
   "source": [
    "s6, s7, s8, s9 = \"문자열도\"\n",
    "print(s6, s7, s8, s9)"
   ]
  },
  {
   "cell_type": "code",
   "execution_count": 130,
   "id": "49e89c67-0159-49f9-8ea4-fbe59828403b",
   "metadata": {},
   "outputs": [
    {
     "name": "stdin",
     "output_type": "stream",
     "text": [
      "Message 1111\n"
     ]
    }
   ],
   "source": [
    "input_value = input(\"Message\")"
   ]
  },
  {
   "cell_type": "code",
   "execution_count": 131,
   "id": "38eace85-5e10-4e13-bdb2-15cf92f3ed0b",
   "metadata": {},
   "outputs": [
    {
     "name": "stdout",
     "output_type": "stream",
     "text": [
      "input_value: 1111 \n",
      "tpye: <class 'str'>\n"
     ]
    }
   ],
   "source": [
    "print(\"input_value:\", input_value, \"\\ntpye:\" , type(input_value)) "
   ]
  },
  {
   "cell_type": "code",
   "execution_count": 133,
   "id": "d903cb76-a3c8-4ab8-8811-0900c326dc3a",
   "metadata": {},
   "outputs": [],
   "source": [
    "input_value = int(input_value)"
   ]
  },
  {
   "cell_type": "code",
   "execution_count": 134,
   "id": "13988efe-f0ac-4d3a-864e-3c1a27c39a32",
   "metadata": {},
   "outputs": [
    {
     "name": "stdout",
     "output_type": "stream",
     "text": [
      "input_value: 1111 \n",
      "tpye: <class 'int'>\n"
     ]
    }
   ],
   "source": [
    "print(\"input_value:\", input_value, \"\\ntpye:\" , type(input_value)) "
   ]
  },
  {
   "cell_type": "code",
   "execution_count": 10,
   "id": "6bd0da64-6e16-4de7-801c-c56b09019bef",
   "metadata": {},
   "outputs": [
    {
     "name": "stdin",
     "output_type": "stream",
     "text": [
      "정수 외에 다른 값을 입력해보세요. 1.1\n"
     ]
    }
   ],
   "source": [
    "input_value2 = input(\"정수 외에 다른 값을 입력해보세요.\")"
   ]
  },
  {
   "cell_type": "code",
   "execution_count": 12,
   "id": "053f7f12-fc2a-4cb6-88de-085667264403",
   "metadata": {},
   "outputs": [
    {
     "name": "stdout",
     "output_type": "stream",
     "text": [
      "1.1\n"
     ]
    }
   ],
   "source": [
    "input_value2 = float(input_value2)\n",
    "print(input_value2)"
   ]
  },
  {
   "cell_type": "code",
   "execution_count": 137,
   "id": "84bd0475-302d-4c88-9e7f-6ed4e63ca035",
   "metadata": {},
   "outputs": [
    {
     "name": "stdin",
     "output_type": "stream",
     "text": [
      "정수를 입력해주세요: 5\n"
     ]
    },
    {
     "name": "stdout",
     "output_type": "stream",
     "text": [
      "5\n"
     ]
    }
   ],
   "source": [
    "input_value = int(input(\"정수를 입력해주세요:\"))\n",
    "print(input_value)"
   ]
  },
  {
   "cell_type": "code",
   "execution_count": 149,
   "id": "a124c35c-f79e-4061-baf4-75fb1179169c",
   "metadata": {},
   "outputs": [
    {
     "name": "stdin",
     "output_type": "stream",
     "text": [
      "이름을 입력하시오: 엔코아\n"
     ]
    }
   ],
   "source": [
    "name = input(\"이름을 입력하시오:\")"
   ]
  },
  {
   "cell_type": "code",
   "execution_count": 150,
   "id": "8bf06a8d-89e6-4a6d-8edd-8513d0be287f",
   "metadata": {},
   "outputs": [
    {
     "name": "stdout",
     "output_type": "stream",
     "text": [
      "엔코아 씨 안녕하세요?\n",
      "파이썬에 오신것을 환영합니다.\n"
     ]
    }
   ],
   "source": [
    "print(name,\"씨 안녕하세요?\")\n",
    "print(\"파이썬에 오신것을 환영합니다.\")"
   ]
  },
  {
   "cell_type": "code",
   "execution_count": 151,
   "id": "6ab9cf54-c383-4b30-ac37-6ad9a6def889",
   "metadata": {},
   "outputs": [
    {
     "name": "stdin",
     "output_type": "stream",
     "text": [
      "첫 번째 정수를 입력하세요: 300\n"
     ]
    }
   ],
   "source": [
    "first = int(input(\"첫 번째 정수를 입력하세요:\"))"
   ]
  },
  {
   "cell_type": "code",
   "execution_count": 152,
   "id": "7511cb87-aa2d-4c61-90e2-860ea8c487ea",
   "metadata": {},
   "outputs": [
    {
     "name": "stdin",
     "output_type": "stream",
     "text": [
      "두 번째 정수를 입력하세요: 400\n"
     ]
    }
   ],
   "source": [
    "second = int(input(\"두 번째 정수를 입력하세요:\"))"
   ]
  },
  {
   "cell_type": "code",
   "execution_count": 153,
   "id": "8bd336e7-36bb-42e1-83a3-2143d5a25910",
   "metadata": {},
   "outputs": [
    {
     "name": "stdout",
     "output_type": "stream",
     "text": [
      "300 과 400 의 합은 700 입니다.\n"
     ]
    }
   ],
   "source": [
    "print(first, \"과\", second, \"의 합은\", first + second, \"입니다.\")"
   ]
  },
  {
   "cell_type": "code",
   "execution_count": 154,
   "id": "3d17112c-be20-4165-9580-2796ca20d584",
   "metadata": {},
   "outputs": [
    {
     "name": "stdin",
     "output_type": "stream",
     "text": [
      "경기장은 어디입니까? 고척\n"
     ]
    }
   ],
   "source": [
    "stadium = input(\"경기장은 어디입니까?\")"
   ]
  },
  {
   "cell_type": "code",
   "execution_count": 155,
   "id": "5b15dce4-39ca-4e55-8bab-d5a0e6cacde6",
   "metadata": {},
   "outputs": [
    {
     "name": "stdin",
     "output_type": "stream",
     "text": [
      "이긴 팀은 어디입니까? KT\n"
     ]
    }
   ],
   "source": [
    "w_team = input(\"이긴 팀은 어디입니까?\")"
   ]
  },
  {
   "cell_type": "code",
   "execution_count": 157,
   "id": "ec4be434-0da7-44a3-aef3-913a4cb85167",
   "metadata": {},
   "outputs": [
    {
     "name": "stdin",
     "output_type": "stream",
     "text": [
      "진 팀은 어디입니까? LG\n"
     ]
    }
   ],
   "source": [
    "l_team = input(\"진 팀은 어디입니까?\")"
   ]
  },
  {
   "cell_type": "code",
   "execution_count": 158,
   "id": "765ed49d-0725-455d-9f92-7a4a2ae1f12b",
   "metadata": {},
   "outputs": [
    {
     "name": "stdin",
     "output_type": "stream",
     "text": [
      "우수 선수는 누구입니까? 강백호\n"
     ]
    }
   ],
   "source": [
    "best_player = input(\"우수 선수는 누구입니까?\")"
   ]
  },
  {
   "cell_type": "code",
   "execution_count": 160,
   "id": "0a783241-ae63-4d90-8a5b-ab8eeab05b1f",
   "metadata": {},
   "outputs": [
    {
     "name": "stdin",
     "output_type": "stream",
     "text": [
      "스코어는 몇대몇입니까? 10:9\n"
     ]
    }
   ],
   "source": [
    "score = input(\"스코어는 몇대몇입니까?\")"
   ]
  },
  {
   "cell_type": "code",
   "execution_count": 174,
   "id": "8a241fe4-d2fd-412a-803b-ad9bbdbf7e27",
   "metadata": {},
   "outputs": [
    {
     "name": "stdout",
     "output_type": "stream",
     "text": [
      "[속보] KT 가 10:9 로 승리...\n",
      "오늘 고척 경기장에서 야구 경기가 있었습니다.\n",
      "KT 와 LG 는 치열한 공방전을 펼쳤습니다.\n",
      "이 경기에서 강백호 가 맹활약을 했습니다.\n",
      "그 끝내 KT 가 LG 를 10:9 로 승리하였습니다.\n",
      "기사 끝.\n"
     ]
    }
   ],
   "source": [
    "print(\"[속보]\", w_team, \"가\", score, \"로 승리...\")\n",
    "print(\"오늘\", stadium,\"경기장에서 야구 경기가 있었습니다.\")\n",
    "print(w_team, \"와\", l_team, \"는 치열한 공방전을 펼쳤습니다.\")\n",
    "print(\"이 경기에서\", best_player,\"가 맹활약을 했습니다.\")\n",
    "print(\"그 끝내\", w_team, \"가\", l_team, \"를\", score, \"로 승리하였습니다.\")\n",
    "print(\"기사 끝.\")"
   ]
  },
  {
   "cell_type": "code",
   "execution_count": 178,
   "id": "6d82dcab-d6bc-4c89-bd9c-82bd1d701036",
   "metadata": {},
   "outputs": [
    {
     "name": "stdout",
     "output_type": "stream",
     "text": [
      "<class 'list'>\n",
      "['12', '34', '56']\n"
     ]
    }
   ],
   "source": [
    "result = '12,34,56'.split(',')\n",
    "print(type(result))\n",
    "print(result)"
   ]
  },
  {
   "cell_type": "code",
   "execution_count": 214,
   "id": "f70da367-e9b4-48c8-91fa-85f0a5879b05",
   "metadata": {},
   "outputs": [
    {
     "name": "stdin",
     "output_type": "stream",
     "text": [
      "hh:mm:ss의 형태로 시간을 입력해주세요 12:33:23\n"
     ]
    }
   ],
   "source": [
    "h, m, s = input(\"hh:mm:ss의 형태로 시간을 입력해주세요\").split(':')"
   ]
  },
  {
   "cell_type": "code",
   "execution_count": 215,
   "id": "91b6f189-b9e6-4b7e-8f74-c91daebcd6e2",
   "metadata": {},
   "outputs": [
    {
     "name": "stdout",
     "output_type": "stream",
     "text": [
      "시: 12\n",
      "분: 33\n",
      "초: 23\n"
     ]
    }
   ],
   "source": [
    "print(\"시:\", h)\n",
    "print(\"분:\", m)\n",
    "print(\"초:\", s)"
   ]
  },
  {
   "cell_type": "code",
   "execution_count": 10,
   "id": "efbeb665-7789-40f4-acd8-fd1b7ecfb7a2",
   "metadata": {},
   "outputs": [
    {
     "name": "stdout",
     "output_type": "stream",
     "text": [
      "[1, 2, 3, 4]\n"
     ]
    }
   ],
   "source": [
    "a = [1.2, 2.5, 3.7, 4.6]\n",
    "a = list(map(int, a)) # list타입으로 변경해준다.\n",
    "print(a)"
   ]
  },
  {
   "cell_type": "code",
   "execution_count": 232,
   "id": "603a58c6-1154-40d5-b7d8-1bab871fc09d",
   "metadata": {},
   "outputs": [
    {
     "name": "stdin",
     "output_type": "stream",
     "text": [
      "국어,영어,수학,과학 점수를 입력해주세요. 98,100,96,100\n"
     ]
    }
   ],
   "source": [
    "score = input(\"국어,영어,수학,과학 점수를 입력해주세요.\").split(\",\")"
   ]
  },
  {
   "cell_type": "code",
   "execution_count": 243,
   "id": "4b65298a-f1de-40bb-bbfa-813198fcf8cf",
   "metadata": {},
   "outputs": [
    {
     "name": "stdout",
     "output_type": "stream",
     "text": [
      "평균 점수는 98.5 점입니다.\n"
     ]
    }
   ],
   "source": [
    "score = list(map(int,score))\n",
    "\n",
    "kor = score[0]\n",
    "eng = score[1]\n",
    "mat = score[2] \n",
    "sci = score[3] \n",
    "\n",
    "avg = (kor+eng+mat+sci)/4\n",
    "\n",
    "print(\"평균 점수는\", avg, \"점입니다.\")"
   ]
  },
  {
   "cell_type": "code",
   "execution_count": 257,
   "id": "4c3128b6-62bb-4cf0-bca6-fa830601676f",
   "metadata": {},
   "outputs": [
    {
     "name": "stdin",
     "output_type": "stream",
     "text": [
      "국어,영어,수학,과학 점수를 입력해주세요. 98,100,96,100\n"
     ]
    }
   ],
   "source": [
    "kor, eng, mat, sci = map(int,input(\"국어,영어,수학,과학 점수를 입력해주세요.\").split(\",\"))"
   ]
  },
  {
   "cell_type": "code",
   "execution_count": 254,
   "id": "8c1ec660-c9bb-4992-89d7-8a8fca05e7cf",
   "metadata": {},
   "outputs": [
    {
     "name": "stdout",
     "output_type": "stream",
     "text": [
      "평균 점수는 98.5 점입니다.\n"
     ]
    }
   ],
   "source": [
    "avg = (kor+eng+mat+sci)/4\n",
    "\n",
    "print(\"평균 점수는\", avg, \"점입니다.\")"
   ]
  },
  {
   "cell_type": "code",
   "execution_count": 277,
   "id": "e439177f-72f8-4744-90bd-d674d2cdac82",
   "metadata": {},
   "outputs": [
    {
     "name": "stdout",
     "output_type": "stream",
     "text": [
      "2021/02/03 18:33:23\n"
     ]
    }
   ],
   "source": [
    "year = '2021'\n",
    "month = '02'\n",
    "day = '03'\n",
    "hour = '18'\n",
    "minute = '33'\n",
    "second = '23'\n",
    "\n",
    "# sep = \"/\" 중간중간에 / 기호 추가\n",
    "# end = \" \" 들여쓰기\n",
    "# +꼭 끝에 적어주기\n",
    "print(year, month, day, sep = \"/\",end = \" \")\n",
    "print(hour, minute, second, sep = \":\")"
   ]
  },
  {
   "cell_type": "code",
   "execution_count": 286,
   "id": "6804ab6f-3bb1-4d9f-8fc5-5b3dbb8cdb3f",
   "metadata": {},
   "outputs": [
    {
     "name": "stdin",
     "output_type": "stream",
     "text": [
      "사과와 오렌지을 몇 개 드릴까요? 10,20\n"
     ]
    }
   ],
   "source": [
    "apple, orange = map(int,input(\"사과와 오렌지을 몇 개 드릴까요?\").split(\",\")) "
   ]
  },
  {
   "cell_type": "code",
   "execution_count": 288,
   "id": "88288b43-d6cb-4dd1-9674-b3c6bcb0a2f6",
   "metadata": {},
   "outputs": [
    {
     "name": "stdout",
     "output_type": "stream",
     "text": [
      "총 가격은 14000원입니다.\n"
     ]
    }
   ],
   "source": [
    "price = apple*1000 + orange*200\n",
    "print(\"총 가격은\", price, end = \"\")\n",
    "print(\"원입니다.\")"
   ]
  },
  {
   "cell_type": "code",
   "execution_count": 296,
   "id": "e379a105-a899-47bd-bf40-c9620fae664a",
   "metadata": {},
   "outputs": [
    {
     "name": "stdout",
     "output_type": "stream",
     "text": [
      "input_value4는 정수입니다.\n"
     ]
    }
   ],
   "source": [
    "input_value4 = 1\n",
    "\n",
    "if type(input_value4) is int:\n",
    "    print(\"input_value4는 정수입니다.\")"
   ]
  },
  {
   "cell_type": "code",
   "execution_count": 301,
   "id": "dfe2ee91-d954-48a2-a431-caad2f1d3a79",
   "metadata": {},
   "outputs": [
    {
     "name": "stdout",
     "output_type": "stream",
     "text": [
      "30대 입니다.\n",
      "감사합니다.\n"
     ]
    }
   ],
   "source": [
    "age = 30\n",
    "if 20 <= age < 30:\n",
    "    print(\"20대 입니다.\")\n",
    "elif 30 <= age < 40:\n",
    "    print(\"30대 입니다.\")\n",
    "    \n",
    "print(\"감사합니다.\")"
   ]
  },
  {
   "cell_type": "code",
   "execution_count": 7,
   "id": "96df7abf-eb66-4fbc-92e3-3e222e0841e2",
   "metadata": {},
   "outputs": [
    {
     "name": "stdout",
     "output_type": "stream",
     "text": [
      "40대 입니다.\n",
      "감사합니다.\n"
     ]
    }
   ],
   "source": [
    "age = 40\n",
    "if 20 <= age < 30:\n",
    "    print(\"20대 입니다.\")\n",
    "elif 30 <= age < 40:\n",
    "    print(\"30대 입니다.\")\n",
    "else:\n",
    "    print(\"40대 입니다.\")\n",
    "    \n",
    "print(\"감사합니다.\")"
   ]
  },
  {
   "cell_type": "code",
   "execution_count": 9,
   "id": "50b0b37d-5a50-4938-8609-ca35adfee24d",
   "metadata": {},
   "outputs": [
    {
     "name": "stdin",
     "output_type": "stream",
     "text": [
      "아이디를 입력하세요. dddd\n",
      "회원 등급을 입력해주세요. 3\n"
     ]
    },
    {
     "name": "stdout",
     "output_type": "stream",
     "text": [
      "제한적인 권한을 갖습니다.\n"
     ]
    }
   ],
   "source": [
    "user_name = input(\"아이디를 입력하세요.\")\n",
    "\n",
    "if user_name == ('admin'):\n",
    "    print(\"최고관리자, 모든 권한을 갖습니다.\")\n",
    "\n",
    "    \n",
    "else:\n",
    "    grade = int(input(\"회원 등급을 입력해주세요.\"))\n",
    "    if 1 <= grade <= 3:\n",
    "        print(\"제한적인 권한을 갖습니다.\")\n",
    "    else:\n",
    "        print(\"권한이 없습니다.\")"
   ]
  }
 ],
 "metadata": {
  "kernelspec": {
   "display_name": "Python 3 (ipykernel)",
   "language": "python",
   "name": "python3"
  },
  "language_info": {
   "codemirror_mode": {
    "name": "ipython",
    "version": 3
   },
   "file_extension": ".py",
   "mimetype": "text/x-python",
   "name": "python",
   "nbconvert_exporter": "python",
   "pygments_lexer": "ipython3",
   "version": "3.9.13"
  }
 },
 "nbformat": 4,
 "nbformat_minor": 5
}
