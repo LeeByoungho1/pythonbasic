{
 "cells": [
  {
   "cell_type": "code",
   "execution_count": 4,
   "id": "95296dde-8b0b-465c-aa15-e7987f925dd2",
   "metadata": {},
   "outputs": [
    {
     "name": "stdout",
     "output_type": "stream",
     "text": [
      "[2225]\n"
     ]
    }
   ],
   "source": [
    "import random\n",
    "\n",
    "base_list = str([random.randint(1000, 9999) for _ in range(1)])\n",
    "\n",
    "print(base_list)\n"
   ]
  },
  {
   "cell_type": "code",
   "execution_count": 2,
   "id": "8073aec7-f90f-4674-a223-582fa10e39f6",
   "metadata": {},
   "outputs": [
    {
     "name": "stdout",
     "output_type": "stream",
     "text": [
      "2149244316864\n",
      "2149244316736\n",
      "[1, 2, 4]\n",
      "[1, 2, 3]\n"
     ]
    }
   ],
   "source": [
    "list_l = [1,2,3]\n",
    "list_m = list_l.copy()\n",
    "\n",
    "print(id(list_l))\n",
    "print(id(list_m))\n",
    "\n",
    "list_l[2] = 4\n",
    "\n",
    "print(list_l)\n",
    "print(list_m)"
   ]
  },
  {
   "cell_type": "code",
   "execution_count": 17,
   "id": "b3507919-6eb5-4a7f-8c90-0ab51ef111de",
   "metadata": {},
   "outputs": [
    {
     "name": "stdout",
     "output_type": "stream",
     "text": [
      "2149244316352\n",
      "2149244320512\n",
      "[[4], [2]]\n",
      "[[4], [2]]\n",
      "2149244321344\n",
      "2149244321344\n",
      "2149161527696\n",
      "2149161527696\n"
     ]
    }
   ],
   "source": [
    "list_a = [[1],[2]]\n",
    "list_b = list_a.copy()\n",
    "\n",
    "print(id(list_a))\n",
    "print(id(list_b))\n",
    "\n",
    "list_a[0][0] = 4\n",
    "\n",
    "print(list_a)\n",
    "print(list_b)\n",
    "\n",
    "print(id(list_a[0]))\n",
    "print(id(list_b[0]))\n",
    "\n",
    "print(id(list_a[0][0]))\n",
    "print(id(list_b[0][0]))"
   ]
  },
  {
   "cell_type": "code",
   "execution_count": 23,
   "id": "4125683d-7a6e-4edc-878f-9beb09ce1f29",
   "metadata": {},
   "outputs": [
    {
     "name": "stdin",
     "output_type": "stream",
     "text": [
      "숫자 입력하세요. 1,2,3,4\n"
     ]
    },
    {
     "name": "stdout",
     "output_type": "stream",
     "text": [
      "<map object at 0x000001F468ED2040>\n"
     ]
    }
   ],
   "source": [
    "a = map(int,input(\"숫자 입력하세요.\").split(\",\"))\n",
    "print(a)"
   ]
  }
 ],
 "metadata": {
  "kernelspec": {
   "display_name": "Python 3 (ipykernel)",
   "language": "python",
   "name": "python3"
  },
  "language_info": {
   "codemirror_mode": {
    "name": "ipython",
    "version": 3
   },
   "file_extension": ".py",
   "mimetype": "text/x-python",
   "name": "python",
   "nbconvert_exporter": "python",
   "pygments_lexer": "ipython3",
   "version": "3.9.13"
  }
 },
 "nbformat": 4,
 "nbformat_minor": 5
}
