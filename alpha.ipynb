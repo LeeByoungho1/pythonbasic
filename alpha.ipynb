{
 "cells": [
  {
   "cell_type": "code",
   "execution_count": 4,
   "id": "95296dde-8b0b-465c-aa15-e7987f925dd2",
   "metadata": {},
   "outputs": [
    {
     "name": "stdout",
     "output_type": "stream",
     "text": [
      "[2225]\n"
     ]
    }
   ],
   "source": [
    "import random\n",
    "\n",
    "base_list = str([random.randint(1000, 9999) for _ in range(1)])\n",
    "\n",
    "print(base_list)\n"
   ]
  },
  {
   "cell_type": "code",
   "execution_count": 2,
   "id": "8073aec7-f90f-4674-a223-582fa10e39f6",
   "metadata": {},
   "outputs": [
    {
     "name": "stdout",
     "output_type": "stream",
     "text": [
      "2149244316864\n",
      "2149244316736\n",
      "[1, 2, 4]\n",
      "[1, 2, 3]\n"
     ]
    }
   ],
   "source": [
    "list_l = [1,2,3]\n",
    "list_m = list_l.copy()\n",
    "\n",
    "print(id(list_l))\n",
    "print(id(list_m))\n",
    "\n",
    "list_l[2] = 4\n",
    "\n",
    "print(list_l)\n",
    "print(list_m)"
   ]
  },
  {
   "cell_type": "code",
   "execution_count": 17,
   "id": "b3507919-6eb5-4a7f-8c90-0ab51ef111de",
   "metadata": {},
   "outputs": [
    {
     "name": "stdout",
     "output_type": "stream",
     "text": [
      "2149244316352\n",
      "2149244320512\n",
      "[[4], [2]]\n",
      "[[4], [2]]\n",
      "2149244321344\n",
      "2149244321344\n",
      "2149161527696\n",
      "2149161527696\n"
     ]
    }
   ],
   "source": [
    "list_a = [[1],[2]]\n",
    "list_b = list_a.copy()\n",
    "\n",
    "print(id(list_a))\n",
    "print(id(list_b))\n",
    "\n",
    "list_a[0][0] = 4\n",
    "\n",
    "print(list_a)\n",
    "print(list_b)\n",
    "\n",
    "print(id(list_a[0]))\n",
    "print(id(list_b[0]))\n",
    "\n",
    "print(id(list_a[0][0]))\n",
    "print(id(list_b[0][0]))"
   ]
  },
  {
   "cell_type": "code",
   "execution_count": 23,
   "id": "4125683d-7a6e-4edc-878f-9beb09ce1f29",
   "metadata": {},
   "outputs": [
    {
     "name": "stdin",
     "output_type": "stream",
     "text": [
      "숫자 입력하세요. 1,2,3,4\n"
     ]
    },
    {
     "name": "stdout",
     "output_type": "stream",
     "text": [
      "<map object at 0x000001F468ED2040>\n"
     ]
    }
   ],
   "source": [
    "a = map(int,input(\"숫자 입력하세요.\").split(\",\"))\n",
    "print(a)"
   ]
  },
  {
   "cell_type": "code",
   "execution_count": 95,
   "id": "513380d0-8600-4151-920e-277914fb3af0",
   "metadata": {},
   "outputs": [],
   "source": [
    "class Team:\n",
    "    #클래스 속성\n",
    "    count = 0\n",
    "    order = []\n",
    "    def __init__(self, number, name=None, member = set()):\n",
    "        #인스턴스 속성\n",
    "        self.number = number\n",
    "        self.name = name\n",
    "        self.__member = member #비공개 인스턴스 속성\n",
    "        Team.count += 1\n",
    "        \n",
    "    def add_member(self, name):\n",
    "        # 해당 이름이 팀에 있을 경우\n",
    "        if name in self.__member:\n",
    "            print( f\"{name}님이 이미 팀에 있습니다.\" )\n",
    "            return\n",
    "        # 해당 이름이 팀에 없을 경우\n",
    "        else:\n",
    "            self.__member.add(name)\n",
    "            print(f\"{name} 님을 {self.number} 팀에 추가했습니다.\")\n",
    "            \n",
    "    def rm_member(self, name):\n",
    "        # 해당 이름이 팀에 있을 경우\n",
    "        if name in self.__member:\n",
    "            self.__member.discard(name)\n",
    "            print(f\"{name} 님을 {self.number} 팀에서 삭제했습니다.\")\n",
    "        # 해당 이름이 팀에 없을 경우\n",
    "        else:\n",
    "            print(f\"{name}님은 해당 팀에 없습니다.\")\n",
    "            \n",
    "    def get_member(self):\n",
    "        return self.__member\n",
    "    \n",
    "    def get_count(self):\n",
    "        return self.count\n",
    "    \n",
    "    def get_order(self):\n",
    "        return self.order\n",
    "    \n",
    "    def set_order(self, number):\n",
    "        if number in self.order:\n",
    "            self.order.remove(number)\n",
    "        self.order.append(number)\n",
    "        \n",
    "    def __len__(self):\n",
    "        return len(self.__member)"
   ]
  },
  {
   "cell_type": "code",
   "execution_count": 96,
   "id": "afe940d3-28e6-4ae6-84c5-6aa34d269eb2",
   "metadata": {},
   "outputs": [],
   "source": [
    "t1 = Team(1)"
   ]
  },
  {
   "cell_type": "code",
   "execution_count": 97,
   "id": "63e6a733-4397-483c-845e-63a893f76b01",
   "metadata": {},
   "outputs": [
    {
     "name": "stdout",
     "output_type": "stream",
     "text": [
      "윤규헌 님을 1 팀에 추가했습니다.\n"
     ]
    }
   ],
   "source": [
    "t1.add_member('윤규헌') "
   ]
  },
  {
   "cell_type": "code",
   "execution_count": 98,
   "id": "e7f84370-3f35-4f4f-b2f2-bb5d21db3f9c",
   "metadata": {},
   "outputs": [
    {
     "name": "stdout",
     "output_type": "stream",
     "text": [
      "윤규헌님이 이미 팀에 있습니다.\n"
     ]
    }
   ],
   "source": [
    "t1.add_member('윤규헌')"
   ]
  },
  {
   "cell_type": "code",
   "execution_count": 99,
   "id": "8a4bc01e-748a-413d-8d6f-0d96b76c1c30",
   "metadata": {},
   "outputs": [
    {
     "name": "stdout",
     "output_type": "stream",
     "text": [
      "1\n"
     ]
    }
   ],
   "source": [
    "print(len(t1))"
   ]
  },
  {
   "cell_type": "code",
   "execution_count": 100,
   "id": "71bd11bb-5f12-4a28-90e0-f9913d0289aa",
   "metadata": {},
   "outputs": [
    {
     "name": "stdout",
     "output_type": "stream",
     "text": [
      "이호진 님을 1 팀에 추가했습니다.\n"
     ]
    }
   ],
   "source": [
    "t1.add_member('이호진')"
   ]
  },
  {
   "cell_type": "code",
   "execution_count": 101,
   "id": "71dca389-e9b0-4cf8-b911-bb7f1c13d843",
   "metadata": {},
   "outputs": [
    {
     "name": "stdout",
     "output_type": "stream",
     "text": [
      "2\n"
     ]
    }
   ],
   "source": [
    "print(len(t1))"
   ]
  },
  {
   "cell_type": "code",
   "execution_count": 102,
   "id": "35997e15-a245-4862-8f7c-abb159af894e",
   "metadata": {},
   "outputs": [
    {
     "name": "stdout",
     "output_type": "stream",
     "text": [
      "이기수 님을 1 팀에 추가했습니다.\n"
     ]
    }
   ],
   "source": [
    "t1.add_member(\"이기수\")"
   ]
  },
  {
   "cell_type": "code",
   "execution_count": 103,
   "id": "bb1ff739-2d78-4974-b16d-1aa468005f90",
   "metadata": {},
   "outputs": [
    {
     "name": "stdout",
     "output_type": "stream",
     "text": [
      "이기수 님을 1 팀에서 삭제했습니다.\n"
     ]
    }
   ],
   "source": [
    "t1.rm_member('이기수')"
   ]
  },
  {
   "cell_type": "code",
   "execution_count": 104,
   "id": "db03ec5a-64da-4f7d-8b43-5916668ef41c",
   "metadata": {},
   "outputs": [
    {
     "name": "stdout",
     "output_type": "stream",
     "text": [
      "이기수님은 해당 팀에 없습니다.\n"
     ]
    }
   ],
   "source": [
    "t1.rm_member('이기수')"
   ]
  },
  {
   "cell_type": "code",
   "execution_count": 105,
   "id": "c091cb93-bdb5-480e-ac78-3e5bac003482",
   "metadata": {},
   "outputs": [],
   "source": [
    "t2 = Team(2)"
   ]
  },
  {
   "cell_type": "code",
   "execution_count": 106,
   "id": "a5d0e949-8725-482e-9f82-19987a81c897",
   "metadata": {},
   "outputs": [],
   "source": [
    "t2.set_order(t2.number)"
   ]
  },
  {
   "cell_type": "code",
   "execution_count": 107,
   "id": "bcb79f3b-ccb4-4260-a537-1ed64d28caa1",
   "metadata": {},
   "outputs": [],
   "source": [
    "t1.set_order(t1.number)"
   ]
  },
  {
   "cell_type": "code",
   "execution_count": 108,
   "id": "cc9d6931-d1fe-4d18-bf92-f939414c72b0",
   "metadata": {},
   "outputs": [
    {
     "data": {
      "text/plain": [
       "[2, 1]"
      ]
     },
     "execution_count": 108,
     "metadata": {},
     "output_type": "execute_result"
    }
   ],
   "source": [
    "t1.get_order()"
   ]
  },
  {
   "cell_type": "code",
   "execution_count": 109,
   "id": "e68016f4-c562-486f-8ded-c19ef29dd03d",
   "metadata": {},
   "outputs": [
    {
     "data": {
      "text/plain": [
       "2"
      ]
     },
     "execution_count": 109,
     "metadata": {},
     "output_type": "execute_result"
    }
   ],
   "source": [
    "t1.get_count()"
   ]
  },
  {
   "cell_type": "code",
   "execution_count": 110,
   "id": "2d7aadcf-c349-415d-91ff-043017228149",
   "metadata": {},
   "outputs": [],
   "source": [
    "t3 = Team(3)"
   ]
  },
  {
   "cell_type": "code",
   "execution_count": 111,
   "id": "33c7b77b-2f6c-4f9f-bb59-859a66e734c5",
   "metadata": {},
   "outputs": [
    {
     "data": {
      "text/plain": [
       "3"
      ]
     },
     "execution_count": 111,
     "metadata": {},
     "output_type": "execute_result"
    }
   ],
   "source": [
    "t3.get_count()"
   ]
  },
  {
   "cell_type": "code",
   "execution_count": 112,
   "id": "53a1dc39-44ab-4f7c-ab75-b85d4e08cdbd",
   "metadata": {},
   "outputs": [],
   "source": [
    "t3.set_order(t3.number)"
   ]
  },
  {
   "cell_type": "code",
   "execution_count": 113,
   "id": "6d6438db-d152-4dee-a71b-9fab6605f81f",
   "metadata": {},
   "outputs": [
    {
     "data": {
      "text/plain": [
       "[2, 1, 3]"
      ]
     },
     "execution_count": 113,
     "metadata": {},
     "output_type": "execute_result"
    }
   ],
   "source": [
    "t3.get_order()"
   ]
  },
  {
   "cell_type": "code",
   "execution_count": 373,
   "id": "d5fcef13-7960-411d-a10e-62fc3a099d14",
   "metadata": {},
   "outputs": [],
   "source": [
    "class Team:\n",
    "    \"\"\"팀 객체를 만듭니다.\"\"\"\n",
    "    # 클래스 속성\n",
    "    count = 0 # Team 클래스로부터 초기화된 인스턴스 개수\n",
    "    order = []\n",
    "    def __init__(self, number, name=None):\n",
    "        self.number = number\n",
    "        self.name = name\n",
    "        self.__member = set()\n",
    "        Team.count += 1\n",
    "        TeamBuilder.teams.append(self)\n",
    "    def add_member(self, name):\n",
    "        # 해당 이름이 팀에 있을 경우\n",
    "        if name in self.__member:\n",
    "            print(f\"{name} 님은 이미 팀에 있습니다.\")\n",
    "            return\n",
    "        # 해당 이름이 팀에 없을 경우\n",
    "        else:\n",
    "            self.__member.add(name)\n",
    "            print(f\"{name} 님을 {self.number} 팀에 추가했습니다.\")\n",
    "    def rm_member(self, name):\n",
    "        # 해당 이름이 팀에 있을 경우\n",
    "        if name in self.__member:\n",
    "            self.__member.discard(name)\n",
    "            print(f\"{name} 님을 {self.number} 팀에서 삭제했습니다.\")\n",
    "        # 해당 이름이 팀에 없을 경우\n",
    "        else:\n",
    "            print(f\"{name} 님은 해당 팀에 없습니다.\")\n",
    "    def get_member(self):\n",
    "        return self.__member\n",
    "    def get_count(self):\n",
    "        return self.count\n",
    "    def get_order(self):\n",
    "        return self.order\n",
    "    def set_order(self, number):\n",
    "        if number in self.order:\n",
    "            self.order.remove(number)\n",
    "        self.order.append(number)\n",
    "    # 내장 함수(Built-in function) len(Team()) --> 파이썬이 __len__(self)를 찾아서 실행\n",
    "    def __len__(self):\n",
    "        return len(self.__member)\n",
    "    def __repr__(self):\n",
    "        return f\"<{self.number}팀, {self.__member}>\""
   ]
  },
  {
   "cell_type": "code",
   "execution_count": 374,
   "id": "ec95bb53-5691-4057-aa51-34412d63c0a2",
   "metadata": {},
   "outputs": [],
   "source": [
    "import numpy as np\n",
    "class TeamBuilder:\n",
    "    \"\"\" 1번에 1개의 팀의 정보를 갖고 있는 클래스 입니다.\"\"\"\n",
    "    has_team = False \n",
    "    teams = []\n",
    "    \n",
    "    def __init__(self, members, team_count):\n",
    "        self.team_count = team_count\n",
    "        self.members = members\n",
    "        self.members = np.random.choice(self.members, len(self.members), replace=False)\n",
    "        \n",
    "    def creat_team(self):\n",
    "        count = 0\n",
    "        if TeamBuilder.has_team == True:\n",
    "            for i in range(Team.count):\n",
    "                TeamBuilder.teams[count] = set()\n",
    "        for i in range(len(self.members)):\n",
    "            if count > len(TeamBuilder.teams)-1:\n",
    "                count = 0\n",
    "            TeamBuilder.teams[count].add_member(self.members[i])\n",
    "            count += 1\n",
    "            \n",
    "            # if i in (0,5,10,15,20):\n",
    "            #     t0.add_member(self.members[i])\n",
    "            # elif i in (1,6,11,16,21):\n",
    "            #     t1.add_member(self.members[i])\n",
    "            # elif i in (2,7,12,17,22):\n",
    "            #     t2.add_member(self.members[i])\n",
    "            # elif i in (3,8,13,18,23):\n",
    "            #     t3.add_member(self.members[i])\n",
    "            # elif i in (4,9,14,19,24):\n",
    "            #     t4.add_member(self.members[i])   \n",
    "            \n",
    "            # if count == 0:\n",
    "            #     TeamBuilder.teams[count].add_member(self.members[i])\n",
    "            #     count += 1\n",
    "            # elif count == 1:\n",
    "            #     TeamBuilder.teams[count].add_member(self.members[i])\n",
    "            #     count += 1\n",
    "            # elif count == 2:\n",
    "            #     TeamBuilder.teams[count].add_member(self.members[i])\n",
    "            #     count += 1\n",
    "            # elif count == 3:\n",
    "            #     TeamBuilder.teams[count].add_member(self.members[i])\n",
    "            #     count += 1\n",
    "            # elif count == 4:\n",
    "            #     TeamBuilder.teams[count].add_member(self.members[i])\n",
    "            #     count = 0\n",
    "    def show_team_info(self):\n",
    "        return TeamBuilder.teams"
   ]
  },
  {
   "cell_type": "code",
   "execution_count": 375,
   "id": "8e403964-baa1-4764-be5f-862faff8206e",
   "metadata": {},
   "outputs": [],
   "source": [
    "t0 = Team(0)\n",
    "t1 = Team(1)\n",
    "t2 = Team(2)\n",
    "t3 = Team(3)\n",
    "t4 = Team(4)"
   ]
  },
  {
   "cell_type": "code",
   "execution_count": 376,
   "id": "27195c7d-b09b-4947-85ba-65b244a97eab",
   "metadata": {},
   "outputs": [],
   "source": [
    "tb = TeamBuilder(\"강지인 김강직 김경목 김기훈 김민수 김예린 김유림 김호영 도강현 맹지호 민병창 서영호 신제우 우상욱 윤규헌 이민호 이병호 이선주 이호진 허경모 황도희\".split(), 5)"
   ]
  },
  {
   "cell_type": "code",
   "execution_count": 377,
   "id": "b1713625-5652-4d90-aa6a-21647325c500",
   "metadata": {},
   "outputs": [
    {
     "name": "stdout",
     "output_type": "stream",
     "text": [
      "도강현 님을 0 팀에 추가했습니다.\n",
      "황도희 님을 1 팀에 추가했습니다.\n",
      "신제우 님을 2 팀에 추가했습니다.\n",
      "서영호 님을 3 팀에 추가했습니다.\n",
      "맹지호 님을 4 팀에 추가했습니다.\n",
      "이병호 님을 0 팀에 추가했습니다.\n",
      "김기훈 님을 1 팀에 추가했습니다.\n",
      "우상욱 님을 2 팀에 추가했습니다.\n",
      "이민호 님을 3 팀에 추가했습니다.\n",
      "강지인 님을 4 팀에 추가했습니다.\n",
      "김예린 님을 0 팀에 추가했습니다.\n",
      "김유림 님을 1 팀에 추가했습니다.\n",
      "김강직 님을 2 팀에 추가했습니다.\n",
      "민병창 님을 3 팀에 추가했습니다.\n",
      "이호진 님을 4 팀에 추가했습니다.\n",
      "허경모 님을 0 팀에 추가했습니다.\n",
      "윤규헌 님을 1 팀에 추가했습니다.\n",
      "김경목 님을 2 팀에 추가했습니다.\n",
      "김호영 님을 3 팀에 추가했습니다.\n",
      "김민수 님을 4 팀에 추가했습니다.\n",
      "이선주 님을 0 팀에 추가했습니다.\n"
     ]
    }
   ],
   "source": [
    "tb.creat_team()"
   ]
  },
  {
   "cell_type": "code",
   "execution_count": 378,
   "id": "a136051f-9867-47e7-af13-a7b21bcd374e",
   "metadata": {},
   "outputs": [
    {
     "data": {
      "text/plain": [
       "[<0팀, {'이병호', '이선주', '허경모', '도강현', '김예린'}>,\n",
       " <1팀, {'황도희', '김기훈', '윤규헌', '김유림'}>,\n",
       " <2팀, {'신제우', '우상욱', '김강직', '김경목'}>,\n",
       " <3팀, {'김호영', '민병창', '이민호', '서영호'}>,\n",
       " <4팀, {'강지인', '이호진', '김민수', '맹지호'}>]"
      ]
     },
     "execution_count": 378,
     "metadata": {},
     "output_type": "execute_result"
    }
   ],
   "source": [
    "tb.show_team_info()"
   ]
  },
  {
   "cell_type": "code",
   "execution_count": 379,
   "id": "36639251-a952-4f31-9581-6d4aa0af1781",
   "metadata": {},
   "outputs": [
    {
     "data": {
      "text/plain": [
       "set()"
      ]
     },
     "execution_count": 379,
     "metadata": {},
     "output_type": "execute_result"
    }
   ],
   "source": [
    "TeamBuilder.teams[0] = set()\n",
    "TeamBuilder.teams[0]"
   ]
  },
  {
   "cell_type": "code",
   "execution_count": 49,
   "id": "71ba4bab-296d-4155-9191-8e21a0a771ea",
   "metadata": {},
   "outputs": [
    {
     "ename": "NameError",
     "evalue": "name 'pd' is not defined",
     "output_type": "error",
     "traceback": [
      "\u001b[1;31m---------------------------------------------------------------------------\u001b[0m",
      "\u001b[1;31mNameError\u001b[0m                                 Traceback (most recent call last)",
      "\u001b[1;32m~\\AppData\\Local\\Temp\\ipykernel_10604\\1523680094.py\u001b[0m in \u001b[0;36m<module>\u001b[1;34m\u001b[0m\n\u001b[0;32m      1\u001b[0m \u001b[1;32mimport\u001b[0m \u001b[0mnumpy\u001b[0m \u001b[1;32mas\u001b[0m \u001b[0mnp\u001b[0m\u001b[1;33m\u001b[0m\u001b[1;33m\u001b[0m\u001b[0m\n\u001b[1;32m----> 2\u001b[1;33m \u001b[0mrd_team\u001b[0m \u001b[1;33m=\u001b[0m \u001b[0mnp\u001b[0m\u001b[1;33m.\u001b[0m\u001b[0mrandom\u001b[0m\u001b[1;33m.\u001b[0m\u001b[0mchoice\u001b[0m\u001b[1;33m(\u001b[0m\u001b[0mpd\u001b[0m\u001b[1;33m,\u001b[0m \u001b[0mlen\u001b[0m\u001b[1;33m(\u001b[0m\u001b[0mpd\u001b[0m\u001b[1;33m)\u001b[0m\u001b[1;33m,\u001b[0m \u001b[0mreplace\u001b[0m\u001b[1;33m=\u001b[0m\u001b[1;32mFalse\u001b[0m\u001b[1;33m)\u001b[0m\u001b[1;33m\u001b[0m\u001b[1;33m\u001b[0m\u001b[0m\n\u001b[0m\u001b[0;32m      3\u001b[0m \u001b[0mrd_team\u001b[0m\u001b[1;33m\u001b[0m\u001b[1;33m\u001b[0m\u001b[0m\n",
      "\u001b[1;31mNameError\u001b[0m: name 'pd' is not defined"
     ]
    }
   ],
   "source": [
    "import numpy as np\n",
    "rd_team = np.random.choice(pd, len(pd), replace=False)\n",
    "rd_team"
   ]
  },
  {
   "cell_type": "code",
   "execution_count": null,
   "id": "05084752-86f4-41cb-a06e-270781bf4ac9",
   "metadata": {},
   "outputs": [],
   "source": [
    "if TeamBuilder.has_team == True:\n",
    "            for i in range(Team.count):\n",
    "                TeamBuilder.teams[count] = set()\n",
    "                \n",
    "if TeamBuilder.teams[0] != set():\n",
    "            for i in range(Team.count):\n",
    "                TeamBuilder.teams[count] = set()"
   ]
  },
  {
   "cell_type": "code",
   "execution_count": 173,
   "id": "ccfc773e-8888-4d99-9924-c56bf9d7a2cb",
   "metadata": {},
   "outputs": [],
   "source": [
    "# t0.add_member(rd_team[0])\n",
    "# t1.add_member(rd_team[1])\n",
    "# t2.add_member(rd_team[2])\n",
    "# t3.add_member(rd_team[3])\n",
    "# t4.add_member(rd_team[4])\n",
    "\n",
    "# t0.add_member(rd_team[5])\n",
    "# t1.add_member(rd_team[6])\n",
    "# t2.add_member(rd_team[7])\n",
    "# t3.add_member(rd_team[8])\n",
    "# t4.add_member(rd_team[9])\n",
    "\n",
    "# t0.add_member(rd_team[10])\n",
    "# t1.add_member(rd_team[11])\n",
    "# t2.add_member(rd_team[12])\n",
    "# t3.add_member(rd_team[13])\n",
    "# t4.add_member(rd_team[14])\n",
    "\n",
    "# t0.add_member(rd_team[15])\n",
    "# t1.add_member(rd_team[16])\n",
    "# t2.add_member(rd_team[17])\n",
    "# t3.add_member(rd_team[18])\n",
    "# t4.add_member(rd_team[19])\n",
    "\n",
    "# t0.add_member(rd_team[20])\n",
    "# t1.add_member(rd_team[21])\n",
    "# t2.add_member(rd_team[22])\n",
    "# t3.add_member(rd_team[23])\n",
    "# t4.add_member(rd_team[24])"
   ]
  },
  {
   "cell_type": "code",
   "execution_count": 112,
   "id": "b87edafe-c2ae-4d57-b68d-17e668316092",
   "metadata": {},
   "outputs": [
    {
     "data": {
      "text/plain": [
       "{'김경목', '김기훈', '김예린', '윤규헌', '황도희'}"
      ]
     },
     "execution_count": 160,
     "metadata": {},
     "output_type": "execute_result"
    }
   ],
   "source": [
    "t0.get_member()"
   ]
  },
  {
   "cell_type": "code",
   "execution_count": 113,
   "id": "150bd5bc-df4c-4a5e-adb8-809c742f7c78",
   "metadata": {},
   "outputs": [
    {
     "data": {
      "text/plain": [
       "{'강지인', '도강현', '이민호', '허경모'}"
      ]
     },
     "execution_count": 161,
     "metadata": {},
     "output_type": "execute_result"
    }
   ],
   "source": [
    "t1.get_member()"
   ]
  },
  {
   "cell_type": "code",
   "execution_count": 114,
   "id": "e84d6602-fb24-4810-8ae0-519cf2a0134a",
   "metadata": {},
   "outputs": [
    {
     "data": {
      "text/plain": [
       "{'김유림', '민병창', '신제우', '이호진'}"
      ]
     },
     "execution_count": 162,
     "metadata": {},
     "output_type": "execute_result"
    }
   ],
   "source": [
    "t2.get_member()"
   ]
  },
  {
   "cell_type": "code",
   "execution_count": 115,
   "id": "37b7df3d-1b70-4db1-9d83-7e7a7d6308a3",
   "metadata": {},
   "outputs": [
    {
     "data": {
      "text/plain": [
       "{'김강직', '맹지호', '우상욱', '이병호'}"
      ]
     },
     "execution_count": 163,
     "metadata": {},
     "output_type": "execute_result"
    }
   ],
   "source": [
    "t3.get_member()"
   ]
  },
  {
   "cell_type": "code",
   "execution_count": 116,
   "id": "ff495e32-f2ba-481a-8a58-8498418c6bc6",
   "metadata": {},
   "outputs": [
    {
     "data": {
      "text/plain": [
       "{'김민수', '김호영', '서영호', '이선주'}"
      ]
     },
     "execution_count": 164,
     "metadata": {},
     "output_type": "execute_result"
    }
   ],
   "source": [
    "t4.get_member()"
   ]
  },
  {
   "cell_type": "code",
   "execution_count": 308,
   "id": "ac4c6365-0525-4466-9bf2-747992436f61",
   "metadata": {},
   "outputs": [],
   "source": [
    "a = set()"
   ]
  },
  {
   "cell_type": "code",
   "execution_count": 309,
   "id": "00934632-e476-42cf-8bc3-eac43baef284",
   "metadata": {},
   "outputs": [
    {
     "data": {
      "text/plain": [
       "{1, 2}"
      ]
     },
     "execution_count": 309,
     "metadata": {},
     "output_type": "execute_result"
    }
   ],
   "source": [
    "a.add(1)\n",
    "a.add(2)\n",
    "a"
   ]
  },
  {
   "cell_type": "code",
   "execution_count": 310,
   "id": "4e11472f-c26c-4b8a-885d-fb468c087739",
   "metadata": {},
   "outputs": [
    {
     "data": {
      "text/plain": [
       "set()"
      ]
     },
     "execution_count": 310,
     "metadata": {},
     "output_type": "execute_result"
    }
   ],
   "source": [
    "a = set()\n",
    "a"
   ]
  },
  {
   "cell_type": "code",
   "execution_count": 336,
   "id": "ae602c6a-997c-4cfd-b37b-b4e385036ae6",
   "metadata": {},
   "outputs": [
    {
     "data": {
      "text/plain": [
       "True"
      ]
     },
     "execution_count": 336,
     "metadata": {},
     "output_type": "execute_result"
    }
   ],
   "source": [
    "a == set()"
   ]
  },
  {
   "cell_type": "code",
   "execution_count": 1,
   "id": "44b2bf42-17b2-4f53-97f3-e1a13b93c3b1",
   "metadata": {},
   "outputs": [
    {
     "data": {
      "text/plain": [
       "1"
      ]
     },
     "execution_count": 1,
     "metadata": {},
     "output_type": "execute_result"
    }
   ],
   "source": [
    "1"
   ]
  }
 ],
 "metadata": {
  "kernelspec": {
   "display_name": "Python 3 (ipykernel)",
   "language": "python",
   "name": "python3"
  },
  "language_info": {
   "codemirror_mode": {
    "name": "ipython",
    "version": 3
   },
   "file_extension": ".py",
   "mimetype": "text/x-python",
   "name": "python",
   "nbconvert_exporter": "python",
   "pygments_lexer": "ipython3",
   "version": "3.9.13"
  }
 },
 "nbformat": 4,
 "nbformat_minor": 5
}
