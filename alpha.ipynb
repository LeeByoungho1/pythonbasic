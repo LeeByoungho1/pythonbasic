{
 "cells": [
  {
   "cell_type": "code",
   "execution_count": 4,
   "id": "95296dde-8b0b-465c-aa15-e7987f925dd2",
   "metadata": {},
   "outputs": [
    {
     "name": "stdout",
     "output_type": "stream",
     "text": [
      "[2225]\n"
     ]
    }
   ],
   "source": [
    "import random\n",
    "\n",
    "base_list = str([random.randint(1000, 9999) for _ in range(1)])\n",
    "\n",
    "print(base_list)\n"
   ]
  },
  {
   "cell_type": "code",
   "execution_count": 2,
   "id": "8073aec7-f90f-4674-a223-582fa10e39f6",
   "metadata": {},
   "outputs": [
    {
     "name": "stdout",
     "output_type": "stream",
     "text": [
      "2149244316864\n",
      "2149244316736\n",
      "[1, 2, 4]\n",
      "[1, 2, 3]\n"
     ]
    }
   ],
   "source": [
    "list_l = [1,2,3]\n",
    "list_m = list_l.copy()\n",
    "\n",
    "print(id(list_l))\n",
    "print(id(list_m))\n",
    "\n",
    "list_l[2] = 4\n",
    "\n",
    "print(list_l)\n",
    "print(list_m)"
   ]
  },
  {
   "cell_type": "code",
   "execution_count": 17,
   "id": "b3507919-6eb5-4a7f-8c90-0ab51ef111de",
   "metadata": {},
   "outputs": [
    {
     "name": "stdout",
     "output_type": "stream",
     "text": [
      "2149244316352\n",
      "2149244320512\n",
      "[[4], [2]]\n",
      "[[4], [2]]\n",
      "2149244321344\n",
      "2149244321344\n",
      "2149161527696\n",
      "2149161527696\n"
     ]
    }
   ],
   "source": [
    "list_a = [[1],[2]]\n",
    "list_b = list_a.copy()\n",
    "\n",
    "print(id(list_a))\n",
    "print(id(list_b))\n",
    "\n",
    "list_a[0][0] = 4\n",
    "\n",
    "print(list_a)\n",
    "print(list_b)\n",
    "\n",
    "print(id(list_a[0]))\n",
    "print(id(list_b[0]))\n",
    "\n",
    "print(id(list_a[0][0]))\n",
    "print(id(list_b[0][0]))"
   ]
  },
  {
   "cell_type": "code",
   "execution_count": 23,
   "id": "4125683d-7a6e-4edc-878f-9beb09ce1f29",
   "metadata": {},
   "outputs": [
    {
     "name": "stdin",
     "output_type": "stream",
     "text": [
      "숫자 입력하세요. 1,2,3,4\n"
     ]
    },
    {
     "name": "stdout",
     "output_type": "stream",
     "text": [
      "<map object at 0x000001F468ED2040>\n"
     ]
    }
   ],
   "source": [
    "a = map(int,input(\"숫자 입력하세요.\").split(\",\"))\n",
    "print(a)"
   ]
  },
  {
   "cell_type": "code",
   "execution_count": 1,
   "id": "513380d0-8600-4151-920e-277914fb3af0",
   "metadata": {},
   "outputs": [],
   "source": [
    "class Team:\n",
    "    #클래스 속성\n",
    "    count = 0\n",
    "    order = []\n",
    "    def __init__(self, number, name=None, member = set()):\n",
    "        #인스턴스 속성\n",
    "        self.number = number\n",
    "        self.name = name\n",
    "        self.__member = member #비공개 인스턴스 속성\n",
    "        Team.count += 1\n",
    "        \n",
    "    def add_member(self, name):\n",
    "        # 해당 이름이 팀에 있을 경우\n",
    "        if name in self.__member:\n",
    "            print( f\"{name}님이 이미 팀에 있습니다.\" )\n",
    "            return\n",
    "        # 해당 이름이 팀에 없을 경우\n",
    "        else:\n",
    "            self.__member.add(name)\n",
    "            print(f\"{name} 님을 {self.number} 팀에 추가했습니다.\")\n",
    "            \n",
    "    def rm_member(self, name):\n",
    "        # 해당 이름이 팀에 있을 경우\n",
    "        if name in self.__member:\n",
    "            self.__member.discard(name)\n",
    "            print(f\"{name} 님을 {self.number} 팀에서 삭제했습니다.\")\n",
    "        # 해당 이름이 팀에 없을 경우\n",
    "        else:\n",
    "            print(f\"{name}님은 해당 팀에 없습니다.\")\n",
    "    \n",
    "    def get_count(self):\n",
    "        return self.count\n",
    "    \n",
    "    def get_order(self):\n",
    "        return self.order\n",
    "    \n",
    "    def set_order(self, number):\n",
    "        if number in self.order:\n",
    "            self.order.remove(number)\n",
    "        self.order.append(number)\n",
    "        \n",
    "    def __len__(self):\n",
    "        return len(self.__member)"
   ]
  },
  {
   "cell_type": "code",
   "execution_count": 2,
   "id": "afe940d3-28e6-4ae6-84c5-6aa34d269eb2",
   "metadata": {},
   "outputs": [],
   "source": [
    "t1 = Team(1)"
   ]
  },
  {
   "cell_type": "code",
   "execution_count": 3,
   "id": "63e6a733-4397-483c-845e-63a893f76b01",
   "metadata": {},
   "outputs": [
    {
     "name": "stdout",
     "output_type": "stream",
     "text": [
      "윤규헌 님을 1 팀에 추가했습니다.\n"
     ]
    }
   ],
   "source": [
    "t1.add_member('윤규헌') "
   ]
  },
  {
   "cell_type": "code",
   "execution_count": 4,
   "id": "e7f84370-3f35-4f4f-b2f2-bb5d21db3f9c",
   "metadata": {},
   "outputs": [
    {
     "name": "stdout",
     "output_type": "stream",
     "text": [
      "윤규헌님이 이미 팀에 있습니다.\n"
     ]
    }
   ],
   "source": [
    "t1.add_member('윤규헌')"
   ]
  },
  {
   "cell_type": "code",
   "execution_count": 5,
   "id": "8a4bc01e-748a-413d-8d6f-0d96b76c1c30",
   "metadata": {},
   "outputs": [
    {
     "name": "stdout",
     "output_type": "stream",
     "text": [
      "1\n"
     ]
    }
   ],
   "source": [
    "print(len(t1))"
   ]
  },
  {
   "cell_type": "code",
   "execution_count": 6,
   "id": "71bd11bb-5f12-4a28-90e0-f9913d0289aa",
   "metadata": {},
   "outputs": [
    {
     "name": "stdout",
     "output_type": "stream",
     "text": [
      "이호진 님을 1 팀에 추가했습니다.\n"
     ]
    }
   ],
   "source": [
    "t1.add_member('이호진')"
   ]
  },
  {
   "cell_type": "code",
   "execution_count": 7,
   "id": "71dca389-e9b0-4cf8-b911-bb7f1c13d843",
   "metadata": {},
   "outputs": [
    {
     "name": "stdout",
     "output_type": "stream",
     "text": [
      "2\n"
     ]
    }
   ],
   "source": [
    "print(len(t1))"
   ]
  },
  {
   "cell_type": "code",
   "execution_count": 8,
   "id": "35997e15-a245-4862-8f7c-abb159af894e",
   "metadata": {},
   "outputs": [
    {
     "name": "stdout",
     "output_type": "stream",
     "text": [
      "이기수 님을 1 팀에 추가했습니다.\n"
     ]
    }
   ],
   "source": [
    "t1.add_member(\"이기수\")"
   ]
  },
  {
   "cell_type": "code",
   "execution_count": 9,
   "id": "bb1ff739-2d78-4974-b16d-1aa468005f90",
   "metadata": {},
   "outputs": [
    {
     "name": "stdout",
     "output_type": "stream",
     "text": [
      "이기수 님을 1 팀에서 삭제했습니다.\n"
     ]
    }
   ],
   "source": [
    "t1.rm_member('이기수')"
   ]
  },
  {
   "cell_type": "code",
   "execution_count": 10,
   "id": "db03ec5a-64da-4f7d-8b43-5916668ef41c",
   "metadata": {},
   "outputs": [
    {
     "name": "stdout",
     "output_type": "stream",
     "text": [
      "이기수님은 해당 팀에 없습니다.\n"
     ]
    }
   ],
   "source": [
    "t1.rm_member('이기수')"
   ]
  },
  {
   "cell_type": "code",
   "execution_count": 11,
   "id": "c091cb93-bdb5-480e-ac78-3e5bac003482",
   "metadata": {},
   "outputs": [],
   "source": [
    "t2 = Team(2)"
   ]
  },
  {
   "cell_type": "code",
   "execution_count": 12,
   "id": "a5d0e949-8725-482e-9f82-19987a81c897",
   "metadata": {},
   "outputs": [],
   "source": [
    "t2.set_order(t2.number)"
   ]
  },
  {
   "cell_type": "code",
   "execution_count": 13,
   "id": "bcb79f3b-ccb4-4260-a537-1ed64d28caa1",
   "metadata": {},
   "outputs": [],
   "source": [
    "t1.set_order(t1.number)"
   ]
  },
  {
   "cell_type": "code",
   "execution_count": 14,
   "id": "cc9d6931-d1fe-4d18-bf92-f939414c72b0",
   "metadata": {},
   "outputs": [
    {
     "data": {
      "text/plain": [
       "[2, 1]"
      ]
     },
     "execution_count": 14,
     "metadata": {},
     "output_type": "execute_result"
    }
   ],
   "source": [
    "t1.get_order()"
   ]
  },
  {
   "cell_type": "code",
   "execution_count": 15,
   "id": "e68016f4-c562-486f-8ded-c19ef29dd03d",
   "metadata": {},
   "outputs": [
    {
     "data": {
      "text/plain": [
       "2"
      ]
     },
     "execution_count": 15,
     "metadata": {},
     "output_type": "execute_result"
    }
   ],
   "source": [
    "t1.get_count()"
   ]
  },
  {
   "cell_type": "code",
   "execution_count": 16,
   "id": "2d7aadcf-c349-415d-91ff-043017228149",
   "metadata": {},
   "outputs": [],
   "source": [
    "t3 = Team(3)"
   ]
  },
  {
   "cell_type": "code",
   "execution_count": 17,
   "id": "33c7b77b-2f6c-4f9f-bb59-859a66e734c5",
   "metadata": {},
   "outputs": [
    {
     "data": {
      "text/plain": [
       "3"
      ]
     },
     "execution_count": 17,
     "metadata": {},
     "output_type": "execute_result"
    }
   ],
   "source": [
    "t3.get_count()"
   ]
  },
  {
   "cell_type": "code",
   "execution_count": 18,
   "id": "53a1dc39-44ab-4f7c-ab75-b85d4e08cdbd",
   "metadata": {},
   "outputs": [],
   "source": [
    "t3.set_order(t3.number)"
   ]
  },
  {
   "cell_type": "code",
   "execution_count": 19,
   "id": "6d6438db-d152-4dee-a71b-9fab6605f81f",
   "metadata": {},
   "outputs": [
    {
     "data": {
      "text/plain": [
       "[2, 1, 3]"
      ]
     },
     "execution_count": 19,
     "metadata": {},
     "output_type": "execute_result"
    }
   ],
   "source": [
    "t3.get_order()"
   ]
  },
  {
   "cell_type": "code",
   "execution_count": null,
   "id": "d5fcef13-7960-411d-a10e-62fc3a099d14",
   "metadata": {},
   "outputs": [],
   "source": [
    "class Team:\n",
    "    #클래스 속성\n",
    "    count = 0\n",
    "    order = []\n",
    "    def __init__(self, number, name=None, member = set()):\n",
    "        #인스턴스 속성\n",
    "        self.number = number\n",
    "        self.name = name\n",
    "        self.__member = member #비공개 인스턴스 속성\n",
    "        Team.count += 1\n",
    "        \n",
    "    def add_member(self, name):\n",
    "        # 해당 이름이 팀에 있을 경우\n",
    "        if name in self.__member:\n",
    "            print( f\"{name}님이 이미 팀에 있습니다.\" )\n",
    "            return\n",
    "        # 해당 이름이 팀에 없을 경우\n",
    "        else:\n",
    "            self.__member.add(name)\n",
    "            print(f\"{name} 님을 {self.number} 팀에 추가했습니다.\")\n",
    "            \n",
    "    def rm_member(self, name):\n",
    "        # 해당 이름이 팀에 있을 경우\n",
    "        if name in self.__member:\n",
    "            self.__member.discard(name)\n",
    "            print(f\"{name} 님을 {self.number} 팀에서 삭제했습니다.\")\n",
    "        # 해당 이름이 팀에 없을 경우\n",
    "        else:\n",
    "            print(f\"{name}님은 해당 팀에 없습니다.\")\n",
    "    \n",
    "    def get_count(self):\n",
    "        return self.count\n",
    "    \n",
    "    def get_order(self):\n",
    "        return self.order\n",
    "    \n",
    "    def set_order(self, number):\n",
    "        if number in self.order:\n",
    "            self.order.remove(number)\n",
    "        self.order.append(number)\n",
    "        \n",
    "    def __len__(self):\n",
    "        return len(self.__member)"
   ]
  },
  {
   "cell_type": "code",
   "execution_count": 36,
   "id": "360f6f4c-375f-4aef-8d4d-7a0171c5c898",
   "metadata": {},
   "outputs": [],
   "source": [
    "class TeamBuilder:\n",
    "    \"\"\" 1번에 1개의 팀의 정보를 갖고 있는 클래스 입니다.\"\"\"\n",
    "    has_team = False\n",
    "    teams = []\n",
    "    \n",
    "    def __init__(self, members, team_count):\n",
    "        self.team_count = team_count\n",
    "        self.members = members\n",
    "        TeamBuilder.teams+self.members\n",
    "        \n",
    "    def creat_team(self):\n",
    "        TeamBuilder.teams.pop()"
   ]
  },
  {
   "cell_type": "code",
   "execution_count": 37,
   "id": "a9367ada-af4e-47e8-9022-b8e54ee35bf5",
   "metadata": {},
   "outputs": [],
   "source": [
    "tb = TeamBuilder(\"강지인 김강직 김경목 김기훈 김민수 김예린 김유림 김호영 도강현 맹지호 민병창 서영호 신제우 우상욱 윤규헌 이민호 이병호 이선주 이호진 허경모 황도희\".split(),5)"
   ]
  },
  {
   "cell_type": "code",
   "execution_count": 38,
   "id": "9b0c46bd-0053-4527-a711-54e166f935b1",
   "metadata": {},
   "outputs": [
    {
     "ename": "IndexError",
     "evalue": "pop from empty list",
     "output_type": "error",
     "traceback": [
      "\u001b[1;31m---------------------------------------------------------------------------\u001b[0m",
      "\u001b[1;31mIndexError\u001b[0m                                Traceback (most recent call last)",
      "\u001b[1;32m~\\AppData\\Local\\Temp\\ipykernel_19684\\290681919.py\u001b[0m in \u001b[0;36m<module>\u001b[1;34m\u001b[0m\n\u001b[1;32m----> 1\u001b[1;33m \u001b[0mtb\u001b[0m\u001b[1;33m.\u001b[0m\u001b[0mcreat_team\u001b[0m\u001b[1;33m(\u001b[0m\u001b[1;33m)\u001b[0m\u001b[1;33m\u001b[0m\u001b[1;33m\u001b[0m\u001b[0m\n\u001b[0m",
      "\u001b[1;32m~\\AppData\\Local\\Temp\\ipykernel_19684\\2609155212.py\u001b[0m in \u001b[0;36mcreat_team\u001b[1;34m(self)\u001b[0m\n\u001b[0;32m     10\u001b[0m \u001b[1;33m\u001b[0m\u001b[0m\n\u001b[0;32m     11\u001b[0m     \u001b[1;32mdef\u001b[0m \u001b[0mcreat_team\u001b[0m\u001b[1;33m(\u001b[0m\u001b[0mself\u001b[0m\u001b[1;33m)\u001b[0m\u001b[1;33m:\u001b[0m\u001b[1;33m\u001b[0m\u001b[1;33m\u001b[0m\u001b[0m\n\u001b[1;32m---> 12\u001b[1;33m         \u001b[0mTeamBuilder\u001b[0m\u001b[1;33m.\u001b[0m\u001b[0mteams\u001b[0m\u001b[1;33m.\u001b[0m\u001b[0mpop\u001b[0m\u001b[1;33m(\u001b[0m\u001b[1;33m)\u001b[0m\u001b[1;33m\u001b[0m\u001b[1;33m\u001b[0m\u001b[0m\n\u001b[0m",
      "\u001b[1;31mIndexError\u001b[0m: pop from empty list"
     ]
    }
   ],
   "source": [
    "tb.creat_team()"
   ]
  },
  {
   "cell_type": "code",
   "execution_count": null,
   "id": "7aeddf47-9d97-4535-8c45-6ef86cb4fcb7",
   "metadata": {},
   "outputs": [],
   "source": [
    "tb."
   ]
  }
 ],
 "metadata": {
  "kernelspec": {
   "display_name": "Python 3 (ipykernel)",
   "language": "python",
   "name": "python3"
  },
  "language_info": {
   "codemirror_mode": {
    "name": "ipython",
    "version": 3
   },
   "file_extension": ".py",
   "mimetype": "text/x-python",
   "name": "python",
   "nbconvert_exporter": "python",
   "pygments_lexer": "ipython3",
   "version": "3.9.13"
  }
 },
 "nbformat": 4,
 "nbformat_minor": 5
}
