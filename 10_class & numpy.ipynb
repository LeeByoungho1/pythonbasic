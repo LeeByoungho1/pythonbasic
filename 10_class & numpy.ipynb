{
 "cells": [
  {
   "cell_type": "code",
   "execution_count": 1,
   "id": "35641516-5503-4041-a6f3-29e01bbb7f36",
   "metadata": {},
   "outputs": [],
   "source": [
    "# class\n",
    "class Student:\n",
    "    def __init__(self):\n",
    "        self.hello = \"안녕하세요.\"\n",
    "        \n",
    "    def greeting(self):   # 매서드\n",
    "        print(self.hello)"
   ]
  },
  {
   "cell_type": "code",
   "execution_count": 2,
   "id": "bb8139d2-e161-493a-bbae-bd102f53d72c",
   "metadata": {},
   "outputs": [],
   "source": [
    "# stu_a와 stu_b는 독립적으로 존재\n",
    "stu_a = Student() # 클래스로부터 인스턴스 초기화\n",
    "stu_b = Student()"
   ]
  },
  {
   "cell_type": "code",
   "execution_count": 3,
   "id": "c8d7e05d-e607-4212-bf85-349b11629c61",
   "metadata": {},
   "outputs": [
    {
     "name": "stdout",
     "output_type": "stream",
     "text": [
      "안녕하세요.\n"
     ]
    }
   ],
   "source": [
    "stu_a.greeting()"
   ]
  },
  {
   "cell_type": "code",
   "execution_count": 4,
   "id": "274101b8-3c75-489b-9198-e07b01dc8db5",
   "metadata": {},
   "outputs": [
    {
     "name": "stdout",
     "output_type": "stream",
     "text": [
      "안녕하세요.\n"
     ]
    }
   ],
   "source": [
    "stu_b.greeting()"
   ]
  },
  {
   "cell_type": "code",
   "execution_count": 5,
   "id": "1a2262b8-87d4-466b-adc0-dfab9ff28415",
   "metadata": {},
   "outputs": [],
   "source": [
    "stu_a.name = \"학생A\""
   ]
  },
  {
   "cell_type": "code",
   "execution_count": 6,
   "id": "b45adb42-1adc-4fbd-8de3-0958e7f613cf",
   "metadata": {},
   "outputs": [
    {
     "name": "stdout",
     "output_type": "stream",
     "text": [
      "안녕하세요.\n"
     ]
    }
   ],
   "source": [
    "print(stu_a.hello)"
   ]
  },
  {
   "cell_type": "code",
   "execution_count": 7,
   "id": "11c98f29-aca0-4197-a23c-175e3188be1d",
   "metadata": {},
   "outputs": [
    {
     "name": "stdout",
     "output_type": "stream",
     "text": [
      "학생A\n"
     ]
    }
   ],
   "source": [
    "print(stu_a.name)"
   ]
  },
  {
   "cell_type": "code",
   "execution_count": 8,
   "id": "e4d35925-8846-430c-a540-473f8755e93a",
   "metadata": {},
   "outputs": [
    {
     "name": "stdout",
     "output_type": "stream",
     "text": [
      "안녕하세요.\n"
     ]
    }
   ],
   "source": [
    "print(stu_b.hello)"
   ]
  },
  {
   "cell_type": "code",
   "execution_count": 9,
   "id": "ca704eb3-7c20-47fa-9f3d-66a6c9ef1523",
   "metadata": {},
   "outputs": [
    {
     "ename": "AttributeError",
     "evalue": "'Student' object has no attribute 'name'",
     "output_type": "error",
     "traceback": [
      "\u001b[1;31m---------------------------------------------------------------------------\u001b[0m",
      "\u001b[1;31mAttributeError\u001b[0m                            Traceback (most recent call last)",
      "\u001b[1;32m~\\AppData\\Local\\Temp\\ipykernel_16048\\4197292589.py\u001b[0m in \u001b[0;36m<module>\u001b[1;34m\u001b[0m\n\u001b[1;32m----> 1\u001b[1;33m \u001b[0mprint\u001b[0m\u001b[1;33m(\u001b[0m\u001b[0mstu_b\u001b[0m\u001b[1;33m.\u001b[0m\u001b[0mname\u001b[0m\u001b[1;33m)\u001b[0m\u001b[1;33m\u001b[0m\u001b[1;33m\u001b[0m\u001b[0m\n\u001b[0m",
      "\u001b[1;31mAttributeError\u001b[0m: 'Student' object has no attribute 'name'"
     ]
    }
   ],
   "source": [
    "print(stu_b.name)"
   ]
  },
  {
   "cell_type": "code",
   "execution_count": 28,
   "id": "6b287dc1-d78a-426a-ba23-68f71a7ea6f7",
   "metadata": {},
   "outputs": [],
   "source": [
    "class Person:\n",
    "    def __init__(self, name, age):\n",
    "        self.name = name\n",
    "        self.age = age"
   ]
  },
  {
   "cell_type": "code",
   "execution_count": 29,
   "id": "6e2bae69-6dc5-4a39-b19d-4fd3db913f55",
   "metadata": {},
   "outputs": [],
   "source": [
    "p1 = Person(\"name1\", 40)\n",
    "p2 = Person(\"name2\", 32)"
   ]
  },
  {
   "cell_type": "code",
   "execution_count": 30,
   "id": "40682270-c545-4e5a-ac58-a2160ee39bef",
   "metadata": {},
   "outputs": [
    {
     "data": {
      "text/plain": [
       "{'name': 'name1', 'age': 40}"
      ]
     },
     "execution_count": 30,
     "metadata": {},
     "output_type": "execute_result"
    }
   ],
   "source": [
    "p1.__dict__"
   ]
  },
  {
   "cell_type": "code",
   "execution_count": 31,
   "id": "3c721a0b-5615-46ab-bbf7-05fe2a9152b0",
   "metadata": {},
   "outputs": [
    {
     "data": {
      "text/plain": [
       "{'name': 'name2', 'age': 32}"
      ]
     },
     "execution_count": 31,
     "metadata": {},
     "output_type": "execute_result"
    }
   ],
   "source": [
    "p2.__dict__"
   ]
  },
  {
   "cell_type": "code",
   "execution_count": 33,
   "id": "fa5fa83a-d1b1-4c32-9b51-cb137c06b4ac",
   "metadata": {},
   "outputs": [],
   "source": [
    "class Person2:\n",
    "    def __init__(self, name, age, address):\n",
    "        self.hello = \"안녕하세요.\"\n",
    "        self.name = name\n",
    "        self.age = age\n",
    "        self.address = address\n",
    "        \n",
    "    def greeting(self):\n",
    "        print(f\"{self.hello} 제 이름은 {self.name}입니다.\")"
   ]
  },
  {
   "cell_type": "code",
   "execution_count": 34,
   "id": "1f3e5686-53a7-4d2d-a79d-044f620a1181",
   "metadata": {},
   "outputs": [
    {
     "name": "stdout",
     "output_type": "stream",
     "text": [
      "안녕하세요. 제 이름은 마리아입니다.\n"
     ]
    }
   ],
   "source": [
    "maria = Person2(\"마리아\", 23, \"서울시 마포구\")\n",
    "maria.greeting()"
   ]
  },
  {
   "cell_type": "code",
   "execution_count": 63,
   "id": "820d1dde-b606-4d0e-8082-1e0a252a6006",
   "metadata": {},
   "outputs": [],
   "source": [
    "class Person3:\n",
    "    def __init__(self, name, age, address):\n",
    "        self.name = name\n",
    "        self.age = age\n",
    "        self.address = address"
   ]
  },
  {
   "cell_type": "code",
   "execution_count": 62,
   "id": "922364ea-1db2-423c-ba22-ff14e913c0b0",
   "metadata": {},
   "outputs": [
    {
     "name": "stdin",
     "output_type": "stream",
     "text": [
      "이름은 무엇인가요? 마리아\n",
      "나이는 무엇인가요? 20\n",
      "주소는 무엇인가요? 서울시 강남구\n",
      "이름은 무엇인가요? 제임스\n",
      "나이는 무엇인가요? 21\n",
      "주소는 무엇인가요? 서울시 구로구\n"
     ]
    },
    {
     "name": "stdout",
     "output_type": "stream",
     "text": [
      "첫번째 이름:마리아\n",
      "첫번째 이름:20\n",
      "첫번째 이름:서울시 강남구\n",
      "두번째 이름:제임스\n",
      "두번째 이름:21\n",
      "두번째 이름:서울시 구로구\n"
     ]
    }
   ],
   "source": [
    "list_m = []\n",
    "list_m.append(input(\"이름은 무엇인가요?\"))\n",
    "list_m.append(int(input(\"나이는 무엇인가요?\")))\n",
    "list_m.append(input(\"주소는 무엇인가요?\"))\n",
    "\n",
    "list_j = []\n",
    "list_j.append(input(\"이름은 무엇인가요?\"))\n",
    "list_j.append(int(input(\"나이는 무엇인가요?\")))\n",
    "list_j.append(input(\"주소는 무엇인가요?\"))\n",
    "\n",
    "\n",
    "maria1 = Person3(list_m[0], list_m[1], list_m[2])\n",
    "\n",
    "print(f\"첫번째 이름:{maria1.name}\")\n",
    "print(f\"첫번째 이름:{maria1.age}\")\n",
    "print(f\"첫번째 이름:{maria1.address}\")\n",
    "\n",
    "james = Person3(list_j[0], list_j[1], list_j[2])\n",
    "\n",
    "print(f\"두번째 이름:{james.name}\")\n",
    "print(f\"두번째 이름:{james.age}\")\n",
    "print(f\"두번째 이름:{james.address}\")"
   ]
  },
  {
   "cell_type": "code",
   "execution_count": 91,
   "id": "c800c266-566c-4fe9-9f50-b2f9a648d6ff",
   "metadata": {},
   "outputs": [],
   "source": [
    "class Person4:\n",
    "    def __init__(self, name, age, address, wallet):\n",
    "        self.hello = \"안녕하세요\"\n",
    "        self.name = name\n",
    "        self.age = age\n",
    "        self.address = address\n",
    "        self.__wallet = wallet # __를 붙이면 비공개로 설정 가능\n",
    "        \n",
    "    def greeting(self):\n",
    "        print(f\"{self.hello} 제 이름은 {self.name}입니다.\")\n",
    "        \n",
    "    def amount(self):\n",
    "        print(self.__wallet)\n",
    "    \n",
    "    def pay(self, amount):\n",
    "        if self.__wallet < amount:\n",
    "            print(\"돈이 모자랍니다.\")\n",
    "            return\n",
    "        self.__wallet -= amount"
   ]
  },
  {
   "cell_type": "code",
   "execution_count": 92,
   "id": "35308c65-5232-4a23-8aa7-d2719d2553be",
   "metadata": {},
   "outputs": [],
   "source": [
    "lbh = Person4(\"이병호\", 25, \"경기도 안양\", 100000)"
   ]
  },
  {
   "cell_type": "code",
   "execution_count": 69,
   "id": "c6b33d73-18e2-4e36-bcc4-c586a9e3dc0b",
   "metadata": {},
   "outputs": [
    {
     "name": "stdout",
     "output_type": "stream",
     "text": [
      "이병호\n"
     ]
    }
   ],
   "source": [
    "print(lbh.name)"
   ]
  },
  {
   "cell_type": "code",
   "execution_count": 70,
   "id": "44422539-98c8-406b-a957-9135310d1d2d",
   "metadata": {},
   "outputs": [
    {
     "name": "stdout",
     "output_type": "stream",
     "text": [
      "25\n"
     ]
    }
   ],
   "source": [
    "print(lbh.age)"
   ]
  },
  {
   "cell_type": "code",
   "execution_count": 71,
   "id": "6c6c2dd6-3ceb-48e4-a864-d1d0b1f0250f",
   "metadata": {},
   "outputs": [
    {
     "name": "stdout",
     "output_type": "stream",
     "text": [
      "경기도 안양\n"
     ]
    }
   ],
   "source": [
    "print(lbh.address)"
   ]
  },
  {
   "cell_type": "code",
   "execution_count": 80,
   "id": "e8b4591b-76f9-4a06-8d22-1501033794b0",
   "metadata": {},
   "outputs": [
    {
     "ename": "AttributeError",
     "evalue": "'Person4' object has no attribute 'wallet'",
     "output_type": "error",
     "traceback": [
      "\u001b[1;31m---------------------------------------------------------------------------\u001b[0m",
      "\u001b[1;31mAttributeError\u001b[0m                            Traceback (most recent call last)",
      "\u001b[1;32m~\\AppData\\Local\\Temp\\ipykernel_16048\\1369139432.py\u001b[0m in \u001b[0;36m<module>\u001b[1;34m\u001b[0m\n\u001b[1;32m----> 1\u001b[1;33m \u001b[0mprint\u001b[0m\u001b[1;33m(\u001b[0m\u001b[0mlbh\u001b[0m\u001b[1;33m.\u001b[0m\u001b[0mwallet\u001b[0m\u001b[1;33m)\u001b[0m \u001b[1;31m# 클래스 바깥에서 비공개 속성에 접근하면 에러가 발생\u001b[0m\u001b[1;33m\u001b[0m\u001b[1;33m\u001b[0m\u001b[0m\n\u001b[0m",
      "\u001b[1;31mAttributeError\u001b[0m: 'Person4' object has no attribute 'wallet'"
     ]
    }
   ],
   "source": [
    "print(lbh.wallet) # 클래스 바깥에서 비공개 속성에 접근하면 에러가 발생"
   ]
  },
  {
   "cell_type": "code",
   "execution_count": 93,
   "id": "6dc01bc6-70fd-4deb-97a7-071122d0c853",
   "metadata": {},
   "outputs": [
    {
     "name": "stdout",
     "output_type": "stream",
     "text": [
      "100000\n"
     ]
    }
   ],
   "source": [
    "lbh.amount() # 10만원을 가지고 있다."
   ]
  },
  {
   "cell_type": "code",
   "execution_count": 94,
   "id": "8e6a5042-9a6c-438d-a553-b97fe468fb3b",
   "metadata": {},
   "outputs": [],
   "source": [
    "lbh.pay(50000) # 5만원 사용"
   ]
  },
  {
   "cell_type": "code",
   "execution_count": 95,
   "id": "5cbea656-399c-4ec2-a0e5-9d0852ea6e9b",
   "metadata": {},
   "outputs": [
    {
     "name": "stdout",
     "output_type": "stream",
     "text": [
      "50000\n"
     ]
    }
   ],
   "source": [
    "lbh.amount() # 남은 돈"
   ]
  },
  {
   "cell_type": "code",
   "execution_count": 96,
   "id": "66a539f8-c365-4e6f-9713-716ebde79458",
   "metadata": {},
   "outputs": [
    {
     "name": "stdout",
     "output_type": "stream",
     "text": [
      "돈이 모자랍니다.\n"
     ]
    }
   ],
   "source": [
    "lbh.pay(60000) # 6만원 사용"
   ]
  },
  {
   "cell_type": "code",
   "execution_count": 128,
   "id": "c25d574a-d010-4861-9771-a95cc5cfd3da",
   "metadata": {},
   "outputs": [],
   "source": [
    "class Champion:\n",
    "    def __init__(self, hp, mp, ap):\n",
    "        self.hp = hp\n",
    "        self.mp = mp\n",
    "        self.ap = ap\n",
    "        \n",
    "    def tibber(self):\n",
    "        print(f\"티버: 피해량 {self.ap * 0.65 + 400}\")"
   ]
  },
  {
   "cell_type": "code",
   "execution_count": 130,
   "id": "b6eae509-62f8-47a4-8856-ee4b6f345619",
   "metadata": {},
   "outputs": [
    {
     "name": "stdin",
     "output_type": "stream",
     "text": [
      "체력, 마나, AP를 입력하세요. 511.68 334.0 298\n"
     ]
    }
   ],
   "source": [
    "t = list(map(float, input(\"체력, 마나, AP를 입력하세요.\").split(\" \")))\n",
    "\n",
    "Annie = Champion(t[0],t[1],t[2])"
   ]
  },
  {
   "cell_type": "code",
   "execution_count": 131,
   "id": "c56df947-cabd-4f42-bf86-7eaa4a049c19",
   "metadata": {},
   "outputs": [
    {
     "name": "stdout",
     "output_type": "stream",
     "text": [
      "티버: 피해량 593.7\n"
     ]
    }
   ],
   "source": [
    "Annie.tibber()"
   ]
  },
  {
   "cell_type": "code",
   "execution_count": 132,
   "id": "eaaa30c4-b0e6-400a-a521-4e2bb736bd21",
   "metadata": {},
   "outputs": [
    {
     "name": "stdin",
     "output_type": "stream",
     "text": [
      "체력, 마나, AP를 입력하세요. 1803.68 1184.0 645\n"
     ]
    }
   ],
   "source": [
    "hp, mp, ap = map(float, input(\"체력, 마나, AP를 입력하세요.\").split(\" \"))\n",
    "\n",
    "Annie = Champion(hp, mp, ap)"
   ]
  },
  {
   "cell_type": "code",
   "execution_count": 133,
   "id": "03669b14-f4bf-4354-b5f8-41453c88b7a8",
   "metadata": {},
   "outputs": [
    {
     "name": "stdout",
     "output_type": "stream",
     "text": [
      "티버: 피해량 819.25\n"
     ]
    }
   ],
   "source": [
    "Annie.tibber()"
   ]
  },
  {
   "cell_type": "markdown",
   "id": "a6eff679-dbae-4206-b3f9-585e31351749",
   "metadata": {},
   "source": [
    "## Numpy"
   ]
  },
  {
   "cell_type": "code",
   "execution_count": 2,
   "id": "80e10120-cff9-4e4f-bf6d-5ac3cd9e5e66",
   "metadata": {},
   "outputs": [],
   "source": [
    "import numpy as np # 한번만 써놓으면 밑에 코드에 적용"
   ]
  },
  {
   "cell_type": "code",
   "execution_count": 159,
   "id": "14aa53b5-a9b2-40b4-866d-52750fd36cdb",
   "metadata": {},
   "outputs": [],
   "source": [
    "ar = np.array([_ for _ in range(10)])"
   ]
  },
  {
   "cell_type": "code",
   "execution_count": 157,
   "id": "7719b6c7-129b-495b-9497-0e0815bebae9",
   "metadata": {},
   "outputs": [
    {
     "data": {
      "text/plain": [
       "array([0, 1, 2, 3, 4, 5, 6, 7, 8, 9])"
      ]
     },
     "execution_count": 157,
     "metadata": {},
     "output_type": "execute_result"
    }
   ],
   "source": [
    "ar"
   ]
  },
  {
   "cell_type": "code",
   "execution_count": 158,
   "id": "3d5de059-bed1-4623-bd17-2e50973c267c",
   "metadata": {},
   "outputs": [
    {
     "data": {
      "text/plain": [
       "(10,)"
      ]
     },
     "execution_count": 158,
     "metadata": {},
     "output_type": "execute_result"
    }
   ],
   "source": [
    "ar.shape"
   ]
  },
  {
   "cell_type": "code",
   "execution_count": 165,
   "id": "a739cd9f-e0f3-4f0d-9fe5-0bf53c8fdf8a",
   "metadata": {},
   "outputs": [
    {
     "data": {
      "text/plain": [
       "numpy.ndarray"
      ]
     },
     "execution_count": 165,
     "metadata": {},
     "output_type": "execute_result"
    }
   ],
   "source": [
    "type(ar)"
   ]
  },
  {
   "cell_type": "code",
   "execution_count": 163,
   "id": "5baa1110-1fcf-4755-bf78-c7e84ade4beb",
   "metadata": {},
   "outputs": [],
   "source": [
    "ar2 = np.array([0.1, 5, 4, 12, 0.5])"
   ]
  },
  {
   "cell_type": "code",
   "execution_count": 164,
   "id": "36c6f054-182c-4122-a389-22e1a3a05d49",
   "metadata": {},
   "outputs": [
    {
     "data": {
      "text/plain": [
       "array([ 0.1,  5. ,  4. , 12. ,  0.5])"
      ]
     },
     "execution_count": 164,
     "metadata": {},
     "output_type": "execute_result"
    }
   ],
   "source": [
    "ar2"
   ]
  },
  {
   "cell_type": "code",
   "execution_count": 169,
   "id": "ea934271-ff0d-43e7-a21f-820d34bf9275",
   "metadata": {},
   "outputs": [
    {
     "data": {
      "text/plain": [
       "dtype('int32')"
      ]
     },
     "execution_count": 169,
     "metadata": {},
     "output_type": "execute_result"
    }
   ],
   "source": [
    "ar.dtype"
   ]
  },
  {
   "cell_type": "code",
   "execution_count": 168,
   "id": "983156c5-093b-4192-a513-3a4dc5e9939f",
   "metadata": {},
   "outputs": [
    {
     "data": {
      "text/plain": [
       "dtype('float64')"
      ]
     },
     "execution_count": 168,
     "metadata": {},
     "output_type": "execute_result"
    }
   ],
   "source": [
    "ar2.dtype"
   ]
  },
  {
   "cell_type": "code",
   "execution_count": 190,
   "id": "1ad9428d-f38f-4ece-be3f-f48e07027046",
   "metadata": {},
   "outputs": [
    {
     "name": "stdout",
     "output_type": "stream",
     "text": [
      "[3 6 9]\n",
      "int64\n"
     ]
    }
   ],
   "source": [
    "ar3 = np.array([_ for _ in range(3, 10, 3)], 'i8') # int8bytes --> 8*8bit\n",
    "print(ar3)\n",
    "print(ar3.dtype)"
   ]
  },
  {
   "cell_type": "code",
   "execution_count": 192,
   "id": "9548952c-9859-4e56-b43a-b4d2e6317a62",
   "metadata": {},
   "outputs": [
    {
     "name": "stdout",
     "output_type": "stream",
     "text": [
      "[2. 4. 6. 8.]\n",
      "float64\n"
     ]
    }
   ],
   "source": [
    "ar4 = np.array([_ for _ in range(2, 10, 2)], 'f8')\n",
    "print(ar4)\n",
    "print(ar4.dtype)"
   ]
  },
  {
   "cell_type": "code",
   "execution_count": 186,
   "id": "70f1d02b-ff29-4dca-b541-ba7bc5c4bc84",
   "metadata": {},
   "outputs": [
    {
     "name": "stdout",
     "output_type": "stream",
     "text": [
      "['가나다라마' '바사아' '자' '차카']\n",
      "<U8\n"
     ]
    }
   ],
   "source": [
    "# 'U8' 유니코드 8글자 자료형을 명시적으로 선언\n",
    "# 그래서 시퀀스 자료형 중 제일 큰 값이 <U8이지만 <U8로 타입이 지정되었다.\n",
    "ar5 = np.array([\"가나다라마\",\"바사아\",\"자\",\"차카\"], 'U8')\n",
    "print(ar5)\n",
    "print(ar5.dtype)\n",
    "# <U8은 최대 8글자의 유니코드 자료형이다."
   ]
  },
  {
   "cell_type": "code",
   "execution_count": 193,
   "id": "704e5e57-c8eb-49fb-a947-6451ba3383b2",
   "metadata": {},
   "outputs": [
    {
     "data": {
      "text/plain": [
       "dtype('float32')"
      ]
     },
     "execution_count": 193,
     "metadata": {},
     "output_type": "execute_result"
    }
   ],
   "source": [
    "x = np.array([1, 2, 3],dtype='f')\n",
    "x.dtype"
   ]
  },
  {
   "cell_type": "code",
   "execution_count": 198,
   "id": "2db03eff-2174-43b8-adbf-3730c2da5f89",
   "metadata": {},
   "outputs": [
    {
     "data": {
      "text/plain": [
       "'12'"
      ]
     },
     "execution_count": 198,
     "metadata": {},
     "output_type": "execute_result"
    }
   ],
   "source": [
    "x[0] + x[1] #실수형으로 더하기"
   ]
  },
  {
   "cell_type": "code",
   "execution_count": 195,
   "id": "c871d2a4-4846-45a8-a8e6-b1e665b4e724",
   "metadata": {},
   "outputs": [
    {
     "data": {
      "text/plain": [
       "dtype('<U1')"
      ]
     },
     "execution_count": 195,
     "metadata": {},
     "output_type": "execute_result"
    }
   ],
   "source": [
    "x = np.array([1, 2, 3],dtype='U')\n",
    "x.dtype"
   ]
  },
  {
   "cell_type": "code",
   "execution_count": 197,
   "id": "12a58534-9f82-4bc3-9165-a8104c6c4cc7",
   "metadata": {},
   "outputs": [
    {
     "data": {
      "text/plain": [
       "'12'"
      ]
     },
     "execution_count": 197,
     "metadata": {},
     "output_type": "execute_result"
    }
   ],
   "source": [
    "x[0] + x[1] #문자열로 더하기 1+2"
   ]
  },
  {
   "cell_type": "code",
   "execution_count": 199,
   "id": "dad9616a-3e5b-495b-81e4-a683105ff694",
   "metadata": {},
   "outputs": [
    {
     "data": {
      "text/plain": [
       "[0, 2, 4, 6, 8, 10, 12, 14, 16, 18]"
      ]
     },
     "execution_count": 199,
     "metadata": {},
     "output_type": "execute_result"
    }
   ],
   "source": [
    "data = [0, 1, 2, 3, 4, 5, 6, 7, 8, 9]\n",
    "\n",
    "answer = [2 * d for d in data]\n",
    "\n",
    "answer"
   ]
  },
  {
   "cell_type": "code",
   "execution_count": 200,
   "id": "b12bc5a7-7a73-48ed-928b-6f7247383e4b",
   "metadata": {},
   "outputs": [
    {
     "data": {
      "text/plain": [
       "array([0, 1, 2, 3, 4, 5, 6, 7, 8, 9])"
      ]
     },
     "execution_count": 200,
     "metadata": {},
     "output_type": "execute_result"
    }
   ],
   "source": [
    "x = np.array(data)\n",
    "x"
   ]
  },
  {
   "cell_type": "code",
   "execution_count": 201,
   "id": "c395dcea-143d-4833-9977-9fe5669eda5f",
   "metadata": {},
   "outputs": [
    {
     "data": {
      "text/plain": [
       "array([ 0,  2,  4,  6,  8, 10, 12, 14, 16, 18])"
      ]
     },
     "execution_count": 201,
     "metadata": {},
     "output_type": "execute_result"
    }
   ],
   "source": [
    "2 * x"
   ]
  },
  {
   "cell_type": "code",
   "execution_count": 203,
   "id": "6698163d-6171-405a-9a5a-2bd0e5af909b",
   "metadata": {},
   "outputs": [
    {
     "name": "stdout",
     "output_type": "stream",
     "text": [
      "[0, 1, 2, 0, 1, 2, 0, 1, 2]\n"
     ]
    }
   ],
   "source": [
    "list_samp = [_ for _ in range(3)]\n",
    "print(list_samp * 3)"
   ]
  },
  {
   "cell_type": "code",
   "execution_count": 207,
   "id": "a7be313b-0262-47c6-8bbe-ba6ed1f038cc",
   "metadata": {},
   "outputs": [],
   "source": [
    "a = np.array([1, 2, 3])\n",
    "b = np.array([10, 20, 30])"
   ]
  },
  {
   "cell_type": "code",
   "execution_count": 208,
   "id": "26d8ce97-4a10-4c12-b67e-ef62d2677dcf",
   "metadata": {},
   "outputs": [
    {
     "data": {
      "text/plain": [
       "array([12, 24, 36])"
      ]
     },
     "execution_count": 208,
     "metadata": {},
     "output_type": "execute_result"
    }
   ],
   "source": [
    "2 * a + b"
   ]
  },
  {
   "cell_type": "code",
   "execution_count": 209,
   "id": "92b65560-d9ca-4772-a076-58e2474258b0",
   "metadata": {},
   "outputs": [
    {
     "data": {
      "text/plain": [
       "array([False,  True, False])"
      ]
     },
     "execution_count": 209,
     "metadata": {},
     "output_type": "execute_result"
    }
   ],
   "source": [
    "a == 2"
   ]
  },
  {
   "cell_type": "code",
   "execution_count": 210,
   "id": "61c39d39-07b5-4d55-9177-be07036b559a",
   "metadata": {},
   "outputs": [
    {
     "data": {
      "text/plain": [
       "array([False,  True,  True])"
      ]
     },
     "execution_count": 210,
     "metadata": {},
     "output_type": "execute_result"
    }
   ],
   "source": [
    "b > 10"
   ]
  },
  {
   "cell_type": "code",
   "execution_count": 220,
   "id": "6088a5f9-9c5e-45dd-955c-fdb730462a95",
   "metadata": {},
   "outputs": [
    {
     "data": {
      "text/plain": [
       "array([False,  True, False])"
      ]
     },
     "execution_count": 220,
     "metadata": {},
     "output_type": "execute_result"
    }
   ],
   "source": [
    "(a == 2) & (b > 10)"
   ]
  },
  {
   "cell_type": "code",
   "execution_count": 227,
   "id": "da075dcb-bb5d-43b3-82d1-ab231e8162ab",
   "metadata": {},
   "outputs": [
    {
     "data": {
      "text/plain": [
       "array([[0, 1, 2],\n",
       "       [3, 4, 5]])"
      ]
     },
     "execution_count": 227,
     "metadata": {},
     "output_type": "execute_result"
    }
   ],
   "source": [
    "c = np.array([[0, 1, 2], [3, 4, 5]])\n",
    "c"
   ]
  },
  {
   "cell_type": "code",
   "execution_count": 228,
   "id": "68ae9048-9654-4f53-bc5b-3caa62ace4f7",
   "metadata": {},
   "outputs": [
    {
     "data": {
      "text/plain": [
       "(2, 3)"
      ]
     },
     "execution_count": 228,
     "metadata": {},
     "output_type": "execute_result"
    }
   ],
   "source": [
    "c.shape"
   ]
  },
  {
   "cell_type": "code",
   "execution_count": 235,
   "id": "2b705f1b-80b5-411f-b7c6-e398f11eb60f",
   "metadata": {},
   "outputs": [
    {
     "data": {
      "text/plain": [
       "array([[10, 20, 30, 40],\n",
       "       [50, 60, 70, 80]])"
      ]
     },
     "execution_count": 235,
     "metadata": {},
     "output_type": "execute_result"
    }
   ],
   "source": [
    "n = np.array([[10, 20, 30, 40], [50, 60, 70, 80]])\n",
    "n"
   ]
  },
  {
   "cell_type": "code",
   "execution_count": 244,
   "id": "9f943321-be5c-4392-85a0-191e08ea56b2",
   "metadata": {},
   "outputs": [
    {
     "data": {
      "text/plain": [
       "array([[[ 1,  2,  3,  4],\n",
       "        [ 5,  6,  7,  8],\n",
       "        [ 9, 10, 11, 12]],\n",
       "\n",
       "       [[11, 12, 13, 14],\n",
       "        [15, 16, 17, 18],\n",
       "        [19, 20, 21, 22]]])"
      ]
     },
     "execution_count": 244,
     "metadata": {},
     "output_type": "execute_result"
    }
   ],
   "source": [
    "d = np.array([[[1,2,3,4,],[5,6,7,8],[9,10,11,12]],[[11,12,13,14],[15,16,17,18],[19,20,21,22]]])\n",
    "d"
   ]
  },
  {
   "cell_type": "code",
   "execution_count": 245,
   "id": "e25b2da6-f6c0-452a-bc9d-ee9f3994e030",
   "metadata": {},
   "outputs": [
    {
     "data": {
      "text/plain": [
       "(2, 3, 4)"
      ]
     },
     "execution_count": 245,
     "metadata": {},
     "output_type": "execute_result"
    }
   ],
   "source": [
    "d.shape"
   ]
  },
  {
   "cell_type": "code",
   "execution_count": 250,
   "id": "6feb5478-fd7c-4f32-af50-9eef61d5e473",
   "metadata": {},
   "outputs": [
    {
     "name": "stdout",
     "output_type": "stream",
     "text": [
      "1\n",
      "2\n",
      "3\n"
     ]
    }
   ],
   "source": [
    "print(a.ndim) # 1차원\n",
    "print(c.ndim) # 2차원\n",
    "print(d.ndim) # 3차원"
   ]
  },
  {
   "cell_type": "code",
   "execution_count": 251,
   "id": "9af24abb-335d-4949-ba73-80e4c03d6522",
   "metadata": {},
   "outputs": [],
   "source": [
    "a = np.array([0,1,2,3,4])"
   ]
  },
  {
   "cell_type": "code",
   "execution_count": 252,
   "id": "752205e7-d3b6-44b1-9a12-9fd49b524803",
   "metadata": {},
   "outputs": [
    {
     "data": {
      "text/plain": [
       "2"
      ]
     },
     "execution_count": 252,
     "metadata": {},
     "output_type": "execute_result"
    }
   ],
   "source": [
    "a[2]"
   ]
  },
  {
   "cell_type": "code",
   "execution_count": 255,
   "id": "53e4bfee-0052-426c-b13f-bee0f73dc3ac",
   "metadata": {},
   "outputs": [
    {
     "data": {
      "text/plain": [
       "4"
      ]
     },
     "execution_count": 255,
     "metadata": {},
     "output_type": "execute_result"
    }
   ],
   "source": [
    "a[-1]"
   ]
  },
  {
   "cell_type": "code",
   "execution_count": 256,
   "id": "2a7ccb9b-3c52-496a-b5d7-f9785c191182",
   "metadata": {},
   "outputs": [
    {
     "data": {
      "text/plain": [
       "array([[0, 1, 2],\n",
       "       [3, 4, 5]])"
      ]
     },
     "execution_count": 256,
     "metadata": {},
     "output_type": "execute_result"
    }
   ],
   "source": [
    "a = np.array([[0,1,2],[3,4,5]])\n",
    "a"
   ]
  },
  {
   "cell_type": "code",
   "execution_count": 257,
   "id": "1a341982-b856-48e3-89a4-608b87c5c124",
   "metadata": {},
   "outputs": [
    {
     "data": {
      "text/plain": [
       "0"
      ]
     },
     "execution_count": 257,
     "metadata": {},
     "output_type": "execute_result"
    }
   ],
   "source": [
    "a[0, 0]"
   ]
  },
  {
   "cell_type": "code",
   "execution_count": 259,
   "id": "8e405a12-f368-4fa9-8e94-a63520020193",
   "metadata": {},
   "outputs": [
    {
     "data": {
      "text/plain": [
       "1"
      ]
     },
     "execution_count": 259,
     "metadata": {},
     "output_type": "execute_result"
    }
   ],
   "source": [
    "a[0, 1]"
   ]
  },
  {
   "cell_type": "code",
   "execution_count": 263,
   "id": "0aeb3036-5733-4b30-9597-815be2954b8a",
   "metadata": {},
   "outputs": [
    {
     "data": {
      "text/plain": [
       "5"
      ]
     },
     "execution_count": 263,
     "metadata": {},
     "output_type": "execute_result"
    }
   ],
   "source": [
    "a[-1, -1]"
   ]
  },
  {
   "cell_type": "code",
   "execution_count": 264,
   "id": "0b99b938-a6c5-4b70-b228-d47c16732dd0",
   "metadata": {},
   "outputs": [
    {
     "data": {
      "text/plain": [
       "array([[0, 1, 2, 3],\n",
       "       [4, 5, 6, 7]])"
      ]
     },
     "execution_count": 264,
     "metadata": {},
     "output_type": "execute_result"
    }
   ],
   "source": [
    "a = np.array([[0,1,2,3],[4,5,6,7]])\n",
    "a"
   ]
  },
  {
   "cell_type": "code",
   "execution_count": 268,
   "id": "07ca39cb-9dcf-4ffd-a220-9a6535353ef4",
   "metadata": {},
   "outputs": [
    {
     "data": {
      "text/plain": [
       "array([0, 1, 2, 3])"
      ]
     },
     "execution_count": 268,
     "metadata": {},
     "output_type": "execute_result"
    }
   ],
   "source": [
    "a[0, :] # 첫번째 행 전체"
   ]
  },
  {
   "cell_type": "code",
   "execution_count": 270,
   "id": "b421ad2d-bf49-4eb9-8dfc-276c669cd0ed",
   "metadata": {},
   "outputs": [
    {
     "data": {
      "text/plain": [
       "array([1, 5])"
      ]
     },
     "execution_count": 270,
     "metadata": {},
     "output_type": "execute_result"
    }
   ],
   "source": [
    "a[:, 1] # 첫번째 열 전체"
   ]
  },
  {
   "cell_type": "code",
   "execution_count": 271,
   "id": "47a5dde2-79fc-4123-a078-2f487fa4c0b1",
   "metadata": {},
   "outputs": [
    {
     "data": {
      "text/plain": [
       "array([5, 6, 7])"
      ]
     },
     "execution_count": 271,
     "metadata": {},
     "output_type": "execute_result"
    }
   ],
   "source": [
    "a[1, 1:] # 두번째 행의 두번째 열부터 끝열까지"
   ]
  },
  {
   "cell_type": "code",
   "execution_count": 277,
   "id": "99b70b4d-7d3f-4474-bf1f-117b5a630465",
   "metadata": {},
   "outputs": [
    {
     "data": {
      "text/plain": [
       "array([[0, 1],\n",
       "       [4, 5]])"
      ]
     },
     "execution_count": 277,
     "metadata": {},
     "output_type": "execute_result"
    }
   ],
   "source": [
    "a[:2, :2]"
   ]
  },
  {
   "cell_type": "code",
   "execution_count": 279,
   "id": "a52fbcc6-079a-4ad0-a0c8-f2c273fe71f0",
   "metadata": {},
   "outputs": [
    {
     "data": {
      "text/plain": [
       "array([[0, 1, 2, 3],\n",
       "       [4, 5, 6, 7]])"
      ]
     },
     "execution_count": 279,
     "metadata": {},
     "output_type": "execute_result"
    }
   ],
   "source": [
    "np.array([_ for _ in range(8)]).reshape(2,4) # 갯 수에 맞춰 reshap을 사용하면 나누어 준다."
   ]
  },
  {
   "cell_type": "code",
   "execution_count": null,
   "id": "229e16d0-85c5-40f1-a5f0-71e937ee71b0",
   "metadata": {},
   "outputs": [],
   "source": [
    "7 // 14 // 6,7 // 7,12 // 3,4  8,9"
   ]
  },
  {
   "cell_type": "code",
   "execution_count": 296,
   "id": "5be9fd7b-6d6d-420b-869e-4024fa606281",
   "metadata": {},
   "outputs": [
    {
     "data": {
      "text/plain": [
       "array([[ 0,  1,  2,  3,  4],\n",
       "       [ 5,  6,  7,  8,  9],\n",
       "       [10, 11, 12, 13, 14]])"
      ]
     },
     "execution_count": 296,
     "metadata": {},
     "output_type": "execute_result"
    }
   ],
   "source": [
    "m = np.array([_ for _ in range(15)]).reshape(3,5)\n",
    "m"
   ]
  },
  {
   "cell_type": "code",
   "execution_count": 295,
   "id": "22e4464e-0793-4fba-b00c-c333bfdd3a4c",
   "metadata": {},
   "outputs": [
    {
     "data": {
      "text/plain": [
       "7"
      ]
     },
     "execution_count": 295,
     "metadata": {},
     "output_type": "execute_result"
    }
   ],
   "source": [
    "m[1, 2]"
   ]
  },
  {
   "cell_type": "code",
   "execution_count": 297,
   "id": "a55cb40c-cf77-425c-8d22-f21ec89db8d5",
   "metadata": {},
   "outputs": [
    {
     "data": {
      "text/plain": [
       "14"
      ]
     },
     "execution_count": 297,
     "metadata": {},
     "output_type": "execute_result"
    }
   ],
   "source": [
    "m[-1, -1]"
   ]
  },
  {
   "cell_type": "code",
   "execution_count": 299,
   "id": "8a01121a-339f-4dbb-9e31-ef41f61046e8",
   "metadata": {},
   "outputs": [
    {
     "data": {
      "text/plain": [
       "array([6, 7])"
      ]
     },
     "execution_count": 299,
     "metadata": {},
     "output_type": "execute_result"
    }
   ],
   "source": [
    "m[1, 1:3]"
   ]
  },
  {
   "cell_type": "code",
   "execution_count": 302,
   "id": "5aa82e78-41f4-4097-9e9d-18667295367b",
   "metadata": {},
   "outputs": [
    {
     "data": {
      "text/plain": [
       "array([ 7, 12])"
      ]
     },
     "execution_count": 302,
     "metadata": {},
     "output_type": "execute_result"
    }
   ],
   "source": [
    "m[1: ,2]"
   ]
  },
  {
   "cell_type": "code",
   "execution_count": 308,
   "id": "8b1598a9-2c39-44fe-835a-2a26f889c844",
   "metadata": {},
   "outputs": [
    {
     "data": {
      "text/plain": [
       "array([[3, 4],\n",
       "       [8, 9]])"
      ]
     },
     "execution_count": 308,
     "metadata": {},
     "output_type": "execute_result"
    }
   ],
   "source": [
    "m[:2, 3:]"
   ]
  },
  {
   "cell_type": "code",
   "execution_count": 310,
   "id": "ab0b318c-c88e-45e0-9297-68e247d9897b",
   "metadata": {},
   "outputs": [
    {
     "data": {
      "text/plain": [
       "array([0., 0., 0., 0., 0.])"
      ]
     },
     "execution_count": 310,
     "metadata": {},
     "output_type": "execute_result"
    }
   ],
   "source": [
    "a = np.zeros(5)\n",
    "a"
   ]
  },
  {
   "cell_type": "code",
   "execution_count": 314,
   "id": "5360e351-3718-4b63-bdf0-bd784c3a415a",
   "metadata": {},
   "outputs": [
    {
     "data": {
      "text/plain": [
       "array([[0, 0],\n",
       "       [0, 0],\n",
       "       [0, 0],\n",
       "       [0, 0],\n",
       "       [0, 0]], dtype=int32)"
      ]
     },
     "execution_count": 314,
     "metadata": {},
     "output_type": "execute_result"
    }
   ],
   "source": [
    "c = np.zeros((5,2),dtype='i')\n",
    "c"
   ]
  },
  {
   "cell_type": "code",
   "execution_count": 12,
   "id": "50271774-da33-4840-8795-4c93eac717ee",
   "metadata": {},
   "outputs": [
    {
     "data": {
      "text/plain": [
       "array(['', '', '', '', ''], dtype='<U4')"
      ]
     },
     "execution_count": 12,
     "metadata": {},
     "output_type": "execute_result"
    }
   ],
   "source": [
    "d = np.zeros(5, dtype='U4')\n",
    "d"
   ]
  },
  {
   "cell_type": "code",
   "execution_count": 317,
   "id": "7a46e17d-e2bf-484e-b1dd-d76528d77124",
   "metadata": {},
   "outputs": [
    {
     "data": {
      "text/plain": [
       "array(['abc', 'abcd', 'ABCD', '', ''], dtype='<U4')"
      ]
     },
     "execution_count": 317,
     "metadata": {},
     "output_type": "execute_result"
    }
   ],
   "source": [
    "d[0] = \"abc\"\n",
    "d[1] = \"abcd\"\n",
    "d[2] = \"ABCDE\" # U4라서 E는 짤림\n",
    "d"
   ]
  },
  {
   "cell_type": "code",
   "execution_count": 318,
   "id": "a892c4e2-77c8-41dc-8a67-33dacd1138e6",
   "metadata": {},
   "outputs": [
    {
     "data": {
      "text/plain": [
       "array([[[1, 1, 1, 1],\n",
       "        [1, 1, 1, 1],\n",
       "        [1, 1, 1, 1]],\n",
       "\n",
       "       [[1, 1, 1, 1],\n",
       "        [1, 1, 1, 1],\n",
       "        [1, 1, 1, 1]]], dtype=int64)"
      ]
     },
     "execution_count": 318,
     "metadata": {},
     "output_type": "execute_result"
    }
   ],
   "source": [
    "e = np.ones((2,3,4),dtype=\"i8\")\n",
    "e"
   ]
  },
  {
   "cell_type": "code",
   "execution_count": 319,
   "id": "8b32455c-7b1f-4c12-b283-bdfd66baa6e7",
   "metadata": {},
   "outputs": [
    {
     "data": {
      "text/plain": [
       "array([1., 1., 1.], dtype=float32)"
      ]
     },
     "execution_count": 319,
     "metadata": {},
     "output_type": "execute_result"
    }
   ],
   "source": [
    "f = np.ones_like(b, dtype=\"f\")\n",
    "f"
   ]
  },
  {
   "cell_type": "code",
   "execution_count": 322,
   "id": "9cd9b7ad-5ca4-4ae3-8d30-fe5fb4a0fdd0",
   "metadata": {},
   "outputs": [
    {
     "data": {
      "text/plain": [
       "array([[1.01091490e-311, 2.76676762e-322, 0.00000000e+000],\n",
       "       [0.00000000e+000, 1.14587773e-312, 1.16095484e-028],\n",
       "       [3.74168445e+233, 1.94950106e-057, 4.31722897e-096],\n",
       "       [9.80058441e+252, 1.23971686e+224, 1.03439406e+295]])"
      ]
     },
     "execution_count": 322,
     "metadata": {},
     "output_type": "execute_result"
    }
   ],
   "source": [
    "q = np.empty((4,3)) # 임시로 4,3짜리의 배열을 생성\n",
    "q"
   ]
  },
  {
   "cell_type": "code",
   "execution_count": 324,
   "id": "86bc5854-bc39-4030-8c19-18a51a95db87",
   "metadata": {},
   "outputs": [
    {
     "data": {
      "text/plain": [
       "array([0, 1, 2, 3, 4, 5, 6, 7, 8, 9])"
      ]
     },
     "execution_count": 324,
     "metadata": {},
     "output_type": "execute_result"
    }
   ],
   "source": [
    "np.arange(10)"
   ]
  },
  {
   "cell_type": "code",
   "execution_count": 325,
   "id": "34c67713-309f-45ad-b9a4-21264cb493c1",
   "metadata": {},
   "outputs": [
    {
     "data": {
      "text/plain": [
       "array([ 3,  5,  7,  9, 11, 13, 15, 17, 19])"
      ]
     },
     "execution_count": 325,
     "metadata": {},
     "output_type": "execute_result"
    }
   ],
   "source": [
    "np.arange(3, 21, 2)"
   ]
  },
  {
   "cell_type": "code",
   "execution_count": 342,
   "id": "facff89c-909e-4715-9d8e-79572ab795f9",
   "metadata": {},
   "outputs": [
    {
     "data": {
      "text/plain": [
       "array([  0.,  25.,  50.,  75., 100.])"
      ]
     },
     "execution_count": 342,
     "metadata": {},
     "output_type": "execute_result"
    }
   ],
   "source": [
    "np.linspace(0, 100, 5)"
   ]
  },
  {
   "cell_type": "code",
   "execution_count": 343,
   "id": "ff26e647-0f4a-4537-ab52-a0ee0927a7fd",
   "metadata": {},
   "outputs": [
    {
     "data": {
      "text/plain": [
       "array([1.e+000, 1.e+025, 1.e+050, 1.e+075, 1.e+100])"
      ]
     },
     "execution_count": 343,
     "metadata": {},
     "output_type": "execute_result"
    }
   ],
   "source": [
    "np.logspace(0, 100, 5)"
   ]
  },
  {
   "cell_type": "code",
   "execution_count": 344,
   "id": "0eea84b8-75eb-4d62-946d-101f4a2596ef",
   "metadata": {},
   "outputs": [
    {
     "data": {
      "text/plain": [
       "array([[1, 2, 3],\n",
       "       [4, 5, 6]])"
      ]
     },
     "execution_count": 344,
     "metadata": {},
     "output_type": "execute_result"
    }
   ],
   "source": [
    "A = np.array([[1,2,3],[4,5,6]])\n",
    "A"
   ]
  },
  {
   "cell_type": "code",
   "execution_count": 346,
   "id": "d6b28a29-760a-40ab-8174-74954fe323e7",
   "metadata": {},
   "outputs": [
    {
     "data": {
      "text/plain": [
       "array([[1, 4],\n",
       "       [2, 5],\n",
       "       [3, 6]])"
      ]
     },
     "execution_count": 346,
     "metadata": {},
     "output_type": "execute_result"
    }
   ],
   "source": [
    "A.T # .T는 행과 열을 바꿔주는 메서드가 아닌 속성"
   ]
  },
  {
   "cell_type": "code",
   "execution_count": 347,
   "id": "5e639c6c-a387-4ee8-816f-4d334410676d",
   "metadata": {},
   "outputs": [
    {
     "data": {
      "text/plain": [
       "array([ 0,  1,  2,  3,  4,  5,  6,  7,  8,  9, 10, 11])"
      ]
     },
     "execution_count": 347,
     "metadata": {},
     "output_type": "execute_result"
    }
   ],
   "source": [
    "a = np.arange(12)\n",
    "a"
   ]
  },
  {
   "cell_type": "code",
   "execution_count": 356,
   "id": "409be4a4-0732-4b20-8695-fffbc7cac841",
   "metadata": {},
   "outputs": [
    {
     "data": {
      "text/plain": [
       "array([[ 0,  1,  2,  3],\n",
       "       [ 4,  5,  6,  7],\n",
       "       [ 8,  9, 10, 11]])"
      ]
     },
     "execution_count": 356,
     "metadata": {},
     "output_type": "execute_result"
    }
   ],
   "source": [
    "b = a.reshape(3,-1)  # == (3,4) -1은 auto느낌 알아서 맞춰줌\n",
    "b"
   ]
  },
  {
   "cell_type": "code",
   "execution_count": 361,
   "id": "1bc9d1c3-178e-474a-98d3-5f93aad740b7",
   "metadata": {},
   "outputs": [
    {
     "data": {
      "text/plain": [
       "array([ 0,  1,  2,  3,  4,  5,  6,  7,  8,  9, 10, 11])"
      ]
     },
     "execution_count": 361,
     "metadata": {},
     "output_type": "execute_result"
    }
   ],
   "source": [
    "b.flatten() # 다차원의 배열을 1차원으로 바꿔준다."
   ]
  },
  {
   "cell_type": "code",
   "execution_count": 362,
   "id": "ccad8266-8075-4fdf-ad97-aff60d8152e6",
   "metadata": {},
   "outputs": [
    {
     "data": {
      "text/plain": [
       "array([ 0,  1,  2,  3,  4,  5,  6,  7,  8,  9, 10, 11])"
      ]
     },
     "execution_count": 362,
     "metadata": {},
     "output_type": "execute_result"
    }
   ],
   "source": [
    "b.ravel() # 다차원의 배열을 1차원으로 바꿔준다."
   ]
  },
  {
   "cell_type": "code",
   "execution_count": 20,
   "id": "c75f476f-a65e-49b1-945b-691848a1043d",
   "metadata": {},
   "outputs": [
    {
     "data": {
      "text/plain": [
       "array([[1., 1., 1.],\n",
       "       [1., 1., 1.]])"
      ]
     },
     "execution_count": 20,
     "metadata": {},
     "output_type": "execute_result"
    }
   ],
   "source": [
    "b1 = np.ones((2,3))\n",
    "b1"
   ]
  },
  {
   "cell_type": "code",
   "execution_count": 364,
   "id": "32a8290e-8702-46b2-9527-1ab261d6fced",
   "metadata": {},
   "outputs": [
    {
     "data": {
      "text/plain": [
       "array([[0., 0., 0.],\n",
       "       [0., 0., 0.],\n",
       "       [0., 0., 0.]])"
      ]
     },
     "execution_count": 364,
     "metadata": {},
     "output_type": "execute_result"
    }
   ],
   "source": [
    "b2 = np.zeros((3,3))\n",
    "b2"
   ]
  },
  {
   "cell_type": "code",
   "execution_count": 369,
   "id": "eaa6fd12-87a2-4e5f-a544-246f567ff88e",
   "metadata": {},
   "outputs": [
    {
     "data": {
      "text/plain": [
       "array([[1., 1., 1.],\n",
       "       [1., 1., 1.],\n",
       "       [0., 0., 0.],\n",
       "       [0., 0., 0.],\n",
       "       [0., 0., 0.]])"
      ]
     },
     "execution_count": 369,
     "metadata": {},
     "output_type": "execute_result"
    }
   ],
   "source": [
    "np.vstack([b1,b2]) # b1과 b2를 합쳐준다."
   ]
  },
  {
   "cell_type": "code",
   "execution_count": 370,
   "id": "99a0d7ed-48c2-45b2-9f88-340ed31f4fcc",
   "metadata": {},
   "outputs": [
    {
     "data": {
      "text/plain": [
       "array([[1., 1., 1., 1.],\n",
       "       [1., 1., 1., 1.],\n",
       "       [1., 1., 1., 1.]])"
      ]
     },
     "execution_count": 370,
     "metadata": {},
     "output_type": "execute_result"
    }
   ],
   "source": [
    "c1 = np.ones((3,4))\n",
    "c1"
   ]
  },
  {
   "cell_type": "code",
   "execution_count": 371,
   "id": "fd628016-0321-475e-95d8-460c1c6403eb",
   "metadata": {},
   "outputs": [
    {
     "data": {
      "text/plain": [
       "array([[0., 0., 0., 0.],\n",
       "       [0., 0., 0., 0.],\n",
       "       [0., 0., 0., 0.]])"
      ]
     },
     "execution_count": 371,
     "metadata": {},
     "output_type": "execute_result"
    }
   ],
   "source": [
    "c2 = np.zeros((3,4))\n",
    "c2"
   ]
  },
  {
   "cell_type": "code",
   "execution_count": 374,
   "id": "f6aaf358-944b-404f-8d68-5a8c560636fe",
   "metadata": {},
   "outputs": [
    {
     "data": {
      "text/plain": [
       "array([[[1., 0.],\n",
       "        [1., 0.],\n",
       "        [1., 0.],\n",
       "        [1., 0.]],\n",
       "\n",
       "       [[1., 0.],\n",
       "        [1., 0.],\n",
       "        [1., 0.],\n",
       "        [1., 0.]],\n",
       "\n",
       "       [[1., 0.],\n",
       "        [1., 0.],\n",
       "        [1., 0.],\n",
       "        [1., 0.]]])"
      ]
     },
     "execution_count": 374,
     "metadata": {},
     "output_type": "execute_result"
    }
   ],
   "source": [
    "np.dstack([c1,c2]) "
   ]
  },
  {
   "cell_type": "code",
   "execution_count": 386,
   "id": "8975e95a-dd93-44f2-abfd-3a0d95a0c8ab",
   "metadata": {},
   "outputs": [
    {
     "data": {
      "text/plain": [
       "array([[[1., 1., 1., 1.],\n",
       "        [1., 1., 1., 1.],\n",
       "        [1., 1., 1., 1.]],\n",
       "\n",
       "       [[0., 0., 0., 0.],\n",
       "        [0., 0., 0., 0.],\n",
       "        [0., 0., 0., 0.]]])"
      ]
     },
     "execution_count": 386,
     "metadata": {},
     "output_type": "execute_result"
    }
   ],
   "source": [
    "c = np.stack([c1,c2])\n",
    "c"
   ]
  },
  {
   "cell_type": "code",
   "execution_count": 387,
   "id": "9fec4908-95c2-4273-9993-69627c05dc7f",
   "metadata": {},
   "outputs": [
    {
     "data": {
      "text/plain": [
       "(2, 3, 4)"
      ]
     },
     "execution_count": 387,
     "metadata": {},
     "output_type": "execute_result"
    }
   ],
   "source": [
    "c.shape"
   ]
  },
  {
   "cell_type": "code",
   "execution_count": 392,
   "id": "20bca03d-91fd-449c-b3a9-5f52ed1334b5",
   "metadata": {},
   "outputs": [
    {
     "data": {
      "text/plain": [
       "array([[[1., 1., 1., 1.],\n",
       "        [0., 0., 0., 0.]],\n",
       "\n",
       "       [[1., 1., 1., 1.],\n",
       "        [0., 0., 0., 0.]],\n",
       "\n",
       "       [[1., 1., 1., 1.],\n",
       "        [0., 0., 0., 0.]]])"
      ]
     },
     "execution_count": 392,
     "metadata": {},
     "output_type": "execute_result"
    }
   ],
   "source": [
    "c = np.stack([c1,c2], axis=1)\n",
    "c"
   ]
  },
  {
   "cell_type": "code",
   "execution_count": 393,
   "id": "98db6fac-e541-4bc0-a3b2-7b14d2ff445c",
   "metadata": {},
   "outputs": [
    {
     "data": {
      "text/plain": [
       "(3, 2, 4)"
      ]
     },
     "execution_count": 393,
     "metadata": {},
     "output_type": "execute_result"
    }
   ],
   "source": [
    "c.shape"
   ]
  },
  {
   "cell_type": "code",
   "execution_count": 394,
   "id": "67ba2fce-31e3-4b2a-af0c-cd85898c0ef1",
   "metadata": {},
   "outputs": [
    {
     "data": {
      "text/plain": [
       "array([[[1., 0.],\n",
       "        [1., 0.],\n",
       "        [1., 0.],\n",
       "        [1., 0.]],\n",
       "\n",
       "       [[1., 0.],\n",
       "        [1., 0.],\n",
       "        [1., 0.],\n",
       "        [1., 0.]],\n",
       "\n",
       "       [[1., 0.],\n",
       "        [1., 0.],\n",
       "        [1., 0.],\n",
       "        [1., 0.]]])"
      ]
     },
     "execution_count": 394,
     "metadata": {},
     "output_type": "execute_result"
    }
   ],
   "source": [
    "c = np.stack([c1,c2], axis=2)\n",
    "c"
   ]
  },
  {
   "cell_type": "code",
   "execution_count": 395,
   "id": "853e92d7-0869-48a9-8cbc-0a0745b82b72",
   "metadata": {},
   "outputs": [
    {
     "data": {
      "text/plain": [
       "(3, 4, 2)"
      ]
     },
     "execution_count": 395,
     "metadata": {},
     "output_type": "execute_result"
    }
   ],
   "source": [
    "c.shape"
   ]
  },
  {
   "cell_type": "code",
   "execution_count": 399,
   "id": "95a450ca-338c-4e08-96df-ec846dbbdbc7",
   "metadata": {},
   "outputs": [
    {
     "data": {
      "text/plain": [
       "array([1, 2, 3, 4, 5, 6])"
      ]
     },
     "execution_count": 399,
     "metadata": {},
     "output_type": "execute_result"
    }
   ],
   "source": [
    "np.r_[np.array([1,2,3]), np.array([4,5,6])] # r_ 좌우를 연결해주는 메서드 / (소괄호)가 아닌 [대괄호]를 쓴다."
   ]
  },
  {
   "cell_type": "code",
   "execution_count": 400,
   "id": "fe51d4a2-848e-4a72-8a3f-d77ac777f2a7",
   "metadata": {},
   "outputs": [
    {
     "data": {
      "text/plain": [
       "array([[1, 4],\n",
       "       [2, 5],\n",
       "       [3, 6]])"
      ]
     },
     "execution_count": 400,
     "metadata": {},
     "output_type": "execute_result"
    }
   ],
   "source": [
    "np.c_[np.array([1,2,3]), np.array([4,5,6])]"
   ]
  },
  {
   "cell_type": "code",
   "execution_count": 404,
   "id": "9ac1aa67-c294-4f63-9002-de8dd871560a",
   "metadata": {},
   "outputs": [
    {
     "data": {
      "text/plain": [
       "array([[0, 1, 2, 0, 1, 2],\n",
       "       [3, 4, 5, 3, 4, 5]])"
      ]
     },
     "execution_count": 404,
     "metadata": {},
     "output_type": "execute_result"
    }
   ],
   "source": [
    "a = np.array([[0,1,2], [3,4,5]])\n",
    "np.tile(a, 2)"
   ]
  },
  {
   "cell_type": "code",
   "execution_count": 405,
   "id": "cc5d6be0-ae21-4650-ad54-4635402d7097",
   "metadata": {},
   "outputs": [
    {
     "data": {
      "text/plain": [
       "array([[0, 1, 2, 0, 1, 2],\n",
       "       [3, 4, 5, 3, 4, 5],\n",
       "       [0, 1, 2, 0, 1, 2],\n",
       "       [3, 4, 5, 3, 4, 5],\n",
       "       [0, 1, 2, 0, 1, 2],\n",
       "       [3, 4, 5, 3, 4, 5]])"
      ]
     },
     "execution_count": 405,
     "metadata": {},
     "output_type": "execute_result"
    }
   ],
   "source": [
    "np.tile(a, (3,2))"
   ]
  },
  {
   "cell_type": "code",
   "execution_count": 4,
   "id": "9ddc6477-3f13-4d4d-be91-5ded11c59b5c",
   "metadata": {},
   "outputs": [
    {
     "data": {
      "text/plain": [
       "array([[0., 0., 0.],\n",
       "       [0., 0., 0.],\n",
       "       [0., 0., 0.]])"
      ]
     },
     "execution_count": 4,
     "metadata": {},
     "output_type": "execute_result"
    }
   ],
   "source": [
    "f = np.zeros((3,3))\n",
    "f"
   ]
  },
  {
   "cell_type": "code",
   "execution_count": 5,
   "id": "7f60a5aa-b3a7-431d-a4e3-0644d5131204",
   "metadata": {},
   "outputs": [
    {
     "data": {
      "text/plain": [
       "array([[1., 1.],\n",
       "       [1., 1.],\n",
       "       [1., 1.]])"
      ]
     },
     "execution_count": 5,
     "metadata": {},
     "output_type": "execute_result"
    }
   ],
   "source": [
    "g = np.ones((3,2))\n",
    "g"
   ]
  },
  {
   "cell_type": "code",
   "execution_count": 6,
   "id": "3b79f94b-152b-4da8-b51f-9d4dd2299acd",
   "metadata": {},
   "outputs": [
    {
     "data": {
      "text/plain": [
       "array([[ 10,  20,  30,  40,  50],\n",
       "       [ 60,  70,  80,  90, 100],\n",
       "       [110, 120, 130, 140, 150]])"
      ]
     },
     "execution_count": 6,
     "metadata": {},
     "output_type": "execute_result"
    }
   ],
   "source": [
    "h = np.array([_ for _ in range(10,151,10)]).reshape(3,5)\n",
    "h"
   ]
  },
  {
   "cell_type": "code",
   "execution_count": 10,
   "id": "8397e0e3-1e8e-4af3-a266-f45dcc64d9c2",
   "metadata": {},
   "outputs": [
    {
     "data": {
      "text/plain": [
       "array([[0., 0., 0., 1., 1.],\n",
       "       [0., 0., 0., 1., 1.],\n",
       "       [0., 0., 0., 1., 1.]])"
      ]
     },
     "execution_count": 10,
     "metadata": {},
     "output_type": "execute_result"
    }
   ],
   "source": [
    "q = np.hstack([f, g])\n",
    "q"
   ]
  },
  {
   "cell_type": "code",
   "execution_count": 15,
   "id": "3ecf0a34-3fcc-4e01-a871-70d587705ae7",
   "metadata": {},
   "outputs": [
    {
     "data": {
      "text/plain": [
       "array([[0., 0., 0., 1., 1.],\n",
       "       [0., 0., 0., 1., 1.],\n",
       "       [0., 0., 0., 1., 1.]])"
      ]
     },
     "execution_count": 15,
     "metadata": {},
     "output_type": "execute_result"
    }
   ],
   "source": [
    "i = np.c_[np.zeros((3,3)), np.ones((3,2))] \n",
    "i "
   ]
  },
  {
   "cell_type": "code",
   "execution_count": 17,
   "id": "118e3559-c7ae-42e5-bf99-f86674c5878d",
   "metadata": {},
   "outputs": [
    {
     "data": {
      "text/plain": [
       "array([[ True,  True,  True,  True,  True],\n",
       "       [ True,  True,  True,  True,  True],\n",
       "       [ True,  True,  True,  True,  True]])"
      ]
     },
     "execution_count": 17,
     "metadata": {},
     "output_type": "execute_result"
    }
   ],
   "source": [
    "i == q # q == i"
   ]
  },
  {
   "cell_type": "code",
   "execution_count": 13,
   "id": "ce6a73d7-261e-4f5e-b4fc-da1168816507",
   "metadata": {},
   "outputs": [
    {
     "data": {
      "text/plain": [
       "array([[  0.,   0.,   0.,   1.,   1.],\n",
       "       [  0.,   0.,   0.,   1.,   1.],\n",
       "       [  0.,   0.,   0.,   1.,   1.],\n",
       "       [ 10.,  20.,  30.,  40.,  50.],\n",
       "       [ 60.,  70.,  80.,  90., 100.],\n",
       "       [110., 120., 130., 140., 150.],\n",
       "       [  0.,   0.,   0.,   1.,   1.],\n",
       "       [  0.,   0.,   0.,   1.,   1.],\n",
       "       [  0.,   0.,   0.,   1.,   1.],\n",
       "       [ 10.,  20.,  30.,  40.,  50.],\n",
       "       [ 60.,  70.,  80.,  90., 100.],\n",
       "       [110., 120., 130., 140., 150.]])"
      ]
     },
     "execution_count": 13,
     "metadata": {},
     "output_type": "execute_result"
    }
   ],
   "source": [
    "np.vstack(([i, h])*2)"
   ]
  }
 ],
 "metadata": {
  "kernelspec": {
   "display_name": "Python 3 (ipykernel)",
   "language": "python",
   "name": "python3"
  },
  "language_info": {
   "codemirror_mode": {
    "name": "ipython",
    "version": 3
   },
   "file_extension": ".py",
   "mimetype": "text/x-python",
   "name": "python",
   "nbconvert_exporter": "python",
   "pygments_lexer": "ipython3",
   "version": "3.9.13"
  }
 },
 "nbformat": 4,
 "nbformat_minor": 5
}
