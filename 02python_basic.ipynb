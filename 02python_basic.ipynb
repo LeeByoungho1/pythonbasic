{
 "cells": [
  {
   "cell_type": "code",
   "execution_count": 8,
   "id": "c578cde6-ab18-4ec6-a669-819de52627b3",
   "metadata": {},
   "outputs": [
    {
     "name": "stdout",
     "output_type": "stream",
     "text": [
      "Hello, word!\n",
      "Hello, word!\n",
      "Python Programing\n"
     ]
    }
   ],
   "source": [
    "# 주석 사용하기\n",
    "x = 1 # 여기서 = (등호) 기호는 수학의 같다는 의미와는 다르다.\n",
    "      # ... 우측 변의 리터럴을 좌측 변의 변수에 대입한다는 의미다.\n",
    "    \n",
    "text = \"# 이것은 주석이 아닙니다. 따음표 안은 문자열 리터럴입니다.\"\n",
    "\n",
    "print(\"Hello, word!\")\n",
    "print(\"Hello, word!\")\n",
    "print(\"Python Programing\")"
   ]
  },
  {
   "cell_type": "code",
   "execution_count": 11,
   "id": "d32c8b24-3ef5-4679-b1b5-72c6d033a0fc",
   "metadata": {},
   "outputs": [
    {
     "name": "stdout",
     "output_type": "stream",
     "text": [
      "89\n",
      "28.2\n"
     ]
    }
   ],
   "source": [
    "x = 13 + (22 - 3) * 4\n",
    "print(x)\n",
    "y = 13 + ((22-3) * 4) / 5\n",
    "print(y)"
   ]
  },
  {
   "cell_type": "code",
   "execution_count": 19,
   "id": "1f2a5d4c-4966-4de3-996e-a550498aa875",
   "metadata": {},
   "outputs": [
    {
     "name": "stdout",
     "output_type": "stream",
     "text": [
      "7\n"
     ]
    }
   ],
   "source": [
    "print(int(0.2467 * 12 + 4.159))"
   ]
  },
  {
   "cell_type": "code",
   "execution_count": 27,
   "id": "7527e6bf-d7f9-4f9b-86e9-5934086c28c5",
   "metadata": {},
   "outputs": [
    {
     "name": "stdout",
     "output_type": "stream",
     "text": [
      "가장 시끄러운 층은 = 7 층\n"
     ]
    }
   ],
   "source": [
    "print(\"가장 시끄러운 층은\",\"=\",int(0.2467 * 12 + 4.159),\"층\")"
   ]
  },
  {
   "cell_type": "code",
   "execution_count": 29,
   "id": "fb37ed8a-18cf-4821-81e7-81fc407004bd",
   "metadata": {},
   "outputs": [
    {
     "name": "stdout",
     "output_type": "stream",
     "text": [
      "냉장고 가격은 1272000 원 입니다.\n"
     ]
    }
   ],
   "source": [
    "print(\"냉장고 가격은\",int(53000*24),\"원 입니다.\")"
   ]
  },
  {
   "cell_type": "code",
   "execution_count": 58,
   "id": "701aae53-6ae9-4a0c-b1d0-227a1f8921e1",
   "metadata": {},
   "outputs": [
    {
     "name": "stdout",
     "output_type": "stream",
     "text": [
      "총 금액은 16500000 원 입니다.\n"
     ]
    }
   ],
   "source": [
    "people = 250\n",
    "tax = 0.1\n",
    "\n",
    "print(\"총 금액은\",int((people*20000*3)+(people*20000*3)*tax),\"원 입니다.\")"
   ]
  },
  {
   "cell_type": "code",
   "execution_count": 45,
   "id": "93cb5ba8-4758-4c46-b2f3-f98c3b0e5860",
   "metadata": {},
   "outputs": [
    {
     "name": "stdout",
     "output_type": "stream",
     "text": [
      "12345000000.0\n",
      "0.0012345\n"
     ]
    }
   ],
   "source": [
    "#지수\n",
    "print(1.2345e10)\n",
    "print(1.2345e-3)"
   ]
  },
  {
   "cell_type": "code",
   "execution_count": 48,
   "id": "c3389bdf-d269-4b1d-909e-d98474c38d83",
   "metadata": {},
   "outputs": [
    {
     "name": "stdout",
     "output_type": "stream",
     "text": [
      "17\n",
      "22\n",
      "0b10001\n",
      "0b10110\n"
     ]
    }
   ],
   "source": [
    "#2진수\n",
    "print(0b10001)\n",
    "print(0b10110)\n",
    "\n",
    "print(bin(17))\n",
    "print(bin(22))"
   ]
  },
  {
   "cell_type": "code",
   "execution_count": 50,
   "id": "8f760814-0e56-4b4e-a9ad-7418f4347b46",
   "metadata": {},
   "outputs": [
    {
     "name": "stdout",
     "output_type": "stream",
     "text": [
      "17\n",
      "31\n"
     ]
    }
   ],
   "source": [
    "#8진수\n",
    "print(0o21) \n",
    "\n",
    "print(0x1f) "
   ]
  },
  {
   "cell_type": "code",
   "execution_count": 59,
   "id": "b8701136-2f65-4712-9449-21c2381d34bb",
   "metadata": {},
   "outputs": [
    {
     "name": "stdout",
     "output_type": "stream",
     "text": [
      "453.0\n"
     ]
    }
   ],
   "source": [
    "ap = 380\n",
    "print(ap*0.6+225)"
   ]
  },
  {
   "cell_type": "code",
   "execution_count": 63,
   "id": "58df85f6-e821-4e86-8e67-35cda8d525fc",
   "metadata": {},
   "outputs": [
    {
     "name": "stdout",
     "output_type": "stream",
     "text": [
      "30\n"
     ]
    }
   ],
   "source": [
    "# a 변수 선언 후 숫자 리터럴 10 값을 할당\n",
    "a = 10\n",
    "\n",
    "# a 변수 값에 20을 더한 결과를 다시 a에 할당\n",
    "a = a + 20\n",
    "\n",
    "print(a)"
   ]
  },
  {
   "cell_type": "code",
   "execution_count": 64,
   "id": "aa63a8de-8daa-445e-b6f5-0e7c6cffe253",
   "metadata": {},
   "outputs": [
    {
     "ename": "NameError",
     "evalue": "name 'a' is not defined",
     "output_type": "error",
     "traceback": [
      "\u001b[1;31m---------------------------------------------------------------------------\u001b[0m",
      "\u001b[1;31mNameError\u001b[0m                                 Traceback (most recent call last)",
      "\u001b[1;32m~\\AppData\\Local\\Temp\\ipykernel_15056\\2210216928.py\u001b[0m in \u001b[0;36m<module>\u001b[1;34m\u001b[0m\n\u001b[0;32m      1\u001b[0m \u001b[1;31m# a 변수 삭제 후 a 변수를 출력해보기\u001b[0m\u001b[1;33m\u001b[0m\u001b[1;33m\u001b[0m\u001b[0m\n\u001b[0;32m      2\u001b[0m \u001b[1;32mdel\u001b[0m \u001b[0ma\u001b[0m\u001b[1;33m\u001b[0m\u001b[1;33m\u001b[0m\u001b[0m\n\u001b[1;32m----> 3\u001b[1;33m \u001b[0mprint\u001b[0m\u001b[1;33m(\u001b[0m\u001b[0ma\u001b[0m\u001b[1;33m)\u001b[0m\u001b[1;33m\u001b[0m\u001b[1;33m\u001b[0m\u001b[0m\n\u001b[0m",
      "\u001b[1;31mNameError\u001b[0m: name 'a' is not defined"
     ]
    }
   ],
   "source": [
    "# a 변수 삭제 후 a 변수를 출력해보기\n",
    "del a\n",
    "print(a)\n",
    "#a가 삭제 되었기 때문에 에러가 나옴."
   ]
  },
  {
   "cell_type": "code",
   "execution_count": 67,
   "id": "22c23850-198b-4e78-bc2f-1446ed1c38bc",
   "metadata": {},
   "outputs": [
    {
     "name": "stdout",
     "output_type": "stream",
     "text": [
      "10\n",
      "20\n"
     ]
    }
   ],
   "source": [
    "a = 10\n",
    "\n",
    "# 변수 a에 20 값을 더하고 할당하지 않았을 때\n",
    "a + 20\n",
    "print(a) # 10\n",
    "\n",
    "a += 10 # a = a+10과 같다\n",
    "\n",
    "print(a)"
   ]
  },
  {
   "cell_type": "code",
   "execution_count": 68,
   "id": "80d3fd1b-c6bc-4334-86ef-a48c17c890cd",
   "metadata": {},
   "outputs": [
    {
     "name": "stdout",
     "output_type": "stream",
     "text": [
      "None\n"
     ]
    }
   ],
   "source": [
    "a = None\n",
    "print(a)"
   ]
  },
  {
   "cell_type": "code",
   "execution_count": 73,
   "id": "77e373a5-5c4f-442e-9808-25806326a770",
   "metadata": {},
   "outputs": [
    {
     "data": {
      "text/plain": [
       "bool"
      ]
     },
     "execution_count": 73,
     "metadata": {},
     "output_type": "execute_result"
    }
   ],
   "source": [
    "type(True)"
   ]
  },
  {
   "cell_type": "code",
   "execution_count": 77,
   "id": "c933412d-4d98-4320-8bdb-278d57da1d01",
   "metadata": {},
   "outputs": [
    {
     "ename": "NameError",
     "evalue": "name 'true' is not defined",
     "output_type": "error",
     "traceback": [
      "\u001b[1;31m---------------------------------------------------------------------------\u001b[0m",
      "\u001b[1;31mNameError\u001b[0m                                 Traceback (most recent call last)",
      "\u001b[1;32m~\\AppData\\Local\\Temp\\ipykernel_15056\\4176986309.py\u001b[0m in \u001b[0;36m<module>\u001b[1;34m\u001b[0m\n\u001b[1;32m----> 1\u001b[1;33m \u001b[0mtype\u001b[0m\u001b[1;33m(\u001b[0m\u001b[0mtrue\u001b[0m\u001b[1;33m)\u001b[0m\u001b[1;33m\u001b[0m\u001b[1;33m\u001b[0m\u001b[0m\n\u001b[0m\u001b[0;32m      2\u001b[0m \u001b[1;31m# True와 False는 앞에 대문자로 써야 인식해준다.\u001b[0m\u001b[1;33m\u001b[0m\u001b[1;33m\u001b[0m\u001b[0m\n",
      "\u001b[1;31mNameError\u001b[0m: name 'true' is not defined"
     ]
    }
   ],
   "source": [
    "type(true)\n",
    "# True와 False는 앞에 대문자로 써야 인식해준다."
   ]
  },
  {
   "cell_type": "code",
   "execution_count": 79,
   "id": "ee6f0189-5325-4d0c-a9db-3d3daafda330",
   "metadata": {},
   "outputs": [
    {
     "name": "stdout",
     "output_type": "stream",
     "text": [
      "이것은 문자열입니다.\n",
      "<class 'str'>\n",
      "이것은 문자열입니다.\n",
      "<class 'str'>\n"
     ]
    }
   ],
   "source": [
    "text = '이것은 문자열입니다.'\n",
    "text2 = \"이것은 문자열입니다.\"\n",
    "\n",
    "print(text)\n",
    "print(type(text))\n",
    "\n",
    "print(text2)\n",
    "print(type(text2))"
   ]
  },
  {
   "cell_type": "code",
   "execution_count": 84,
   "id": "93efae2a-7b89-4640-8fd7-4aeed07d9fd1",
   "metadata": {},
   "outputs": [
    {
     "name": "stdout",
     "output_type": "stream",
     "text": [
      "\"안녕?\"이라는 그 인사를 듣고 나는'누구지?'라고 생각했다.\n"
     ]
    }
   ],
   "source": [
    "# 작은따음표를 쓰려면 \\를 쓰거나 \"\"를 활용\n",
    "text3 = 'don\\'t do that'\n",
    "text4 = \"don't do that\"\n",
    "\n",
    "print(\"\\\"안녕?\\\"이라는 그 인사를 듣고 나는'누구지?'라고 생각했다.\")"
   ]
  },
  {
   "cell_type": "code",
   "execution_count": 85,
   "id": "f6ef31a6-e56b-4858-ac48-3b9c02005022",
   "metadata": {},
   "outputs": [
    {
     "name": "stdout",
     "output_type": "stream",
     "text": [
      "First line.\n",
      "Second line.\n"
     ]
    }
   ],
   "source": [
    "# \\n 은 줄바꿈을 의미합니다.\n",
    "s = 'First line.\\nSecond line.'\n",
    "print(s)"
   ]
  },
  {
   "cell_type": "code",
   "execution_count": 88,
   "id": "0afc7704-5585-43a0-a97d-9aaf57555040",
   "metadata": {},
   "outputs": [
    {
     "name": "stdout",
     "output_type": "stream",
     "text": [
      "c:\\name\n",
      "c:\\name\n"
     ]
    }
   ],
   "source": [
    "s1 = r'c:\\name' # 앞에 r을 붙이거나\n",
    "s2 = 'c:\\\\name' # \\를 써준다\n",
    " \n",
    "print(s1)\n",
    "print(s2)"
   ]
  },
  {
   "cell_type": "code",
   "execution_count": 89,
   "id": "cbc6d13e-3d32-4bb9-b4e3-ae553b9690b5",
   "metadata": {},
   "outputs": [
    {
     "name": "stdout",
     "output_type": "stream",
     "text": [
      "\n",
      "안녕하세요.\n",
      "나는 파이썬을 공부하고 있습니다.\n",
      "반갑습니다.\n",
      "\n"
     ]
    }
   ],
   "source": [
    "s3 = \"\"\"\n",
    "안녕하세요.\n",
    "나는 파이썬을 공부하고 있습니다.\n",
    "반갑습니다.\n",
    "\"\"\"          # \"\"\"(삼중따음표)는 엔터로 바꾼 줄바꿈이 그대로 출력됨\n",
    "\n",
    "print(s3)"
   ]
  },
  {
   "cell_type": "code",
   "execution_count": 92,
   "id": "27239996-e29d-45c5-87c4-850f8cf6aeaa",
   "metadata": {},
   "outputs": [
    {
     "name": "stdout",
     "output_type": "stream",
     "text": [
      "안녕하세요.\n",
      "나는 파이썬을 공부하고 있습니다.\n",
      "반갑습니다.\n",
      "\n"
     ]
    }
   ],
   "source": [
    "s4 = \"\"\"\\\n",
    "안녕하세요.\n",
    "나는 파이썬을 공부하고 있습니다.\n",
    "반갑습니다.\n",
    "\"\"\"          # \\를 추가하면 줄바꿈을 막을 수 있다.\n",
    "\n",
    "print(s4)"
   ]
  },
  {
   "cell_type": "code",
   "execution_count": 97,
   "id": "3a888695-8c9a-4390-9b70-ed7f447aa8df",
   "metadata": {},
   "outputs": [
    {
     "name": "stdout",
     "output_type": "stream",
     "text": [
      "안녕하세요\n",
      "나는 파이썬을 공부하고 있습니다.\n",
      "반갑습니다.\n"
     ]
    }
   ],
   "source": [
    "s5 = \"\"\"\\\n",
    "안녕하세요\n",
    "나는 파이썬을 공부하고 있습니다.\n",
    "반갑습니다.\\\n",
    "\"\"\"\n",
    "\n",
    "print(s5)"
   ]
  },
  {
   "cell_type": "code",
   "execution_count": 100,
   "id": "d83f459a-53f2-4d0f-b54a-1f1828d67378",
   "metadata": {},
   "outputs": [
    {
     "name": "stdout",
     "output_type": "stream",
     "text": [
      "\"안녕하세요\"\n",
      "나는 파이썬을 공부하고 있습니다.\n",
      "반갑습니다.\n"
     ]
    }
   ],
   "source": [
    "s5 = \"\"\"\\  \n",
    "\"안녕하세요\"\n",
    "나는 파이썬을 공부하고 있습니다.\n",
    "반갑습니다.\\\n",
    "\"\"\"            \n",
    "\n",
    "print(s5)"
   ]
  },
  {
   "cell_type": "code",
   "execution_count": 102,
   "id": "bad62b52-3a68-433e-8bfc-f8b58c215807",
   "metadata": {},
   "outputs": [
    {
     "name": "stdout",
     "output_type": "stream",
     "text": [
      "너무 너무 너무 너무 너무 너무 너무 파이썬 공부가 즐겁습니다.\n"
     ]
    }
   ],
   "source": [
    "s6 = \"너무 너무 너무 너무 너무 너무 너무 파이썬 공부가 즐겁습니다.\"\n",
    "\n",
    "print(s6)"
   ]
  },
  {
   "cell_type": "code",
   "execution_count": 103,
   "id": "5c2ae800-08a8-4731-bd27-1290bc7a2b16",
   "metadata": {},
   "outputs": [
    {
     "name": "stdout",
     "output_type": "stream",
     "text": [
      "너무 너무 너무 너무 너무 너무 너무 너무 너무 너무 너무 너무 너무 너무 너무 너무 너무 너무 너무 너무 너무 너무 너무 너무 너무 너무 너무 너무 너무 너무 너무 너무 너무 너무 너무 너무 너무 너무 너무 너무 너무 너무 너무 너무 너무 너무 너무 너무 너무 너무 너무 너무 너무 너무 너무 너무 너무 너무 너무 너무 너무 너무 너무 너무 너무 너무 너무 너무 너무 너무 너무 너무 너무 너무 너무 너무 너무 너무 너무 너무 너무 너무 너무 너무 너무 너무 너무 너무 너무 너무 너무 너무 너무 너무 너무 너무 너무 너무 너무 너무 파이썬 공부가 즐겁습니다.\n"
     ]
    }
   ],
   "source": [
    "s6 = \"너무 \" * 100 + \"파이썬 공부가 즐겁습니다.\"\n",
    "\n",
    "print(s6)"
   ]
  },
  {
   "cell_type": "code",
   "execution_count": 113,
   "id": "61eef3d1-c50e-497c-bbae-5287e80f040f",
   "metadata": {},
   "outputs": [
    {
     "name": "stdout",
     "output_type": "stream",
     "text": [
      "P\n",
      "P\n",
      "n\n",
      "n\n"
     ]
    }
   ],
   "source": [
    "word = 'Python' # (0~5) or (-6 ~ -1) 양수일때는 0부터 시작,음수일때는 제일 마지막이 -1이고 점점 작아진다.\n",
    "print(word[0])\n",
    "print(word[-6])\n",
    "print(word[5])\n",
    "print(word[-1])"
   ]
  },
  {
   "cell_type": "code",
   "execution_count": 117,
   "id": "d636fe38-6514-4c1f-9de5-c84af708eb13",
   "metadata": {},
   "outputs": [
    {
     "name": "stdout",
     "output_type": "stream",
     "text": [
      "꺾\n"
     ]
    }
   ],
   "source": [
    "word = \"중요한 것은 꺾이지 않는 마음\"\n",
    "\n",
    "print(word[7])"
   ]
  },
  {
   "cell_type": "code",
   "execution_count": 121,
   "id": "30f56f97-7476-4068-a1b8-bbe0b82a3f26",
   "metadata": {},
   "outputs": [
    {
     "name": "stdout",
     "output_type": "stream",
     "text": [
      "Py\n",
      "Py\n"
     ]
    }
   ],
   "source": [
    "word = 'Python'  #[x:y] x부터 'y칸'까지 \n",
    "print(word[0:2])\n",
    "print(word[-6:2])"
   ]
  },
  {
   "cell_type": "code",
   "execution_count": 122,
   "id": "37f85d44-adaf-4497-b680-9d2fad64e4e3",
   "metadata": {},
   "outputs": [
    {
     "name": "stdout",
     "output_type": "stream",
     "text": [
      "Pto\n"
     ]
    }
   ],
   "source": [
    "word = 'Python' \n",
    "print(word[::2])"
   ]
  },
  {
   "cell_type": "code",
   "execution_count": 127,
   "id": "35d6b910-95f4-42c8-a527-69f24ee8f4b3",
   "metadata": {},
   "outputs": [
    {
     "name": "stdout",
     "output_type": "stream",
     "text": [
      "꺾이지 않는 마음\n"
     ]
    }
   ],
   "source": [
    "sentence = \"중요한 것은 꺾이지 않는 마음\"\n",
    "\n",
    "print(sentence[7:])"
   ]
  },
  {
   "cell_type": "code",
   "execution_count": 152,
   "id": "1371e3a5-ae82-48d5-8e28-6553f9c6790f",
   "metadata": {},
   "outputs": [
    {
     "name": "stdout",
     "output_type": "stream",
     "text": [
      "한요중\n"
     ]
    }
   ],
   "source": [
    "sentence = \"중요한 것은 꺾이지 않는 마음\"\n",
    "\n",
    "print(sentence[2::-1]) #증감에 -를 쓰면 역순으로 간다."
   ]
  },
  {
   "cell_type": "code",
   "execution_count": 156,
   "id": "8b738573-a06d-4f5d-8e2c-912a9fbfbf8c",
   "metadata": {},
   "outputs": [
    {
     "ename": "TypeError",
     "evalue": "'str' object does not support item assignment",
     "output_type": "error",
     "traceback": [
      "\u001b[1;31m---------------------------------------------------------------------------\u001b[0m",
      "\u001b[1;31mTypeError\u001b[0m                                 Traceback (most recent call last)",
      "\u001b[1;32m~\\AppData\\Local\\Temp\\ipykernel_15056\\1038230056.py\u001b[0m in \u001b[0;36m<module>\u001b[1;34m\u001b[0m\n\u001b[0;32m      1\u001b[0m \u001b[0msentence\u001b[0m \u001b[1;33m=\u001b[0m \u001b[1;34m\"중요한 것은 꺾이지 않는 마음\"\u001b[0m\u001b[1;33m\u001b[0m\u001b[1;33m\u001b[0m\u001b[0m\n\u001b[1;32m----> 2\u001b[1;33m \u001b[0msentence\u001b[0m\u001b[1;33m[\u001b[0m\u001b[1;36m0\u001b[0m\u001b[1;33m]\u001b[0m \u001b[1;33m=\u001b[0m \u001b[1;34m\"한\"\u001b[0m\u001b[1;33m\u001b[0m\u001b[1;33m\u001b[0m\u001b[0m\n\u001b[0m\u001b[0;32m      3\u001b[0m \u001b[1;31m#문자열은 불변의 특징을 가져서 인덱스로 접근해서 값을 변경하려고 해도 변경이 안된다.\u001b[0m\u001b[1;33m\u001b[0m\u001b[1;33m\u001b[0m\u001b[0m\n\u001b[0;32m      4\u001b[0m \u001b[0msentence\u001b[0m\u001b[1;33m[\u001b[0m\u001b[1;36m0\u001b[0m\u001b[1;33m:\u001b[0m\u001b[1;36m2\u001b[0m\u001b[1;33m]\u001b[0m \u001b[1;33m=\u001b[0m \u001b[1;34m\"대단한\"\u001b[0m\u001b[1;33m\u001b[0m\u001b[1;33m\u001b[0m\u001b[0m\n",
      "\u001b[1;31mTypeError\u001b[0m: 'str' object does not support item assignment"
     ]
    }
   ],
   "source": [
    "sentence = \"중요한 것은 꺾이지 않는 마음\"\n",
    "sentence[0] = \"한\" \n",
    "#문자열은 불변의 특징을 가져서 인덱스로 접근해서 값을 변경하려고 해도 변경이 안된다.\n",
    "sentence[0:2] = \"대단한\"\n",
    "#슬라이싱도 마찬가지로 변경이 안된다."
   ]
  },
  {
   "cell_type": "code",
   "execution_count": 158,
   "id": "0aa71886-3462-45fd-9c29-4034ac83f20f",
   "metadata": {},
   "outputs": [
    {
     "name": "stdout",
     "output_type": "stream",
     "text": [
      "대단한 것은 꺾이지 않는 마음\n"
     ]
    }
   ],
   "source": [
    "sentence = \"대단한\" + sentence[3:]\n",
    "# sentence 자체를 바꿔서 출력\n",
    "\n",
    "print(sentence) "
   ]
  },
  {
   "cell_type": "code",
   "execution_count": 167,
   "id": "fd8706d7-215a-46d0-b1e1-dd35de502902",
   "metadata": {},
   "outputs": [
    {
     "name": "stdout",
     "output_type": "stream",
     "text": [
      "[1, 4, 9, 16, 25]\n",
      "1\n",
      "25\n",
      "[9, 16, 25]\n",
      "[1, 4, 9, 16, 25, 36, 49, 54, 81, 100]\n"
     ]
    }
   ],
   "source": [
    "squares = [1**2, 2**2, 3**2, 4**2, 5**2]\n",
    "print(squares)\n",
    "print(squares[0])\n",
    "print(squares[-1])\n",
    "print(squares[-3::1])\n",
    "\n",
    "print(squares + [36, 49, 54, 81, 100]) "
   ]
  },
  {
   "cell_type": "code",
   "execution_count": 170,
   "id": "93d4db7c-7a49-4a45-af9f-055dbedf664e",
   "metadata": {},
   "outputs": [
    {
     "name": "stdout",
     "output_type": "stream",
     "text": [
      "['a', 'b', 'c', 'd', 'e', 'a', 'b', 'c', 'd', 'e', 'a', 'b', 'c', 'd', 'e']\n",
      "5\n"
     ]
    }
   ],
   "source": [
    "letters = ['a', 'b', 'c', 'd', 'e']\n",
    "print(letters*3)\n",
    "\n",
    "print(len(letters)) #총개수"
   ]
  },
  {
   "cell_type": "code",
   "execution_count": 169,
   "id": "d7398ead-2090-40ac-966a-35c3d48a1db4",
   "metadata": {},
   "outputs": [
    {
     "name": "stdout",
     "output_type": "stream",
     "text": [
      "[1, 8, 27, 64, 125]\n"
     ]
    }
   ],
   "source": [
    "#리스트는 가변입니다. 즉 내용을 변경할 수 있습니다.\n",
    "cubes = [1, 8, 27, 65, 125] #65가 아닌라 64가 올바른값 입니다.\n",
    "cubes[3] = 4**3 #64로 변경\n",
    "\n",
    "print(cubes) "
   ]
  },
  {
   "cell_type": "code",
   "execution_count": 173,
   "id": "d569142b-b300-4ccd-a181-7902fff59325",
   "metadata": {},
   "outputs": [
    {
     "name": "stdout",
     "output_type": "stream",
     "text": [
      "[['a', 'b', 'c'], [1, 2, 3]]\n"
     ]
    }
   ],
   "source": [
    "a = ['a', 'b', 'c']\n",
    "n = [1, 2, 3]\n",
    "\n",
    "x = [a, n]\n",
    "\n",
    "print(x)"
   ]
  },
  {
   "cell_type": "code",
   "execution_count": 178,
   "id": "bdf1fe17-5973-47c6-8ba9-af68189c3c12",
   "metadata": {},
   "outputs": [
    {
     "name": "stdout",
     "output_type": "stream",
     "text": [
      "True\n",
      "False\n"
     ]
    }
   ],
   "source": [
    "numbers = [1, 2, 3, 4, 5, 6, 7]\n",
    "print(7 in numbers)\n",
    "print(8 in numbers)"
   ]
  }
 ],
 "metadata": {
  "kernelspec": {
   "display_name": "Python 3 (ipykernel)",
   "language": "python",
   "name": "python3"
  },
  "language_info": {
   "codemirror_mode": {
    "name": "ipython",
    "version": 3
   },
   "file_extension": ".py",
   "mimetype": "text/x-python",
   "name": "python",
   "nbconvert_exporter": "python",
   "pygments_lexer": "ipython3",
   "version": "3.9.13"
  }
 },
 "nbformat": 4,
 "nbformat_minor": 5
}
