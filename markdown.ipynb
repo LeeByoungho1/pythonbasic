{
 "cells": [
  {
   "cell_type": "markdown",
   "id": "2f333f6d-9c71-4d56-a958-96bc941d57fc",
   "metadata": {
    "jp-MarkdownHeadingCollapsed": true,
    "tags": []
   },
   "source": [
    "# H1\n",
    "## H2\n",
    "### H3\n",
    "#### H4\n",
    "##### H5\n",
    "###### H6"
   ]
  },
  {
   "cell_type": "markdown",
   "id": "a0856339-da38-4c29-bfdf-490ccc3b0d60",
   "metadata": {},
   "source": [
    "# 1. 마크다운 학습"
   ]
  },
  {
   "cell_type": "markdown",
   "id": "f752e370-520f-4897-948b-6a8380374012",
   "metadata": {},
   "source": [
    "일반 텍스튼 그냥 입력하시면 됩니다.  \n",
    "**굵은 글씨**는 이렇게 사용합니다.  \n",
    "*기울인 글씨는* 이렇게 씁니다.  \n",
    "~~취소선은~~ 이렇게 씁니다.  "
   ]
  },
  {
   "cell_type": "markdown",
   "id": "65331b4f-17e8-459f-af73-825bafd15bc1",
   "metadata": {},
   "source": [
    "- 목록1\n",
    "- 목록2\n",
    "- 목록3\n",
    "\n",
    "* 목록1\n",
    "* 목록2\n",
    "* 목록3"
   ]
  },
  {
   "cell_type": "markdown",
   "id": "88d5b9f3-6f4d-4018-a197-c5711832f43a",
   "metadata": {},
   "source": [
    "1. 순서가 있는 목록1\n",
    "2. 순서가 있는 목록2\n",
    "3. 순서가 있는 목록3"
   ]
  },
  {
   "cell_type": "markdown",
   "id": "f091980e-e82a-4e2a-960e-f06ac7927004",
   "metadata": {},
   "source": [
    "[Goolge](https://www.google.com/?hl=ko)"
   ]
  },
  {
   "cell_type": "markdown",
   "id": "6d77452d-0ea4-472d-b8d0-2bfe2038b2f9",
   "metadata": {},
   "source": [
    "![image](https://dimg.donga.com/wps/NEWS/IMAGE/2020/08/22/102591473.3.jpg)"
   ]
  },
  {
   "cell_type": "markdown",
   "id": "69af1a79-d6a9-4120-8f1b-04f26330f031",
   "metadata": {},
   "source": [
    "|제목 셀|제목 셀|제목 셀|\n",
    "|:--|--:|:--:|\n",
    "|값1|값2|값3|"
   ]
  }
 ],
 "metadata": {
  "kernelspec": {
   "display_name": "Python 3 (ipykernel)",
   "language": "python",
   "name": "python3"
  },
  "language_info": {
   "codemirror_mode": {
    "name": "ipython",
    "version": 3
   },
   "file_extension": ".py",
   "mimetype": "text/x-python",
   "name": "python",
   "nbconvert_exporter": "python",
   "pygments_lexer": "ipython3",
   "version": "3.9.13"
  }
 },
 "nbformat": 4,
 "nbformat_minor": 5
}
